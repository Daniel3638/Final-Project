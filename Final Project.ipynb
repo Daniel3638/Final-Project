{
 "cells": [
  {
   "cell_type": "code",
   "execution_count": 1,
   "id": "c99faf3b",
   "metadata": {},
   "outputs": [],
   "source": [
    "import pandas as pd"
   ]
  },
  {
   "cell_type": "code",
   "execution_count": 2,
   "id": "fc0719cc",
   "metadata": {},
   "outputs": [
    {
     "data": {
      "text/html": [
       "<div>\n",
       "<style scoped>\n",
       "    .dataframe tbody tr th:only-of-type {\n",
       "        vertical-align: middle;\n",
       "    }\n",
       "\n",
       "    .dataframe tbody tr th {\n",
       "        vertical-align: top;\n",
       "    }\n",
       "\n",
       "    .dataframe thead th {\n",
       "        text-align: right;\n",
       "    }\n",
       "</style>\n",
       "<table border=\"1\" class=\"dataframe\">\n",
       "  <thead>\n",
       "    <tr style=\"text-align: right;\">\n",
       "      <th></th>\n",
       "      <th>Rk</th>\n",
       "      <th>Player</th>\n",
       "      <th>Pos</th>\n",
       "      <th>Age</th>\n",
       "      <th>Tm</th>\n",
       "      <th>G</th>\n",
       "      <th>GS</th>\n",
       "      <th>MP</th>\n",
       "      <th>FG</th>\n",
       "      <th>FGA</th>\n",
       "      <th>...</th>\n",
       "      <th>FT%</th>\n",
       "      <th>ORB</th>\n",
       "      <th>DRB</th>\n",
       "      <th>TRB</th>\n",
       "      <th>AST</th>\n",
       "      <th>STL</th>\n",
       "      <th>BLK</th>\n",
       "      <th>TOV</th>\n",
       "      <th>PF</th>\n",
       "      <th>PTS</th>\n",
       "    </tr>\n",
       "  </thead>\n",
       "  <tbody>\n",
       "    <tr>\n",
       "      <th>0</th>\n",
       "      <td>1</td>\n",
       "      <td>Precious Achiuwa</td>\n",
       "      <td>C</td>\n",
       "      <td>23</td>\n",
       "      <td>TOR</td>\n",
       "      <td>6</td>\n",
       "      <td>0</td>\n",
       "      <td>23.2</td>\n",
       "      <td>3.0</td>\n",
       "      <td>8.5</td>\n",
       "      <td>...</td>\n",
       "      <td>0.692</td>\n",
       "      <td>2.2</td>\n",
       "      <td>6.7</td>\n",
       "      <td>8.8</td>\n",
       "      <td>1.3</td>\n",
       "      <td>0.0</td>\n",
       "      <td>0.3</td>\n",
       "      <td>1.3</td>\n",
       "      <td>1.7</td>\n",
       "      <td>8.2</td>\n",
       "    </tr>\n",
       "    <tr>\n",
       "      <th>1</th>\n",
       "      <td>2</td>\n",
       "      <td>Steven Adams</td>\n",
       "      <td>C</td>\n",
       "      <td>29</td>\n",
       "      <td>MEM</td>\n",
       "      <td>5</td>\n",
       "      <td>5</td>\n",
       "      <td>28.6</td>\n",
       "      <td>2.8</td>\n",
       "      <td>4.6</td>\n",
       "      <td>...</td>\n",
       "      <td>0.235</td>\n",
       "      <td>4.0</td>\n",
       "      <td>6.2</td>\n",
       "      <td>10.2</td>\n",
       "      <td>2.4</td>\n",
       "      <td>0.6</td>\n",
       "      <td>1.6</td>\n",
       "      <td>1.6</td>\n",
       "      <td>2.6</td>\n",
       "      <td>6.4</td>\n",
       "    </tr>\n",
       "    <tr>\n",
       "      <th>2</th>\n",
       "      <td>3</td>\n",
       "      <td>Bam Adebayo</td>\n",
       "      <td>C</td>\n",
       "      <td>25</td>\n",
       "      <td>MIA</td>\n",
       "      <td>6</td>\n",
       "      <td>6</td>\n",
       "      <td>34.7</td>\n",
       "      <td>6.2</td>\n",
       "      <td>11.7</td>\n",
       "      <td>...</td>\n",
       "      <td>0.833</td>\n",
       "      <td>2.5</td>\n",
       "      <td>5.8</td>\n",
       "      <td>8.3</td>\n",
       "      <td>2.5</td>\n",
       "      <td>1.3</td>\n",
       "      <td>1.0</td>\n",
       "      <td>4.0</td>\n",
       "      <td>2.8</td>\n",
       "      <td>16.5</td>\n",
       "    </tr>\n",
       "    <tr>\n",
       "      <th>3</th>\n",
       "      <td>4</td>\n",
       "      <td>Ochai Agbaji</td>\n",
       "      <td>SG</td>\n",
       "      <td>22</td>\n",
       "      <td>UTA</td>\n",
       "      <td>2</td>\n",
       "      <td>0</td>\n",
       "      <td>10.0</td>\n",
       "      <td>2.0</td>\n",
       "      <td>3.5</td>\n",
       "      <td>...</td>\n",
       "      <td>0.500</td>\n",
       "      <td>0.0</td>\n",
       "      <td>0.5</td>\n",
       "      <td>0.5</td>\n",
       "      <td>0.0</td>\n",
       "      <td>0.0</td>\n",
       "      <td>0.0</td>\n",
       "      <td>0.0</td>\n",
       "      <td>1.0</td>\n",
       "      <td>4.5</td>\n",
       "    </tr>\n",
       "    <tr>\n",
       "      <th>4</th>\n",
       "      <td>5</td>\n",
       "      <td>Santi Aldama</td>\n",
       "      <td>PF</td>\n",
       "      <td>22</td>\n",
       "      <td>MEM</td>\n",
       "      <td>5</td>\n",
       "      <td>5</td>\n",
       "      <td>30.6</td>\n",
       "      <td>4.0</td>\n",
       "      <td>8.6</td>\n",
       "      <td>...</td>\n",
       "      <td>0.750</td>\n",
       "      <td>2.0</td>\n",
       "      <td>4.4</td>\n",
       "      <td>6.4</td>\n",
       "      <td>1.0</td>\n",
       "      <td>1.0</td>\n",
       "      <td>1.4</td>\n",
       "      <td>0.6</td>\n",
       "      <td>2.4</td>\n",
       "      <td>11.0</td>\n",
       "    </tr>\n",
       "    <tr>\n",
       "      <th>5</th>\n",
       "      <td>6</td>\n",
       "      <td>Nickeil Alexander-Walker</td>\n",
       "      <td>SG</td>\n",
       "      <td>24</td>\n",
       "      <td>UTA</td>\n",
       "      <td>3</td>\n",
       "      <td>0</td>\n",
       "      <td>5.0</td>\n",
       "      <td>1.0</td>\n",
       "      <td>2.3</td>\n",
       "      <td>...</td>\n",
       "      <td>1.000</td>\n",
       "      <td>0.0</td>\n",
       "      <td>0.0</td>\n",
       "      <td>0.0</td>\n",
       "      <td>2.0</td>\n",
       "      <td>0.3</td>\n",
       "      <td>0.3</td>\n",
       "      <td>0.0</td>\n",
       "      <td>0.3</td>\n",
       "      <td>3.0</td>\n",
       "    </tr>\n",
       "    <tr>\n",
       "      <th>6</th>\n",
       "      <td>7</td>\n",
       "      <td>Grayson Allen</td>\n",
       "      <td>SG</td>\n",
       "      <td>27</td>\n",
       "      <td>MIL</td>\n",
       "      <td>4</td>\n",
       "      <td>4</td>\n",
       "      <td>29.3</td>\n",
       "      <td>3.3</td>\n",
       "      <td>9.8</td>\n",
       "      <td>...</td>\n",
       "      <td>0.833</td>\n",
       "      <td>0.8</td>\n",
       "      <td>3.5</td>\n",
       "      <td>4.3</td>\n",
       "      <td>3.0</td>\n",
       "      <td>0.5</td>\n",
       "      <td>0.0</td>\n",
       "      <td>1.3</td>\n",
       "      <td>1.3</td>\n",
       "      <td>11.3</td>\n",
       "    </tr>\n",
       "    <tr>\n",
       "      <th>7</th>\n",
       "      <td>8</td>\n",
       "      <td>Jarrett Allen</td>\n",
       "      <td>C</td>\n",
       "      <td>24</td>\n",
       "      <td>CLE</td>\n",
       "      <td>5</td>\n",
       "      <td>5</td>\n",
       "      <td>33.8</td>\n",
       "      <td>5.4</td>\n",
       "      <td>9.4</td>\n",
       "      <td>...</td>\n",
       "      <td>0.706</td>\n",
       "      <td>4.8</td>\n",
       "      <td>6.6</td>\n",
       "      <td>11.4</td>\n",
       "      <td>1.6</td>\n",
       "      <td>0.2</td>\n",
       "      <td>1.2</td>\n",
       "      <td>0.8</td>\n",
       "      <td>2.6</td>\n",
       "      <td>13.2</td>\n",
       "    </tr>\n",
       "    <tr>\n",
       "      <th>8</th>\n",
       "      <td>9</td>\n",
       "      <td>Jose Alvarado</td>\n",
       "      <td>PG</td>\n",
       "      <td>24</td>\n",
       "      <td>NOP</td>\n",
       "      <td>5</td>\n",
       "      <td>2</td>\n",
       "      <td>22.0</td>\n",
       "      <td>3.6</td>\n",
       "      <td>7.2</td>\n",
       "      <td>...</td>\n",
       "      <td>0.750</td>\n",
       "      <td>0.0</td>\n",
       "      <td>2.2</td>\n",
       "      <td>2.2</td>\n",
       "      <td>2.6</td>\n",
       "      <td>1.0</td>\n",
       "      <td>0.2</td>\n",
       "      <td>2.0</td>\n",
       "      <td>1.6</td>\n",
       "      <td>9.4</td>\n",
       "    </tr>\n",
       "    <tr>\n",
       "      <th>9</th>\n",
       "      <td>10</td>\n",
       "      <td>Kyle Anderson</td>\n",
       "      <td>PF</td>\n",
       "      <td>29</td>\n",
       "      <td>MIN</td>\n",
       "      <td>2</td>\n",
       "      <td>0</td>\n",
       "      <td>11.5</td>\n",
       "      <td>0.0</td>\n",
       "      <td>1.0</td>\n",
       "      <td>...</td>\n",
       "      <td>1.000</td>\n",
       "      <td>1.0</td>\n",
       "      <td>2.0</td>\n",
       "      <td>3.0</td>\n",
       "      <td>0.5</td>\n",
       "      <td>0.5</td>\n",
       "      <td>0.5</td>\n",
       "      <td>1.0</td>\n",
       "      <td>0.0</td>\n",
       "      <td>1.0</td>\n",
       "    </tr>\n",
       "  </tbody>\n",
       "</table>\n",
       "<p>10 rows × 30 columns</p>\n",
       "</div>"
      ],
      "text/plain": [
       "   Rk                    Player Pos  Age   Tm  G  GS    MP   FG   FGA  ...  \\\n",
       "0   1          Precious Achiuwa   C   23  TOR  6   0  23.2  3.0   8.5  ...   \n",
       "1   2              Steven Adams   C   29  MEM  5   5  28.6  2.8   4.6  ...   \n",
       "2   3               Bam Adebayo   C   25  MIA  6   6  34.7  6.2  11.7  ...   \n",
       "3   4              Ochai Agbaji  SG   22  UTA  2   0  10.0  2.0   3.5  ...   \n",
       "4   5              Santi Aldama  PF   22  MEM  5   5  30.6  4.0   8.6  ...   \n",
       "5   6  Nickeil Alexander-Walker  SG   24  UTA  3   0   5.0  1.0   2.3  ...   \n",
       "6   7             Grayson Allen  SG   27  MIL  4   4  29.3  3.3   9.8  ...   \n",
       "7   8             Jarrett Allen   C   24  CLE  5   5  33.8  5.4   9.4  ...   \n",
       "8   9             Jose Alvarado  PG   24  NOP  5   2  22.0  3.6   7.2  ...   \n",
       "9  10             Kyle Anderson  PF   29  MIN  2   0  11.5  0.0   1.0  ...   \n",
       "\n",
       "     FT%  ORB  DRB   TRB  AST  STL  BLK  TOV   PF   PTS  \n",
       "0  0.692  2.2  6.7   8.8  1.3  0.0  0.3  1.3  1.7   8.2  \n",
       "1  0.235  4.0  6.2  10.2  2.4  0.6  1.6  1.6  2.6   6.4  \n",
       "2  0.833  2.5  5.8   8.3  2.5  1.3  1.0  4.0  2.8  16.5  \n",
       "3  0.500  0.0  0.5   0.5  0.0  0.0  0.0  0.0  1.0   4.5  \n",
       "4  0.750  2.0  4.4   6.4  1.0  1.0  1.4  0.6  2.4  11.0  \n",
       "5  1.000  0.0  0.0   0.0  2.0  0.3  0.3  0.0  0.3   3.0  \n",
       "6  0.833  0.8  3.5   4.3  3.0  0.5  0.0  1.3  1.3  11.3  \n",
       "7  0.706  4.8  6.6  11.4  1.6  0.2  1.2  0.8  2.6  13.2  \n",
       "8  0.750  0.0  2.2   2.2  2.6  1.0  0.2  2.0  1.6   9.4  \n",
       "9  1.000  1.0  2.0   3.0  0.5  0.5  0.5  1.0  0.0   1.0  \n",
       "\n",
       "[10 rows x 30 columns]"
      ]
     },
     "execution_count": 2,
     "metadata": {},
     "output_type": "execute_result"
    }
   ],
   "source": [
    "#Read in the NBA stats from todays date for each player\n",
    "df = pd.read_csv(\"NBA.csv\")\n",
    "df.head(10)"
   ]
  },
  {
   "cell_type": "code",
   "execution_count": 25,
   "id": "fd1e758b",
   "metadata": {},
   "outputs": [
    {
     "data": {
      "text/html": [
       "<div>\n",
       "<style scoped>\n",
       "    .dataframe tbody tr th:only-of-type {\n",
       "        vertical-align: middle;\n",
       "    }\n",
       "\n",
       "    .dataframe tbody tr th {\n",
       "        vertical-align: top;\n",
       "    }\n",
       "\n",
       "    .dataframe thead th {\n",
       "        text-align: right;\n",
       "    }\n",
       "</style>\n",
       "<table border=\"1\" class=\"dataframe\">\n",
       "  <thead>\n",
       "    <tr style=\"text-align: right;\">\n",
       "      <th></th>\n",
       "      <th>Year</th>\n",
       "      <th>Player</th>\n",
       "      <th>Pos</th>\n",
       "      <th>HT</th>\n",
       "      <th>WT</th>\n",
       "      <th>Team</th>\n",
       "      <th>Selection Type</th>\n",
       "      <th>NBA Draft Status</th>\n",
       "      <th>Nationality</th>\n",
       "    </tr>\n",
       "  </thead>\n",
       "  <tbody>\n",
       "    <tr>\n",
       "      <th>0</th>\n",
       "      <td>2016</td>\n",
       "      <td>Stephen Curry</td>\n",
       "      <td>G</td>\n",
       "      <td>6-3</td>\n",
       "      <td>190</td>\n",
       "      <td>Golden State Warriors</td>\n",
       "      <td>Western All-Star Fan Vote Selection</td>\n",
       "      <td>2009 Rnd 1 Pick 7</td>\n",
       "      <td>United States</td>\n",
       "    </tr>\n",
       "    <tr>\n",
       "      <th>1</th>\n",
       "      <td>2016</td>\n",
       "      <td>James Harden</td>\n",
       "      <td>SG</td>\n",
       "      <td>6-5</td>\n",
       "      <td>220</td>\n",
       "      <td>Houston Rockets</td>\n",
       "      <td>Western All-Star Fan Vote Selection</td>\n",
       "      <td>2009 Rnd 1 Pick 3</td>\n",
       "      <td>United States</td>\n",
       "    </tr>\n",
       "    <tr>\n",
       "      <th>2</th>\n",
       "      <td>2016</td>\n",
       "      <td>Kevin Durant</td>\n",
       "      <td>SF</td>\n",
       "      <td>6-9</td>\n",
       "      <td>240</td>\n",
       "      <td>Golden State Warriors</td>\n",
       "      <td>Western All-Star Fan Vote Selection</td>\n",
       "      <td>2007 Rnd 1 Pick 2</td>\n",
       "      <td>United States</td>\n",
       "    </tr>\n",
       "    <tr>\n",
       "      <th>3</th>\n",
       "      <td>2016</td>\n",
       "      <td>Kawhi Leonard</td>\n",
       "      <td>F</td>\n",
       "      <td>6-7</td>\n",
       "      <td>230</td>\n",
       "      <td>San Antonio Spurs</td>\n",
       "      <td>Western All-Star Fan Vote Selection</td>\n",
       "      <td>2011 Rnd 1 Pick 15</td>\n",
       "      <td>United States</td>\n",
       "    </tr>\n",
       "    <tr>\n",
       "      <th>4</th>\n",
       "      <td>2016</td>\n",
       "      <td>Anthony Davis</td>\n",
       "      <td>PF</td>\n",
       "      <td>6-11</td>\n",
       "      <td>253</td>\n",
       "      <td>New Orleans Pelicans</td>\n",
       "      <td>Western All-Star Fan Vote Selection</td>\n",
       "      <td>2012 Rnd 1 Pick 1</td>\n",
       "      <td>United States</td>\n",
       "    </tr>\n",
       "    <tr>\n",
       "      <th>...</th>\n",
       "      <td>...</td>\n",
       "      <td>...</td>\n",
       "      <td>...</td>\n",
       "      <td>...</td>\n",
       "      <td>...</td>\n",
       "      <td>...</td>\n",
       "      <td>...</td>\n",
       "      <td>...</td>\n",
       "      <td>...</td>\n",
       "    </tr>\n",
       "    <tr>\n",
       "      <th>434</th>\n",
       "      <td>2000</td>\n",
       "      <td>Antonio McDyess</td>\n",
       "      <td>F</td>\n",
       "      <td>6-9</td>\n",
       "      <td>245</td>\n",
       "      <td>Denver Nuggets</td>\n",
       "      <td>Western All-Star Coaches Selection</td>\n",
       "      <td>1995 Rnd 1 Pick 2</td>\n",
       "      <td>United States</td>\n",
       "    </tr>\n",
       "    <tr>\n",
       "      <th>435</th>\n",
       "      <td>2000</td>\n",
       "      <td>Gary Payton</td>\n",
       "      <td>G</td>\n",
       "      <td>6-4</td>\n",
       "      <td>180</td>\n",
       "      <td>Seattle SuperSonics</td>\n",
       "      <td>Western All-Star Coaches Selection</td>\n",
       "      <td>1990 Rnd 1 Pick 2</td>\n",
       "      <td>United States</td>\n",
       "    </tr>\n",
       "    <tr>\n",
       "      <th>436</th>\n",
       "      <td>2000</td>\n",
       "      <td>Rasheed Wallace</td>\n",
       "      <td>FC</td>\n",
       "      <td>6-11</td>\n",
       "      <td>230</td>\n",
       "      <td>Portland Trail Blazers</td>\n",
       "      <td>Western All-Star Coaches Selection</td>\n",
       "      <td>1995 Rnd 1 Pick 4</td>\n",
       "      <td>United States</td>\n",
       "    </tr>\n",
       "    <tr>\n",
       "      <th>437</th>\n",
       "      <td>2000</td>\n",
       "      <td>David Robinson</td>\n",
       "      <td>C</td>\n",
       "      <td>7-1</td>\n",
       "      <td>250</td>\n",
       "      <td>San Antonio Spurs</td>\n",
       "      <td>Western All-Star Coaches Selection</td>\n",
       "      <td>1987 Rnd 1 Pick 1</td>\n",
       "      <td>United States</td>\n",
       "    </tr>\n",
       "    <tr>\n",
       "      <th>438</th>\n",
       "      <td>2000</td>\n",
       "      <td>Vlade Divac</td>\n",
       "      <td>C</td>\n",
       "      <td>7-1</td>\n",
       "      <td>260</td>\n",
       "      <td>Sacramento Kings</td>\n",
       "      <td>Western All-Star Replacement Selection</td>\n",
       "      <td>1989 Rnd 1 Pick 26</td>\n",
       "      <td>Serbia</td>\n",
       "    </tr>\n",
       "  </tbody>\n",
       "</table>\n",
       "<p>439 rows × 9 columns</p>\n",
       "</div>"
      ],
      "text/plain": [
       "     Year           Player Pos    HT   WT                    Team  \\\n",
       "0    2016    Stephen Curry   G   6-3  190   Golden State Warriors   \n",
       "1    2016     James Harden  SG   6-5  220         Houston Rockets   \n",
       "2    2016     Kevin Durant  SF   6-9  240   Golden State Warriors   \n",
       "3    2016    Kawhi Leonard   F   6-7  230       San Antonio Spurs   \n",
       "4    2016    Anthony Davis  PF  6-11  253    New Orleans Pelicans   \n",
       "..    ...              ...  ..   ...  ...                     ...   \n",
       "434  2000  Antonio McDyess   F   6-9  245          Denver Nuggets   \n",
       "435  2000      Gary Payton   G   6-4  180     Seattle SuperSonics   \n",
       "436  2000  Rasheed Wallace  FC  6-11  230  Portland Trail Blazers   \n",
       "437  2000   David Robinson   C   7-1  250       San Antonio Spurs   \n",
       "438  2000      Vlade Divac   C   7-1  260        Sacramento Kings   \n",
       "\n",
       "                             Selection Type    NBA Draft Status    Nationality  \n",
       "0       Western All-Star Fan Vote Selection   2009 Rnd 1 Pick 7  United States  \n",
       "1       Western All-Star Fan Vote Selection   2009 Rnd 1 Pick 3  United States  \n",
       "2       Western All-Star Fan Vote Selection   2007 Rnd 1 Pick 2  United States  \n",
       "3       Western All-Star Fan Vote Selection  2011 Rnd 1 Pick 15  United States  \n",
       "4       Western All-Star Fan Vote Selection   2012 Rnd 1 Pick 1  United States  \n",
       "..                                      ...                 ...            ...  \n",
       "434      Western All-Star Coaches Selection   1995 Rnd 1 Pick 2  United States  \n",
       "435      Western All-Star Coaches Selection   1990 Rnd 1 Pick 2  United States  \n",
       "436      Western All-Star Coaches Selection   1995 Rnd 1 Pick 4  United States  \n",
       "437      Western All-Star Coaches Selection   1987 Rnd 1 Pick 1  United States  \n",
       "438  Western All-Star Replacement Selection  1989 Rnd 1 Pick 26         Serbia  \n",
       "\n",
       "[439 rows x 9 columns]"
      ]
     },
     "execution_count": 25,
     "metadata": {},
     "output_type": "execute_result"
    }
   ],
   "source": [
    "#Read in playoff appearance and all star appearance in the last deacade\n",
    "df1 = pd.read_csv(\"NBAALLSTARS.csv\")\n",
    "df1"
   ]
  },
  {
   "cell_type": "code",
   "execution_count": 14,
   "id": "999ad42e",
   "metadata": {},
   "outputs": [
    {
     "data": {
      "text/html": [
       "<div>\n",
       "<style scoped>\n",
       "    .dataframe tbody tr th:only-of-type {\n",
       "        vertical-align: middle;\n",
       "    }\n",
       "\n",
       "    .dataframe tbody tr th {\n",
       "        vertical-align: top;\n",
       "    }\n",
       "\n",
       "    .dataframe thead th {\n",
       "        text-align: right;\n",
       "    }\n",
       "</style>\n",
       "<table border=\"1\" class=\"dataframe\">\n",
       "  <thead>\n",
       "    <tr style=\"text-align: right;\">\n",
       "      <th></th>\n",
       "      <th>Rk</th>\n",
       "      <th>Age</th>\n",
       "      <th>G</th>\n",
       "      <th>GS</th>\n",
       "      <th>MP</th>\n",
       "      <th>FG</th>\n",
       "      <th>FGA</th>\n",
       "      <th>FG%</th>\n",
       "      <th>3P</th>\n",
       "      <th>3PA</th>\n",
       "      <th>...</th>\n",
       "      <th>FT%</th>\n",
       "      <th>ORB</th>\n",
       "      <th>DRB</th>\n",
       "      <th>TRB</th>\n",
       "      <th>AST</th>\n",
       "      <th>STL</th>\n",
       "      <th>BLK</th>\n",
       "      <th>TOV</th>\n",
       "      <th>PF</th>\n",
       "      <th>PTS</th>\n",
       "    </tr>\n",
       "    <tr>\n",
       "      <th>Pos</th>\n",
       "      <th></th>\n",
       "      <th></th>\n",
       "      <th></th>\n",
       "      <th></th>\n",
       "      <th></th>\n",
       "      <th></th>\n",
       "      <th></th>\n",
       "      <th></th>\n",
       "      <th></th>\n",
       "      <th></th>\n",
       "      <th></th>\n",
       "      <th></th>\n",
       "      <th></th>\n",
       "      <th></th>\n",
       "      <th></th>\n",
       "      <th></th>\n",
       "      <th></th>\n",
       "      <th></th>\n",
       "      <th></th>\n",
       "      <th></th>\n",
       "      <th></th>\n",
       "    </tr>\n",
       "  </thead>\n",
       "  <tbody>\n",
       "    <tr>\n",
       "      <th>C</th>\n",
       "      <td>14529</td>\n",
       "      <td>1903</td>\n",
       "      <td>299</td>\n",
       "      <td>133</td>\n",
       "      <td>1270.8</td>\n",
       "      <td>213.0</td>\n",
       "      <td>396.2</td>\n",
       "      <td>34.715</td>\n",
       "      <td>20.2</td>\n",
       "      <td>73.6</td>\n",
       "      <td>...</td>\n",
       "      <td>36.990</td>\n",
       "      <td>127.3</td>\n",
       "      <td>264.6</td>\n",
       "      <td>392.0</td>\n",
       "      <td>96.1</td>\n",
       "      <td>26.8</td>\n",
       "      <td>60.6</td>\n",
       "      <td>71.4</td>\n",
       "      <td>139.2</td>\n",
       "      <td>554.7</td>\n",
       "    </tr>\n",
       "    <tr>\n",
       "      <th>PF</th>\n",
       "      <td>21841</td>\n",
       "      <td>2522</td>\n",
       "      <td>407</td>\n",
       "      <td>194</td>\n",
       "      <td>1831.0</td>\n",
       "      <td>310.6</td>\n",
       "      <td>634.0</td>\n",
       "      <td>43.878</td>\n",
       "      <td>84.4</td>\n",
       "      <td>232.0</td>\n",
       "      <td>...</td>\n",
       "      <td>53.959</td>\n",
       "      <td>94.0</td>\n",
       "      <td>297.4</td>\n",
       "      <td>391.3</td>\n",
       "      <td>135.3</td>\n",
       "      <td>54.7</td>\n",
       "      <td>54.6</td>\n",
       "      <td>96.3</td>\n",
       "      <td>183.3</td>\n",
       "      <td>837.2</td>\n",
       "    </tr>\n",
       "    <tr>\n",
       "      <th>PG</th>\n",
       "      <td>17850</td>\n",
       "      <td>2192</td>\n",
       "      <td>350</td>\n",
       "      <td>166</td>\n",
       "      <td>1679.2</td>\n",
       "      <td>290.3</td>\n",
       "      <td>674.2</td>\n",
       "      <td>31.871</td>\n",
       "      <td>98.1</td>\n",
       "      <td>272.4</td>\n",
       "      <td>...</td>\n",
       "      <td>49.720</td>\n",
       "      <td>43.8</td>\n",
       "      <td>173.4</td>\n",
       "      <td>216.5</td>\n",
       "      <td>284.5</td>\n",
       "      <td>71.6</td>\n",
       "      <td>25.3</td>\n",
       "      <td>120.3</td>\n",
       "      <td>132.8</td>\n",
       "      <td>814.2</td>\n",
       "    </tr>\n",
       "    <tr>\n",
       "      <th>SF</th>\n",
       "      <td>14674</td>\n",
       "      <td>1771</td>\n",
       "      <td>277</td>\n",
       "      <td>117</td>\n",
       "      <td>1296.6</td>\n",
       "      <td>218.8</td>\n",
       "      <td>468.5</td>\n",
       "      <td>30.275</td>\n",
       "      <td>73.7</td>\n",
       "      <td>197.1</td>\n",
       "      <td>...</td>\n",
       "      <td>36.857</td>\n",
       "      <td>51.7</td>\n",
       "      <td>173.7</td>\n",
       "      <td>225.1</td>\n",
       "      <td>94.6</td>\n",
       "      <td>39.5</td>\n",
       "      <td>19.5</td>\n",
       "      <td>65.6</td>\n",
       "      <td>121.0</td>\n",
       "      <td>602.5</td>\n",
       "    </tr>\n",
       "    <tr>\n",
       "      <th>SG</th>\n",
       "      <td>24202</td>\n",
       "      <td>2761</td>\n",
       "      <td>444</td>\n",
       "      <td>190</td>\n",
       "      <td>2074.0</td>\n",
       "      <td>351.2</td>\n",
       "      <td>814.6</td>\n",
       "      <td>44.260</td>\n",
       "      <td>133.1</td>\n",
       "      <td>376.6</td>\n",
       "      <td>...</td>\n",
       "      <td>62.261</td>\n",
       "      <td>54.9</td>\n",
       "      <td>219.3</td>\n",
       "      <td>273.8</td>\n",
       "      <td>219.5</td>\n",
       "      <td>63.7</td>\n",
       "      <td>24.3</td>\n",
       "      <td>119.1</td>\n",
       "      <td>165.8</td>\n",
       "      <td>978.7</td>\n",
       "    </tr>\n",
       "  </tbody>\n",
       "</table>\n",
       "<p>5 rows × 27 columns</p>\n",
       "</div>"
      ],
      "text/plain": [
       "        Rk   Age    G   GS      MP     FG    FGA     FG%     3P    3PA  ...  \\\n",
       "Pos                                                                     ...   \n",
       "C    14529  1903  299  133  1270.8  213.0  396.2  34.715   20.2   73.6  ...   \n",
       "PF   21841  2522  407  194  1831.0  310.6  634.0  43.878   84.4  232.0  ...   \n",
       "PG   17850  2192  350  166  1679.2  290.3  674.2  31.871   98.1  272.4  ...   \n",
       "SF   14674  1771  277  117  1296.6  218.8  468.5  30.275   73.7  197.1  ...   \n",
       "SG   24202  2761  444  190  2074.0  351.2  814.6  44.260  133.1  376.6  ...   \n",
       "\n",
       "        FT%    ORB    DRB    TRB    AST   STL   BLK    TOV     PF    PTS  \n",
       "Pos                                                                       \n",
       "C    36.990  127.3  264.6  392.0   96.1  26.8  60.6   71.4  139.2  554.7  \n",
       "PF   53.959   94.0  297.4  391.3  135.3  54.7  54.6   96.3  183.3  837.2  \n",
       "PG   49.720   43.8  173.4  216.5  284.5  71.6  25.3  120.3  132.8  814.2  \n",
       "SF   36.857   51.7  173.7  225.1   94.6  39.5  19.5   65.6  121.0  602.5  \n",
       "SG   62.261   54.9  219.3  273.8  219.5  63.7  24.3  119.1  165.8  978.7  \n",
       "\n",
       "[5 rows x 27 columns]"
      ]
     },
     "execution_count": 14,
     "metadata": {},
     "output_type": "execute_result"
    }
   ],
   "source": [
    "df.groupby(by=[\"Pos\"]).sum()"
   ]
  },
  {
   "cell_type": "code",
   "execution_count": null,
   "id": "6b7642c0",
   "metadata": {},
   "outputs": [],
   "source": [
    "df.groupby(by=[\"Pos\"]).sum()"
   ]
  },
  {
   "cell_type": "code",
   "execution_count": 81,
   "id": "93116727",
   "metadata": {},
   "outputs": [
    {
     "data": {
      "text/html": [
       "<div>\n",
       "<style scoped>\n",
       "    .dataframe tbody tr th:only-of-type {\n",
       "        vertical-align: middle;\n",
       "    }\n",
       "\n",
       "    .dataframe tbody tr th {\n",
       "        vertical-align: top;\n",
       "    }\n",
       "\n",
       "    .dataframe thead th {\n",
       "        text-align: right;\n",
       "    }\n",
       "</style>\n",
       "<table border=\"1\" class=\"dataframe\">\n",
       "  <thead>\n",
       "    <tr style=\"text-align: right;\">\n",
       "      <th></th>\n",
       "      <th>Rk</th>\n",
       "      <th>Player</th>\n",
       "      <th>Pos_x</th>\n",
       "      <th>Age</th>\n",
       "      <th>Tm</th>\n",
       "      <th>G</th>\n",
       "      <th>GS</th>\n",
       "      <th>MP</th>\n",
       "      <th>FG</th>\n",
       "      <th>FGA</th>\n",
       "      <th>...</th>\n",
       "      <th>PF</th>\n",
       "      <th>PTS</th>\n",
       "      <th>Year</th>\n",
       "      <th>Pos_y</th>\n",
       "      <th>HT</th>\n",
       "      <th>WT</th>\n",
       "      <th>Team</th>\n",
       "      <th>Selection Type</th>\n",
       "      <th>NBA Draft Status</th>\n",
       "      <th>Nationality</th>\n",
       "    </tr>\n",
       "  </thead>\n",
       "  <tbody>\n",
       "    <tr>\n",
       "      <th>4</th>\n",
       "      <td>82</td>\n",
       "      <td>Stephen Curry</td>\n",
       "      <td>PG</td>\n",
       "      <td>34</td>\n",
       "      <td>GSW</td>\n",
       "      <td>5</td>\n",
       "      <td>5</td>\n",
       "      <td>33.4</td>\n",
       "      <td>10.2</td>\n",
       "      <td>21.0</td>\n",
       "      <td>...</td>\n",
       "      <td>1.4</td>\n",
       "      <td>30.8</td>\n",
       "      <td>2016</td>\n",
       "      <td>G</td>\n",
       "      <td>6-3</td>\n",
       "      <td>190</td>\n",
       "      <td>Golden State Warriors</td>\n",
       "      <td>Western All-Star Fan Vote Selection</td>\n",
       "      <td>2009 Rnd 1 Pick 7</td>\n",
       "      <td>United States</td>\n",
       "    </tr>\n",
       "    <tr>\n",
       "      <th>5</th>\n",
       "      <td>82</td>\n",
       "      <td>Stephen Curry</td>\n",
       "      <td>PG</td>\n",
       "      <td>34</td>\n",
       "      <td>GSW</td>\n",
       "      <td>5</td>\n",
       "      <td>5</td>\n",
       "      <td>33.4</td>\n",
       "      <td>10.2</td>\n",
       "      <td>21.0</td>\n",
       "      <td>...</td>\n",
       "      <td>1.4</td>\n",
       "      <td>30.8</td>\n",
       "      <td>2015</td>\n",
       "      <td>G</td>\n",
       "      <td>6-3</td>\n",
       "      <td>190</td>\n",
       "      <td>Golden State Warriors</td>\n",
       "      <td>Western All-Star Fan Vote Selection</td>\n",
       "      <td>2009 Rnd 1 Pick 7</td>\n",
       "      <td>United States</td>\n",
       "    </tr>\n",
       "    <tr>\n",
       "      <th>6</th>\n",
       "      <td>82</td>\n",
       "      <td>Stephen Curry</td>\n",
       "      <td>PG</td>\n",
       "      <td>34</td>\n",
       "      <td>GSW</td>\n",
       "      <td>5</td>\n",
       "      <td>5</td>\n",
       "      <td>33.4</td>\n",
       "      <td>10.2</td>\n",
       "      <td>21.0</td>\n",
       "      <td>...</td>\n",
       "      <td>1.4</td>\n",
       "      <td>30.8</td>\n",
       "      <td>2014</td>\n",
       "      <td>G</td>\n",
       "      <td>6-3</td>\n",
       "      <td>190</td>\n",
       "      <td>Golden State Warriors</td>\n",
       "      <td>Western All-Star Fan Vote Selection</td>\n",
       "      <td>2009 Rnd 1 Pick 7</td>\n",
       "      <td>United States</td>\n",
       "    </tr>\n",
       "    <tr>\n",
       "      <th>7</th>\n",
       "      <td>82</td>\n",
       "      <td>Stephen Curry</td>\n",
       "      <td>PG</td>\n",
       "      <td>34</td>\n",
       "      <td>GSW</td>\n",
       "      <td>5</td>\n",
       "      <td>5</td>\n",
       "      <td>33.4</td>\n",
       "      <td>10.2</td>\n",
       "      <td>21.0</td>\n",
       "      <td>...</td>\n",
       "      <td>1.4</td>\n",
       "      <td>30.8</td>\n",
       "      <td>2013</td>\n",
       "      <td>G</td>\n",
       "      <td>6-3</td>\n",
       "      <td>190</td>\n",
       "      <td>Golden State Warriors</td>\n",
       "      <td>Western All-Star Fan Vote Selection</td>\n",
       "      <td>2009 Rnd 1 Pick 7</td>\n",
       "      <td>United States</td>\n",
       "    </tr>\n",
       "    <tr>\n",
       "      <th>41</th>\n",
       "      <td>169</td>\n",
       "      <td>Jrue Holiday</td>\n",
       "      <td>PG</td>\n",
       "      <td>32</td>\n",
       "      <td>MIL</td>\n",
       "      <td>4</td>\n",
       "      <td>4</td>\n",
       "      <td>34.0</td>\n",
       "      <td>5.3</td>\n",
       "      <td>16.8</td>\n",
       "      <td>...</td>\n",
       "      <td>2.5</td>\n",
       "      <td>14.0</td>\n",
       "      <td>2012</td>\n",
       "      <td>G</td>\n",
       "      <td>6-4</td>\n",
       "      <td>205</td>\n",
       "      <td>Philadelphia Sixers</td>\n",
       "      <td>Eastern All-Star Coaches Selection</td>\n",
       "      <td>2009 Rnd 1 Pick 17</td>\n",
       "      <td>United States</td>\n",
       "    </tr>\n",
       "    <tr>\n",
       "      <th>46</th>\n",
       "      <td>182</td>\n",
       "      <td>Kyrie Irving</td>\n",
       "      <td>PG</td>\n",
       "      <td>30</td>\n",
       "      <td>BRK</td>\n",
       "      <td>5</td>\n",
       "      <td>5</td>\n",
       "      <td>39.0</td>\n",
       "      <td>10.8</td>\n",
       "      <td>23.8</td>\n",
       "      <td>...</td>\n",
       "      <td>3.4</td>\n",
       "      <td>29.6</td>\n",
       "      <td>2016</td>\n",
       "      <td>G</td>\n",
       "      <td>6-3</td>\n",
       "      <td>193</td>\n",
       "      <td>Cleveland Cavaliers</td>\n",
       "      <td>Eastern All-Star Fan Vote Selection</td>\n",
       "      <td>2011 Rnd 1 Pick 1</td>\n",
       "      <td>United States\\nAustralia</td>\n",
       "    </tr>\n",
       "    <tr>\n",
       "      <th>47</th>\n",
       "      <td>182</td>\n",
       "      <td>Kyrie Irving</td>\n",
       "      <td>PG</td>\n",
       "      <td>30</td>\n",
       "      <td>BRK</td>\n",
       "      <td>5</td>\n",
       "      <td>5</td>\n",
       "      <td>39.0</td>\n",
       "      <td>10.8</td>\n",
       "      <td>23.8</td>\n",
       "      <td>...</td>\n",
       "      <td>3.4</td>\n",
       "      <td>29.6</td>\n",
       "      <td>2014</td>\n",
       "      <td>G</td>\n",
       "      <td>6-3</td>\n",
       "      <td>193</td>\n",
       "      <td>Cleveland Cavaliers</td>\n",
       "      <td>Eastern All-Star Coaches Selection</td>\n",
       "      <td>2011 Rnd 1 Pick 1</td>\n",
       "      <td>United States\\nAustralia</td>\n",
       "    </tr>\n",
       "    <tr>\n",
       "      <th>48</th>\n",
       "      <td>182</td>\n",
       "      <td>Kyrie Irving</td>\n",
       "      <td>PG</td>\n",
       "      <td>30</td>\n",
       "      <td>BRK</td>\n",
       "      <td>5</td>\n",
       "      <td>5</td>\n",
       "      <td>39.0</td>\n",
       "      <td>10.8</td>\n",
       "      <td>23.8</td>\n",
       "      <td>...</td>\n",
       "      <td>3.4</td>\n",
       "      <td>29.6</td>\n",
       "      <td>2013</td>\n",
       "      <td>G</td>\n",
       "      <td>6-3</td>\n",
       "      <td>193</td>\n",
       "      <td>Cleveland Cavaliers</td>\n",
       "      <td>Eastern All-Star Fan Vote Selection</td>\n",
       "      <td>2011 Rnd 1 Pick 1</td>\n",
       "      <td>United States\\nAustralia</td>\n",
       "    </tr>\n",
       "    <tr>\n",
       "      <th>49</th>\n",
       "      <td>182</td>\n",
       "      <td>Kyrie Irving</td>\n",
       "      <td>PG</td>\n",
       "      <td>30</td>\n",
       "      <td>BRK</td>\n",
       "      <td>5</td>\n",
       "      <td>5</td>\n",
       "      <td>39.0</td>\n",
       "      <td>10.8</td>\n",
       "      <td>23.8</td>\n",
       "      <td>...</td>\n",
       "      <td>3.4</td>\n",
       "      <td>29.6</td>\n",
       "      <td>2012</td>\n",
       "      <td>G</td>\n",
       "      <td>6-3</td>\n",
       "      <td>193</td>\n",
       "      <td>Cleveland Cavaliers</td>\n",
       "      <td>Eastern All-Star Coaches Selection</td>\n",
       "      <td>2011 Rnd 1 Pick 1</td>\n",
       "      <td>United States\\nAustralia</td>\n",
       "    </tr>\n",
       "    <tr>\n",
       "      <th>66</th>\n",
       "      <td>228</td>\n",
       "      <td>Damian Lillard</td>\n",
       "      <td>PG</td>\n",
       "      <td>32</td>\n",
       "      <td>POR</td>\n",
       "      <td>5</td>\n",
       "      <td>5</td>\n",
       "      <td>35.0</td>\n",
       "      <td>9.6</td>\n",
       "      <td>19.4</td>\n",
       "      <td>...</td>\n",
       "      <td>1.4</td>\n",
       "      <td>31.0</td>\n",
       "      <td>2014</td>\n",
       "      <td>G</td>\n",
       "      <td>6-3</td>\n",
       "      <td>195</td>\n",
       "      <td>Portland Trail Blazers</td>\n",
       "      <td>Western All-Star Replacement Selection</td>\n",
       "      <td>2012 Rnd 1 Pick 6</td>\n",
       "      <td>United States</td>\n",
       "    </tr>\n",
       "    <tr>\n",
       "      <th>67</th>\n",
       "      <td>228</td>\n",
       "      <td>Damian Lillard</td>\n",
       "      <td>PG</td>\n",
       "      <td>32</td>\n",
       "      <td>POR</td>\n",
       "      <td>5</td>\n",
       "      <td>5</td>\n",
       "      <td>35.0</td>\n",
       "      <td>9.6</td>\n",
       "      <td>19.4</td>\n",
       "      <td>...</td>\n",
       "      <td>1.4</td>\n",
       "      <td>31.0</td>\n",
       "      <td>2013</td>\n",
       "      <td>G</td>\n",
       "      <td>6-3</td>\n",
       "      <td>195</td>\n",
       "      <td>Portland Trail Blazers</td>\n",
       "      <td>Western All-Star Coaches Selection</td>\n",
       "      <td>2012 Rnd 1 Pick 6</td>\n",
       "      <td>United States</td>\n",
       "    </tr>\n",
       "    <tr>\n",
       "      <th>73</th>\n",
       "      <td>236</td>\n",
       "      <td>Kyle Lowry</td>\n",
       "      <td>PG</td>\n",
       "      <td>36</td>\n",
       "      <td>MIA</td>\n",
       "      <td>6</td>\n",
       "      <td>6</td>\n",
       "      <td>33.5</td>\n",
       "      <td>3.3</td>\n",
       "      <td>9.5</td>\n",
       "      <td>...</td>\n",
       "      <td>3.2</td>\n",
       "      <td>12.0</td>\n",
       "      <td>2016</td>\n",
       "      <td>PG</td>\n",
       "      <td>6-0</td>\n",
       "      <td>205</td>\n",
       "      <td>Toronto Raptors</td>\n",
       "      <td>Eastern All-Star Coaches Selection</td>\n",
       "      <td>2006 Rnd 1 Pick 24</td>\n",
       "      <td>United States</td>\n",
       "    </tr>\n",
       "    <tr>\n",
       "      <th>74</th>\n",
       "      <td>236</td>\n",
       "      <td>Kyle Lowry</td>\n",
       "      <td>PG</td>\n",
       "      <td>36</td>\n",
       "      <td>MIA</td>\n",
       "      <td>6</td>\n",
       "      <td>6</td>\n",
       "      <td>33.5</td>\n",
       "      <td>3.3</td>\n",
       "      <td>9.5</td>\n",
       "      <td>...</td>\n",
       "      <td>3.2</td>\n",
       "      <td>12.0</td>\n",
       "      <td>2015</td>\n",
       "      <td>PG</td>\n",
       "      <td>6-0</td>\n",
       "      <td>205</td>\n",
       "      <td>Toronto Raptors</td>\n",
       "      <td>Eastern All-Star Fan Vote Selection</td>\n",
       "      <td>2006 Rnd 1 Pick 24</td>\n",
       "      <td>United States</td>\n",
       "    </tr>\n",
       "    <tr>\n",
       "      <th>75</th>\n",
       "      <td>236</td>\n",
       "      <td>Kyle Lowry</td>\n",
       "      <td>PG</td>\n",
       "      <td>36</td>\n",
       "      <td>MIA</td>\n",
       "      <td>6</td>\n",
       "      <td>6</td>\n",
       "      <td>33.5</td>\n",
       "      <td>3.3</td>\n",
       "      <td>9.5</td>\n",
       "      <td>...</td>\n",
       "      <td>3.2</td>\n",
       "      <td>12.0</td>\n",
       "      <td>2014</td>\n",
       "      <td>PG</td>\n",
       "      <td>6-0</td>\n",
       "      <td>205</td>\n",
       "      <td>Toronto Raptors</td>\n",
       "      <td>Eastern All-Star Fan Vote Selection</td>\n",
       "      <td>2006 Rnd 1 Pick 24</td>\n",
       "      <td>United States</td>\n",
       "    </tr>\n",
       "    <tr>\n",
       "      <th>76</th>\n",
       "      <td>306</td>\n",
       "      <td>Chris Paul</td>\n",
       "      <td>PG</td>\n",
       "      <td>37</td>\n",
       "      <td>PHO</td>\n",
       "      <td>5</td>\n",
       "      <td>5</td>\n",
       "      <td>33.0</td>\n",
       "      <td>3.0</td>\n",
       "      <td>9.0</td>\n",
       "      <td>...</td>\n",
       "      <td>3.0</td>\n",
       "      <td>9.2</td>\n",
       "      <td>2015</td>\n",
       "      <td>PG</td>\n",
       "      <td>6-0</td>\n",
       "      <td>175</td>\n",
       "      <td>Los Angeles Clippers</td>\n",
       "      <td>Western All-Star Coaches Selection</td>\n",
       "      <td>2005 Rnd 1 Pick 4</td>\n",
       "      <td>United States</td>\n",
       "    </tr>\n",
       "    <tr>\n",
       "      <th>77</th>\n",
       "      <td>306</td>\n",
       "      <td>Chris Paul</td>\n",
       "      <td>PG</td>\n",
       "      <td>37</td>\n",
       "      <td>PHO</td>\n",
       "      <td>5</td>\n",
       "      <td>5</td>\n",
       "      <td>33.0</td>\n",
       "      <td>3.0</td>\n",
       "      <td>9.0</td>\n",
       "      <td>...</td>\n",
       "      <td>3.0</td>\n",
       "      <td>9.2</td>\n",
       "      <td>2014</td>\n",
       "      <td>PG</td>\n",
       "      <td>6-0</td>\n",
       "      <td>175</td>\n",
       "      <td>Los Angeles Clippers</td>\n",
       "      <td>Western All-Star Coaches Selection</td>\n",
       "      <td>2005 Rnd 1 Pick 4</td>\n",
       "      <td>United States</td>\n",
       "    </tr>\n",
       "    <tr>\n",
       "      <th>78</th>\n",
       "      <td>306</td>\n",
       "      <td>Chris Paul</td>\n",
       "      <td>PG</td>\n",
       "      <td>37</td>\n",
       "      <td>PHO</td>\n",
       "      <td>5</td>\n",
       "      <td>5</td>\n",
       "      <td>33.0</td>\n",
       "      <td>3.0</td>\n",
       "      <td>9.0</td>\n",
       "      <td>...</td>\n",
       "      <td>3.0</td>\n",
       "      <td>9.2</td>\n",
       "      <td>2013</td>\n",
       "      <td>PG</td>\n",
       "      <td>6-0</td>\n",
       "      <td>175</td>\n",
       "      <td>Los Angeles Clippers</td>\n",
       "      <td>Western All-Star Coaches Selection</td>\n",
       "      <td>2005 Rnd 1 Pick 4</td>\n",
       "      <td>United States</td>\n",
       "    </tr>\n",
       "    <tr>\n",
       "      <th>79</th>\n",
       "      <td>306</td>\n",
       "      <td>Chris Paul</td>\n",
       "      <td>PG</td>\n",
       "      <td>37</td>\n",
       "      <td>PHO</td>\n",
       "      <td>5</td>\n",
       "      <td>5</td>\n",
       "      <td>33.0</td>\n",
       "      <td>3.0</td>\n",
       "      <td>9.0</td>\n",
       "      <td>...</td>\n",
       "      <td>3.0</td>\n",
       "      <td>9.2</td>\n",
       "      <td>2012</td>\n",
       "      <td>PG</td>\n",
       "      <td>6-0</td>\n",
       "      <td>175</td>\n",
       "      <td>Los Angeles Clippers</td>\n",
       "      <td>Western All-Star Fan Vote Selection</td>\n",
       "      <td>2005 Rnd 1 Pick 4</td>\n",
       "      <td>United States</td>\n",
       "    </tr>\n",
       "    <tr>\n",
       "      <th>80</th>\n",
       "      <td>306</td>\n",
       "      <td>Chris Paul</td>\n",
       "      <td>PG</td>\n",
       "      <td>37</td>\n",
       "      <td>PHO</td>\n",
       "      <td>5</td>\n",
       "      <td>5</td>\n",
       "      <td>33.0</td>\n",
       "      <td>3.0</td>\n",
       "      <td>9.0</td>\n",
       "      <td>...</td>\n",
       "      <td>3.0</td>\n",
       "      <td>9.2</td>\n",
       "      <td>2011</td>\n",
       "      <td>PG</td>\n",
       "      <td>6-0</td>\n",
       "      <td>175</td>\n",
       "      <td>Los Angeles Clippers</td>\n",
       "      <td>Western All-Star Fan Vote Selection</td>\n",
       "      <td>2005 Rnd 1 Pick 4</td>\n",
       "      <td>United States</td>\n",
       "    </tr>\n",
       "    <tr>\n",
       "      <th>81</th>\n",
       "      <td>306</td>\n",
       "      <td>Chris Paul</td>\n",
       "      <td>PG</td>\n",
       "      <td>37</td>\n",
       "      <td>PHO</td>\n",
       "      <td>5</td>\n",
       "      <td>5</td>\n",
       "      <td>33.0</td>\n",
       "      <td>3.0</td>\n",
       "      <td>9.0</td>\n",
       "      <td>...</td>\n",
       "      <td>3.0</td>\n",
       "      <td>9.2</td>\n",
       "      <td>2010</td>\n",
       "      <td>PG</td>\n",
       "      <td>6-0</td>\n",
       "      <td>175</td>\n",
       "      <td>New Orleans Hornets</td>\n",
       "      <td>Western All-Star Fan Vote Selection</td>\n",
       "      <td>2005 Rnd 1 Pick 4</td>\n",
       "      <td>United States</td>\n",
       "    </tr>\n",
       "    <tr>\n",
       "      <th>82</th>\n",
       "      <td>306</td>\n",
       "      <td>Chris Paul</td>\n",
       "      <td>PG</td>\n",
       "      <td>37</td>\n",
       "      <td>PHO</td>\n",
       "      <td>5</td>\n",
       "      <td>5</td>\n",
       "      <td>33.0</td>\n",
       "      <td>3.0</td>\n",
       "      <td>9.0</td>\n",
       "      <td>...</td>\n",
       "      <td>3.0</td>\n",
       "      <td>9.2</td>\n",
       "      <td>2009</td>\n",
       "      <td>PG</td>\n",
       "      <td>6-0</td>\n",
       "      <td>175</td>\n",
       "      <td>New Orleans Hornets</td>\n",
       "      <td>Western All-Star Coaches Selection</td>\n",
       "      <td>2005 Rnd 1 Pick 4</td>\n",
       "      <td>United States</td>\n",
       "    </tr>\n",
       "    <tr>\n",
       "      <th>83</th>\n",
       "      <td>306</td>\n",
       "      <td>Chris Paul</td>\n",
       "      <td>PG</td>\n",
       "      <td>37</td>\n",
       "      <td>PHO</td>\n",
       "      <td>5</td>\n",
       "      <td>5</td>\n",
       "      <td>33.0</td>\n",
       "      <td>3.0</td>\n",
       "      <td>9.0</td>\n",
       "      <td>...</td>\n",
       "      <td>3.0</td>\n",
       "      <td>9.2</td>\n",
       "      <td>2008</td>\n",
       "      <td>PG</td>\n",
       "      <td>6-0</td>\n",
       "      <td>175</td>\n",
       "      <td>New Orleans Hornets</td>\n",
       "      <td>Western All-Star Fan Vote Selection</td>\n",
       "      <td>2005 Rnd 1 Pick 4</td>\n",
       "      <td>United States</td>\n",
       "    </tr>\n",
       "    <tr>\n",
       "      <th>84</th>\n",
       "      <td>306</td>\n",
       "      <td>Chris Paul</td>\n",
       "      <td>PG</td>\n",
       "      <td>37</td>\n",
       "      <td>PHO</td>\n",
       "      <td>5</td>\n",
       "      <td>5</td>\n",
       "      <td>33.0</td>\n",
       "      <td>3.0</td>\n",
       "      <td>9.0</td>\n",
       "      <td>...</td>\n",
       "      <td>3.0</td>\n",
       "      <td>9.2</td>\n",
       "      <td>2007</td>\n",
       "      <td>PG</td>\n",
       "      <td>6-0</td>\n",
       "      <td>175</td>\n",
       "      <td>New Orleans Hornets</td>\n",
       "      <td>Western All-Star Coaches Selection</td>\n",
       "      <td>2005 Rnd 1 Pick 4</td>\n",
       "      <td>United States</td>\n",
       "    </tr>\n",
       "    <tr>\n",
       "      <th>85</th>\n",
       "      <td>341</td>\n",
       "      <td>Derrick Rose</td>\n",
       "      <td>PG</td>\n",
       "      <td>34</td>\n",
       "      <td>NYK</td>\n",
       "      <td>5</td>\n",
       "      <td>0</td>\n",
       "      <td>12.8</td>\n",
       "      <td>3.4</td>\n",
       "      <td>6.6</td>\n",
       "      <td>...</td>\n",
       "      <td>0.6</td>\n",
       "      <td>8.8</td>\n",
       "      <td>2011</td>\n",
       "      <td>PG</td>\n",
       "      <td>6-3</td>\n",
       "      <td>190</td>\n",
       "      <td>Chicago Bulls</td>\n",
       "      <td>Eastern All-Star Fan Vote Selection</td>\n",
       "      <td>2008 Rnd 1 Pick 1</td>\n",
       "      <td>United States</td>\n",
       "    </tr>\n",
       "    <tr>\n",
       "      <th>86</th>\n",
       "      <td>341</td>\n",
       "      <td>Derrick Rose</td>\n",
       "      <td>PG</td>\n",
       "      <td>34</td>\n",
       "      <td>NYK</td>\n",
       "      <td>5</td>\n",
       "      <td>0</td>\n",
       "      <td>12.8</td>\n",
       "      <td>3.4</td>\n",
       "      <td>6.6</td>\n",
       "      <td>...</td>\n",
       "      <td>0.6</td>\n",
       "      <td>8.8</td>\n",
       "      <td>2010</td>\n",
       "      <td>PG</td>\n",
       "      <td>6-3</td>\n",
       "      <td>190</td>\n",
       "      <td>Chicago Bulls</td>\n",
       "      <td>Eastern All-Star Fan Vote Selection</td>\n",
       "      <td>2008 Rnd 1 Pick 1</td>\n",
       "      <td>United States</td>\n",
       "    </tr>\n",
       "    <tr>\n",
       "      <th>87</th>\n",
       "      <td>341</td>\n",
       "      <td>Derrick Rose</td>\n",
       "      <td>PG</td>\n",
       "      <td>34</td>\n",
       "      <td>NYK</td>\n",
       "      <td>5</td>\n",
       "      <td>0</td>\n",
       "      <td>12.8</td>\n",
       "      <td>3.4</td>\n",
       "      <td>6.6</td>\n",
       "      <td>...</td>\n",
       "      <td>0.6</td>\n",
       "      <td>8.8</td>\n",
       "      <td>2009</td>\n",
       "      <td>PG</td>\n",
       "      <td>6-3</td>\n",
       "      <td>190</td>\n",
       "      <td>Chicago Bulls</td>\n",
       "      <td>Eastern All-Star Coaches Selection</td>\n",
       "      <td>2008 Rnd 1 Pick 1</td>\n",
       "      <td>United States</td>\n",
       "    </tr>\n",
       "    <tr>\n",
       "      <th>91</th>\n",
       "      <td>403</td>\n",
       "      <td>John Wall</td>\n",
       "      <td>PG</td>\n",
       "      <td>32</td>\n",
       "      <td>LAC</td>\n",
       "      <td>4</td>\n",
       "      <td>0</td>\n",
       "      <td>21.5</td>\n",
       "      <td>6.0</td>\n",
       "      <td>12.0</td>\n",
       "      <td>...</td>\n",
       "      <td>1.8</td>\n",
       "      <td>15.3</td>\n",
       "      <td>2016</td>\n",
       "      <td>PG</td>\n",
       "      <td>6-4</td>\n",
       "      <td>210</td>\n",
       "      <td>Washington Wizards</td>\n",
       "      <td>Eastern All-Star Coaches Selection</td>\n",
       "      <td>2010 Rnd 1 Pick 1</td>\n",
       "      <td>United States</td>\n",
       "    </tr>\n",
       "    <tr>\n",
       "      <th>92</th>\n",
       "      <td>403</td>\n",
       "      <td>John Wall</td>\n",
       "      <td>PG</td>\n",
       "      <td>32</td>\n",
       "      <td>LAC</td>\n",
       "      <td>4</td>\n",
       "      <td>0</td>\n",
       "      <td>21.5</td>\n",
       "      <td>6.0</td>\n",
       "      <td>12.0</td>\n",
       "      <td>...</td>\n",
       "      <td>1.8</td>\n",
       "      <td>15.3</td>\n",
       "      <td>2015</td>\n",
       "      <td>PG</td>\n",
       "      <td>6-4</td>\n",
       "      <td>210</td>\n",
       "      <td>Washington Wizards</td>\n",
       "      <td>Eastern All-Star Coaches Selection</td>\n",
       "      <td>2010 Rnd 1 Pick 1</td>\n",
       "      <td>United States</td>\n",
       "    </tr>\n",
       "    <tr>\n",
       "      <th>93</th>\n",
       "      <td>403</td>\n",
       "      <td>John Wall</td>\n",
       "      <td>PG</td>\n",
       "      <td>32</td>\n",
       "      <td>LAC</td>\n",
       "      <td>4</td>\n",
       "      <td>0</td>\n",
       "      <td>21.5</td>\n",
       "      <td>6.0</td>\n",
       "      <td>12.0</td>\n",
       "      <td>...</td>\n",
       "      <td>1.8</td>\n",
       "      <td>15.3</td>\n",
       "      <td>2014</td>\n",
       "      <td>PG</td>\n",
       "      <td>6-4</td>\n",
       "      <td>210</td>\n",
       "      <td>Washington Wizards</td>\n",
       "      <td>Eastern All-Star Fan Vote Selection</td>\n",
       "      <td>2010 Rnd 1 Pick 1</td>\n",
       "      <td>United States</td>\n",
       "    </tr>\n",
       "    <tr>\n",
       "      <th>94</th>\n",
       "      <td>403</td>\n",
       "      <td>John Wall</td>\n",
       "      <td>PG</td>\n",
       "      <td>32</td>\n",
       "      <td>LAC</td>\n",
       "      <td>4</td>\n",
       "      <td>0</td>\n",
       "      <td>21.5</td>\n",
       "      <td>6.0</td>\n",
       "      <td>12.0</td>\n",
       "      <td>...</td>\n",
       "      <td>1.8</td>\n",
       "      <td>15.3</td>\n",
       "      <td>2013</td>\n",
       "      <td>PG</td>\n",
       "      <td>6-4</td>\n",
       "      <td>210</td>\n",
       "      <td>Washington Wizards</td>\n",
       "      <td>Eastern All-Star Coaches Selection</td>\n",
       "      <td>2010 Rnd 1 Pick 1</td>\n",
       "      <td>United States</td>\n",
       "    </tr>\n",
       "    <tr>\n",
       "      <th>95</th>\n",
       "      <td>410</td>\n",
       "      <td>Russell Westbrook</td>\n",
       "      <td>PG</td>\n",
       "      <td>34</td>\n",
       "      <td>LAL</td>\n",
       "      <td>4</td>\n",
       "      <td>3</td>\n",
       "      <td>29.5</td>\n",
       "      <td>4.3</td>\n",
       "      <td>13.8</td>\n",
       "      <td>...</td>\n",
       "      <td>2.3</td>\n",
       "      <td>12.3</td>\n",
       "      <td>2016</td>\n",
       "      <td>G</td>\n",
       "      <td>6-3</td>\n",
       "      <td>200</td>\n",
       "      <td>Oklahoma City Thunder</td>\n",
       "      <td>Western All-Star Coaches Selection</td>\n",
       "      <td>2008 Rnd 1 Pick 4</td>\n",
       "      <td>United States</td>\n",
       "    </tr>\n",
       "    <tr>\n",
       "      <th>96</th>\n",
       "      <td>410</td>\n",
       "      <td>Russell Westbrook</td>\n",
       "      <td>PG</td>\n",
       "      <td>34</td>\n",
       "      <td>LAL</td>\n",
       "      <td>4</td>\n",
       "      <td>3</td>\n",
       "      <td>29.5</td>\n",
       "      <td>4.3</td>\n",
       "      <td>13.8</td>\n",
       "      <td>...</td>\n",
       "      <td>2.3</td>\n",
       "      <td>12.3</td>\n",
       "      <td>2015</td>\n",
       "      <td>G</td>\n",
       "      <td>6-3</td>\n",
       "      <td>200</td>\n",
       "      <td>Oklahoma City Thunder</td>\n",
       "      <td>Western All-Star Fan Vote Selection</td>\n",
       "      <td>2008 Rnd 1 Pick 4</td>\n",
       "      <td>United States</td>\n",
       "    </tr>\n",
       "    <tr>\n",
       "      <th>97</th>\n",
       "      <td>410</td>\n",
       "      <td>Russell Westbrook</td>\n",
       "      <td>PG</td>\n",
       "      <td>34</td>\n",
       "      <td>LAL</td>\n",
       "      <td>4</td>\n",
       "      <td>3</td>\n",
       "      <td>29.5</td>\n",
       "      <td>4.3</td>\n",
       "      <td>13.8</td>\n",
       "      <td>...</td>\n",
       "      <td>2.3</td>\n",
       "      <td>12.3</td>\n",
       "      <td>2014</td>\n",
       "      <td>G</td>\n",
       "      <td>6-3</td>\n",
       "      <td>200</td>\n",
       "      <td>Oklahoma City Thunder</td>\n",
       "      <td>Western All-Star Coaches Selection</td>\n",
       "      <td>2008 Rnd 1 Pick 4</td>\n",
       "      <td>United States</td>\n",
       "    </tr>\n",
       "    <tr>\n",
       "      <th>98</th>\n",
       "      <td>410</td>\n",
       "      <td>Russell Westbrook</td>\n",
       "      <td>PG</td>\n",
       "      <td>34</td>\n",
       "      <td>LAL</td>\n",
       "      <td>4</td>\n",
       "      <td>3</td>\n",
       "      <td>29.5</td>\n",
       "      <td>4.3</td>\n",
       "      <td>13.8</td>\n",
       "      <td>...</td>\n",
       "      <td>2.3</td>\n",
       "      <td>12.3</td>\n",
       "      <td>2012</td>\n",
       "      <td>G</td>\n",
       "      <td>6-3</td>\n",
       "      <td>200</td>\n",
       "      <td>Oklahoma City Thunder</td>\n",
       "      <td>Western All-Star Coaches Selection</td>\n",
       "      <td>2008 Rnd 1 Pick 4</td>\n",
       "      <td>United States</td>\n",
       "    </tr>\n",
       "    <tr>\n",
       "      <th>99</th>\n",
       "      <td>410</td>\n",
       "      <td>Russell Westbrook</td>\n",
       "      <td>PG</td>\n",
       "      <td>34</td>\n",
       "      <td>LAL</td>\n",
       "      <td>4</td>\n",
       "      <td>3</td>\n",
       "      <td>29.5</td>\n",
       "      <td>4.3</td>\n",
       "      <td>13.8</td>\n",
       "      <td>...</td>\n",
       "      <td>2.3</td>\n",
       "      <td>12.3</td>\n",
       "      <td>2011</td>\n",
       "      <td>G</td>\n",
       "      <td>6-3</td>\n",
       "      <td>200</td>\n",
       "      <td>Oklahoma City Thunder</td>\n",
       "      <td>Western All-Star Coaches Selection</td>\n",
       "      <td>2008 Rnd 1 Pick 4</td>\n",
       "      <td>United States</td>\n",
       "    </tr>\n",
       "    <tr>\n",
       "      <th>100</th>\n",
       "      <td>410</td>\n",
       "      <td>Russell Westbrook</td>\n",
       "      <td>PG</td>\n",
       "      <td>34</td>\n",
       "      <td>LAL</td>\n",
       "      <td>4</td>\n",
       "      <td>3</td>\n",
       "      <td>29.5</td>\n",
       "      <td>4.3</td>\n",
       "      <td>13.8</td>\n",
       "      <td>...</td>\n",
       "      <td>2.3</td>\n",
       "      <td>12.3</td>\n",
       "      <td>2010</td>\n",
       "      <td>G</td>\n",
       "      <td>6-3</td>\n",
       "      <td>200</td>\n",
       "      <td>Oklahoma City Thunder</td>\n",
       "      <td>Western All-Star Coaches Selection</td>\n",
       "      <td>2008 Rnd 1 Pick 4</td>\n",
       "      <td>United States</td>\n",
       "    </tr>\n",
       "  </tbody>\n",
       "</table>\n",
       "<p>36 rows × 38 columns</p>\n",
       "</div>"
      ],
      "text/plain": [
       "      Rk             Player Pos_x  Age   Tm  G  GS    MP    FG   FGA  ...  \\\n",
       "4     82      Stephen Curry    PG   34  GSW  5   5  33.4  10.2  21.0  ...   \n",
       "5     82      Stephen Curry    PG   34  GSW  5   5  33.4  10.2  21.0  ...   \n",
       "6     82      Stephen Curry    PG   34  GSW  5   5  33.4  10.2  21.0  ...   \n",
       "7     82      Stephen Curry    PG   34  GSW  5   5  33.4  10.2  21.0  ...   \n",
       "41   169       Jrue Holiday    PG   32  MIL  4   4  34.0   5.3  16.8  ...   \n",
       "46   182       Kyrie Irving    PG   30  BRK  5   5  39.0  10.8  23.8  ...   \n",
       "47   182       Kyrie Irving    PG   30  BRK  5   5  39.0  10.8  23.8  ...   \n",
       "48   182       Kyrie Irving    PG   30  BRK  5   5  39.0  10.8  23.8  ...   \n",
       "49   182       Kyrie Irving    PG   30  BRK  5   5  39.0  10.8  23.8  ...   \n",
       "66   228     Damian Lillard    PG   32  POR  5   5  35.0   9.6  19.4  ...   \n",
       "67   228     Damian Lillard    PG   32  POR  5   5  35.0   9.6  19.4  ...   \n",
       "73   236         Kyle Lowry    PG   36  MIA  6   6  33.5   3.3   9.5  ...   \n",
       "74   236         Kyle Lowry    PG   36  MIA  6   6  33.5   3.3   9.5  ...   \n",
       "75   236         Kyle Lowry    PG   36  MIA  6   6  33.5   3.3   9.5  ...   \n",
       "76   306         Chris Paul    PG   37  PHO  5   5  33.0   3.0   9.0  ...   \n",
       "77   306         Chris Paul    PG   37  PHO  5   5  33.0   3.0   9.0  ...   \n",
       "78   306         Chris Paul    PG   37  PHO  5   5  33.0   3.0   9.0  ...   \n",
       "79   306         Chris Paul    PG   37  PHO  5   5  33.0   3.0   9.0  ...   \n",
       "80   306         Chris Paul    PG   37  PHO  5   5  33.0   3.0   9.0  ...   \n",
       "81   306         Chris Paul    PG   37  PHO  5   5  33.0   3.0   9.0  ...   \n",
       "82   306         Chris Paul    PG   37  PHO  5   5  33.0   3.0   9.0  ...   \n",
       "83   306         Chris Paul    PG   37  PHO  5   5  33.0   3.0   9.0  ...   \n",
       "84   306         Chris Paul    PG   37  PHO  5   5  33.0   3.0   9.0  ...   \n",
       "85   341       Derrick Rose    PG   34  NYK  5   0  12.8   3.4   6.6  ...   \n",
       "86   341       Derrick Rose    PG   34  NYK  5   0  12.8   3.4   6.6  ...   \n",
       "87   341       Derrick Rose    PG   34  NYK  5   0  12.8   3.4   6.6  ...   \n",
       "91   403          John Wall    PG   32  LAC  4   0  21.5   6.0  12.0  ...   \n",
       "92   403          John Wall    PG   32  LAC  4   0  21.5   6.0  12.0  ...   \n",
       "93   403          John Wall    PG   32  LAC  4   0  21.5   6.0  12.0  ...   \n",
       "94   403          John Wall    PG   32  LAC  4   0  21.5   6.0  12.0  ...   \n",
       "95   410  Russell Westbrook    PG   34  LAL  4   3  29.5   4.3  13.8  ...   \n",
       "96   410  Russell Westbrook    PG   34  LAL  4   3  29.5   4.3  13.8  ...   \n",
       "97   410  Russell Westbrook    PG   34  LAL  4   3  29.5   4.3  13.8  ...   \n",
       "98   410  Russell Westbrook    PG   34  LAL  4   3  29.5   4.3  13.8  ...   \n",
       "99   410  Russell Westbrook    PG   34  LAL  4   3  29.5   4.3  13.8  ...   \n",
       "100  410  Russell Westbrook    PG   34  LAL  4   3  29.5   4.3  13.8  ...   \n",
       "\n",
       "      PF   PTS  Year  Pos_y   HT   WT                    Team  \\\n",
       "4    1.4  30.8  2016      G  6-3  190   Golden State Warriors   \n",
       "5    1.4  30.8  2015      G  6-3  190   Golden State Warriors   \n",
       "6    1.4  30.8  2014      G  6-3  190   Golden State Warriors   \n",
       "7    1.4  30.8  2013      G  6-3  190   Golden State Warriors   \n",
       "41   2.5  14.0  2012      G  6-4  205     Philadelphia Sixers   \n",
       "46   3.4  29.6  2016      G  6-3  193     Cleveland Cavaliers   \n",
       "47   3.4  29.6  2014      G  6-3  193     Cleveland Cavaliers   \n",
       "48   3.4  29.6  2013      G  6-3  193     Cleveland Cavaliers   \n",
       "49   3.4  29.6  2012      G  6-3  193     Cleveland Cavaliers   \n",
       "66   1.4  31.0  2014      G  6-3  195  Portland Trail Blazers   \n",
       "67   1.4  31.0  2013      G  6-3  195  Portland Trail Blazers   \n",
       "73   3.2  12.0  2016     PG  6-0  205         Toronto Raptors   \n",
       "74   3.2  12.0  2015     PG  6-0  205         Toronto Raptors   \n",
       "75   3.2  12.0  2014     PG  6-0  205         Toronto Raptors   \n",
       "76   3.0   9.2  2015     PG  6-0  175    Los Angeles Clippers   \n",
       "77   3.0   9.2  2014     PG  6-0  175    Los Angeles Clippers   \n",
       "78   3.0   9.2  2013     PG  6-0  175    Los Angeles Clippers   \n",
       "79   3.0   9.2  2012     PG  6-0  175    Los Angeles Clippers   \n",
       "80   3.0   9.2  2011     PG  6-0  175    Los Angeles Clippers   \n",
       "81   3.0   9.2  2010     PG  6-0  175     New Orleans Hornets   \n",
       "82   3.0   9.2  2009     PG  6-0  175     New Orleans Hornets   \n",
       "83   3.0   9.2  2008     PG  6-0  175     New Orleans Hornets   \n",
       "84   3.0   9.2  2007     PG  6-0  175     New Orleans Hornets   \n",
       "85   0.6   8.8  2011     PG  6-3  190           Chicago Bulls   \n",
       "86   0.6   8.8  2010     PG  6-3  190           Chicago Bulls   \n",
       "87   0.6   8.8  2009     PG  6-3  190           Chicago Bulls   \n",
       "91   1.8  15.3  2016     PG  6-4  210      Washington Wizards   \n",
       "92   1.8  15.3  2015     PG  6-4  210      Washington Wizards   \n",
       "93   1.8  15.3  2014     PG  6-4  210      Washington Wizards   \n",
       "94   1.8  15.3  2013     PG  6-4  210      Washington Wizards   \n",
       "95   2.3  12.3  2016      G  6-3  200   Oklahoma City Thunder   \n",
       "96   2.3  12.3  2015      G  6-3  200   Oklahoma City Thunder   \n",
       "97   2.3  12.3  2014      G  6-3  200   Oklahoma City Thunder   \n",
       "98   2.3  12.3  2012      G  6-3  200   Oklahoma City Thunder   \n",
       "99   2.3  12.3  2011      G  6-3  200   Oklahoma City Thunder   \n",
       "100  2.3  12.3  2010      G  6-3  200   Oklahoma City Thunder   \n",
       "\n",
       "                             Selection Type    NBA Draft Status  \\\n",
       "4       Western All-Star Fan Vote Selection   2009 Rnd 1 Pick 7   \n",
       "5       Western All-Star Fan Vote Selection   2009 Rnd 1 Pick 7   \n",
       "6       Western All-Star Fan Vote Selection   2009 Rnd 1 Pick 7   \n",
       "7       Western All-Star Fan Vote Selection   2009 Rnd 1 Pick 7   \n",
       "41       Eastern All-Star Coaches Selection  2009 Rnd 1 Pick 17   \n",
       "46      Eastern All-Star Fan Vote Selection   2011 Rnd 1 Pick 1   \n",
       "47       Eastern All-Star Coaches Selection   2011 Rnd 1 Pick 1   \n",
       "48      Eastern All-Star Fan Vote Selection   2011 Rnd 1 Pick 1   \n",
       "49       Eastern All-Star Coaches Selection   2011 Rnd 1 Pick 1   \n",
       "66   Western All-Star Replacement Selection   2012 Rnd 1 Pick 6   \n",
       "67       Western All-Star Coaches Selection   2012 Rnd 1 Pick 6   \n",
       "73       Eastern All-Star Coaches Selection  2006 Rnd 1 Pick 24   \n",
       "74      Eastern All-Star Fan Vote Selection  2006 Rnd 1 Pick 24   \n",
       "75      Eastern All-Star Fan Vote Selection  2006 Rnd 1 Pick 24   \n",
       "76       Western All-Star Coaches Selection   2005 Rnd 1 Pick 4   \n",
       "77       Western All-Star Coaches Selection   2005 Rnd 1 Pick 4   \n",
       "78       Western All-Star Coaches Selection   2005 Rnd 1 Pick 4   \n",
       "79      Western All-Star Fan Vote Selection   2005 Rnd 1 Pick 4   \n",
       "80      Western All-Star Fan Vote Selection   2005 Rnd 1 Pick 4   \n",
       "81      Western All-Star Fan Vote Selection   2005 Rnd 1 Pick 4   \n",
       "82       Western All-Star Coaches Selection   2005 Rnd 1 Pick 4   \n",
       "83      Western All-Star Fan Vote Selection   2005 Rnd 1 Pick 4   \n",
       "84       Western All-Star Coaches Selection   2005 Rnd 1 Pick 4   \n",
       "85      Eastern All-Star Fan Vote Selection   2008 Rnd 1 Pick 1   \n",
       "86      Eastern All-Star Fan Vote Selection   2008 Rnd 1 Pick 1   \n",
       "87       Eastern All-Star Coaches Selection   2008 Rnd 1 Pick 1   \n",
       "91       Eastern All-Star Coaches Selection   2010 Rnd 1 Pick 1   \n",
       "92       Eastern All-Star Coaches Selection   2010 Rnd 1 Pick 1   \n",
       "93      Eastern All-Star Fan Vote Selection   2010 Rnd 1 Pick 1   \n",
       "94       Eastern All-Star Coaches Selection   2010 Rnd 1 Pick 1   \n",
       "95       Western All-Star Coaches Selection   2008 Rnd 1 Pick 4   \n",
       "96      Western All-Star Fan Vote Selection   2008 Rnd 1 Pick 4   \n",
       "97       Western All-Star Coaches Selection   2008 Rnd 1 Pick 4   \n",
       "98       Western All-Star Coaches Selection   2008 Rnd 1 Pick 4   \n",
       "99       Western All-Star Coaches Selection   2008 Rnd 1 Pick 4   \n",
       "100      Western All-Star Coaches Selection   2008 Rnd 1 Pick 4   \n",
       "\n",
       "                  Nationality  \n",
       "4               United States  \n",
       "5               United States  \n",
       "6               United States  \n",
       "7               United States  \n",
       "41              United States  \n",
       "46   United States\\nAustralia  \n",
       "47   United States\\nAustralia  \n",
       "48   United States\\nAustralia  \n",
       "49   United States\\nAustralia  \n",
       "66              United States  \n",
       "67              United States  \n",
       "73              United States  \n",
       "74              United States  \n",
       "75              United States  \n",
       "76              United States  \n",
       "77              United States  \n",
       "78              United States  \n",
       "79              United States  \n",
       "80              United States  \n",
       "81              United States  \n",
       "82              United States  \n",
       "83              United States  \n",
       "84              United States  \n",
       "85              United States  \n",
       "86              United States  \n",
       "87              United States  \n",
       "91              United States  \n",
       "92              United States  \n",
       "93              United States  \n",
       "94              United States  \n",
       "95              United States  \n",
       "96              United States  \n",
       "97              United States  \n",
       "98              United States  \n",
       "99              United States  \n",
       "100             United States  \n",
       "\n",
       "[36 rows x 38 columns]"
      ]
     },
     "execution_count": 81,
     "metadata": {},
     "output_type": "execute_result"
    }
   ],
   "source": [
    "result = pd.merge(df, df1, how= \"inner\", on=\"Player\")\n",
    "Centers = result[result[\"Pos_x\"]== \"C\"]\n",
    "PG = result[result[\"Pos_x\"]== \"PG\"]\n",
    "PG"
   ]
  },
  {
   "cell_type": "code",
   "execution_count": 50,
   "id": "260f43d7",
   "metadata": {},
   "outputs": [
    {
     "data": {
      "application/vnd.plotly.v1+json": {
       "config": {
        "plotlyServerURL": "https://plot.ly"
       },
       "data": [
        {
         "coloraxis": "coloraxis",
         "hovertemplate": "x: %{x}<br>y: %{y}<br>color: %{z}<extra></extra>",
         "name": "0",
         "texttemplate": "%{z}",
         "type": "heatmap",
         "x": [
          "Rk",
          "Age",
          "G",
          "GS",
          "MP",
          "FG",
          "FGA",
          "FG%",
          "3P",
          "3PA",
          "3P%",
          "2P",
          "2PA",
          "2P%",
          "eFG%",
          "FT",
          "FTA",
          "FT%",
          "ORB",
          "DRB",
          "TRB",
          "AST",
          "STL",
          "BLK",
          "TOV",
          "PF",
          "PTS",
          "Year",
          "WT"
         ],
         "xaxis": "x",
         "y": [
          "Rk",
          "Age",
          "G",
          "GS",
          "MP",
          "FG",
          "FGA",
          "FG%",
          "3P",
          "3PA",
          "3P%",
          "2P",
          "2PA",
          "2P%",
          "eFG%",
          "FT",
          "FTA",
          "FT%",
          "ORB",
          "DRB",
          "TRB",
          "AST",
          "STL",
          "BLK",
          "TOV",
          "PF",
          "PTS",
          "Year",
          "WT"
         ],
         "yaxis": "y",
         "z": [
          [
           1,
           0.8547098338894082,
           -0.0599585213624459,
           -0.08650897731240471,
           -0.36861627205801134,
           -0.8237890785235639,
           -0.7459096876094109,
           -0.04298331007757537,
           0.648183002300838,
           0.5208210319849081,
           0.6650557070063123,
           -0.8578646745376137,
           -0.8585681635314142,
           0.4324543872751595,
           0.4405746545308625,
           -0.7976175624021181,
           -0.7894674533054381,
           -0.5003397388604388,
           -0.5076786730521675,
           -0.8683184450787488,
           -0.8202935173738785,
           -0.2773506979408228,
           -0.8375153983255316,
           -0.15221396629160425,
           -0.8053852431579641,
           -0.1887677176792226,
           -0.7987692886622086,
           -0.3552910445490248,
           0.010110151042815011
          ],
          [
           0.8547098338894082,
           1,
           -0.2448744188702032,
           0.13933280001515588,
           -0.1508119783738132,
           -0.8234233037311581,
           -0.7879614733693606,
           -0.07672449190106712,
           0.8647623472236019,
           0.5855623856958907,
           0.650077651433741,
           -0.9126306666660107,
           -0.9193419276727182,
           0.6105709212693207,
           0.6228283612873827,
           -0.9075309761280356,
           -0.9177573649781681,
           -0.8636189008387839,
           -0.7692005295063128,
           -0.987362152572662,
           -0.9923744757807453,
           0.06774659110929905,
           -0.9094565839674722,
           -0.4728254477649223,
           -0.8648173455569901,
           -0.18884383150159614,
           -0.7983094733523662,
           -0.48874426687240996,
           -0.4247364372608318
          ],
          [
           -0.0599585213624459,
           -0.2448744188702032,
           1,
           -0.9383148632568363,
           -0.849660975489865,
           -0.34334240102819175,
           -0.3956787222999329,
           0.43610470285186637,
           -0.5375387812483576,
           -0.7053287168644294,
           -0.021841819557630655,
           -0.15215768273877814,
           -0.14704472271648963,
           0.036136293747080786,
           0.10724734373312543,
           -0.15903572265455568,
           -0.08244666718348391,
           0.15917552216799277,
           0.6895275567256286,
           0.08812447602189055,
           0.2814502169642992,
           -0.8671014825644455,
           -0.1799571640847436,
           -0.3775687670336212,
           0.5717172299806832,
           -0.04347826086956529,
           -0.38634093333503494,
           0.3545478451363593,
           0.8024923169014988
          ],
          [
           -0.08650897731240471,
           0.13933280001515588,
           -0.9383148632568363,
           1,
           0.9549240674752612,
           0.40601399428131346,
           0.4799047900833735,
           -0.6773020393675385,
           0.5562934879824886,
           0.7555182774526193,
           -0.28746839603016044,
           0.2001130565521766,
           0.20805951353252283,
           -0.2888392944799003,
           -0.3407341825213842,
           0.19189942232405094,
           0.08786673899347275,
           -0.11074710125929946,
           -0.49951694573841726,
           0.01022492274389995,
           -0.14737567750115596,
           0.955382428486772,
           0.25383654128340477,
           0.40911715452914804,
           -0.5061894487315173,
           0.36490022459988125,
           0.4496927228381009,
           -0.41307979935472006,
           -0.7525118821790366
          ],
          [
           -0.36861627205801134,
           -0.1508119783738132,
           -0.849660975489865,
           0.9549240674752612,
           1,
           0.6393688918608706,
           0.695238418365869,
           -0.6492973945386242,
           0.3086914947369948,
           0.5636675619243224,
           -0.49367203587824504,
           0.45939276896229836,
           0.4690956325496134,
           -0.45170111904328986,
           -0.5032003828514303,
           0.4410637996101052,
           0.3396766300158716,
           0.10254506024260192,
           -0.27413034020786875,
           0.293825264577093,
           0.13904643138731138,
           0.9522815464488465,
           0.5094212972634189,
           0.4900692739175402,
           -0.23219672242489606,
           0.4294113642571708,
           0.673879797609335,
           -0.2741746344992593,
           -0.6541824969835244
          ],
          [
           -0.8237890785235639,
           -0.8234233037311581,
           -0.34334240102819175,
           0.40601399428131346,
           0.6393688918608706,
           1,
           0.9836164507640638,
           -0.13835650741680963,
           -0.5319102866425651,
           -0.1913844130066758,
           -0.5989045465707243,
           0.9765409053156385,
           0.9777809329128163,
           -0.566107768126937,
           -0.6190067961889147,
           0.9678852270820291,
           0.9364087948904477,
           0.7053126628974767,
           0.31988977129764795,
           0.902097256942871,
           0.7877310752063058,
           0.4548573289503025,
           0.9825166591338068,
           0.6199849076656855,
           0.5290237035557962,
           0.1716712005140959,
           0.9985171100689663,
           0.27692671464641766,
           -0.09642624679950948
          ],
          [
           -0.7459096876094109,
           -0.7879614733693606,
           -0.3956787222999329,
           0.4799047900833735,
           0.695238418365869,
           0.9836164507640638,
           1,
           -0.2881906439405958,
           -0.4467024758012224,
           -0.051392094454051795,
           -0.6584586866362274,
           0.941090323427015,
           0.9486296049230467,
           -0.6757342514914914,
           -0.7287392888422629,
           0.945460724870545,
           0.8984728831736407,
           0.7408131209873735,
           0.3307956645264149,
           0.874218901539816,
           0.7698461648607795,
           0.4854432028712707,
           0.9673215261662769,
           0.735161614882158,
           0.4241102292613535,
           0.2951226066213138,
           0.9898594586948267,
           0.20608672816571297,
           -0.06670956574107142
          ],
          [
           -0.04298331007757537,
           -0.07672449190106712,
           0.43610470285186637,
           -0.6773020393675385,
           -0.6492973945386242,
           -0.13835650741680963,
           -0.2881906439405958,
           1,
           -0.5304598622925099,
           -0.7809424379935919,
           0.644705537943297,
           0.01849318029740995,
           -0.018961105616960194,
           0.7101561458431769,
           0.7036748432180365,
           0.005573441768209843,
           0.12550338753204843,
           -0.06255947385415346,
           -0.04245424342455296,
           0.007541630794292742,
           -0.007433938203609647,
           -0.5716555677721329,
           -0.0928213786863177,
           -0.4842843241082486,
           0.45277972238947345,
           -0.8977054242705947,
           -0.17892809924953276,
           0.4642358185798788,
           0.16665345945424231
          ],
          [
           0.648183002300838,
           0.8647623472236019,
           -0.5375387812483576,
           0.5562934879824886,
           0.3086914947369948,
           -0.5319102866425651,
           -0.4467024758012224,
           -0.5304598622925099,
           1,
           0.8739767590489315,
           0.23603917894858334,
           -0.7017754243026604,
           -0.6937200260814094,
           0.21632936356860755,
           0.22018740974215403,
           -0.7044961797336156,
           -0.775353206160698,
           -0.7427423404566299,
           -0.7231113916513834,
           -0.8005825936175741,
           -0.8355323770090507,
           0.4767285243460057,
           -0.6543767521051628,
           -0.19162000765702752,
           -0.9363436313174687,
           0.22633211842036152,
           -0.49052242931832607,
           -0.641284471808725,
           -0.598436142744695
          ],
          [
           0.5208210319849081,
           0.5855623856958907,
           -0.7053287168644294,
           0.7555182774526193,
           0.5636675619243224,
           -0.1913844130066758,
           -0.051392094454051795,
           -0.7809424379935919,
           0.8739767590489315,
           1,
           -0.040867872254926864,
           -0.3832508139944624,
           -0.3646851306457088,
           -0.18746139653186888,
           -0.20701130354259611,
           -0.35161353836654297,
           -0.45042587158656705,
           -0.32861561644636283,
           -0.5371138563006023,
           -0.48630937253373474,
           -0.5379414339203014,
           0.5897054154357964,
           -0.2999674731667786,
           0.3069293818649272,
           -0.8959537842193106,
           0.44718622899168103,
           -0.13843650144240296,
           -0.6059989098403471,
           -0.4738791195556657
          ],
          [
           0.6650557070063123,
           0.650077651433741,
           -0.021841819557630655,
           -0.28746839603016044,
           -0.49367203587824504,
           -0.5989045465707243,
           -0.6584586866362274,
           0.644705537943297,
           0.23603917894858334,
           -0.040867872254926864,
           1,
           -0.5638697764468368,
           -0.5975004048840301,
           0.911199719188838,
           0.8917692596288623,
           -0.5410784429219218,
           -0.4644366829111163,
           -0.5314311543983564,
           -0.6542332581033141,
           -0.6643121210351207,
           -0.7101522644874109,
           -0.33348838254761637,
           -0.6350660260792454,
           -0.458475904475814,
           -0.3877213243062811,
           -0.849392312991134,
           -0.6013129054408565,
           -0.009496143635369056,
           -0.18545377203251998
          ],
          [
           -0.8578646745376137,
           -0.9126306666660107,
           -0.15215768273877814,
           0.2001130565521766,
           0.45939276896229836,
           0.9765409053156385,
           0.941090323427015,
           0.01849318029740995,
           -0.7017754243026604,
           -0.3832508139944624,
           -0.5638697764468368,
           1,
           0.998994815035785,
           -0.53126644915716,
           -0.5767505101383701,
           0.9934099910169841,
           0.9849475851076349,
           0.7822379775744541,
           0.4529966851675886,
           0.9624974559073578,
           0.8751705799953543,
           0.26143656022282885,
           0.9929743407327801,
           0.5703090060315383,
           0.6831598891665341,
           0.08687016638632371,
           0.9647689061145874,
           0.3960449636175461,
           0.07105396596060354
          ],
          [
           -0.8585681635314142,
           -0.9193419276727182,
           -0.14704472271648963,
           0.20805951353252283,
           0.4690956325496134,
           0.9777809329128163,
           0.9486296049230467,
           -0.018961105616960194,
           -0.6937200260814094,
           -0.3646851306457088,
           -0.5975004048840301,
           0.998994815035785,
           1,
           -0.5684250207697941,
           -0.6119963176650489,
           0.9933819927555643,
           0.9811426628392158,
           0.7953172072349378,
           0.4763405474224951,
           0.9685567808645272,
           0.8870461258037279,
           0.2650408928385965,
           0.9968474002158378,
           0.589418384293703,
           0.6781503804194751,
           0.129837361547539,
           0.9668720959114948,
           0.38485068685810503,
           0.08751654778458791
          ],
          [
           0.4324543872751595,
           0.6105709212693207,
           0.036136293747080786,
           -0.2888392944799003,
           -0.45170111904328986,
           -0.566107768126937,
           -0.6757342514914914,
           0.7101561458431769,
           0.21632936356860755,
           -0.18746139653186888,
           0.911199719188838,
           -0.53126644915716,
           -0.5684250207697941,
           1,
           0.9955502149108573,
           -0.5566816447972406,
           -0.479670034393448,
           -0.7071440997954482,
           -0.6586911500106263,
           -0.6332002706809237,
           -0.6877968895475266,
           -0.21287724680773004,
           -0.6229094518589023,
           -0.7439884790334,
           -0.23027666011053072,
           -0.8401688296196369,
           -0.5794175693305754,
           0.002497263023934698,
           -0.35377994865807705
          ],
          [
           0.4405746545308625,
           0.6228283612873827,
           0.10724734373312543,
           -0.3407341825213842,
           -0.5032003828514303,
           -0.6190067961889147,
           -0.7287392888422629,
           0.7036748432180365,
           0.22018740974215403,
           -0.20701130354259611,
           0.8917692596288623,
           -0.5767505101383701,
           -0.6119963176650489,
           0.9955502149108573,
           1,
           -0.6058154443978194,
           -0.5278391909812026,
           -0.7328433646695778,
           -0.6167160638195451,
           -0.6574170005815656,
           -0.6932359254190875,
           -0.25611730620233236,
           -0.6668801379070805,
           -0.7952578262282246,
           -0.21586831104474366,
           -0.8040849335557924,
           -0.6344010823074621,
           -0.003136360664304789,
           -0.31237682238884346
          ],
          [
           -0.7976175624021181,
           -0.9075309761280356,
           -0.15903572265455568,
           0.19189942232405094,
           0.4410637996101052,
           0.9678852270820291,
           0.945460724870545,
           0.005573441768209843,
           -0.7044961797336156,
           -0.35161353836654297,
           -0.5410784429219218,
           0.9934099910169841,
           0.9933819927555643,
           -0.5566816447972406,
           -0.6058154443978194,
           1,
           0.9922325942180917,
           0.8350089559427457,
           0.46225435577250434,
           0.9583823540558166,
           0.8749064560696452,
           0.22061161823659395,
           0.9916211884252761,
           0.6471487843532989,
           0.6480986769491598,
           0.0833408354295508,
           0.9586341893847874,
           0.39798100273147996,
           0.12527208555767144
          ],
          [
           -0.7894674533054381,
           -0.9177573649781681,
           -0.08244666718348391,
           0.08786673899347275,
           0.3396766300158716,
           0.9364087948904477,
           0.8984728831736407,
           0.12550338753204843,
           -0.775353206160698,
           -0.45042587158656705,
           -0.4644366829111163,
           0.9849475851076349,
           0.9811426628392158,
           -0.479670034393448,
           -0.5278391909812026,
           0.9922325942180917,
           1,
           0.8381193630501039,
           0.477186645141352,
           0.9563698350529936,
           0.8780095856945328,
           0.12429288794356418,
           0.971097487308738,
           0.5935655496439892,
           0.70501119252855,
           -0.01724948001356628,
           0.9219499878076921,
           0.45758789946453715,
           0.17604765965426702
          ],
          [
           -0.5003397388604388,
           -0.8636189008387839,
           0.15917552216799277,
           -0.11074710125929946,
           0.10254506024260192,
           0.7053126628974767,
           0.7408131209873735,
           -0.06255947385415346,
           -0.7427423404566299,
           -0.32861561644636283,
           -0.5314311543983564,
           0.7822379775744541,
           0.7953172072349378,
           -0.7071440997954482,
           -0.7328433646695778,
           0.8350089559427457,
           0.8381193630501039,
           1,
           0.7307053581237372,
           0.8612538356531267,
           0.884187358343237,
           -0.1942956826054903,
           0.8103084779819263,
           0.7853148259700838,
           0.5874625367738256,
           0.2224694295643425,
           0.6966878995999582,
           0.40895438198692197,
           0.6004979921903983
          ],
          [
           -0.5076786730521675,
           -0.7692005295063128,
           0.6895275567256286,
           -0.49951694573841726,
           -0.27413034020786875,
           0.31988977129764795,
           0.3307956645264149,
           -0.04245424342455296,
           -0.7231113916513834,
           -0.5371138563006023,
           -0.6542332581033141,
           0.4529966851675886,
           0.4763405474224951,
           -0.6586911500106263,
           -0.6167160638195451,
           0.46225435577250434,
           0.477186645141352,
           0.7307053581237372,
           1,
           0.6775598976149761,
           0.8276756298653148,
           -0.4753967773408459,
           0.4794150754440747,
           0.2893624515275833,
           0.7423060557892319,
           0.43379138695270475,
           0.2916272808866146,
           0.38120825194450864,
           0.8242445863541786
          ],
          [
           -0.8683184450787488,
           -0.987362152572662,
           0.08812447602189055,
           0.01022492274389995,
           0.293825264577093,
           0.902097256942871,
           0.874218901539816,
           0.007541630794292742,
           -0.8005825936175741,
           -0.48630937253373474,
           -0.6643121210351207,
           0.9624974559073578,
           0.9685567808645272,
           -0.6332002706809237,
           -0.6574170005815656,
           0.9583823540558166,
           0.9563698350529936,
           0.8612538356531267,
           0.6775598976149761,
           1,
           0.9735492177050725,
           0.07213146811449624,
           0.9637804509868488,
           0.5474915750275932,
           0.7950524021951508,
           0.201122796082216,
           0.8833239937988798,
           0.4441770292647077,
           0.30519659990245634
          ],
          [
           -0.8202935173738785,
           -0.9923744757807453,
           0.2814502169642992,
           -0.14737567750115596,
           0.13904643138731138,
           0.7877310752063058,
           0.7698461648607795,
           -0.007433938203609647,
           -0.8355323770090507,
           -0.5379414339203014,
           -0.7101522644874109,
           0.8751705799953543,
           0.8870461258037279,
           -0.6877968895475266,
           -0.6932359254190875,
           0.8749064560696452,
           0.8780095856945328,
           0.884187358343237,
           0.8276756298653148,
           0.9735492177050725,
           1,
           -0.09264412090869292,
           0.8843566142999777,
           0.5076617464145938,
           0.837275439470704,
           0.28822888307615513,
           0.7646260153732858,
           0.4573588716829791,
           0.4889401797980001
          ],
          [
           -0.2773506979408228,
           0.06774659110929905,
           -0.8671014825644455,
           0.955382428486772,
           0.9522815464488465,
           0.4548573289503025,
           0.4854432028712707,
           -0.5716555677721329,
           0.4767285243460057,
           0.5897054154357964,
           -0.33348838254761637,
           0.26143656022282885,
           0.2650408928385965,
           -0.21287724680773004,
           -0.25611730620233236,
           0.22061161823659395,
           0.12429288794356418,
           -0.1942956826054903,
           -0.4753967773408459,
           0.07213146811449624,
           -0.09264412090869292,
           1,
           0.29491066325225884,
           0.21338171242334047,
           -0.34111389178103835,
           0.32416255425101614,
           0.4880117772609355,
           -0.35769179378045,
           -0.8379968511051552
          ],
          [
           -0.8375153983255316,
           -0.9094565839674722,
           -0.1799571640847436,
           0.25383654128340477,
           0.5094212972634189,
           0.9825166591338068,
           0.9673215261662769,
           -0.0928213786863177,
           -0.6543767521051628,
           -0.2999674731667786,
           -0.6350660260792454,
           0.9929743407327801,
           0.9968474002158378,
           -0.6229094518589023,
           -0.6668801379070805,
           0.9916211884252761,
           0.971097487308738,
           0.8103084779819263,
           0.4794150754440747,
           0.9637804509868488,
           0.8843566142999777,
           0.29491066325225884,
           1,
           0.6413110960780105,
           0.6347375317667988,
           0.19160145117258037,
           0.9751722126778369,
           0.3511414801414172,
           0.08839524558451219
          ],
          [
           -0.15221396629160425,
           -0.4728254477649223,
           -0.3775687670336212,
           0.40911715452914804,
           0.4900692739175402,
           0.6199849076656855,
           0.735161614882158,
           -0.4842843241082486,
           -0.19162000765702752,
           0.3069293818649272,
           -0.458475904475814,
           0.5703090060315383,
           0.589418384293703,
           -0.7439884790334,
           -0.7952578262282246,
           0.6471487843532989,
           0.5935655496439892,
           0.7853148259700838,
           0.2893624515275833,
           0.5474915750275932,
           0.5076617464145938,
           0.21338171242334047,
           0.6413110960780105,
           1,
           -0.007893595017042798,
           0.3838807069080435,
           0.6463428571949907,
           0.04250946432770634,
           0.2258321805205518
          ],
          [
           -0.8053852431579641,
           -0.8648173455569901,
           0.5717172299806832,
           -0.5061894487315173,
           -0.23219672242489606,
           0.5290237035557962,
           0.4241102292613535,
           0.45277972238947345,
           -0.9363436313174687,
           -0.8959537842193106,
           -0.3877213243062811,
           0.6831598891665341,
           0.6781503804194751,
           -0.23027666011053072,
           -0.21586831104474366,
           0.6480986769491598,
           0.70501119252855,
           0.5874625367738256,
           0.7423060557892319,
           0.7950524021951508,
           0.837275439470704,
           -0.34111389178103835,
           0.6347375317667988,
           -0.007893595017042798,
           1,
           -0.0879564969201054,
           0.4832037353497556,
           0.5835254955836402,
           0.47006356039657793
          ],
          [
           -0.1887677176792226,
           -0.18884383150159614,
           -0.04347826086956529,
           0.36490022459988125,
           0.4294113642571708,
           0.1716712005140959,
           0.2951226066213138,
           -0.8977054242705947,
           0.22633211842036152,
           0.44718622899168103,
           -0.849392312991134,
           0.08687016638632371,
           0.129837361547539,
           -0.8401688296196369,
           -0.8040849335557924,
           0.0833408354295508,
           -0.01724948001356628,
           0.2224694295643425,
           0.43379138695270475,
           0.201122796082216,
           0.28822888307615513,
           0.32416255425101614,
           0.19160145117258037,
           0.3838807069080435,
           -0.0879564969201054,
           1,
           0.19245102358868152,
           -0.2884457045177157,
           0.14084303533762663
          ],
          [
           -0.7987692886622086,
           -0.7983094733523662,
           -0.38634093333503494,
           0.4496927228381009,
           0.673879797609335,
           0.9985171100689663,
           0.9898594586948267,
           -0.17892809924953276,
           -0.49052242931832607,
           -0.13843650144240296,
           -0.6013129054408565,
           0.9647689061145874,
           0.9668720959114948,
           -0.5794175693305754,
           -0.6344010823074621,
           0.9586341893847874,
           0.9219499878076921,
           0.6966878995999582,
           0.2916272808866146,
           0.8833239937988798,
           0.7646260153732858,
           0.4880117772609355,
           0.9751722126778369,
           0.6463428571949907,
           0.4832037353497556,
           0.19245102358868152,
           1,
           0.24799536423137417,
           -0.12110607794924878
          ],
          [
           -0.3552910445490248,
           -0.48874426687240996,
           0.3545478451363593,
           -0.41307979935472006,
           -0.2741746344992593,
           0.27692671464641766,
           0.20608672816571297,
           0.4642358185798788,
           -0.641284471808725,
           -0.6059989098403471,
           -0.009496143635369056,
           0.3960449636175461,
           0.38485068685810503,
           0.002497263023934698,
           -0.003136360664304789,
           0.39798100273147996,
           0.45758789946453715,
           0.40895438198692197,
           0.38120825194450864,
           0.4441770292647077,
           0.4573588716829791,
           -0.35769179378045,
           0.3511414801414172,
           0.04250946432770634,
           0.5835254955836402,
           -0.2884457045177157,
           0.24799536423137417,
           1,
           0.3561056781393994
          ],
          [
           0.010110151042815011,
           -0.4247364372608318,
           0.8024923169014988,
           -0.7525118821790366,
           -0.6541824969835244,
           -0.09642624679950948,
           -0.06670956574107142,
           0.16665345945424231,
           -0.598436142744695,
           -0.4738791195556657,
           -0.18545377203251998,
           0.07105396596060354,
           0.08751654778458791,
           -0.35377994865807705,
           -0.31237682238884346,
           0.12527208555767144,
           0.17604765965426702,
           0.6004979921903983,
           0.8242445863541786,
           0.30519659990245634,
           0.4889401797980001,
           -0.8379968511051552,
           0.08839524558451219,
           0.2258321805205518,
           0.47006356039657793,
           0.14084303533762663,
           -0.12110607794924878,
           0.3561056781393994,
           1
          ]
         ]
        }
       ],
       "layout": {
        "coloraxis": {
         "colorscale": [
          [
           0,
           "#0d0887"
          ],
          [
           0.1111111111111111,
           "#46039f"
          ],
          [
           0.2222222222222222,
           "#7201a8"
          ],
          [
           0.3333333333333333,
           "#9c179e"
          ],
          [
           0.4444444444444444,
           "#bd3786"
          ],
          [
           0.5555555555555556,
           "#d8576b"
          ],
          [
           0.6666666666666666,
           "#ed7953"
          ],
          [
           0.7777777777777778,
           "#fb9f3a"
          ],
          [
           0.8888888888888888,
           "#fdca26"
          ],
          [
           1,
           "#f0f921"
          ]
         ]
        },
        "margin": {
         "t": 60
        },
        "template": {
         "data": {
          "bar": [
           {
            "error_x": {
             "color": "#2a3f5f"
            },
            "error_y": {
             "color": "#2a3f5f"
            },
            "marker": {
             "line": {
              "color": "#E5ECF6",
              "width": 0.5
             },
             "pattern": {
              "fillmode": "overlay",
              "size": 10,
              "solidity": 0.2
             }
            },
            "type": "bar"
           }
          ],
          "barpolar": [
           {
            "marker": {
             "line": {
              "color": "#E5ECF6",
              "width": 0.5
             },
             "pattern": {
              "fillmode": "overlay",
              "size": 10,
              "solidity": 0.2
             }
            },
            "type": "barpolar"
           }
          ],
          "carpet": [
           {
            "aaxis": {
             "endlinecolor": "#2a3f5f",
             "gridcolor": "white",
             "linecolor": "white",
             "minorgridcolor": "white",
             "startlinecolor": "#2a3f5f"
            },
            "baxis": {
             "endlinecolor": "#2a3f5f",
             "gridcolor": "white",
             "linecolor": "white",
             "minorgridcolor": "white",
             "startlinecolor": "#2a3f5f"
            },
            "type": "carpet"
           }
          ],
          "choropleth": [
           {
            "colorbar": {
             "outlinewidth": 0,
             "ticks": ""
            },
            "type": "choropleth"
           }
          ],
          "contour": [
           {
            "colorbar": {
             "outlinewidth": 0,
             "ticks": ""
            },
            "colorscale": [
             [
              0,
              "#0d0887"
             ],
             [
              0.1111111111111111,
              "#46039f"
             ],
             [
              0.2222222222222222,
              "#7201a8"
             ],
             [
              0.3333333333333333,
              "#9c179e"
             ],
             [
              0.4444444444444444,
              "#bd3786"
             ],
             [
              0.5555555555555556,
              "#d8576b"
             ],
             [
              0.6666666666666666,
              "#ed7953"
             ],
             [
              0.7777777777777778,
              "#fb9f3a"
             ],
             [
              0.8888888888888888,
              "#fdca26"
             ],
             [
              1,
              "#f0f921"
             ]
            ],
            "type": "contour"
           }
          ],
          "contourcarpet": [
           {
            "colorbar": {
             "outlinewidth": 0,
             "ticks": ""
            },
            "type": "contourcarpet"
           }
          ],
          "heatmap": [
           {
            "colorbar": {
             "outlinewidth": 0,
             "ticks": ""
            },
            "colorscale": [
             [
              0,
              "#0d0887"
             ],
             [
              0.1111111111111111,
              "#46039f"
             ],
             [
              0.2222222222222222,
              "#7201a8"
             ],
             [
              0.3333333333333333,
              "#9c179e"
             ],
             [
              0.4444444444444444,
              "#bd3786"
             ],
             [
              0.5555555555555556,
              "#d8576b"
             ],
             [
              0.6666666666666666,
              "#ed7953"
             ],
             [
              0.7777777777777778,
              "#fb9f3a"
             ],
             [
              0.8888888888888888,
              "#fdca26"
             ],
             [
              1,
              "#f0f921"
             ]
            ],
            "type": "heatmap"
           }
          ],
          "heatmapgl": [
           {
            "colorbar": {
             "outlinewidth": 0,
             "ticks": ""
            },
            "colorscale": [
             [
              0,
              "#0d0887"
             ],
             [
              0.1111111111111111,
              "#46039f"
             ],
             [
              0.2222222222222222,
              "#7201a8"
             ],
             [
              0.3333333333333333,
              "#9c179e"
             ],
             [
              0.4444444444444444,
              "#bd3786"
             ],
             [
              0.5555555555555556,
              "#d8576b"
             ],
             [
              0.6666666666666666,
              "#ed7953"
             ],
             [
              0.7777777777777778,
              "#fb9f3a"
             ],
             [
              0.8888888888888888,
              "#fdca26"
             ],
             [
              1,
              "#f0f921"
             ]
            ],
            "type": "heatmapgl"
           }
          ],
          "histogram": [
           {
            "marker": {
             "pattern": {
              "fillmode": "overlay",
              "size": 10,
              "solidity": 0.2
             }
            },
            "type": "histogram"
           }
          ],
          "histogram2d": [
           {
            "colorbar": {
             "outlinewidth": 0,
             "ticks": ""
            },
            "colorscale": [
             [
              0,
              "#0d0887"
             ],
             [
              0.1111111111111111,
              "#46039f"
             ],
             [
              0.2222222222222222,
              "#7201a8"
             ],
             [
              0.3333333333333333,
              "#9c179e"
             ],
             [
              0.4444444444444444,
              "#bd3786"
             ],
             [
              0.5555555555555556,
              "#d8576b"
             ],
             [
              0.6666666666666666,
              "#ed7953"
             ],
             [
              0.7777777777777778,
              "#fb9f3a"
             ],
             [
              0.8888888888888888,
              "#fdca26"
             ],
             [
              1,
              "#f0f921"
             ]
            ],
            "type": "histogram2d"
           }
          ],
          "histogram2dcontour": [
           {
            "colorbar": {
             "outlinewidth": 0,
             "ticks": ""
            },
            "colorscale": [
             [
              0,
              "#0d0887"
             ],
             [
              0.1111111111111111,
              "#46039f"
             ],
             [
              0.2222222222222222,
              "#7201a8"
             ],
             [
              0.3333333333333333,
              "#9c179e"
             ],
             [
              0.4444444444444444,
              "#bd3786"
             ],
             [
              0.5555555555555556,
              "#d8576b"
             ],
             [
              0.6666666666666666,
              "#ed7953"
             ],
             [
              0.7777777777777778,
              "#fb9f3a"
             ],
             [
              0.8888888888888888,
              "#fdca26"
             ],
             [
              1,
              "#f0f921"
             ]
            ],
            "type": "histogram2dcontour"
           }
          ],
          "mesh3d": [
           {
            "colorbar": {
             "outlinewidth": 0,
             "ticks": ""
            },
            "type": "mesh3d"
           }
          ],
          "parcoords": [
           {
            "line": {
             "colorbar": {
              "outlinewidth": 0,
              "ticks": ""
             }
            },
            "type": "parcoords"
           }
          ],
          "pie": [
           {
            "automargin": true,
            "type": "pie"
           }
          ],
          "scatter": [
           {
            "fillpattern": {
             "fillmode": "overlay",
             "size": 10,
             "solidity": 0.2
            },
            "type": "scatter"
           }
          ],
          "scatter3d": [
           {
            "line": {
             "colorbar": {
              "outlinewidth": 0,
              "ticks": ""
             }
            },
            "marker": {
             "colorbar": {
              "outlinewidth": 0,
              "ticks": ""
             }
            },
            "type": "scatter3d"
           }
          ],
          "scattercarpet": [
           {
            "marker": {
             "colorbar": {
              "outlinewidth": 0,
              "ticks": ""
             }
            },
            "type": "scattercarpet"
           }
          ],
          "scattergeo": [
           {
            "marker": {
             "colorbar": {
              "outlinewidth": 0,
              "ticks": ""
             }
            },
            "type": "scattergeo"
           }
          ],
          "scattergl": [
           {
            "marker": {
             "colorbar": {
              "outlinewidth": 0,
              "ticks": ""
             }
            },
            "type": "scattergl"
           }
          ],
          "scattermapbox": [
           {
            "marker": {
             "colorbar": {
              "outlinewidth": 0,
              "ticks": ""
             }
            },
            "type": "scattermapbox"
           }
          ],
          "scatterpolar": [
           {
            "marker": {
             "colorbar": {
              "outlinewidth": 0,
              "ticks": ""
             }
            },
            "type": "scatterpolar"
           }
          ],
          "scatterpolargl": [
           {
            "marker": {
             "colorbar": {
              "outlinewidth": 0,
              "ticks": ""
             }
            },
            "type": "scatterpolargl"
           }
          ],
          "scatterternary": [
           {
            "marker": {
             "colorbar": {
              "outlinewidth": 0,
              "ticks": ""
             }
            },
            "type": "scatterternary"
           }
          ],
          "surface": [
           {
            "colorbar": {
             "outlinewidth": 0,
             "ticks": ""
            },
            "colorscale": [
             [
              0,
              "#0d0887"
             ],
             [
              0.1111111111111111,
              "#46039f"
             ],
             [
              0.2222222222222222,
              "#7201a8"
             ],
             [
              0.3333333333333333,
              "#9c179e"
             ],
             [
              0.4444444444444444,
              "#bd3786"
             ],
             [
              0.5555555555555556,
              "#d8576b"
             ],
             [
              0.6666666666666666,
              "#ed7953"
             ],
             [
              0.7777777777777778,
              "#fb9f3a"
             ],
             [
              0.8888888888888888,
              "#fdca26"
             ],
             [
              1,
              "#f0f921"
             ]
            ],
            "type": "surface"
           }
          ],
          "table": [
           {
            "cells": {
             "fill": {
              "color": "#EBF0F8"
             },
             "line": {
              "color": "white"
             }
            },
            "header": {
             "fill": {
              "color": "#C8D4E3"
             },
             "line": {
              "color": "white"
             }
            },
            "type": "table"
           }
          ]
         },
         "layout": {
          "annotationdefaults": {
           "arrowcolor": "#2a3f5f",
           "arrowhead": 0,
           "arrowwidth": 1
          },
          "autotypenumbers": "strict",
          "coloraxis": {
           "colorbar": {
            "outlinewidth": 0,
            "ticks": ""
           }
          },
          "colorscale": {
           "diverging": [
            [
             0,
             "#8e0152"
            ],
            [
             0.1,
             "#c51b7d"
            ],
            [
             0.2,
             "#de77ae"
            ],
            [
             0.3,
             "#f1b6da"
            ],
            [
             0.4,
             "#fde0ef"
            ],
            [
             0.5,
             "#f7f7f7"
            ],
            [
             0.6,
             "#e6f5d0"
            ],
            [
             0.7,
             "#b8e186"
            ],
            [
             0.8,
             "#7fbc41"
            ],
            [
             0.9,
             "#4d9221"
            ],
            [
             1,
             "#276419"
            ]
           ],
           "sequential": [
            [
             0,
             "#0d0887"
            ],
            [
             0.1111111111111111,
             "#46039f"
            ],
            [
             0.2222222222222222,
             "#7201a8"
            ],
            [
             0.3333333333333333,
             "#9c179e"
            ],
            [
             0.4444444444444444,
             "#bd3786"
            ],
            [
             0.5555555555555556,
             "#d8576b"
            ],
            [
             0.6666666666666666,
             "#ed7953"
            ],
            [
             0.7777777777777778,
             "#fb9f3a"
            ],
            [
             0.8888888888888888,
             "#fdca26"
            ],
            [
             1,
             "#f0f921"
            ]
           ],
           "sequentialminus": [
            [
             0,
             "#0d0887"
            ],
            [
             0.1111111111111111,
             "#46039f"
            ],
            [
             0.2222222222222222,
             "#7201a8"
            ],
            [
             0.3333333333333333,
             "#9c179e"
            ],
            [
             0.4444444444444444,
             "#bd3786"
            ],
            [
             0.5555555555555556,
             "#d8576b"
            ],
            [
             0.6666666666666666,
             "#ed7953"
            ],
            [
             0.7777777777777778,
             "#fb9f3a"
            ],
            [
             0.8888888888888888,
             "#fdca26"
            ],
            [
             1,
             "#f0f921"
            ]
           ]
          },
          "colorway": [
           "#636efa",
           "#EF553B",
           "#00cc96",
           "#ab63fa",
           "#FFA15A",
           "#19d3f3",
           "#FF6692",
           "#B6E880",
           "#FF97FF",
           "#FECB52"
          ],
          "font": {
           "color": "#2a3f5f"
          },
          "geo": {
           "bgcolor": "white",
           "lakecolor": "white",
           "landcolor": "#E5ECF6",
           "showlakes": true,
           "showland": true,
           "subunitcolor": "white"
          },
          "hoverlabel": {
           "align": "left"
          },
          "hovermode": "closest",
          "mapbox": {
           "style": "light"
          },
          "paper_bgcolor": "white",
          "plot_bgcolor": "#E5ECF6",
          "polar": {
           "angularaxis": {
            "gridcolor": "white",
            "linecolor": "white",
            "ticks": ""
           },
           "bgcolor": "#E5ECF6",
           "radialaxis": {
            "gridcolor": "white",
            "linecolor": "white",
            "ticks": ""
           }
          },
          "scene": {
           "xaxis": {
            "backgroundcolor": "#E5ECF6",
            "gridcolor": "white",
            "gridwidth": 2,
            "linecolor": "white",
            "showbackground": true,
            "ticks": "",
            "zerolinecolor": "white"
           },
           "yaxis": {
            "backgroundcolor": "#E5ECF6",
            "gridcolor": "white",
            "gridwidth": 2,
            "linecolor": "white",
            "showbackground": true,
            "ticks": "",
            "zerolinecolor": "white"
           },
           "zaxis": {
            "backgroundcolor": "#E5ECF6",
            "gridcolor": "white",
            "gridwidth": 2,
            "linecolor": "white",
            "showbackground": true,
            "ticks": "",
            "zerolinecolor": "white"
           }
          },
          "shapedefaults": {
           "line": {
            "color": "#2a3f5f"
           }
          },
          "ternary": {
           "aaxis": {
            "gridcolor": "white",
            "linecolor": "white",
            "ticks": ""
           },
           "baxis": {
            "gridcolor": "white",
            "linecolor": "white",
            "ticks": ""
           },
           "bgcolor": "#E5ECF6",
           "caxis": {
            "gridcolor": "white",
            "linecolor": "white",
            "ticks": ""
           }
          },
          "title": {
           "x": 0.05
          },
          "xaxis": {
           "automargin": true,
           "gridcolor": "white",
           "linecolor": "white",
           "ticks": "",
           "title": {
            "standoff": 15
           },
           "zerolinecolor": "white",
           "zerolinewidth": 2
          },
          "yaxis": {
           "automargin": true,
           "gridcolor": "white",
           "linecolor": "white",
           "ticks": "",
           "title": {
            "standoff": 15
           },
           "zerolinecolor": "white",
           "zerolinewidth": 2
          }
         }
        },
        "xaxis": {
         "anchor": "y",
         "constrain": "domain",
         "domain": [
          0,
          1
         ],
         "scaleanchor": "y"
        },
        "yaxis": {
         "anchor": "x",
         "autorange": "reversed",
         "constrain": "domain",
         "domain": [
          0,
          1
         ]
        }
       }
      },
      "text/html": [
       "<div>                            <div id=\"99cde69f-ef48-4ee2-8496-320b70d0efd3\" class=\"plotly-graph-div\" style=\"height:525px; width:100%;\"></div>            <script type=\"text/javascript\">                require([\"plotly\"], function(Plotly) {                    window.PLOTLYENV=window.PLOTLYENV || {};                                    if (document.getElementById(\"99cde69f-ef48-4ee2-8496-320b70d0efd3\")) {                    Plotly.newPlot(                        \"99cde69f-ef48-4ee2-8496-320b70d0efd3\",                        [{\"coloraxis\":\"coloraxis\",\"name\":\"0\",\"texttemplate\":\"%{z}\",\"x\":[\"Rk\",\"Age\",\"G\",\"GS\",\"MP\",\"FG\",\"FGA\",\"FG%\",\"3P\",\"3PA\",\"3P%\",\"2P\",\"2PA\",\"2P%\",\"eFG%\",\"FT\",\"FTA\",\"FT%\",\"ORB\",\"DRB\",\"TRB\",\"AST\",\"STL\",\"BLK\",\"TOV\",\"PF\",\"PTS\",\"Year\",\"WT\"],\"y\":[\"Rk\",\"Age\",\"G\",\"GS\",\"MP\",\"FG\",\"FGA\",\"FG%\",\"3P\",\"3PA\",\"3P%\",\"2P\",\"2PA\",\"2P%\",\"eFG%\",\"FT\",\"FTA\",\"FT%\",\"ORB\",\"DRB\",\"TRB\",\"AST\",\"STL\",\"BLK\",\"TOV\",\"PF\",\"PTS\",\"Year\",\"WT\"],\"z\":[[1.0,0.8547098338894082,-0.0599585213624459,-0.08650897731240471,-0.36861627205801134,-0.8237890785235639,-0.7459096876094109,-0.04298331007757537,0.648183002300838,0.5208210319849081,0.6650557070063123,-0.8578646745376137,-0.8585681635314142,0.4324543872751595,0.4405746545308625,-0.7976175624021181,-0.7894674533054381,-0.5003397388604388,-0.5076786730521675,-0.8683184450787488,-0.8202935173738785,-0.2773506979408228,-0.8375153983255316,-0.15221396629160425,-0.8053852431579641,-0.1887677176792226,-0.7987692886622086,-0.3552910445490248,0.010110151042815011],[0.8547098338894082,1.0,-0.2448744188702032,0.13933280001515588,-0.1508119783738132,-0.8234233037311581,-0.7879614733693606,-0.07672449190106712,0.8647623472236019,0.5855623856958907,0.650077651433741,-0.9126306666660107,-0.9193419276727182,0.6105709212693207,0.6228283612873827,-0.9075309761280356,-0.9177573649781681,-0.8636189008387839,-0.7692005295063128,-0.987362152572662,-0.9923744757807453,0.06774659110929905,-0.9094565839674722,-0.4728254477649223,-0.8648173455569901,-0.18884383150159614,-0.7983094733523662,-0.48874426687240996,-0.4247364372608318],[-0.0599585213624459,-0.2448744188702032,1.0,-0.9383148632568363,-0.849660975489865,-0.34334240102819175,-0.3956787222999329,0.43610470285186637,-0.5375387812483576,-0.7053287168644294,-0.021841819557630655,-0.15215768273877814,-0.14704472271648963,0.036136293747080786,0.10724734373312543,-0.15903572265455568,-0.08244666718348391,0.15917552216799277,0.6895275567256286,0.08812447602189055,0.2814502169642992,-0.8671014825644455,-0.1799571640847436,-0.3775687670336212,0.5717172299806832,-0.04347826086956529,-0.38634093333503494,0.3545478451363593,0.8024923169014988],[-0.08650897731240471,0.13933280001515588,-0.9383148632568363,1.0,0.9549240674752612,0.40601399428131346,0.4799047900833735,-0.6773020393675385,0.5562934879824886,0.7555182774526193,-0.28746839603016044,0.2001130565521766,0.20805951353252283,-0.2888392944799003,-0.3407341825213842,0.19189942232405094,0.08786673899347275,-0.11074710125929946,-0.49951694573841726,0.01022492274389995,-0.14737567750115596,0.955382428486772,0.25383654128340477,0.40911715452914804,-0.5061894487315173,0.36490022459988125,0.4496927228381009,-0.41307979935472006,-0.7525118821790366],[-0.36861627205801134,-0.1508119783738132,-0.849660975489865,0.9549240674752612,1.0,0.6393688918608706,0.695238418365869,-0.6492973945386242,0.3086914947369948,0.5636675619243224,-0.49367203587824504,0.45939276896229836,0.4690956325496134,-0.45170111904328986,-0.5032003828514303,0.4410637996101052,0.3396766300158716,0.10254506024260192,-0.27413034020786875,0.293825264577093,0.13904643138731138,0.9522815464488465,0.5094212972634189,0.4900692739175402,-0.23219672242489606,0.4294113642571708,0.673879797609335,-0.2741746344992593,-0.6541824969835244],[-0.8237890785235639,-0.8234233037311581,-0.34334240102819175,0.40601399428131346,0.6393688918608706,1.0,0.9836164507640638,-0.13835650741680963,-0.5319102866425651,-0.1913844130066758,-0.5989045465707243,0.9765409053156385,0.9777809329128163,-0.566107768126937,-0.6190067961889147,0.9678852270820291,0.9364087948904477,0.7053126628974767,0.31988977129764795,0.902097256942871,0.7877310752063058,0.4548573289503025,0.9825166591338068,0.6199849076656855,0.5290237035557962,0.1716712005140959,0.9985171100689663,0.27692671464641766,-0.09642624679950948],[-0.7459096876094109,-0.7879614733693606,-0.3956787222999329,0.4799047900833735,0.695238418365869,0.9836164507640638,1.0,-0.2881906439405958,-0.4467024758012224,-0.051392094454051795,-0.6584586866362274,0.941090323427015,0.9486296049230467,-0.6757342514914914,-0.7287392888422629,0.945460724870545,0.8984728831736407,0.7408131209873735,0.3307956645264149,0.874218901539816,0.7698461648607795,0.4854432028712707,0.9673215261662769,0.735161614882158,0.4241102292613535,0.2951226066213138,0.9898594586948267,0.20608672816571297,-0.06670956574107142],[-0.04298331007757537,-0.07672449190106712,0.43610470285186637,-0.6773020393675385,-0.6492973945386242,-0.13835650741680963,-0.2881906439405958,1.0,-0.5304598622925099,-0.7809424379935919,0.644705537943297,0.01849318029740995,-0.018961105616960194,0.7101561458431769,0.7036748432180365,0.005573441768209843,0.12550338753204843,-0.06255947385415346,-0.04245424342455296,0.007541630794292742,-0.007433938203609647,-0.5716555677721329,-0.0928213786863177,-0.4842843241082486,0.45277972238947345,-0.8977054242705947,-0.17892809924953276,0.4642358185798788,0.16665345945424231],[0.648183002300838,0.8647623472236019,-0.5375387812483576,0.5562934879824886,0.3086914947369948,-0.5319102866425651,-0.4467024758012224,-0.5304598622925099,1.0,0.8739767590489315,0.23603917894858334,-0.7017754243026604,-0.6937200260814094,0.21632936356860755,0.22018740974215403,-0.7044961797336156,-0.775353206160698,-0.7427423404566299,-0.7231113916513834,-0.8005825936175741,-0.8355323770090507,0.4767285243460057,-0.6543767521051628,-0.19162000765702752,-0.9363436313174687,0.22633211842036152,-0.49052242931832607,-0.641284471808725,-0.598436142744695],[0.5208210319849081,0.5855623856958907,-0.7053287168644294,0.7555182774526193,0.5636675619243224,-0.1913844130066758,-0.051392094454051795,-0.7809424379935919,0.8739767590489315,1.0,-0.040867872254926864,-0.3832508139944624,-0.3646851306457088,-0.18746139653186888,-0.20701130354259611,-0.35161353836654297,-0.45042587158656705,-0.32861561644636283,-0.5371138563006023,-0.48630937253373474,-0.5379414339203014,0.5897054154357964,-0.2999674731667786,0.3069293818649272,-0.8959537842193106,0.44718622899168103,-0.13843650144240296,-0.6059989098403471,-0.4738791195556657],[0.6650557070063123,0.650077651433741,-0.021841819557630655,-0.28746839603016044,-0.49367203587824504,-0.5989045465707243,-0.6584586866362274,0.644705537943297,0.23603917894858334,-0.040867872254926864,1.0,-0.5638697764468368,-0.5975004048840301,0.911199719188838,0.8917692596288623,-0.5410784429219218,-0.4644366829111163,-0.5314311543983564,-0.6542332581033141,-0.6643121210351207,-0.7101522644874109,-0.33348838254761637,-0.6350660260792454,-0.458475904475814,-0.3877213243062811,-0.849392312991134,-0.6013129054408565,-0.009496143635369056,-0.18545377203251998],[-0.8578646745376137,-0.9126306666660107,-0.15215768273877814,0.2001130565521766,0.45939276896229836,0.9765409053156385,0.941090323427015,0.01849318029740995,-0.7017754243026604,-0.3832508139944624,-0.5638697764468368,1.0,0.998994815035785,-0.53126644915716,-0.5767505101383701,0.9934099910169841,0.9849475851076349,0.7822379775744541,0.4529966851675886,0.9624974559073578,0.8751705799953543,0.26143656022282885,0.9929743407327801,0.5703090060315383,0.6831598891665341,0.08687016638632371,0.9647689061145874,0.3960449636175461,0.07105396596060354],[-0.8585681635314142,-0.9193419276727182,-0.14704472271648963,0.20805951353252283,0.4690956325496134,0.9777809329128163,0.9486296049230467,-0.018961105616960194,-0.6937200260814094,-0.3646851306457088,-0.5975004048840301,0.998994815035785,1.0,-0.5684250207697941,-0.6119963176650489,0.9933819927555643,0.9811426628392158,0.7953172072349378,0.4763405474224951,0.9685567808645272,0.8870461258037279,0.2650408928385965,0.9968474002158378,0.589418384293703,0.6781503804194751,0.129837361547539,0.9668720959114948,0.38485068685810503,0.08751654778458791],[0.4324543872751595,0.6105709212693207,0.036136293747080786,-0.2888392944799003,-0.45170111904328986,-0.566107768126937,-0.6757342514914914,0.7101561458431769,0.21632936356860755,-0.18746139653186888,0.911199719188838,-0.53126644915716,-0.5684250207697941,1.0,0.9955502149108573,-0.5566816447972406,-0.479670034393448,-0.7071440997954482,-0.6586911500106263,-0.6332002706809237,-0.6877968895475266,-0.21287724680773004,-0.6229094518589023,-0.7439884790334,-0.23027666011053072,-0.8401688296196369,-0.5794175693305754,0.002497263023934698,-0.35377994865807705],[0.4405746545308625,0.6228283612873827,0.10724734373312543,-0.3407341825213842,-0.5032003828514303,-0.6190067961889147,-0.7287392888422629,0.7036748432180365,0.22018740974215403,-0.20701130354259611,0.8917692596288623,-0.5767505101383701,-0.6119963176650489,0.9955502149108573,1.0,-0.6058154443978194,-0.5278391909812026,-0.7328433646695778,-0.6167160638195451,-0.6574170005815656,-0.6932359254190875,-0.25611730620233236,-0.6668801379070805,-0.7952578262282246,-0.21586831104474366,-0.8040849335557924,-0.6344010823074621,-0.003136360664304789,-0.31237682238884346],[-0.7976175624021181,-0.9075309761280356,-0.15903572265455568,0.19189942232405094,0.4410637996101052,0.9678852270820291,0.945460724870545,0.005573441768209843,-0.7044961797336156,-0.35161353836654297,-0.5410784429219218,0.9934099910169841,0.9933819927555643,-0.5566816447972406,-0.6058154443978194,1.0,0.9922325942180917,0.8350089559427457,0.46225435577250434,0.9583823540558166,0.8749064560696452,0.22061161823659395,0.9916211884252761,0.6471487843532989,0.6480986769491598,0.0833408354295508,0.9586341893847874,0.39798100273147996,0.12527208555767144],[-0.7894674533054381,-0.9177573649781681,-0.08244666718348391,0.08786673899347275,0.3396766300158716,0.9364087948904477,0.8984728831736407,0.12550338753204843,-0.775353206160698,-0.45042587158656705,-0.4644366829111163,0.9849475851076349,0.9811426628392158,-0.479670034393448,-0.5278391909812026,0.9922325942180917,1.0,0.8381193630501039,0.477186645141352,0.9563698350529936,0.8780095856945328,0.12429288794356418,0.971097487308738,0.5935655496439892,0.70501119252855,-0.01724948001356628,0.9219499878076921,0.45758789946453715,0.17604765965426702],[-0.5003397388604388,-0.8636189008387839,0.15917552216799277,-0.11074710125929946,0.10254506024260192,0.7053126628974767,0.7408131209873735,-0.06255947385415346,-0.7427423404566299,-0.32861561644636283,-0.5314311543983564,0.7822379775744541,0.7953172072349378,-0.7071440997954482,-0.7328433646695778,0.8350089559427457,0.8381193630501039,1.0,0.7307053581237372,0.8612538356531267,0.884187358343237,-0.1942956826054903,0.8103084779819263,0.7853148259700838,0.5874625367738256,0.2224694295643425,0.6966878995999582,0.40895438198692197,0.6004979921903983],[-0.5076786730521675,-0.7692005295063128,0.6895275567256286,-0.49951694573841726,-0.27413034020786875,0.31988977129764795,0.3307956645264149,-0.04245424342455296,-0.7231113916513834,-0.5371138563006023,-0.6542332581033141,0.4529966851675886,0.4763405474224951,-0.6586911500106263,-0.6167160638195451,0.46225435577250434,0.477186645141352,0.7307053581237372,1.0,0.6775598976149761,0.8276756298653148,-0.4753967773408459,0.4794150754440747,0.2893624515275833,0.7423060557892319,0.43379138695270475,0.2916272808866146,0.38120825194450864,0.8242445863541786],[-0.8683184450787488,-0.987362152572662,0.08812447602189055,0.01022492274389995,0.293825264577093,0.902097256942871,0.874218901539816,0.007541630794292742,-0.8005825936175741,-0.48630937253373474,-0.6643121210351207,0.9624974559073578,0.9685567808645272,-0.6332002706809237,-0.6574170005815656,0.9583823540558166,0.9563698350529936,0.8612538356531267,0.6775598976149761,1.0,0.9735492177050725,0.07213146811449624,0.9637804509868488,0.5474915750275932,0.7950524021951508,0.201122796082216,0.8833239937988798,0.4441770292647077,0.30519659990245634],[-0.8202935173738785,-0.9923744757807453,0.2814502169642992,-0.14737567750115596,0.13904643138731138,0.7877310752063058,0.7698461648607795,-0.007433938203609647,-0.8355323770090507,-0.5379414339203014,-0.7101522644874109,0.8751705799953543,0.8870461258037279,-0.6877968895475266,-0.6932359254190875,0.8749064560696452,0.8780095856945328,0.884187358343237,0.8276756298653148,0.9735492177050725,1.0,-0.09264412090869292,0.8843566142999777,0.5076617464145938,0.837275439470704,0.28822888307615513,0.7646260153732858,0.4573588716829791,0.4889401797980001],[-0.2773506979408228,0.06774659110929905,-0.8671014825644455,0.955382428486772,0.9522815464488465,0.4548573289503025,0.4854432028712707,-0.5716555677721329,0.4767285243460057,0.5897054154357964,-0.33348838254761637,0.26143656022282885,0.2650408928385965,-0.21287724680773004,-0.25611730620233236,0.22061161823659395,0.12429288794356418,-0.1942956826054903,-0.4753967773408459,0.07213146811449624,-0.09264412090869292,1.0,0.29491066325225884,0.21338171242334047,-0.34111389178103835,0.32416255425101614,0.4880117772609355,-0.35769179378045,-0.8379968511051552],[-0.8375153983255316,-0.9094565839674722,-0.1799571640847436,0.25383654128340477,0.5094212972634189,0.9825166591338068,0.9673215261662769,-0.0928213786863177,-0.6543767521051628,-0.2999674731667786,-0.6350660260792454,0.9929743407327801,0.9968474002158378,-0.6229094518589023,-0.6668801379070805,0.9916211884252761,0.971097487308738,0.8103084779819263,0.4794150754440747,0.9637804509868488,0.8843566142999777,0.29491066325225884,1.0,0.6413110960780105,0.6347375317667988,0.19160145117258037,0.9751722126778369,0.3511414801414172,0.08839524558451219],[-0.15221396629160425,-0.4728254477649223,-0.3775687670336212,0.40911715452914804,0.4900692739175402,0.6199849076656855,0.735161614882158,-0.4842843241082486,-0.19162000765702752,0.3069293818649272,-0.458475904475814,0.5703090060315383,0.589418384293703,-0.7439884790334,-0.7952578262282246,0.6471487843532989,0.5935655496439892,0.7853148259700838,0.2893624515275833,0.5474915750275932,0.5076617464145938,0.21338171242334047,0.6413110960780105,1.0,-0.007893595017042798,0.3838807069080435,0.6463428571949907,0.04250946432770634,0.2258321805205518],[-0.8053852431579641,-0.8648173455569901,0.5717172299806832,-0.5061894487315173,-0.23219672242489606,0.5290237035557962,0.4241102292613535,0.45277972238947345,-0.9363436313174687,-0.8959537842193106,-0.3877213243062811,0.6831598891665341,0.6781503804194751,-0.23027666011053072,-0.21586831104474366,0.6480986769491598,0.70501119252855,0.5874625367738256,0.7423060557892319,0.7950524021951508,0.837275439470704,-0.34111389178103835,0.6347375317667988,-0.007893595017042798,1.0,-0.0879564969201054,0.4832037353497556,0.5835254955836402,0.47006356039657793],[-0.1887677176792226,-0.18884383150159614,-0.04347826086956529,0.36490022459988125,0.4294113642571708,0.1716712005140959,0.2951226066213138,-0.8977054242705947,0.22633211842036152,0.44718622899168103,-0.849392312991134,0.08687016638632371,0.129837361547539,-0.8401688296196369,-0.8040849335557924,0.0833408354295508,-0.01724948001356628,0.2224694295643425,0.43379138695270475,0.201122796082216,0.28822888307615513,0.32416255425101614,0.19160145117258037,0.3838807069080435,-0.0879564969201054,1.0,0.19245102358868152,-0.2884457045177157,0.14084303533762663],[-0.7987692886622086,-0.7983094733523662,-0.38634093333503494,0.4496927228381009,0.673879797609335,0.9985171100689663,0.9898594586948267,-0.17892809924953276,-0.49052242931832607,-0.13843650144240296,-0.6013129054408565,0.9647689061145874,0.9668720959114948,-0.5794175693305754,-0.6344010823074621,0.9586341893847874,0.9219499878076921,0.6966878995999582,0.2916272808866146,0.8833239937988798,0.7646260153732858,0.4880117772609355,0.9751722126778369,0.6463428571949907,0.4832037353497556,0.19245102358868152,1.0,0.24799536423137417,-0.12110607794924878],[-0.3552910445490248,-0.48874426687240996,0.3545478451363593,-0.41307979935472006,-0.2741746344992593,0.27692671464641766,0.20608672816571297,0.4642358185798788,-0.641284471808725,-0.6059989098403471,-0.009496143635369056,0.3960449636175461,0.38485068685810503,0.002497263023934698,-0.003136360664304789,0.39798100273147996,0.45758789946453715,0.40895438198692197,0.38120825194450864,0.4441770292647077,0.4573588716829791,-0.35769179378045,0.3511414801414172,0.04250946432770634,0.5835254955836402,-0.2884457045177157,0.24799536423137417,1.0,0.3561056781393994],[0.010110151042815011,-0.4247364372608318,0.8024923169014988,-0.7525118821790366,-0.6541824969835244,-0.09642624679950948,-0.06670956574107142,0.16665345945424231,-0.598436142744695,-0.4738791195556657,-0.18545377203251998,0.07105396596060354,0.08751654778458791,-0.35377994865807705,-0.31237682238884346,0.12527208555767144,0.17604765965426702,0.6004979921903983,0.8242445863541786,0.30519659990245634,0.4889401797980001,-0.8379968511051552,0.08839524558451219,0.2258321805205518,0.47006356039657793,0.14084303533762663,-0.12110607794924878,0.3561056781393994,1.0]],\"type\":\"heatmap\",\"xaxis\":\"x\",\"yaxis\":\"y\",\"hovertemplate\":\"x: %{x}<br>y: %{y}<br>color: %{z}<extra></extra>\"}],                        {\"template\":{\"data\":{\"histogram2dcontour\":[{\"type\":\"histogram2dcontour\",\"colorbar\":{\"outlinewidth\":0,\"ticks\":\"\"},\"colorscale\":[[0.0,\"#0d0887\"],[0.1111111111111111,\"#46039f\"],[0.2222222222222222,\"#7201a8\"],[0.3333333333333333,\"#9c179e\"],[0.4444444444444444,\"#bd3786\"],[0.5555555555555556,\"#d8576b\"],[0.6666666666666666,\"#ed7953\"],[0.7777777777777778,\"#fb9f3a\"],[0.8888888888888888,\"#fdca26\"],[1.0,\"#f0f921\"]]}],\"choropleth\":[{\"type\":\"choropleth\",\"colorbar\":{\"outlinewidth\":0,\"ticks\":\"\"}}],\"histogram2d\":[{\"type\":\"histogram2d\",\"colorbar\":{\"outlinewidth\":0,\"ticks\":\"\"},\"colorscale\":[[0.0,\"#0d0887\"],[0.1111111111111111,\"#46039f\"],[0.2222222222222222,\"#7201a8\"],[0.3333333333333333,\"#9c179e\"],[0.4444444444444444,\"#bd3786\"],[0.5555555555555556,\"#d8576b\"],[0.6666666666666666,\"#ed7953\"],[0.7777777777777778,\"#fb9f3a\"],[0.8888888888888888,\"#fdca26\"],[1.0,\"#f0f921\"]]}],\"heatmap\":[{\"type\":\"heatmap\",\"colorbar\":{\"outlinewidth\":0,\"ticks\":\"\"},\"colorscale\":[[0.0,\"#0d0887\"],[0.1111111111111111,\"#46039f\"],[0.2222222222222222,\"#7201a8\"],[0.3333333333333333,\"#9c179e\"],[0.4444444444444444,\"#bd3786\"],[0.5555555555555556,\"#d8576b\"],[0.6666666666666666,\"#ed7953\"],[0.7777777777777778,\"#fb9f3a\"],[0.8888888888888888,\"#fdca26\"],[1.0,\"#f0f921\"]]}],\"heatmapgl\":[{\"type\":\"heatmapgl\",\"colorbar\":{\"outlinewidth\":0,\"ticks\":\"\"},\"colorscale\":[[0.0,\"#0d0887\"],[0.1111111111111111,\"#46039f\"],[0.2222222222222222,\"#7201a8\"],[0.3333333333333333,\"#9c179e\"],[0.4444444444444444,\"#bd3786\"],[0.5555555555555556,\"#d8576b\"],[0.6666666666666666,\"#ed7953\"],[0.7777777777777778,\"#fb9f3a\"],[0.8888888888888888,\"#fdca26\"],[1.0,\"#f0f921\"]]}],\"contourcarpet\":[{\"type\":\"contourcarpet\",\"colorbar\":{\"outlinewidth\":0,\"ticks\":\"\"}}],\"contour\":[{\"type\":\"contour\",\"colorbar\":{\"outlinewidth\":0,\"ticks\":\"\"},\"colorscale\":[[0.0,\"#0d0887\"],[0.1111111111111111,\"#46039f\"],[0.2222222222222222,\"#7201a8\"],[0.3333333333333333,\"#9c179e\"],[0.4444444444444444,\"#bd3786\"],[0.5555555555555556,\"#d8576b\"],[0.6666666666666666,\"#ed7953\"],[0.7777777777777778,\"#fb9f3a\"],[0.8888888888888888,\"#fdca26\"],[1.0,\"#f0f921\"]]}],\"surface\":[{\"type\":\"surface\",\"colorbar\":{\"outlinewidth\":0,\"ticks\":\"\"},\"colorscale\":[[0.0,\"#0d0887\"],[0.1111111111111111,\"#46039f\"],[0.2222222222222222,\"#7201a8\"],[0.3333333333333333,\"#9c179e\"],[0.4444444444444444,\"#bd3786\"],[0.5555555555555556,\"#d8576b\"],[0.6666666666666666,\"#ed7953\"],[0.7777777777777778,\"#fb9f3a\"],[0.8888888888888888,\"#fdca26\"],[1.0,\"#f0f921\"]]}],\"mesh3d\":[{\"type\":\"mesh3d\",\"colorbar\":{\"outlinewidth\":0,\"ticks\":\"\"}}],\"scatter\":[{\"fillpattern\":{\"fillmode\":\"overlay\",\"size\":10,\"solidity\":0.2},\"type\":\"scatter\"}],\"parcoords\":[{\"type\":\"parcoords\",\"line\":{\"colorbar\":{\"outlinewidth\":0,\"ticks\":\"\"}}}],\"scatterpolargl\":[{\"type\":\"scatterpolargl\",\"marker\":{\"colorbar\":{\"outlinewidth\":0,\"ticks\":\"\"}}}],\"bar\":[{\"error_x\":{\"color\":\"#2a3f5f\"},\"error_y\":{\"color\":\"#2a3f5f\"},\"marker\":{\"line\":{\"color\":\"#E5ECF6\",\"width\":0.5},\"pattern\":{\"fillmode\":\"overlay\",\"size\":10,\"solidity\":0.2}},\"type\":\"bar\"}],\"scattergeo\":[{\"type\":\"scattergeo\",\"marker\":{\"colorbar\":{\"outlinewidth\":0,\"ticks\":\"\"}}}],\"scatterpolar\":[{\"type\":\"scatterpolar\",\"marker\":{\"colorbar\":{\"outlinewidth\":0,\"ticks\":\"\"}}}],\"histogram\":[{\"marker\":{\"pattern\":{\"fillmode\":\"overlay\",\"size\":10,\"solidity\":0.2}},\"type\":\"histogram\"}],\"scattergl\":[{\"type\":\"scattergl\",\"marker\":{\"colorbar\":{\"outlinewidth\":0,\"ticks\":\"\"}}}],\"scatter3d\":[{\"type\":\"scatter3d\",\"line\":{\"colorbar\":{\"outlinewidth\":0,\"ticks\":\"\"}},\"marker\":{\"colorbar\":{\"outlinewidth\":0,\"ticks\":\"\"}}}],\"scattermapbox\":[{\"type\":\"scattermapbox\",\"marker\":{\"colorbar\":{\"outlinewidth\":0,\"ticks\":\"\"}}}],\"scatterternary\":[{\"type\":\"scatterternary\",\"marker\":{\"colorbar\":{\"outlinewidth\":0,\"ticks\":\"\"}}}],\"scattercarpet\":[{\"type\":\"scattercarpet\",\"marker\":{\"colorbar\":{\"outlinewidth\":0,\"ticks\":\"\"}}}],\"carpet\":[{\"aaxis\":{\"endlinecolor\":\"#2a3f5f\",\"gridcolor\":\"white\",\"linecolor\":\"white\",\"minorgridcolor\":\"white\",\"startlinecolor\":\"#2a3f5f\"},\"baxis\":{\"endlinecolor\":\"#2a3f5f\",\"gridcolor\":\"white\",\"linecolor\":\"white\",\"minorgridcolor\":\"white\",\"startlinecolor\":\"#2a3f5f\"},\"type\":\"carpet\"}],\"table\":[{\"cells\":{\"fill\":{\"color\":\"#EBF0F8\"},\"line\":{\"color\":\"white\"}},\"header\":{\"fill\":{\"color\":\"#C8D4E3\"},\"line\":{\"color\":\"white\"}},\"type\":\"table\"}],\"barpolar\":[{\"marker\":{\"line\":{\"color\":\"#E5ECF6\",\"width\":0.5},\"pattern\":{\"fillmode\":\"overlay\",\"size\":10,\"solidity\":0.2}},\"type\":\"barpolar\"}],\"pie\":[{\"automargin\":true,\"type\":\"pie\"}]},\"layout\":{\"autotypenumbers\":\"strict\",\"colorway\":[\"#636efa\",\"#EF553B\",\"#00cc96\",\"#ab63fa\",\"#FFA15A\",\"#19d3f3\",\"#FF6692\",\"#B6E880\",\"#FF97FF\",\"#FECB52\"],\"font\":{\"color\":\"#2a3f5f\"},\"hovermode\":\"closest\",\"hoverlabel\":{\"align\":\"left\"},\"paper_bgcolor\":\"white\",\"plot_bgcolor\":\"#E5ECF6\",\"polar\":{\"bgcolor\":\"#E5ECF6\",\"angularaxis\":{\"gridcolor\":\"white\",\"linecolor\":\"white\",\"ticks\":\"\"},\"radialaxis\":{\"gridcolor\":\"white\",\"linecolor\":\"white\",\"ticks\":\"\"}},\"ternary\":{\"bgcolor\":\"#E5ECF6\",\"aaxis\":{\"gridcolor\":\"white\",\"linecolor\":\"white\",\"ticks\":\"\"},\"baxis\":{\"gridcolor\":\"white\",\"linecolor\":\"white\",\"ticks\":\"\"},\"caxis\":{\"gridcolor\":\"white\",\"linecolor\":\"white\",\"ticks\":\"\"}},\"coloraxis\":{\"colorbar\":{\"outlinewidth\":0,\"ticks\":\"\"}},\"colorscale\":{\"sequential\":[[0.0,\"#0d0887\"],[0.1111111111111111,\"#46039f\"],[0.2222222222222222,\"#7201a8\"],[0.3333333333333333,\"#9c179e\"],[0.4444444444444444,\"#bd3786\"],[0.5555555555555556,\"#d8576b\"],[0.6666666666666666,\"#ed7953\"],[0.7777777777777778,\"#fb9f3a\"],[0.8888888888888888,\"#fdca26\"],[1.0,\"#f0f921\"]],\"sequentialminus\":[[0.0,\"#0d0887\"],[0.1111111111111111,\"#46039f\"],[0.2222222222222222,\"#7201a8\"],[0.3333333333333333,\"#9c179e\"],[0.4444444444444444,\"#bd3786\"],[0.5555555555555556,\"#d8576b\"],[0.6666666666666666,\"#ed7953\"],[0.7777777777777778,\"#fb9f3a\"],[0.8888888888888888,\"#fdca26\"],[1.0,\"#f0f921\"]],\"diverging\":[[0,\"#8e0152\"],[0.1,\"#c51b7d\"],[0.2,\"#de77ae\"],[0.3,\"#f1b6da\"],[0.4,\"#fde0ef\"],[0.5,\"#f7f7f7\"],[0.6,\"#e6f5d0\"],[0.7,\"#b8e186\"],[0.8,\"#7fbc41\"],[0.9,\"#4d9221\"],[1,\"#276419\"]]},\"xaxis\":{\"gridcolor\":\"white\",\"linecolor\":\"white\",\"ticks\":\"\",\"title\":{\"standoff\":15},\"zerolinecolor\":\"white\",\"automargin\":true,\"zerolinewidth\":2},\"yaxis\":{\"gridcolor\":\"white\",\"linecolor\":\"white\",\"ticks\":\"\",\"title\":{\"standoff\":15},\"zerolinecolor\":\"white\",\"automargin\":true,\"zerolinewidth\":2},\"scene\":{\"xaxis\":{\"backgroundcolor\":\"#E5ECF6\",\"gridcolor\":\"white\",\"linecolor\":\"white\",\"showbackground\":true,\"ticks\":\"\",\"zerolinecolor\":\"white\",\"gridwidth\":2},\"yaxis\":{\"backgroundcolor\":\"#E5ECF6\",\"gridcolor\":\"white\",\"linecolor\":\"white\",\"showbackground\":true,\"ticks\":\"\",\"zerolinecolor\":\"white\",\"gridwidth\":2},\"zaxis\":{\"backgroundcolor\":\"#E5ECF6\",\"gridcolor\":\"white\",\"linecolor\":\"white\",\"showbackground\":true,\"ticks\":\"\",\"zerolinecolor\":\"white\",\"gridwidth\":2}},\"shapedefaults\":{\"line\":{\"color\":\"#2a3f5f\"}},\"annotationdefaults\":{\"arrowcolor\":\"#2a3f5f\",\"arrowhead\":0,\"arrowwidth\":1},\"geo\":{\"bgcolor\":\"white\",\"landcolor\":\"#E5ECF6\",\"subunitcolor\":\"white\",\"showland\":true,\"showlakes\":true,\"lakecolor\":\"white\"},\"title\":{\"x\":0.05},\"mapbox\":{\"style\":\"light\"}}},\"xaxis\":{\"anchor\":\"y\",\"domain\":[0.0,1.0],\"scaleanchor\":\"y\",\"constrain\":\"domain\"},\"yaxis\":{\"anchor\":\"x\",\"domain\":[0.0,1.0],\"autorange\":\"reversed\",\"constrain\":\"domain\"},\"coloraxis\":{\"colorscale\":[[0.0,\"#0d0887\"],[0.1111111111111111,\"#46039f\"],[0.2222222222222222,\"#7201a8\"],[0.3333333333333333,\"#9c179e\"],[0.4444444444444444,\"#bd3786\"],[0.5555555555555556,\"#d8576b\"],[0.6666666666666666,\"#ed7953\"],[0.7777777777777778,\"#fb9f3a\"],[0.8888888888888888,\"#fdca26\"],[1.0,\"#f0f921\"]]},\"margin\":{\"t\":60}},                        {\"responsive\": true}                    ).then(function(){\n",
       "                            \n",
       "var gd = document.getElementById('99cde69f-ef48-4ee2-8496-320b70d0efd3');\n",
       "var x = new MutationObserver(function (mutations, observer) {{\n",
       "        var display = window.getComputedStyle(gd).display;\n",
       "        if (!display || display === 'none') {{\n",
       "            console.log([gd, 'removed!']);\n",
       "            Plotly.purge(gd);\n",
       "            observer.disconnect();\n",
       "        }}\n",
       "}});\n",
       "\n",
       "// Listen for the removal of the full notebook cells\n",
       "var notebookContainer = gd.closest('#notebook-container');\n",
       "if (notebookContainer) {{\n",
       "    x.observe(notebookContainer, {childList: true});\n",
       "}}\n",
       "\n",
       "// Listen for the clearing of the current output cell\n",
       "var outputEl = gd.closest('.output');\n",
       "if (outputEl) {{\n",
       "    x.observe(outputEl, {childList: true});\n",
       "}}\n",
       "\n",
       "                        })                };                });            </script>        </div>"
      ]
     },
     "metadata": {},
     "output_type": "display_data"
    }
   ],
   "source": [
    "correlation_matrix = Centers.corr()\n",
    "fig = px.imshow(correlation_matrix, text_auto=True)\n",
    "fig.show()"
   ]
  },
  {
   "cell_type": "code",
   "execution_count": 72,
   "id": "67bc465a",
   "metadata": {},
   "outputs": [
    {
     "data": {
      "application/vnd.plotly.v1+json": {
       "config": {
        "plotlyServerURL": "https://plot.ly"
       },
       "data": [
        {
         "coloraxis": "coloraxis",
         "hovertemplate": "x: %{x}<br>y: %{y}<br>color: %{z}<extra></extra>",
         "name": "0",
         "texttemplate": "%{z}",
         "type": "heatmap",
         "x": [
          "Rk",
          "Age",
          "G",
          "GS",
          "MP",
          "FG",
          "FGA",
          "FG%",
          "3P",
          "3PA",
          "3P%",
          "2P",
          "2PA",
          "2P%",
          "eFG%",
          "FT",
          "FTA",
          "FT%",
          "ORB",
          "DRB",
          "TRB",
          "AST",
          "STL",
          "BLK",
          "TOV",
          "PF",
          "PTS",
          "Year",
          "WT"
         ],
         "xaxis": "x",
         "y": [
          "Rk",
          "Age",
          "G",
          "GS",
          "MP",
          "FG",
          "FGA",
          "FG%",
          "3P",
          "3PA",
          "3P%",
          "2P",
          "2PA",
          "2P%",
          "eFG%",
          "FT",
          "FTA",
          "FT%",
          "ORB",
          "DRB",
          "TRB",
          "AST",
          "STL",
          "BLK",
          "TOV",
          "PF",
          "PTS",
          "Year",
          "WT"
         ],
         "yaxis": "y",
         "z": [
          [
           1,
           0.16795485795888257,
           -0.5708756197341712,
           -0.6232400039802507,
           -0.5618623759663768,
           -0.6678295951995259,
           -0.6327385522424508,
           -0.3213489603540224,
           -0.8785389970797686,
           -0.8710234172317266,
           -0.5971495578913801,
           -0.319936265318418,
           -0.24086704357814553,
           -0.21319152531075247,
           -0.49017610414091867,
           -0.5667686262914047,
           -0.30211011394246384,
           -0.6578758335953218,
           -0.37681490590162964,
           -0.05405685983048438,
           -0.11721697005171901,
           -0.13487590251658468,
           -0.023213612821531636,
           -0.43142196141953604,
           -0.25101825003523676,
           -0.05079727545368706,
           -0.7276950398368657,
           -0.21390268335913667,
           0.1886280991518574
          ],
          [
           0.16795485795888257,
           1,
           0.35073688311330736,
           0.3142889236521284,
           -0.005383801433474322,
           -0.7577957903570887,
           -0.7269497777827375,
           -0.5937594953748968,
           -0.2450374722009778,
           -0.44327437452426544,
           0.06400511634039104,
           -0.897466346977705,
           -0.7928600407789403,
           -0.7852476495557974,
           -0.41365590566129196,
           -0.5268995106349597,
           -0.6122290488814447,
           0.223623540891611,
           -0.2684828864165618,
           0.16498104306971176,
           0.11274729444046594,
           0.7174222506568625,
           0.40807617777804644,
           -0.6085532077929984,
           -0.1644268895438692,
           0.19840956434145718,
           -0.6685059413949335,
           -0.3349375997516192,
           -0.6036780066053554
          ],
          [
           -0.5708756197341712,
           0.35073688311330736,
           1,
           0.6139163575760356,
           0.3184689143090551,
           0.007035606479471938,
           -0.07830822860737868,
           0.0642803342616385,
           0.42411572067586095,
           0.34887763128635013,
           0.5933184614210149,
           -0.29151919941345616,
           -0.4526430717171478,
           -0.11987369340107185,
           0.3145949472857073,
           0.12377172863527547,
           -0.1654550526660433,
           0.7404271730304428,
           0.049323696832508306,
           -0.28072886981664724,
           -0.2622335535465143,
           0.2868592875957454,
           -0.013104387040117687,
           0.09474263179121989,
           -0.17540450779515396,
           0.2650475794581306,
           0.10803482580751904,
           -0.00662702310409209,
           -0.36673722091980615
          ],
          [
           -0.6232400039802507,
           0.3142889236521284,
           0.6139163575760356,
           1,
           0.9058670445446082,
           0.17702793281209367,
           0.3114687138348554,
           -0.4270974144453638,
           0.39218510313810206,
           0.49205097525642755,
           0.027045113253704428,
           -0.028426328449926777,
           0.059972561914002825,
           -0.4410717024570046,
           -0.23870251113618063,
           0.4829958862388041,
           0.256471062543373,
           0.5329538163263629,
           0.44699366391698675,
           0.4381370832960021,
           0.49976875002342924,
           0.5456450093917811,
           0.653987576369493,
           0.33253875549935863,
           0.45496921469660234,
           0.634811925124636,
           0.2885371890112467,
           0.08319433881488882,
           -0.4450442820614954
          ],
          [
           -0.5618623759663768,
           -0.005383801433474322,
           0.3184689143090551,
           0.9058670445446082,
           1,
           0.3950588378161826,
           0.5664635269401663,
           -0.37580679856278004,
           0.3329914292947695,
           0.5420618840330302,
           -0.21854851004079381,
           0.321979737017956,
           0.4357483231274761,
           -0.2717357762172716,
           -0.30094839287779707,
           0.6501958567110113,
           0.5090109046146762,
           0.28835638781168926,
           0.6071684559221969,
           0.5153662793281059,
           0.6019178143658419,
           0.42008741435536695,
           0.7283669815915498,
           0.5323447679522882,
           0.6106239210752995,
           0.713497471875698,
           0.46070602948659195,
           0.20280823743608484,
           -0.26186548216150063
          ],
          [
           -0.6678295951995259,
           -0.7577957903570887,
           0.007035606479471938,
           0.17702793281209367,
           0.3950588378161826,
           1,
           0.9487181531830144,
           0.6164767559978962,
           0.7486533772986895,
           0.8768936046207523,
           0.2507606311270977,
           0.8820026788279187,
           0.7584575294404472,
           0.7192271050756257,
           0.5673060912020707,
           0.834143248340461,
           0.7706672392696405,
           0.13765189286393809,
           0.4505799343058481,
           0.07095525536167664,
           0.1462550808222885,
           -0.3648567196664851,
           -0.16512867563189643,
           0.5298075394551065,
           0.4628381116865389,
           -0.14295681958207407,
           0.9853557519310958,
           0.39747920503702916,
           0.2271244684900694
          ],
          [
           -0.6327385522424508,
           -0.7269497777827375,
           -0.07830822860737868,
           0.3114687138348554,
           0.5664635269401663,
           0.9487181531830144,
           1,
           0.3508230899822994,
           0.6413286168265974,
           0.8473050316061322,
           0.0025718359103833275,
           0.8857702968820432,
           0.8707377193735198,
           0.507830971518475,
           0.29628841314882015,
           0.8635465698001015,
           0.8191706614854767,
           0.0852908084368908,
           0.4925218627148759,
           0.32245360383436694,
           0.3960597349850823,
           -0.31738077039433304,
           0.06713479358722628,
           0.653176072694496,
           0.5579333906439529,
           0.04177981193584644,
           0.936360304668394,
           0.3964977312894281,
           0.22751148476891767
          ],
          [
           -0.3213489603540224,
           -0.5937594953748968,
           0.0642803342616385,
           -0.4270974144453638,
           -0.37580679856278004,
           0.6164767559978962,
           0.3508230899822994,
           1,
           0.5496816268053563,
           0.4431771368608944,
           0.6710318617984874,
           0.48107263187933014,
           0.17036587795497332,
           0.9422316766476662,
           0.9507165047172516,
           0.27261254028862675,
           0.2364393070787187,
           0.1090667564765841,
           0.036814717153230224,
           -0.6080821238292593,
           -0.5801139336124137,
           -0.4968343121414152,
           -0.7900153060300305,
           0.02636025487439341,
           -0.10248927912148986,
           -0.6351533805241475,
           0.575854316909136,
           0.19095583229999155,
           0.26945314345933324
          ],
          [
           -0.8785389970797686,
           -0.2450374722009778,
           0.42411572067586095,
           0.39218510313810206,
           0.3329914292947695,
           0.7486533772986895,
           0.6413286168265974,
           0.5496816268053563,
           1,
           0.9303899258727214,
           0.6816788250508103,
           0.34789733654586663,
           0.2001187386640768,
           0.44425070457741794,
           0.7005508870082666,
           0.6664188857059908,
           0.4899115722634448,
           0.44046103629320416,
           0.20219930734494745,
           0.010754175857835526,
           0.04529462342706378,
           -0.11001669554527402,
           -0.21682796575371555,
           0.1289216634559064,
           0.3881880861660081,
           -0.31140921496417173,
           0.8240634188417184,
           0.32600463487985165,
           0.009264004175183447
          ],
          [
           -0.8710234172317266,
           -0.44327437452426544,
           0.34887763128635013,
           0.49205097525642755,
           0.5420618840330302,
           0.8768936046207523,
           0.8473050316061322,
           0.4431771368608944,
           0.9303899258727214,
           1,
           0.4215288425360759,
           0.5787293314519947,
           0.4766100062803243,
           0.44607240629444733,
           0.5448468274718348,
           0.8465500735789642,
           0.6973285243657273,
           0.3589365038343379,
           0.33426352463307224,
           0.1587457327461512,
           0.21083623812823357,
           -0.2089517971020406,
           -0.0646797716854769,
           0.4105042003240304,
           0.5007615872001324,
           -0.08794945015465175,
           0.935819752419539,
           0.4128074639014915,
           0.11812889287599929
          ],
          [
           -0.5971495578913801,
           0.06400511634039104,
           0.5933184614210149,
           0.027045113253704428,
           -0.21854851004079381,
           0.2507606311270977,
           0.0025718359103833275,
           0.6710318617984874,
           0.6816788250508103,
           0.4215288425360759,
           1,
           -0.12993368323957308,
           -0.38603346918251485,
           0.411259670245857,
           0.8442251540437816,
           0.04393100517520368,
           -0.18541832285579965,
           0.6153297979635126,
           -0.017953507749647997,
           -0.5520070699880494,
           -0.5354908846235947,
           0.02578529582266308,
           -0.5908703680684212,
           -0.17912627082749977,
           -0.20033452096771628,
           -0.5074718277607867,
           0.3028965360304943,
           -0.02291823159759504,
           -0.19724104084558353
          ],
          [
           -0.319936265318418,
           -0.897466346977705,
           -0.29151919941345616,
           -0.028426328449926777,
           0.321979737017956,
           0.8820026788279187,
           0.8857702968820432,
           0.48107263187933014,
           0.34789733654586663,
           0.5787293314519947,
           -0.12993368323957308,
           1,
           0.9303311497259277,
           0.7013199733966341,
           0.3042970986304542,
           0.7059086640586203,
           0.7416079414231483,
           -0.11842563249998463,
           0.4934646144543616,
           0.09269770665624477,
           0.17463163675701468,
           -0.4377633925706679,
           -0.07939307184239727,
           0.6575919777645461,
           0.37859563274481367,
           0.019191399538299125,
           0.8076906562813839,
           0.33036885139551064,
           0.31460492235684845
          ],
          [
           -0.24086704357814553,
           -0.7928600407789403,
           -0.4526430717171478,
           0.059972561914002825,
           0.4357483231274761,
           0.7584575294404472,
           0.8707377193735198,
           0.17036587795497332,
           0.2001187386640768,
           0.4766100062803243,
           -0.38603346918251485,
           0.9303311497259277,
           1,
           0.4275726712744676,
           -0.014037948143265202,
           0.6455720098132283,
           0.7102818814710252,
           -0.19115898784552782,
           0.505755282972171,
           0.3867602268481458,
           0.4603666503426454,
           -0.33187798107028477,
           0.17101148774853855,
           0.7010876855181785,
           0.4598684496829463,
           0.1505878478868765,
           0.6834428907457096,
           0.2740879483807776,
           0.2672139974652355
          ],
          [
           -0.21319152531075247,
           -0.7852476495557974,
           -0.11987369340107185,
           -0.4410717024570046,
           -0.2717357762172716,
           0.7192271050756257,
           0.507830971518475,
           0.9422316766476662,
           0.44425070457741794,
           0.44607240629444733,
           0.411259670245857,
           0.7013199733966341,
           0.4275726712744676,
           1,
           0.8166729472031748,
           0.4281464953112747,
           0.44649132513726053,
           -0.03601339054357223,
           0.17432391949402176,
           -0.4734029301328912,
           -0.42647116824780024,
           -0.6050650531082832,
           -0.6994837586312064,
           0.19188960852255996,
           0.052502998416136495,
           -0.5327015848799689,
           0.6584752329310884,
           0.23571836289835538,
           0.3607591296876783
          ],
          [
           -0.49017610414091867,
           -0.41365590566129196,
           0.3145949472857073,
           -0.23870251113618063,
           -0.30094839287779707,
           0.5673060912020707,
           0.29628841314882015,
           0.9507165047172516,
           0.7005508870082666,
           0.5448468274718348,
           0.8442251540437816,
           0.3042970986304542,
           -0.014037948143265202,
           0.8166729472031748,
           1,
           0.279103564563771,
           0.17139422311198108,
           0.29555528309702916,
           -0.022646948004341798,
           -0.6046598179425435,
           -0.5870831026385673,
           -0.40071185933583,
           -0.7728988158775123,
           -0.03481049899019564,
           -0.11045260644022713,
           -0.6257239475139037,
           0.5704466660356461,
           0.19301728589051953,
           0.18358884855581717
          ],
          [
           -0.5667686262914047,
           -0.5268995106349597,
           0.12377172863527547,
           0.4829958862388041,
           0.6501958567110113,
           0.834143248340461,
           0.8635465698001015,
           0.27261254028862675,
           0.6664188857059908,
           0.8465500735789642,
           0.04393100517520368,
           0.7059086640586203,
           0.6455720098132283,
           0.4281464953112747,
           0.279103564563771,
           1,
           0.9304865910486422,
           0.14160183404922447,
           0.5621887667197193,
           0.2865947697539553,
           0.373507678416685,
           -0.21853093158424133,
           0.08840316746073286,
           0.4560888038727257,
           0.7852073279329876,
           0.06730062902269814,
           0.8903748019104519,
           0.38981218693428304,
           0.1419098195743082
          ],
          [
           -0.30211011394246384,
           -0.6122290488814447,
           -0.1654550526660433,
           0.256471062543373,
           0.5090109046146762,
           0.7706672392696405,
           0.8191706614854767,
           0.2364393070787187,
           0.4899115722634448,
           0.6973285243657273,
           -0.18541832285579965,
           0.7416079414231483,
           0.7102818814710252,
           0.44649132513726053,
           0.17139422311198108,
           0.9304865910486422,
           1,
           -0.22738692484997458,
           0.3882319720065563,
           0.32050821268717833,
           0.3761711676047483,
           -0.37622356618007985,
           0.08930865697215347,
           0.33116569843482346,
           0.7973085905229141,
           0.012923248719664118,
           0.8011848602478537,
           0.48123045599693687,
           0.39120050644658605
          ],
          [
           -0.6578758335953218,
           0.223623540891611,
           0.7404271730304428,
           0.5329538163263629,
           0.28835638781168926,
           0.13765189286393809,
           0.0852908084368908,
           0.1090667564765841,
           0.44046103629320416,
           0.3589365038343379,
           0.6153297979635126,
           -0.11842563249998463,
           -0.19115898784552782,
           -0.03601339054357223,
           0.29555528309702916,
           0.14160183404922447,
           -0.22738692484997458,
           1,
           0.41538471840539787,
           -0.07692609458092324,
           -0.002449623185145932,
           0.3517711637275748,
           -0.07335601915892542,
           0.31864966700143704,
           -0.08445388982547934,
           0.06332630765668346,
           0.20168583391499867,
           -0.29177085962676624,
           -0.6677294237723788
          ],
          [
           -0.37681490590162964,
           -0.2684828864165618,
           0.049323696832508306,
           0.44699366391698675,
           0.6071684559221969,
           0.4505799343058481,
           0.4925218627148759,
           0.036814717153230224,
           0.20219930734494745,
           0.33426352463307224,
           -0.017953507749647997,
           0.4934646144543616,
           0.505755282972171,
           0.17432391949402176,
           -0.022646948004341798,
           0.5621887667197193,
           0.3882319720065563,
           0.41538471840539787,
           1,
           0.1200118408288164,
           0.28846077960268773,
           0.3575026373003861,
           0.24862656809126796,
           0.5668895695186192,
           0.5764292881397602,
           0.31016561577768625,
           0.4575238286409609,
           -0.11177508153472128,
           -0.4173718322574481
          ],
          [
           -0.05405685983048438,
           0.16498104306971176,
           -0.28072886981664724,
           0.4381370832960021,
           0.5153662793281059,
           0.07095525536167664,
           0.32245360383436694,
           -0.6080821238292593,
           0.010754175857835526,
           0.1587457327461512,
           -0.5520070699880494,
           0.09269770665624477,
           0.3867602268481458,
           -0.4734029301328912,
           -0.6046598179425435,
           0.2865947697539553,
           0.32050821268717833,
           -0.07692609458092324,
           0.1200118408288164,
           1,
           0.9851901119118674,
           0.1758917091174687,
           0.6909448636354323,
           0.1210961131813245,
           0.5013492084270357,
           0.26709925927640976,
           0.10461849232983637,
           0.011617935655356097,
           -0.21855893502914175
          ],
          [
           -0.11721697005171901,
           0.11274729444046594,
           -0.2622335535465143,
           0.49976875002342924,
           0.6019178143658419,
           0.1462550808222885,
           0.3960597349850823,
           -0.5801139336124137,
           0.04529462342706378,
           0.21083623812823357,
           -0.5354908846235947,
           0.17463163675701468,
           0.4603666503426454,
           -0.42647116824780024,
           -0.5870831026385673,
           0.373507678416685,
           0.3761711676047483,
           -0.002449623185145932,
           0.28846077960268773,
           0.9851901119118674,
           1,
           0.2313866048029974,
           0.7093316001073962,
           0.21470234037393995,
           0.5830897958235677,
           0.31117709749271627,
           0.17992131408963727,
           -0.008100044914436133,
           -0.2828777804367747
          ],
          [
           -0.13487590251658468,
           0.7174222506568625,
           0.2868592875957454,
           0.5456450093917811,
           0.42008741435536695,
           -0.3648567196664851,
           -0.31738077039433304,
           -0.4968343121414152,
           -0.11001669554527402,
           -0.2089517971020406,
           0.02578529582266308,
           -0.4377633925706679,
           -0.33187798107028477,
           -0.6050650531082832,
           -0.40071185933583,
           -0.21853093158424133,
           -0.37622356618007985,
           0.3517711637275748,
           0.3575026373003861,
           0.1758917091174687,
           0.2313866048029974,
           1,
           0.6533107374748225,
           -0.179523331210763,
           0.11536210513684698,
           0.5031858148640238,
           -0.3128859372173371,
           -0.30120515431658457,
           -0.7881375536489496
          ],
          [
           -0.023213612821531636,
           0.40807617777804644,
           -0.013104387040117687,
           0.653987576369493,
           0.7283669815915498,
           -0.16512867563189643,
           0.06713479358722628,
           -0.7900153060300305,
           -0.21682796575371555,
           -0.0646797716854769,
           -0.5908703680684212,
           -0.07939307184239727,
           0.17101148774853855,
           -0.6994837586312064,
           -0.7728988158775123,
           0.08840316746073286,
           0.08930865697215347,
           -0.07335601915892542,
           0.24862656809126796,
           0.6909448636354323,
           0.7093316001073962,
           0.6533107374748225,
           1,
           0.12628756656781887,
           0.35046514434057763,
           0.8000410582384634,
           -0.1343675371326975,
           0.004776369162371688,
           -0.3807967685147173
          ],
          [
           -0.43142196141953604,
           -0.6085532077929984,
           0.09474263179121989,
           0.33253875549935863,
           0.5323447679522882,
           0.5298075394551065,
           0.653176072694496,
           0.02636025487439341,
           0.1289216634559064,
           0.4105042003240304,
           -0.17912627082749977,
           0.6575919777645461,
           0.7010876855181785,
           0.19188960852255996,
           -0.03481049899019564,
           0.4560888038727257,
           0.33116569843482346,
           0.31864966700143704,
           0.5668895695186192,
           0.1210961131813245,
           0.21470234037393995,
           -0.179523331210763,
           0.12628756656781887,
           1,
           0.09306967769795374,
           0.44172469095333544,
           0.47800121457611455,
           0.08866424084625245,
           0.06797911748551497
          ],
          [
           -0.25101825003523676,
           -0.1644268895438692,
           -0.17540450779515396,
           0.45496921469660234,
           0.6106239210752995,
           0.4628381116865389,
           0.5579333906439529,
           -0.10248927912148986,
           0.3881880861660081,
           0.5007615872001324,
           -0.20033452096771628,
           0.37859563274481367,
           0.4598684496829463,
           0.052502998416136495,
           -0.11045260644022713,
           0.7852073279329876,
           0.7973085905229141,
           -0.08445388982547934,
           0.5764292881397602,
           0.5013492084270357,
           0.5830897958235677,
           0.11536210513684698,
           0.35046514434057763,
           0.09306967769795374,
           1,
           0.06446262543623071,
           0.5418625787001572,
           0.23395851965952305,
           -0.00488655286558314
          ],
          [
           -0.05079727545368706,
           0.19840956434145718,
           0.2650475794581306,
           0.634811925124636,
           0.713497471875698,
           -0.14295681958207407,
           0.04177981193584644,
           -0.6351533805241475,
           -0.31140921496417173,
           -0.08794945015465175,
           -0.5074718277607867,
           0.019191399538299125,
           0.1505878478868765,
           -0.5327015848799689,
           -0.6257239475139037,
           0.06730062902269814,
           0.012923248719664118,
           0.06332630765668346,
           0.31016561577768625,
           0.26709925927640976,
           0.31117709749271627,
           0.5031858148640238,
           0.8000410582384634,
           0.44172469095333544,
           0.06446262543623071,
           1,
           -0.13763268536026393,
           0.02828050462557043,
           -0.24706816834953194
          ],
          [
           -0.7276950398368657,
           -0.6685059413949335,
           0.10803482580751904,
           0.2885371890112467,
           0.46070602948659195,
           0.9853557519310958,
           0.936360304668394,
           0.575854316909136,
           0.8240634188417184,
           0.935819752419539,
           0.3028965360304943,
           0.8076906562813839,
           0.6834428907457096,
           0.6584752329310884,
           0.5704466660356461,
           0.8903748019104519,
           0.8011848602478537,
           0.20168583391499867,
           0.4575238286409609,
           0.10461849232983637,
           0.17992131408963727,
           -0.3128859372173371,
           -0.1343675371326975,
           0.47800121457611455,
           0.5418625787001572,
           -0.13763268536026393,
           1,
           0.4090732186831073,
           0.18584740969228175
          ],
          [
           -0.21390268335913667,
           -0.3349375997516192,
           -0.00662702310409209,
           0.08319433881488882,
           0.20280823743608484,
           0.39747920503702916,
           0.3964977312894281,
           0.19095583229999155,
           0.32600463487985165,
           0.4128074639014915,
           -0.02291823159759504,
           0.33036885139551064,
           0.2740879483807776,
           0.23571836289835538,
           0.19301728589051953,
           0.38981218693428304,
           0.48123045599693687,
           -0.29177085962676624,
           -0.11177508153472128,
           0.011617935655356097,
           -0.008100044914436133,
           -0.30120515431658457,
           0.004776369162371688,
           0.08866424084625245,
           0.23395851965952305,
           0.02828050462557043,
           0.4090732186831073,
           1,
           0.48504765853933257
          ],
          [
           0.1886280991518574,
           -0.6036780066053554,
           -0.36673722091980615,
           -0.4450442820614954,
           -0.26186548216150063,
           0.2271244684900694,
           0.22751148476891767,
           0.26945314345933324,
           0.009264004175183447,
           0.11812889287599929,
           -0.19724104084558353,
           0.31460492235684845,
           0.2672139974652355,
           0.3607591296876783,
           0.18358884855581717,
           0.1419098195743082,
           0.39120050644658605,
           -0.6677294237723788,
           -0.4173718322574481,
           -0.21855893502914175,
           -0.2828777804367747,
           -0.7881375536489496,
           -0.3807967685147173,
           0.06797911748551497,
           -0.00488655286558314,
           -0.24706816834953194,
           0.18584740969228175,
           0.48504765853933257,
           1
          ]
         ]
        }
       ],
       "layout": {
        "coloraxis": {
         "colorscale": [
          [
           0,
           "#0d0887"
          ],
          [
           0.1111111111111111,
           "#46039f"
          ],
          [
           0.2222222222222222,
           "#7201a8"
          ],
          [
           0.3333333333333333,
           "#9c179e"
          ],
          [
           0.4444444444444444,
           "#bd3786"
          ],
          [
           0.5555555555555556,
           "#d8576b"
          ],
          [
           0.6666666666666666,
           "#ed7953"
          ],
          [
           0.7777777777777778,
           "#fb9f3a"
          ],
          [
           0.8888888888888888,
           "#fdca26"
          ],
          [
           1,
           "#f0f921"
          ]
         ]
        },
        "margin": {
         "t": 60
        },
        "template": {
         "data": {
          "bar": [
           {
            "error_x": {
             "color": "#2a3f5f"
            },
            "error_y": {
             "color": "#2a3f5f"
            },
            "marker": {
             "line": {
              "color": "#E5ECF6",
              "width": 0.5
             },
             "pattern": {
              "fillmode": "overlay",
              "size": 10,
              "solidity": 0.2
             }
            },
            "type": "bar"
           }
          ],
          "barpolar": [
           {
            "marker": {
             "line": {
              "color": "#E5ECF6",
              "width": 0.5
             },
             "pattern": {
              "fillmode": "overlay",
              "size": 10,
              "solidity": 0.2
             }
            },
            "type": "barpolar"
           }
          ],
          "carpet": [
           {
            "aaxis": {
             "endlinecolor": "#2a3f5f",
             "gridcolor": "white",
             "linecolor": "white",
             "minorgridcolor": "white",
             "startlinecolor": "#2a3f5f"
            },
            "baxis": {
             "endlinecolor": "#2a3f5f",
             "gridcolor": "white",
             "linecolor": "white",
             "minorgridcolor": "white",
             "startlinecolor": "#2a3f5f"
            },
            "type": "carpet"
           }
          ],
          "choropleth": [
           {
            "colorbar": {
             "outlinewidth": 0,
             "ticks": ""
            },
            "type": "choropleth"
           }
          ],
          "contour": [
           {
            "colorbar": {
             "outlinewidth": 0,
             "ticks": ""
            },
            "colorscale": [
             [
              0,
              "#0d0887"
             ],
             [
              0.1111111111111111,
              "#46039f"
             ],
             [
              0.2222222222222222,
              "#7201a8"
             ],
             [
              0.3333333333333333,
              "#9c179e"
             ],
             [
              0.4444444444444444,
              "#bd3786"
             ],
             [
              0.5555555555555556,
              "#d8576b"
             ],
             [
              0.6666666666666666,
              "#ed7953"
             ],
             [
              0.7777777777777778,
              "#fb9f3a"
             ],
             [
              0.8888888888888888,
              "#fdca26"
             ],
             [
              1,
              "#f0f921"
             ]
            ],
            "type": "contour"
           }
          ],
          "contourcarpet": [
           {
            "colorbar": {
             "outlinewidth": 0,
             "ticks": ""
            },
            "type": "contourcarpet"
           }
          ],
          "heatmap": [
           {
            "colorbar": {
             "outlinewidth": 0,
             "ticks": ""
            },
            "colorscale": [
             [
              0,
              "#0d0887"
             ],
             [
              0.1111111111111111,
              "#46039f"
             ],
             [
              0.2222222222222222,
              "#7201a8"
             ],
             [
              0.3333333333333333,
              "#9c179e"
             ],
             [
              0.4444444444444444,
              "#bd3786"
             ],
             [
              0.5555555555555556,
              "#d8576b"
             ],
             [
              0.6666666666666666,
              "#ed7953"
             ],
             [
              0.7777777777777778,
              "#fb9f3a"
             ],
             [
              0.8888888888888888,
              "#fdca26"
             ],
             [
              1,
              "#f0f921"
             ]
            ],
            "type": "heatmap"
           }
          ],
          "heatmapgl": [
           {
            "colorbar": {
             "outlinewidth": 0,
             "ticks": ""
            },
            "colorscale": [
             [
              0,
              "#0d0887"
             ],
             [
              0.1111111111111111,
              "#46039f"
             ],
             [
              0.2222222222222222,
              "#7201a8"
             ],
             [
              0.3333333333333333,
              "#9c179e"
             ],
             [
              0.4444444444444444,
              "#bd3786"
             ],
             [
              0.5555555555555556,
              "#d8576b"
             ],
             [
              0.6666666666666666,
              "#ed7953"
             ],
             [
              0.7777777777777778,
              "#fb9f3a"
             ],
             [
              0.8888888888888888,
              "#fdca26"
             ],
             [
              1,
              "#f0f921"
             ]
            ],
            "type": "heatmapgl"
           }
          ],
          "histogram": [
           {
            "marker": {
             "pattern": {
              "fillmode": "overlay",
              "size": 10,
              "solidity": 0.2
             }
            },
            "type": "histogram"
           }
          ],
          "histogram2d": [
           {
            "colorbar": {
             "outlinewidth": 0,
             "ticks": ""
            },
            "colorscale": [
             [
              0,
              "#0d0887"
             ],
             [
              0.1111111111111111,
              "#46039f"
             ],
             [
              0.2222222222222222,
              "#7201a8"
             ],
             [
              0.3333333333333333,
              "#9c179e"
             ],
             [
              0.4444444444444444,
              "#bd3786"
             ],
             [
              0.5555555555555556,
              "#d8576b"
             ],
             [
              0.6666666666666666,
              "#ed7953"
             ],
             [
              0.7777777777777778,
              "#fb9f3a"
             ],
             [
              0.8888888888888888,
              "#fdca26"
             ],
             [
              1,
              "#f0f921"
             ]
            ],
            "type": "histogram2d"
           }
          ],
          "histogram2dcontour": [
           {
            "colorbar": {
             "outlinewidth": 0,
             "ticks": ""
            },
            "colorscale": [
             [
              0,
              "#0d0887"
             ],
             [
              0.1111111111111111,
              "#46039f"
             ],
             [
              0.2222222222222222,
              "#7201a8"
             ],
             [
              0.3333333333333333,
              "#9c179e"
             ],
             [
              0.4444444444444444,
              "#bd3786"
             ],
             [
              0.5555555555555556,
              "#d8576b"
             ],
             [
              0.6666666666666666,
              "#ed7953"
             ],
             [
              0.7777777777777778,
              "#fb9f3a"
             ],
             [
              0.8888888888888888,
              "#fdca26"
             ],
             [
              1,
              "#f0f921"
             ]
            ],
            "type": "histogram2dcontour"
           }
          ],
          "mesh3d": [
           {
            "colorbar": {
             "outlinewidth": 0,
             "ticks": ""
            },
            "type": "mesh3d"
           }
          ],
          "parcoords": [
           {
            "line": {
             "colorbar": {
              "outlinewidth": 0,
              "ticks": ""
             }
            },
            "type": "parcoords"
           }
          ],
          "pie": [
           {
            "automargin": true,
            "type": "pie"
           }
          ],
          "scatter": [
           {
            "fillpattern": {
             "fillmode": "overlay",
             "size": 10,
             "solidity": 0.2
            },
            "type": "scatter"
           }
          ],
          "scatter3d": [
           {
            "line": {
             "colorbar": {
              "outlinewidth": 0,
              "ticks": ""
             }
            },
            "marker": {
             "colorbar": {
              "outlinewidth": 0,
              "ticks": ""
             }
            },
            "type": "scatter3d"
           }
          ],
          "scattercarpet": [
           {
            "marker": {
             "colorbar": {
              "outlinewidth": 0,
              "ticks": ""
             }
            },
            "type": "scattercarpet"
           }
          ],
          "scattergeo": [
           {
            "marker": {
             "colorbar": {
              "outlinewidth": 0,
              "ticks": ""
             }
            },
            "type": "scattergeo"
           }
          ],
          "scattergl": [
           {
            "marker": {
             "colorbar": {
              "outlinewidth": 0,
              "ticks": ""
             }
            },
            "type": "scattergl"
           }
          ],
          "scattermapbox": [
           {
            "marker": {
             "colorbar": {
              "outlinewidth": 0,
              "ticks": ""
             }
            },
            "type": "scattermapbox"
           }
          ],
          "scatterpolar": [
           {
            "marker": {
             "colorbar": {
              "outlinewidth": 0,
              "ticks": ""
             }
            },
            "type": "scatterpolar"
           }
          ],
          "scatterpolargl": [
           {
            "marker": {
             "colorbar": {
              "outlinewidth": 0,
              "ticks": ""
             }
            },
            "type": "scatterpolargl"
           }
          ],
          "scatterternary": [
           {
            "marker": {
             "colorbar": {
              "outlinewidth": 0,
              "ticks": ""
             }
            },
            "type": "scatterternary"
           }
          ],
          "surface": [
           {
            "colorbar": {
             "outlinewidth": 0,
             "ticks": ""
            },
            "colorscale": [
             [
              0,
              "#0d0887"
             ],
             [
              0.1111111111111111,
              "#46039f"
             ],
             [
              0.2222222222222222,
              "#7201a8"
             ],
             [
              0.3333333333333333,
              "#9c179e"
             ],
             [
              0.4444444444444444,
              "#bd3786"
             ],
             [
              0.5555555555555556,
              "#d8576b"
             ],
             [
              0.6666666666666666,
              "#ed7953"
             ],
             [
              0.7777777777777778,
              "#fb9f3a"
             ],
             [
              0.8888888888888888,
              "#fdca26"
             ],
             [
              1,
              "#f0f921"
             ]
            ],
            "type": "surface"
           }
          ],
          "table": [
           {
            "cells": {
             "fill": {
              "color": "#EBF0F8"
             },
             "line": {
              "color": "white"
             }
            },
            "header": {
             "fill": {
              "color": "#C8D4E3"
             },
             "line": {
              "color": "white"
             }
            },
            "type": "table"
           }
          ]
         },
         "layout": {
          "annotationdefaults": {
           "arrowcolor": "#2a3f5f",
           "arrowhead": 0,
           "arrowwidth": 1
          },
          "autotypenumbers": "strict",
          "coloraxis": {
           "colorbar": {
            "outlinewidth": 0,
            "ticks": ""
           }
          },
          "colorscale": {
           "diverging": [
            [
             0,
             "#8e0152"
            ],
            [
             0.1,
             "#c51b7d"
            ],
            [
             0.2,
             "#de77ae"
            ],
            [
             0.3,
             "#f1b6da"
            ],
            [
             0.4,
             "#fde0ef"
            ],
            [
             0.5,
             "#f7f7f7"
            ],
            [
             0.6,
             "#e6f5d0"
            ],
            [
             0.7,
             "#b8e186"
            ],
            [
             0.8,
             "#7fbc41"
            ],
            [
             0.9,
             "#4d9221"
            ],
            [
             1,
             "#276419"
            ]
           ],
           "sequential": [
            [
             0,
             "#0d0887"
            ],
            [
             0.1111111111111111,
             "#46039f"
            ],
            [
             0.2222222222222222,
             "#7201a8"
            ],
            [
             0.3333333333333333,
             "#9c179e"
            ],
            [
             0.4444444444444444,
             "#bd3786"
            ],
            [
             0.5555555555555556,
             "#d8576b"
            ],
            [
             0.6666666666666666,
             "#ed7953"
            ],
            [
             0.7777777777777778,
             "#fb9f3a"
            ],
            [
             0.8888888888888888,
             "#fdca26"
            ],
            [
             1,
             "#f0f921"
            ]
           ],
           "sequentialminus": [
            [
             0,
             "#0d0887"
            ],
            [
             0.1111111111111111,
             "#46039f"
            ],
            [
             0.2222222222222222,
             "#7201a8"
            ],
            [
             0.3333333333333333,
             "#9c179e"
            ],
            [
             0.4444444444444444,
             "#bd3786"
            ],
            [
             0.5555555555555556,
             "#d8576b"
            ],
            [
             0.6666666666666666,
             "#ed7953"
            ],
            [
             0.7777777777777778,
             "#fb9f3a"
            ],
            [
             0.8888888888888888,
             "#fdca26"
            ],
            [
             1,
             "#f0f921"
            ]
           ]
          },
          "colorway": [
           "#636efa",
           "#EF553B",
           "#00cc96",
           "#ab63fa",
           "#FFA15A",
           "#19d3f3",
           "#FF6692",
           "#B6E880",
           "#FF97FF",
           "#FECB52"
          ],
          "font": {
           "color": "#2a3f5f"
          },
          "geo": {
           "bgcolor": "white",
           "lakecolor": "white",
           "landcolor": "#E5ECF6",
           "showlakes": true,
           "showland": true,
           "subunitcolor": "white"
          },
          "hoverlabel": {
           "align": "left"
          },
          "hovermode": "closest",
          "mapbox": {
           "style": "light"
          },
          "paper_bgcolor": "white",
          "plot_bgcolor": "#E5ECF6",
          "polar": {
           "angularaxis": {
            "gridcolor": "white",
            "linecolor": "white",
            "ticks": ""
           },
           "bgcolor": "#E5ECF6",
           "radialaxis": {
            "gridcolor": "white",
            "linecolor": "white",
            "ticks": ""
           }
          },
          "scene": {
           "xaxis": {
            "backgroundcolor": "#E5ECF6",
            "gridcolor": "white",
            "gridwidth": 2,
            "linecolor": "white",
            "showbackground": true,
            "ticks": "",
            "zerolinecolor": "white"
           },
           "yaxis": {
            "backgroundcolor": "#E5ECF6",
            "gridcolor": "white",
            "gridwidth": 2,
            "linecolor": "white",
            "showbackground": true,
            "ticks": "",
            "zerolinecolor": "white"
           },
           "zaxis": {
            "backgroundcolor": "#E5ECF6",
            "gridcolor": "white",
            "gridwidth": 2,
            "linecolor": "white",
            "showbackground": true,
            "ticks": "",
            "zerolinecolor": "white"
           }
          },
          "shapedefaults": {
           "line": {
            "color": "#2a3f5f"
           }
          },
          "ternary": {
           "aaxis": {
            "gridcolor": "white",
            "linecolor": "white",
            "ticks": ""
           },
           "baxis": {
            "gridcolor": "white",
            "linecolor": "white",
            "ticks": ""
           },
           "bgcolor": "#E5ECF6",
           "caxis": {
            "gridcolor": "white",
            "linecolor": "white",
            "ticks": ""
           }
          },
          "title": {
           "x": 0.05
          },
          "xaxis": {
           "automargin": true,
           "gridcolor": "white",
           "linecolor": "white",
           "ticks": "",
           "title": {
            "standoff": 15
           },
           "zerolinecolor": "white",
           "zerolinewidth": 2
          },
          "yaxis": {
           "automargin": true,
           "gridcolor": "white",
           "linecolor": "white",
           "ticks": "",
           "title": {
            "standoff": 15
           },
           "zerolinecolor": "white",
           "zerolinewidth": 2
          }
         }
        },
        "xaxis": {
         "anchor": "y",
         "constrain": "domain",
         "domain": [
          0,
          1
         ],
         "scaleanchor": "y"
        },
        "yaxis": {
         "anchor": "x",
         "autorange": "reversed",
         "constrain": "domain",
         "domain": [
          0,
          1
         ]
        }
       }
      },
      "text/html": [
       "<div>                            <div id=\"183a22e2-f99c-4b41-bb57-6c7ef7a3cc8b\" class=\"plotly-graph-div\" style=\"height:525px; width:100%;\"></div>            <script type=\"text/javascript\">                require([\"plotly\"], function(Plotly) {                    window.PLOTLYENV=window.PLOTLYENV || {};                                    if (document.getElementById(\"183a22e2-f99c-4b41-bb57-6c7ef7a3cc8b\")) {                    Plotly.newPlot(                        \"183a22e2-f99c-4b41-bb57-6c7ef7a3cc8b\",                        [{\"coloraxis\":\"coloraxis\",\"name\":\"0\",\"texttemplate\":\"%{z}\",\"x\":[\"Rk\",\"Age\",\"G\",\"GS\",\"MP\",\"FG\",\"FGA\",\"FG%\",\"3P\",\"3PA\",\"3P%\",\"2P\",\"2PA\",\"2P%\",\"eFG%\",\"FT\",\"FTA\",\"FT%\",\"ORB\",\"DRB\",\"TRB\",\"AST\",\"STL\",\"BLK\",\"TOV\",\"PF\",\"PTS\",\"Year\",\"WT\"],\"y\":[\"Rk\",\"Age\",\"G\",\"GS\",\"MP\",\"FG\",\"FGA\",\"FG%\",\"3P\",\"3PA\",\"3P%\",\"2P\",\"2PA\",\"2P%\",\"eFG%\",\"FT\",\"FTA\",\"FT%\",\"ORB\",\"DRB\",\"TRB\",\"AST\",\"STL\",\"BLK\",\"TOV\",\"PF\",\"PTS\",\"Year\",\"WT\"],\"z\":[[1.0,0.16795485795888257,-0.5708756197341712,-0.6232400039802507,-0.5618623759663768,-0.6678295951995259,-0.6327385522424508,-0.3213489603540224,-0.8785389970797686,-0.8710234172317266,-0.5971495578913801,-0.319936265318418,-0.24086704357814553,-0.21319152531075247,-0.49017610414091867,-0.5667686262914047,-0.30211011394246384,-0.6578758335953218,-0.37681490590162964,-0.05405685983048438,-0.11721697005171901,-0.13487590251658468,-0.023213612821531636,-0.43142196141953604,-0.25101825003523676,-0.05079727545368706,-0.7276950398368657,-0.21390268335913667,0.1886280991518574],[0.16795485795888257,1.0,0.35073688311330736,0.3142889236521284,-0.005383801433474322,-0.7577957903570887,-0.7269497777827375,-0.5937594953748968,-0.2450374722009778,-0.44327437452426544,0.06400511634039104,-0.897466346977705,-0.7928600407789403,-0.7852476495557974,-0.41365590566129196,-0.5268995106349597,-0.6122290488814447,0.223623540891611,-0.2684828864165618,0.16498104306971176,0.11274729444046594,0.7174222506568625,0.40807617777804644,-0.6085532077929984,-0.1644268895438692,0.19840956434145718,-0.6685059413949335,-0.3349375997516192,-0.6036780066053554],[-0.5708756197341712,0.35073688311330736,1.0,0.6139163575760356,0.3184689143090551,0.007035606479471938,-0.07830822860737868,0.0642803342616385,0.42411572067586095,0.34887763128635013,0.5933184614210149,-0.29151919941345616,-0.4526430717171478,-0.11987369340107185,0.3145949472857073,0.12377172863527547,-0.1654550526660433,0.7404271730304428,0.049323696832508306,-0.28072886981664724,-0.2622335535465143,0.2868592875957454,-0.013104387040117687,0.09474263179121989,-0.17540450779515396,0.2650475794581306,0.10803482580751904,-0.00662702310409209,-0.36673722091980615],[-0.6232400039802507,0.3142889236521284,0.6139163575760356,1.0,0.9058670445446082,0.17702793281209367,0.3114687138348554,-0.4270974144453638,0.39218510313810206,0.49205097525642755,0.027045113253704428,-0.028426328449926777,0.059972561914002825,-0.4410717024570046,-0.23870251113618063,0.4829958862388041,0.256471062543373,0.5329538163263629,0.44699366391698675,0.4381370832960021,0.49976875002342924,0.5456450093917811,0.653987576369493,0.33253875549935863,0.45496921469660234,0.634811925124636,0.2885371890112467,0.08319433881488882,-0.4450442820614954],[-0.5618623759663768,-0.005383801433474322,0.3184689143090551,0.9058670445446082,1.0,0.3950588378161826,0.5664635269401663,-0.37580679856278004,0.3329914292947695,0.5420618840330302,-0.21854851004079381,0.321979737017956,0.4357483231274761,-0.2717357762172716,-0.30094839287779707,0.6501958567110113,0.5090109046146762,0.28835638781168926,0.6071684559221969,0.5153662793281059,0.6019178143658419,0.42008741435536695,0.7283669815915498,0.5323447679522882,0.6106239210752995,0.713497471875698,0.46070602948659195,0.20280823743608484,-0.26186548216150063],[-0.6678295951995259,-0.7577957903570887,0.007035606479471938,0.17702793281209367,0.3950588378161826,1.0,0.9487181531830144,0.6164767559978962,0.7486533772986895,0.8768936046207523,0.2507606311270977,0.8820026788279187,0.7584575294404472,0.7192271050756257,0.5673060912020707,0.834143248340461,0.7706672392696405,0.13765189286393809,0.4505799343058481,0.07095525536167664,0.1462550808222885,-0.3648567196664851,-0.16512867563189643,0.5298075394551065,0.4628381116865389,-0.14295681958207407,0.9853557519310958,0.39747920503702916,0.2271244684900694],[-0.6327385522424508,-0.7269497777827375,-0.07830822860737868,0.3114687138348554,0.5664635269401663,0.9487181531830144,1.0,0.3508230899822994,0.6413286168265974,0.8473050316061322,0.0025718359103833275,0.8857702968820432,0.8707377193735198,0.507830971518475,0.29628841314882015,0.8635465698001015,0.8191706614854767,0.0852908084368908,0.4925218627148759,0.32245360383436694,0.3960597349850823,-0.31738077039433304,0.06713479358722628,0.653176072694496,0.5579333906439529,0.04177981193584644,0.936360304668394,0.3964977312894281,0.22751148476891767],[-0.3213489603540224,-0.5937594953748968,0.0642803342616385,-0.4270974144453638,-0.37580679856278004,0.6164767559978962,0.3508230899822994,1.0,0.5496816268053563,0.4431771368608944,0.6710318617984874,0.48107263187933014,0.17036587795497332,0.9422316766476662,0.9507165047172516,0.27261254028862675,0.2364393070787187,0.1090667564765841,0.036814717153230224,-0.6080821238292593,-0.5801139336124137,-0.4968343121414152,-0.7900153060300305,0.02636025487439341,-0.10248927912148986,-0.6351533805241475,0.575854316909136,0.19095583229999155,0.26945314345933324],[-0.8785389970797686,-0.2450374722009778,0.42411572067586095,0.39218510313810206,0.3329914292947695,0.7486533772986895,0.6413286168265974,0.5496816268053563,1.0,0.9303899258727214,0.6816788250508103,0.34789733654586663,0.2001187386640768,0.44425070457741794,0.7005508870082666,0.6664188857059908,0.4899115722634448,0.44046103629320416,0.20219930734494745,0.010754175857835526,0.04529462342706378,-0.11001669554527402,-0.21682796575371555,0.1289216634559064,0.3881880861660081,-0.31140921496417173,0.8240634188417184,0.32600463487985165,0.009264004175183447],[-0.8710234172317266,-0.44327437452426544,0.34887763128635013,0.49205097525642755,0.5420618840330302,0.8768936046207523,0.8473050316061322,0.4431771368608944,0.9303899258727214,1.0,0.4215288425360759,0.5787293314519947,0.4766100062803243,0.44607240629444733,0.5448468274718348,0.8465500735789642,0.6973285243657273,0.3589365038343379,0.33426352463307224,0.1587457327461512,0.21083623812823357,-0.2089517971020406,-0.0646797716854769,0.4105042003240304,0.5007615872001324,-0.08794945015465175,0.935819752419539,0.4128074639014915,0.11812889287599929],[-0.5971495578913801,0.06400511634039104,0.5933184614210149,0.027045113253704428,-0.21854851004079381,0.2507606311270977,0.0025718359103833275,0.6710318617984874,0.6816788250508103,0.4215288425360759,1.0,-0.12993368323957308,-0.38603346918251485,0.411259670245857,0.8442251540437816,0.04393100517520368,-0.18541832285579965,0.6153297979635126,-0.017953507749647997,-0.5520070699880494,-0.5354908846235947,0.02578529582266308,-0.5908703680684212,-0.17912627082749977,-0.20033452096771628,-0.5074718277607867,0.3028965360304943,-0.02291823159759504,-0.19724104084558353],[-0.319936265318418,-0.897466346977705,-0.29151919941345616,-0.028426328449926777,0.321979737017956,0.8820026788279187,0.8857702968820432,0.48107263187933014,0.34789733654586663,0.5787293314519947,-0.12993368323957308,1.0,0.9303311497259277,0.7013199733966341,0.3042970986304542,0.7059086640586203,0.7416079414231483,-0.11842563249998463,0.4934646144543616,0.09269770665624477,0.17463163675701468,-0.4377633925706679,-0.07939307184239727,0.6575919777645461,0.37859563274481367,0.019191399538299125,0.8076906562813839,0.33036885139551064,0.31460492235684845],[-0.24086704357814553,-0.7928600407789403,-0.4526430717171478,0.059972561914002825,0.4357483231274761,0.7584575294404472,0.8707377193735198,0.17036587795497332,0.2001187386640768,0.4766100062803243,-0.38603346918251485,0.9303311497259277,1.0,0.4275726712744676,-0.014037948143265202,0.6455720098132283,0.7102818814710252,-0.19115898784552782,0.505755282972171,0.3867602268481458,0.4603666503426454,-0.33187798107028477,0.17101148774853855,0.7010876855181785,0.4598684496829463,0.1505878478868765,0.6834428907457096,0.2740879483807776,0.2672139974652355],[-0.21319152531075247,-0.7852476495557974,-0.11987369340107185,-0.4410717024570046,-0.2717357762172716,0.7192271050756257,0.507830971518475,0.9422316766476662,0.44425070457741794,0.44607240629444733,0.411259670245857,0.7013199733966341,0.4275726712744676,1.0,0.8166729472031748,0.4281464953112747,0.44649132513726053,-0.03601339054357223,0.17432391949402176,-0.4734029301328912,-0.42647116824780024,-0.6050650531082832,-0.6994837586312064,0.19188960852255996,0.052502998416136495,-0.5327015848799689,0.6584752329310884,0.23571836289835538,0.3607591296876783],[-0.49017610414091867,-0.41365590566129196,0.3145949472857073,-0.23870251113618063,-0.30094839287779707,0.5673060912020707,0.29628841314882015,0.9507165047172516,0.7005508870082666,0.5448468274718348,0.8442251540437816,0.3042970986304542,-0.014037948143265202,0.8166729472031748,1.0,0.279103564563771,0.17139422311198108,0.29555528309702916,-0.022646948004341798,-0.6046598179425435,-0.5870831026385673,-0.40071185933583,-0.7728988158775123,-0.03481049899019564,-0.11045260644022713,-0.6257239475139037,0.5704466660356461,0.19301728589051953,0.18358884855581717],[-0.5667686262914047,-0.5268995106349597,0.12377172863527547,0.4829958862388041,0.6501958567110113,0.834143248340461,0.8635465698001015,0.27261254028862675,0.6664188857059908,0.8465500735789642,0.04393100517520368,0.7059086640586203,0.6455720098132283,0.4281464953112747,0.279103564563771,1.0,0.9304865910486422,0.14160183404922447,0.5621887667197193,0.2865947697539553,0.373507678416685,-0.21853093158424133,0.08840316746073286,0.4560888038727257,0.7852073279329876,0.06730062902269814,0.8903748019104519,0.38981218693428304,0.1419098195743082],[-0.30211011394246384,-0.6122290488814447,-0.1654550526660433,0.256471062543373,0.5090109046146762,0.7706672392696405,0.8191706614854767,0.2364393070787187,0.4899115722634448,0.6973285243657273,-0.18541832285579965,0.7416079414231483,0.7102818814710252,0.44649132513726053,0.17139422311198108,0.9304865910486422,1.0,-0.22738692484997458,0.3882319720065563,0.32050821268717833,0.3761711676047483,-0.37622356618007985,0.08930865697215347,0.33116569843482346,0.7973085905229141,0.012923248719664118,0.8011848602478537,0.48123045599693687,0.39120050644658605],[-0.6578758335953218,0.223623540891611,0.7404271730304428,0.5329538163263629,0.28835638781168926,0.13765189286393809,0.0852908084368908,0.1090667564765841,0.44046103629320416,0.3589365038343379,0.6153297979635126,-0.11842563249998463,-0.19115898784552782,-0.03601339054357223,0.29555528309702916,0.14160183404922447,-0.22738692484997458,1.0,0.41538471840539787,-0.07692609458092324,-0.002449623185145932,0.3517711637275748,-0.07335601915892542,0.31864966700143704,-0.08445388982547934,0.06332630765668346,0.20168583391499867,-0.29177085962676624,-0.6677294237723788],[-0.37681490590162964,-0.2684828864165618,0.049323696832508306,0.44699366391698675,0.6071684559221969,0.4505799343058481,0.4925218627148759,0.036814717153230224,0.20219930734494745,0.33426352463307224,-0.017953507749647997,0.4934646144543616,0.505755282972171,0.17432391949402176,-0.022646948004341798,0.5621887667197193,0.3882319720065563,0.41538471840539787,1.0,0.1200118408288164,0.28846077960268773,0.3575026373003861,0.24862656809126796,0.5668895695186192,0.5764292881397602,0.31016561577768625,0.4575238286409609,-0.11177508153472128,-0.4173718322574481],[-0.05405685983048438,0.16498104306971176,-0.28072886981664724,0.4381370832960021,0.5153662793281059,0.07095525536167664,0.32245360383436694,-0.6080821238292593,0.010754175857835526,0.1587457327461512,-0.5520070699880494,0.09269770665624477,0.3867602268481458,-0.4734029301328912,-0.6046598179425435,0.2865947697539553,0.32050821268717833,-0.07692609458092324,0.1200118408288164,1.0,0.9851901119118674,0.1758917091174687,0.6909448636354323,0.1210961131813245,0.5013492084270357,0.26709925927640976,0.10461849232983637,0.011617935655356097,-0.21855893502914175],[-0.11721697005171901,0.11274729444046594,-0.2622335535465143,0.49976875002342924,0.6019178143658419,0.1462550808222885,0.3960597349850823,-0.5801139336124137,0.04529462342706378,0.21083623812823357,-0.5354908846235947,0.17463163675701468,0.4603666503426454,-0.42647116824780024,-0.5870831026385673,0.373507678416685,0.3761711676047483,-0.002449623185145932,0.28846077960268773,0.9851901119118674,1.0,0.2313866048029974,0.7093316001073962,0.21470234037393995,0.5830897958235677,0.31117709749271627,0.17992131408963727,-0.008100044914436133,-0.2828777804367747],[-0.13487590251658468,0.7174222506568625,0.2868592875957454,0.5456450093917811,0.42008741435536695,-0.3648567196664851,-0.31738077039433304,-0.4968343121414152,-0.11001669554527402,-0.2089517971020406,0.02578529582266308,-0.4377633925706679,-0.33187798107028477,-0.6050650531082832,-0.40071185933583,-0.21853093158424133,-0.37622356618007985,0.3517711637275748,0.3575026373003861,0.1758917091174687,0.2313866048029974,1.0,0.6533107374748225,-0.179523331210763,0.11536210513684698,0.5031858148640238,-0.3128859372173371,-0.30120515431658457,-0.7881375536489496],[-0.023213612821531636,0.40807617777804644,-0.013104387040117687,0.653987576369493,0.7283669815915498,-0.16512867563189643,0.06713479358722628,-0.7900153060300305,-0.21682796575371555,-0.0646797716854769,-0.5908703680684212,-0.07939307184239727,0.17101148774853855,-0.6994837586312064,-0.7728988158775123,0.08840316746073286,0.08930865697215347,-0.07335601915892542,0.24862656809126796,0.6909448636354323,0.7093316001073962,0.6533107374748225,1.0,0.12628756656781887,0.35046514434057763,0.8000410582384634,-0.1343675371326975,0.004776369162371688,-0.3807967685147173],[-0.43142196141953604,-0.6085532077929984,0.09474263179121989,0.33253875549935863,0.5323447679522882,0.5298075394551065,0.653176072694496,0.02636025487439341,0.1289216634559064,0.4105042003240304,-0.17912627082749977,0.6575919777645461,0.7010876855181785,0.19188960852255996,-0.03481049899019564,0.4560888038727257,0.33116569843482346,0.31864966700143704,0.5668895695186192,0.1210961131813245,0.21470234037393995,-0.179523331210763,0.12628756656781887,1.0,0.09306967769795374,0.44172469095333544,0.47800121457611455,0.08866424084625245,0.06797911748551497],[-0.25101825003523676,-0.1644268895438692,-0.17540450779515396,0.45496921469660234,0.6106239210752995,0.4628381116865389,0.5579333906439529,-0.10248927912148986,0.3881880861660081,0.5007615872001324,-0.20033452096771628,0.37859563274481367,0.4598684496829463,0.052502998416136495,-0.11045260644022713,0.7852073279329876,0.7973085905229141,-0.08445388982547934,0.5764292881397602,0.5013492084270357,0.5830897958235677,0.11536210513684698,0.35046514434057763,0.09306967769795374,1.0,0.06446262543623071,0.5418625787001572,0.23395851965952305,-0.00488655286558314],[-0.05079727545368706,0.19840956434145718,0.2650475794581306,0.634811925124636,0.713497471875698,-0.14295681958207407,0.04177981193584644,-0.6351533805241475,-0.31140921496417173,-0.08794945015465175,-0.5074718277607867,0.019191399538299125,0.1505878478868765,-0.5327015848799689,-0.6257239475139037,0.06730062902269814,0.012923248719664118,0.06332630765668346,0.31016561577768625,0.26709925927640976,0.31117709749271627,0.5031858148640238,0.8000410582384634,0.44172469095333544,0.06446262543623071,1.0,-0.13763268536026393,0.02828050462557043,-0.24706816834953194],[-0.7276950398368657,-0.6685059413949335,0.10803482580751904,0.2885371890112467,0.46070602948659195,0.9853557519310958,0.936360304668394,0.575854316909136,0.8240634188417184,0.935819752419539,0.3028965360304943,0.8076906562813839,0.6834428907457096,0.6584752329310884,0.5704466660356461,0.8903748019104519,0.8011848602478537,0.20168583391499867,0.4575238286409609,0.10461849232983637,0.17992131408963727,-0.3128859372173371,-0.1343675371326975,0.47800121457611455,0.5418625787001572,-0.13763268536026393,1.0,0.4090732186831073,0.18584740969228175],[-0.21390268335913667,-0.3349375997516192,-0.00662702310409209,0.08319433881488882,0.20280823743608484,0.39747920503702916,0.3964977312894281,0.19095583229999155,0.32600463487985165,0.4128074639014915,-0.02291823159759504,0.33036885139551064,0.2740879483807776,0.23571836289835538,0.19301728589051953,0.38981218693428304,0.48123045599693687,-0.29177085962676624,-0.11177508153472128,0.011617935655356097,-0.008100044914436133,-0.30120515431658457,0.004776369162371688,0.08866424084625245,0.23395851965952305,0.02828050462557043,0.4090732186831073,1.0,0.48504765853933257],[0.1886280991518574,-0.6036780066053554,-0.36673722091980615,-0.4450442820614954,-0.26186548216150063,0.2271244684900694,0.22751148476891767,0.26945314345933324,0.009264004175183447,0.11812889287599929,-0.19724104084558353,0.31460492235684845,0.2672139974652355,0.3607591296876783,0.18358884855581717,0.1419098195743082,0.39120050644658605,-0.6677294237723788,-0.4173718322574481,-0.21855893502914175,-0.2828777804367747,-0.7881375536489496,-0.3807967685147173,0.06797911748551497,-0.00488655286558314,-0.24706816834953194,0.18584740969228175,0.48504765853933257,1.0]],\"type\":\"heatmap\",\"xaxis\":\"x\",\"yaxis\":\"y\",\"hovertemplate\":\"x: %{x}<br>y: %{y}<br>color: %{z}<extra></extra>\"}],                        {\"template\":{\"data\":{\"histogram2dcontour\":[{\"type\":\"histogram2dcontour\",\"colorbar\":{\"outlinewidth\":0,\"ticks\":\"\"},\"colorscale\":[[0.0,\"#0d0887\"],[0.1111111111111111,\"#46039f\"],[0.2222222222222222,\"#7201a8\"],[0.3333333333333333,\"#9c179e\"],[0.4444444444444444,\"#bd3786\"],[0.5555555555555556,\"#d8576b\"],[0.6666666666666666,\"#ed7953\"],[0.7777777777777778,\"#fb9f3a\"],[0.8888888888888888,\"#fdca26\"],[1.0,\"#f0f921\"]]}],\"choropleth\":[{\"type\":\"choropleth\",\"colorbar\":{\"outlinewidth\":0,\"ticks\":\"\"}}],\"histogram2d\":[{\"type\":\"histogram2d\",\"colorbar\":{\"outlinewidth\":0,\"ticks\":\"\"},\"colorscale\":[[0.0,\"#0d0887\"],[0.1111111111111111,\"#46039f\"],[0.2222222222222222,\"#7201a8\"],[0.3333333333333333,\"#9c179e\"],[0.4444444444444444,\"#bd3786\"],[0.5555555555555556,\"#d8576b\"],[0.6666666666666666,\"#ed7953\"],[0.7777777777777778,\"#fb9f3a\"],[0.8888888888888888,\"#fdca26\"],[1.0,\"#f0f921\"]]}],\"heatmap\":[{\"type\":\"heatmap\",\"colorbar\":{\"outlinewidth\":0,\"ticks\":\"\"},\"colorscale\":[[0.0,\"#0d0887\"],[0.1111111111111111,\"#46039f\"],[0.2222222222222222,\"#7201a8\"],[0.3333333333333333,\"#9c179e\"],[0.4444444444444444,\"#bd3786\"],[0.5555555555555556,\"#d8576b\"],[0.6666666666666666,\"#ed7953\"],[0.7777777777777778,\"#fb9f3a\"],[0.8888888888888888,\"#fdca26\"],[1.0,\"#f0f921\"]]}],\"heatmapgl\":[{\"type\":\"heatmapgl\",\"colorbar\":{\"outlinewidth\":0,\"ticks\":\"\"},\"colorscale\":[[0.0,\"#0d0887\"],[0.1111111111111111,\"#46039f\"],[0.2222222222222222,\"#7201a8\"],[0.3333333333333333,\"#9c179e\"],[0.4444444444444444,\"#bd3786\"],[0.5555555555555556,\"#d8576b\"],[0.6666666666666666,\"#ed7953\"],[0.7777777777777778,\"#fb9f3a\"],[0.8888888888888888,\"#fdca26\"],[1.0,\"#f0f921\"]]}],\"contourcarpet\":[{\"type\":\"contourcarpet\",\"colorbar\":{\"outlinewidth\":0,\"ticks\":\"\"}}],\"contour\":[{\"type\":\"contour\",\"colorbar\":{\"outlinewidth\":0,\"ticks\":\"\"},\"colorscale\":[[0.0,\"#0d0887\"],[0.1111111111111111,\"#46039f\"],[0.2222222222222222,\"#7201a8\"],[0.3333333333333333,\"#9c179e\"],[0.4444444444444444,\"#bd3786\"],[0.5555555555555556,\"#d8576b\"],[0.6666666666666666,\"#ed7953\"],[0.7777777777777778,\"#fb9f3a\"],[0.8888888888888888,\"#fdca26\"],[1.0,\"#f0f921\"]]}],\"surface\":[{\"type\":\"surface\",\"colorbar\":{\"outlinewidth\":0,\"ticks\":\"\"},\"colorscale\":[[0.0,\"#0d0887\"],[0.1111111111111111,\"#46039f\"],[0.2222222222222222,\"#7201a8\"],[0.3333333333333333,\"#9c179e\"],[0.4444444444444444,\"#bd3786\"],[0.5555555555555556,\"#d8576b\"],[0.6666666666666666,\"#ed7953\"],[0.7777777777777778,\"#fb9f3a\"],[0.8888888888888888,\"#fdca26\"],[1.0,\"#f0f921\"]]}],\"mesh3d\":[{\"type\":\"mesh3d\",\"colorbar\":{\"outlinewidth\":0,\"ticks\":\"\"}}],\"scatter\":[{\"fillpattern\":{\"fillmode\":\"overlay\",\"size\":10,\"solidity\":0.2},\"type\":\"scatter\"}],\"parcoords\":[{\"type\":\"parcoords\",\"line\":{\"colorbar\":{\"outlinewidth\":0,\"ticks\":\"\"}}}],\"scatterpolargl\":[{\"type\":\"scatterpolargl\",\"marker\":{\"colorbar\":{\"outlinewidth\":0,\"ticks\":\"\"}}}],\"bar\":[{\"error_x\":{\"color\":\"#2a3f5f\"},\"error_y\":{\"color\":\"#2a3f5f\"},\"marker\":{\"line\":{\"color\":\"#E5ECF6\",\"width\":0.5},\"pattern\":{\"fillmode\":\"overlay\",\"size\":10,\"solidity\":0.2}},\"type\":\"bar\"}],\"scattergeo\":[{\"type\":\"scattergeo\",\"marker\":{\"colorbar\":{\"outlinewidth\":0,\"ticks\":\"\"}}}],\"scatterpolar\":[{\"type\":\"scatterpolar\",\"marker\":{\"colorbar\":{\"outlinewidth\":0,\"ticks\":\"\"}}}],\"histogram\":[{\"marker\":{\"pattern\":{\"fillmode\":\"overlay\",\"size\":10,\"solidity\":0.2}},\"type\":\"histogram\"}],\"scattergl\":[{\"type\":\"scattergl\",\"marker\":{\"colorbar\":{\"outlinewidth\":0,\"ticks\":\"\"}}}],\"scatter3d\":[{\"type\":\"scatter3d\",\"line\":{\"colorbar\":{\"outlinewidth\":0,\"ticks\":\"\"}},\"marker\":{\"colorbar\":{\"outlinewidth\":0,\"ticks\":\"\"}}}],\"scattermapbox\":[{\"type\":\"scattermapbox\",\"marker\":{\"colorbar\":{\"outlinewidth\":0,\"ticks\":\"\"}}}],\"scatterternary\":[{\"type\":\"scatterternary\",\"marker\":{\"colorbar\":{\"outlinewidth\":0,\"ticks\":\"\"}}}],\"scattercarpet\":[{\"type\":\"scattercarpet\",\"marker\":{\"colorbar\":{\"outlinewidth\":0,\"ticks\":\"\"}}}],\"carpet\":[{\"aaxis\":{\"endlinecolor\":\"#2a3f5f\",\"gridcolor\":\"white\",\"linecolor\":\"white\",\"minorgridcolor\":\"white\",\"startlinecolor\":\"#2a3f5f\"},\"baxis\":{\"endlinecolor\":\"#2a3f5f\",\"gridcolor\":\"white\",\"linecolor\":\"white\",\"minorgridcolor\":\"white\",\"startlinecolor\":\"#2a3f5f\"},\"type\":\"carpet\"}],\"table\":[{\"cells\":{\"fill\":{\"color\":\"#EBF0F8\"},\"line\":{\"color\":\"white\"}},\"header\":{\"fill\":{\"color\":\"#C8D4E3\"},\"line\":{\"color\":\"white\"}},\"type\":\"table\"}],\"barpolar\":[{\"marker\":{\"line\":{\"color\":\"#E5ECF6\",\"width\":0.5},\"pattern\":{\"fillmode\":\"overlay\",\"size\":10,\"solidity\":0.2}},\"type\":\"barpolar\"}],\"pie\":[{\"automargin\":true,\"type\":\"pie\"}]},\"layout\":{\"autotypenumbers\":\"strict\",\"colorway\":[\"#636efa\",\"#EF553B\",\"#00cc96\",\"#ab63fa\",\"#FFA15A\",\"#19d3f3\",\"#FF6692\",\"#B6E880\",\"#FF97FF\",\"#FECB52\"],\"font\":{\"color\":\"#2a3f5f\"},\"hovermode\":\"closest\",\"hoverlabel\":{\"align\":\"left\"},\"paper_bgcolor\":\"white\",\"plot_bgcolor\":\"#E5ECF6\",\"polar\":{\"bgcolor\":\"#E5ECF6\",\"angularaxis\":{\"gridcolor\":\"white\",\"linecolor\":\"white\",\"ticks\":\"\"},\"radialaxis\":{\"gridcolor\":\"white\",\"linecolor\":\"white\",\"ticks\":\"\"}},\"ternary\":{\"bgcolor\":\"#E5ECF6\",\"aaxis\":{\"gridcolor\":\"white\",\"linecolor\":\"white\",\"ticks\":\"\"},\"baxis\":{\"gridcolor\":\"white\",\"linecolor\":\"white\",\"ticks\":\"\"},\"caxis\":{\"gridcolor\":\"white\",\"linecolor\":\"white\",\"ticks\":\"\"}},\"coloraxis\":{\"colorbar\":{\"outlinewidth\":0,\"ticks\":\"\"}},\"colorscale\":{\"sequential\":[[0.0,\"#0d0887\"],[0.1111111111111111,\"#46039f\"],[0.2222222222222222,\"#7201a8\"],[0.3333333333333333,\"#9c179e\"],[0.4444444444444444,\"#bd3786\"],[0.5555555555555556,\"#d8576b\"],[0.6666666666666666,\"#ed7953\"],[0.7777777777777778,\"#fb9f3a\"],[0.8888888888888888,\"#fdca26\"],[1.0,\"#f0f921\"]],\"sequentialminus\":[[0.0,\"#0d0887\"],[0.1111111111111111,\"#46039f\"],[0.2222222222222222,\"#7201a8\"],[0.3333333333333333,\"#9c179e\"],[0.4444444444444444,\"#bd3786\"],[0.5555555555555556,\"#d8576b\"],[0.6666666666666666,\"#ed7953\"],[0.7777777777777778,\"#fb9f3a\"],[0.8888888888888888,\"#fdca26\"],[1.0,\"#f0f921\"]],\"diverging\":[[0,\"#8e0152\"],[0.1,\"#c51b7d\"],[0.2,\"#de77ae\"],[0.3,\"#f1b6da\"],[0.4,\"#fde0ef\"],[0.5,\"#f7f7f7\"],[0.6,\"#e6f5d0\"],[0.7,\"#b8e186\"],[0.8,\"#7fbc41\"],[0.9,\"#4d9221\"],[1,\"#276419\"]]},\"xaxis\":{\"gridcolor\":\"white\",\"linecolor\":\"white\",\"ticks\":\"\",\"title\":{\"standoff\":15},\"zerolinecolor\":\"white\",\"automargin\":true,\"zerolinewidth\":2},\"yaxis\":{\"gridcolor\":\"white\",\"linecolor\":\"white\",\"ticks\":\"\",\"title\":{\"standoff\":15},\"zerolinecolor\":\"white\",\"automargin\":true,\"zerolinewidth\":2},\"scene\":{\"xaxis\":{\"backgroundcolor\":\"#E5ECF6\",\"gridcolor\":\"white\",\"linecolor\":\"white\",\"showbackground\":true,\"ticks\":\"\",\"zerolinecolor\":\"white\",\"gridwidth\":2},\"yaxis\":{\"backgroundcolor\":\"#E5ECF6\",\"gridcolor\":\"white\",\"linecolor\":\"white\",\"showbackground\":true,\"ticks\":\"\",\"zerolinecolor\":\"white\",\"gridwidth\":2},\"zaxis\":{\"backgroundcolor\":\"#E5ECF6\",\"gridcolor\":\"white\",\"linecolor\":\"white\",\"showbackground\":true,\"ticks\":\"\",\"zerolinecolor\":\"white\",\"gridwidth\":2}},\"shapedefaults\":{\"line\":{\"color\":\"#2a3f5f\"}},\"annotationdefaults\":{\"arrowcolor\":\"#2a3f5f\",\"arrowhead\":0,\"arrowwidth\":1},\"geo\":{\"bgcolor\":\"white\",\"landcolor\":\"#E5ECF6\",\"subunitcolor\":\"white\",\"showland\":true,\"showlakes\":true,\"lakecolor\":\"white\"},\"title\":{\"x\":0.05},\"mapbox\":{\"style\":\"light\"}}},\"xaxis\":{\"anchor\":\"y\",\"domain\":[0.0,1.0],\"scaleanchor\":\"y\",\"constrain\":\"domain\"},\"yaxis\":{\"anchor\":\"x\",\"domain\":[0.0,1.0],\"autorange\":\"reversed\",\"constrain\":\"domain\"},\"coloraxis\":{\"colorscale\":[[0.0,\"#0d0887\"],[0.1111111111111111,\"#46039f\"],[0.2222222222222222,\"#7201a8\"],[0.3333333333333333,\"#9c179e\"],[0.4444444444444444,\"#bd3786\"],[0.5555555555555556,\"#d8576b\"],[0.6666666666666666,\"#ed7953\"],[0.7777777777777778,\"#fb9f3a\"],[0.8888888888888888,\"#fdca26\"],[1.0,\"#f0f921\"]]},\"margin\":{\"t\":60}},                        {\"responsive\": true}                    ).then(function(){\n",
       "                            \n",
       "var gd = document.getElementById('183a22e2-f99c-4b41-bb57-6c7ef7a3cc8b');\n",
       "var x = new MutationObserver(function (mutations, observer) {{\n",
       "        var display = window.getComputedStyle(gd).display;\n",
       "        if (!display || display === 'none') {{\n",
       "            console.log([gd, 'removed!']);\n",
       "            Plotly.purge(gd);\n",
       "            observer.disconnect();\n",
       "        }}\n",
       "}});\n",
       "\n",
       "// Listen for the removal of the full notebook cells\n",
       "var notebookContainer = gd.closest('#notebook-container');\n",
       "if (notebookContainer) {{\n",
       "    x.observe(notebookContainer, {childList: true});\n",
       "}}\n",
       "\n",
       "// Listen for the clearing of the current output cell\n",
       "var outputEl = gd.closest('.output');\n",
       "if (outputEl) {{\n",
       "    x.observe(outputEl, {childList: true});\n",
       "}}\n",
       "\n",
       "                        })                };                });            </script>        </div>"
      ]
     },
     "metadata": {},
     "output_type": "display_data"
    }
   ],
   "source": [
    "correlation_matrix = PG.corr()\n",
    "fig = px.imshow(correlation_matrix, text_auto=True)\n",
    "fig.show()"
   ]
  },
  {
   "cell_type": "code",
   "execution_count": 45,
   "id": "718635b0",
   "metadata": {},
   "outputs": [
    {
     "data": {
      "application/vnd.plotly.v1+json": {
       "config": {
        "plotlyServerURL": "https://plot.ly"
       },
       "data": [
        {
         "hovertemplate": "x=%{x}<br>y=%{y}<extra></extra>",
         "legendgroup": "",
         "marker": {
          "color": "#636efa",
          "symbol": "circle"
         },
         "mode": "markers",
         "name": "",
         "orientation": "v",
         "showlegend": false,
         "type": "scatter",
         "x": [
          0.762,
          0.762,
          0.762,
          0.762,
          0.667,
          0,
          0,
          0,
          0,
          0.4,
          0.833
         ],
         "xaxis": "x",
         "y": [
          0.182,
          0.182,
          0.182,
          0.182,
          0,
          0.45,
          0.45,
          0.45,
          0.45,
          1,
          0.276
         ],
         "yaxis": "y"
        },
        {
         "hovertemplate": "<b>OLS trendline</b><br>y = -0.377217 * x + 0.515497<br>R<sup>2</sup>=0.282419<br><br>x=%{x}<br>y=%{y} <b>(trend)</b><extra></extra>",
         "legendgroup": "",
         "marker": {
          "color": "#636efa",
          "symbol": "circle"
         },
         "mode": "lines",
         "name": "",
         "showlegend": false,
         "type": "scatter",
         "x": [
          0,
          0,
          0,
          0,
          0.4,
          0.667,
          0.762,
          0.762,
          0.762,
          0.762,
          0.833
         ],
         "xaxis": "x",
         "y": [
          0.5154972745907913,
          0.5154972745907913,
          0.5154972745907913,
          0.5154972745907913,
          0.36461044997488956,
          0.26389349454377514,
          0.22805787369749853,
          0.22805787369749853,
          0.22805787369749853,
          0.22805787369749853,
          0.201275462328176
         ],
         "yaxis": "y"
        }
       ],
       "layout": {
        "legend": {
         "tracegroupgap": 0
        },
        "margin": {
         "t": 60
        },
        "template": {
         "data": {
          "bar": [
           {
            "error_x": {
             "color": "#2a3f5f"
            },
            "error_y": {
             "color": "#2a3f5f"
            },
            "marker": {
             "line": {
              "color": "#E5ECF6",
              "width": 0.5
             },
             "pattern": {
              "fillmode": "overlay",
              "size": 10,
              "solidity": 0.2
             }
            },
            "type": "bar"
           }
          ],
          "barpolar": [
           {
            "marker": {
             "line": {
              "color": "#E5ECF6",
              "width": 0.5
             },
             "pattern": {
              "fillmode": "overlay",
              "size": 10,
              "solidity": 0.2
             }
            },
            "type": "barpolar"
           }
          ],
          "carpet": [
           {
            "aaxis": {
             "endlinecolor": "#2a3f5f",
             "gridcolor": "white",
             "linecolor": "white",
             "minorgridcolor": "white",
             "startlinecolor": "#2a3f5f"
            },
            "baxis": {
             "endlinecolor": "#2a3f5f",
             "gridcolor": "white",
             "linecolor": "white",
             "minorgridcolor": "white",
             "startlinecolor": "#2a3f5f"
            },
            "type": "carpet"
           }
          ],
          "choropleth": [
           {
            "colorbar": {
             "outlinewidth": 0,
             "ticks": ""
            },
            "type": "choropleth"
           }
          ],
          "contour": [
           {
            "colorbar": {
             "outlinewidth": 0,
             "ticks": ""
            },
            "colorscale": [
             [
              0,
              "#0d0887"
             ],
             [
              0.1111111111111111,
              "#46039f"
             ],
             [
              0.2222222222222222,
              "#7201a8"
             ],
             [
              0.3333333333333333,
              "#9c179e"
             ],
             [
              0.4444444444444444,
              "#bd3786"
             ],
             [
              0.5555555555555556,
              "#d8576b"
             ],
             [
              0.6666666666666666,
              "#ed7953"
             ],
             [
              0.7777777777777778,
              "#fb9f3a"
             ],
             [
              0.8888888888888888,
              "#fdca26"
             ],
             [
              1,
              "#f0f921"
             ]
            ],
            "type": "contour"
           }
          ],
          "contourcarpet": [
           {
            "colorbar": {
             "outlinewidth": 0,
             "ticks": ""
            },
            "type": "contourcarpet"
           }
          ],
          "heatmap": [
           {
            "colorbar": {
             "outlinewidth": 0,
             "ticks": ""
            },
            "colorscale": [
             [
              0,
              "#0d0887"
             ],
             [
              0.1111111111111111,
              "#46039f"
             ],
             [
              0.2222222222222222,
              "#7201a8"
             ],
             [
              0.3333333333333333,
              "#9c179e"
             ],
             [
              0.4444444444444444,
              "#bd3786"
             ],
             [
              0.5555555555555556,
              "#d8576b"
             ],
             [
              0.6666666666666666,
              "#ed7953"
             ],
             [
              0.7777777777777778,
              "#fb9f3a"
             ],
             [
              0.8888888888888888,
              "#fdca26"
             ],
             [
              1,
              "#f0f921"
             ]
            ],
            "type": "heatmap"
           }
          ],
          "heatmapgl": [
           {
            "colorbar": {
             "outlinewidth": 0,
             "ticks": ""
            },
            "colorscale": [
             [
              0,
              "#0d0887"
             ],
             [
              0.1111111111111111,
              "#46039f"
             ],
             [
              0.2222222222222222,
              "#7201a8"
             ],
             [
              0.3333333333333333,
              "#9c179e"
             ],
             [
              0.4444444444444444,
              "#bd3786"
             ],
             [
              0.5555555555555556,
              "#d8576b"
             ],
             [
              0.6666666666666666,
              "#ed7953"
             ],
             [
              0.7777777777777778,
              "#fb9f3a"
             ],
             [
              0.8888888888888888,
              "#fdca26"
             ],
             [
              1,
              "#f0f921"
             ]
            ],
            "type": "heatmapgl"
           }
          ],
          "histogram": [
           {
            "marker": {
             "pattern": {
              "fillmode": "overlay",
              "size": 10,
              "solidity": 0.2
             }
            },
            "type": "histogram"
           }
          ],
          "histogram2d": [
           {
            "colorbar": {
             "outlinewidth": 0,
             "ticks": ""
            },
            "colorscale": [
             [
              0,
              "#0d0887"
             ],
             [
              0.1111111111111111,
              "#46039f"
             ],
             [
              0.2222222222222222,
              "#7201a8"
             ],
             [
              0.3333333333333333,
              "#9c179e"
             ],
             [
              0.4444444444444444,
              "#bd3786"
             ],
             [
              0.5555555555555556,
              "#d8576b"
             ],
             [
              0.6666666666666666,
              "#ed7953"
             ],
             [
              0.7777777777777778,
              "#fb9f3a"
             ],
             [
              0.8888888888888888,
              "#fdca26"
             ],
             [
              1,
              "#f0f921"
             ]
            ],
            "type": "histogram2d"
           }
          ],
          "histogram2dcontour": [
           {
            "colorbar": {
             "outlinewidth": 0,
             "ticks": ""
            },
            "colorscale": [
             [
              0,
              "#0d0887"
             ],
             [
              0.1111111111111111,
              "#46039f"
             ],
             [
              0.2222222222222222,
              "#7201a8"
             ],
             [
              0.3333333333333333,
              "#9c179e"
             ],
             [
              0.4444444444444444,
              "#bd3786"
             ],
             [
              0.5555555555555556,
              "#d8576b"
             ],
             [
              0.6666666666666666,
              "#ed7953"
             ],
             [
              0.7777777777777778,
              "#fb9f3a"
             ],
             [
              0.8888888888888888,
              "#fdca26"
             ],
             [
              1,
              "#f0f921"
             ]
            ],
            "type": "histogram2dcontour"
           }
          ],
          "mesh3d": [
           {
            "colorbar": {
             "outlinewidth": 0,
             "ticks": ""
            },
            "type": "mesh3d"
           }
          ],
          "parcoords": [
           {
            "line": {
             "colorbar": {
              "outlinewidth": 0,
              "ticks": ""
             }
            },
            "type": "parcoords"
           }
          ],
          "pie": [
           {
            "automargin": true,
            "type": "pie"
           }
          ],
          "scatter": [
           {
            "fillpattern": {
             "fillmode": "overlay",
             "size": 10,
             "solidity": 0.2
            },
            "type": "scatter"
           }
          ],
          "scatter3d": [
           {
            "line": {
             "colorbar": {
              "outlinewidth": 0,
              "ticks": ""
             }
            },
            "marker": {
             "colorbar": {
              "outlinewidth": 0,
              "ticks": ""
             }
            },
            "type": "scatter3d"
           }
          ],
          "scattercarpet": [
           {
            "marker": {
             "colorbar": {
              "outlinewidth": 0,
              "ticks": ""
             }
            },
            "type": "scattercarpet"
           }
          ],
          "scattergeo": [
           {
            "marker": {
             "colorbar": {
              "outlinewidth": 0,
              "ticks": ""
             }
            },
            "type": "scattergeo"
           }
          ],
          "scattergl": [
           {
            "marker": {
             "colorbar": {
              "outlinewidth": 0,
              "ticks": ""
             }
            },
            "type": "scattergl"
           }
          ],
          "scattermapbox": [
           {
            "marker": {
             "colorbar": {
              "outlinewidth": 0,
              "ticks": ""
             }
            },
            "type": "scattermapbox"
           }
          ],
          "scatterpolar": [
           {
            "marker": {
             "colorbar": {
              "outlinewidth": 0,
              "ticks": ""
             }
            },
            "type": "scatterpolar"
           }
          ],
          "scatterpolargl": [
           {
            "marker": {
             "colorbar": {
              "outlinewidth": 0,
              "ticks": ""
             }
            },
            "type": "scatterpolargl"
           }
          ],
          "scatterternary": [
           {
            "marker": {
             "colorbar": {
              "outlinewidth": 0,
              "ticks": ""
             }
            },
            "type": "scatterternary"
           }
          ],
          "surface": [
           {
            "colorbar": {
             "outlinewidth": 0,
             "ticks": ""
            },
            "colorscale": [
             [
              0,
              "#0d0887"
             ],
             [
              0.1111111111111111,
              "#46039f"
             ],
             [
              0.2222222222222222,
              "#7201a8"
             ],
             [
              0.3333333333333333,
              "#9c179e"
             ],
             [
              0.4444444444444444,
              "#bd3786"
             ],
             [
              0.5555555555555556,
              "#d8576b"
             ],
             [
              0.6666666666666666,
              "#ed7953"
             ],
             [
              0.7777777777777778,
              "#fb9f3a"
             ],
             [
              0.8888888888888888,
              "#fdca26"
             ],
             [
              1,
              "#f0f921"
             ]
            ],
            "type": "surface"
           }
          ],
          "table": [
           {
            "cells": {
             "fill": {
              "color": "#EBF0F8"
             },
             "line": {
              "color": "white"
             }
            },
            "header": {
             "fill": {
              "color": "#C8D4E3"
             },
             "line": {
              "color": "white"
             }
            },
            "type": "table"
           }
          ]
         },
         "layout": {
          "annotationdefaults": {
           "arrowcolor": "#2a3f5f",
           "arrowhead": 0,
           "arrowwidth": 1
          },
          "autotypenumbers": "strict",
          "coloraxis": {
           "colorbar": {
            "outlinewidth": 0,
            "ticks": ""
           }
          },
          "colorscale": {
           "diverging": [
            [
             0,
             "#8e0152"
            ],
            [
             0.1,
             "#c51b7d"
            ],
            [
             0.2,
             "#de77ae"
            ],
            [
             0.3,
             "#f1b6da"
            ],
            [
             0.4,
             "#fde0ef"
            ],
            [
             0.5,
             "#f7f7f7"
            ],
            [
             0.6,
             "#e6f5d0"
            ],
            [
             0.7,
             "#b8e186"
            ],
            [
             0.8,
             "#7fbc41"
            ],
            [
             0.9,
             "#4d9221"
            ],
            [
             1,
             "#276419"
            ]
           ],
           "sequential": [
            [
             0,
             "#0d0887"
            ],
            [
             0.1111111111111111,
             "#46039f"
            ],
            [
             0.2222222222222222,
             "#7201a8"
            ],
            [
             0.3333333333333333,
             "#9c179e"
            ],
            [
             0.4444444444444444,
             "#bd3786"
            ],
            [
             0.5555555555555556,
             "#d8576b"
            ],
            [
             0.6666666666666666,
             "#ed7953"
            ],
            [
             0.7777777777777778,
             "#fb9f3a"
            ],
            [
             0.8888888888888888,
             "#fdca26"
            ],
            [
             1,
             "#f0f921"
            ]
           ],
           "sequentialminus": [
            [
             0,
             "#0d0887"
            ],
            [
             0.1111111111111111,
             "#46039f"
            ],
            [
             0.2222222222222222,
             "#7201a8"
            ],
            [
             0.3333333333333333,
             "#9c179e"
            ],
            [
             0.4444444444444444,
             "#bd3786"
            ],
            [
             0.5555555555555556,
             "#d8576b"
            ],
            [
             0.6666666666666666,
             "#ed7953"
            ],
            [
             0.7777777777777778,
             "#fb9f3a"
            ],
            [
             0.8888888888888888,
             "#fdca26"
            ],
            [
             1,
             "#f0f921"
            ]
           ]
          },
          "colorway": [
           "#636efa",
           "#EF553B",
           "#00cc96",
           "#ab63fa",
           "#FFA15A",
           "#19d3f3",
           "#FF6692",
           "#B6E880",
           "#FF97FF",
           "#FECB52"
          ],
          "font": {
           "color": "#2a3f5f"
          },
          "geo": {
           "bgcolor": "white",
           "lakecolor": "white",
           "landcolor": "#E5ECF6",
           "showlakes": true,
           "showland": true,
           "subunitcolor": "white"
          },
          "hoverlabel": {
           "align": "left"
          },
          "hovermode": "closest",
          "mapbox": {
           "style": "light"
          },
          "paper_bgcolor": "white",
          "plot_bgcolor": "#E5ECF6",
          "polar": {
           "angularaxis": {
            "gridcolor": "white",
            "linecolor": "white",
            "ticks": ""
           },
           "bgcolor": "#E5ECF6",
           "radialaxis": {
            "gridcolor": "white",
            "linecolor": "white",
            "ticks": ""
           }
          },
          "scene": {
           "xaxis": {
            "backgroundcolor": "#E5ECF6",
            "gridcolor": "white",
            "gridwidth": 2,
            "linecolor": "white",
            "showbackground": true,
            "ticks": "",
            "zerolinecolor": "white"
           },
           "yaxis": {
            "backgroundcolor": "#E5ECF6",
            "gridcolor": "white",
            "gridwidth": 2,
            "linecolor": "white",
            "showbackground": true,
            "ticks": "",
            "zerolinecolor": "white"
           },
           "zaxis": {
            "backgroundcolor": "#E5ECF6",
            "gridcolor": "white",
            "gridwidth": 2,
            "linecolor": "white",
            "showbackground": true,
            "ticks": "",
            "zerolinecolor": "white"
           }
          },
          "shapedefaults": {
           "line": {
            "color": "#2a3f5f"
           }
          },
          "ternary": {
           "aaxis": {
            "gridcolor": "white",
            "linecolor": "white",
            "ticks": ""
           },
           "baxis": {
            "gridcolor": "white",
            "linecolor": "white",
            "ticks": ""
           },
           "bgcolor": "#E5ECF6",
           "caxis": {
            "gridcolor": "white",
            "linecolor": "white",
            "ticks": ""
           }
          },
          "title": {
           "x": 0.05
          },
          "xaxis": {
           "automargin": true,
           "gridcolor": "white",
           "linecolor": "white",
           "ticks": "",
           "title": {
            "standoff": 15
           },
           "zerolinecolor": "white",
           "zerolinewidth": 2
          },
          "yaxis": {
           "automargin": true,
           "gridcolor": "white",
           "linecolor": "white",
           "ticks": "",
           "title": {
            "standoff": 15
           },
           "zerolinecolor": "white",
           "zerolinewidth": 2
          }
         }
        },
        "xaxis": {
         "anchor": "y",
         "domain": [
          0,
          1
         ],
         "title": {
          "text": "x"
         }
        },
        "yaxis": {
         "anchor": "x",
         "domain": [
          0,
          1
         ],
         "title": {
          "text": "y"
         }
        }
       }
      },
      "text/html": [
       "<div>                            <div id=\"a08fe99e-9911-45dc-9c11-d971cc7e015f\" class=\"plotly-graph-div\" style=\"height:525px; width:100%;\"></div>            <script type=\"text/javascript\">                require([\"plotly\"], function(Plotly) {                    window.PLOTLYENV=window.PLOTLYENV || {};                                    if (document.getElementById(\"a08fe99e-9911-45dc-9c11-d971cc7e015f\")) {                    Plotly.newPlot(                        \"a08fe99e-9911-45dc-9c11-d971cc7e015f\",                        [{\"hovertemplate\":\"x=%{x}<br>y=%{y}<extra></extra>\",\"legendgroup\":\"\",\"marker\":{\"color\":\"#636efa\",\"symbol\":\"circle\"},\"mode\":\"markers\",\"name\":\"\",\"orientation\":\"v\",\"showlegend\":false,\"x\":[0.762,0.762,0.762,0.762,0.667,0.0,0.0,0.0,0.0,0.4,0.833],\"xaxis\":\"x\",\"y\":[0.182,0.182,0.182,0.182,0.0,0.45,0.45,0.45,0.45,1.0,0.276],\"yaxis\":\"y\",\"type\":\"scatter\"},{\"hovertemplate\":\"<b>OLS trendline</b><br>y = -0.377217 * x + 0.515497<br>R<sup>2</sup>=0.282419<br><br>x=%{x}<br>y=%{y} <b>(trend)</b><extra></extra>\",\"legendgroup\":\"\",\"marker\":{\"color\":\"#636efa\",\"symbol\":\"circle\"},\"mode\":\"lines\",\"name\":\"\",\"showlegend\":false,\"x\":[0.0,0.0,0.0,0.0,0.4,0.667,0.762,0.762,0.762,0.762,0.833],\"xaxis\":\"x\",\"y\":[0.5154972745907913,0.5154972745907913,0.5154972745907913,0.5154972745907913,0.36461044997488956,0.26389349454377514,0.22805787369749853,0.22805787369749853,0.22805787369749853,0.22805787369749853,0.201275462328176],\"yaxis\":\"y\",\"type\":\"scatter\"}],                        {\"template\":{\"data\":{\"histogram2dcontour\":[{\"type\":\"histogram2dcontour\",\"colorbar\":{\"outlinewidth\":0,\"ticks\":\"\"},\"colorscale\":[[0.0,\"#0d0887\"],[0.1111111111111111,\"#46039f\"],[0.2222222222222222,\"#7201a8\"],[0.3333333333333333,\"#9c179e\"],[0.4444444444444444,\"#bd3786\"],[0.5555555555555556,\"#d8576b\"],[0.6666666666666666,\"#ed7953\"],[0.7777777777777778,\"#fb9f3a\"],[0.8888888888888888,\"#fdca26\"],[1.0,\"#f0f921\"]]}],\"choropleth\":[{\"type\":\"choropleth\",\"colorbar\":{\"outlinewidth\":0,\"ticks\":\"\"}}],\"histogram2d\":[{\"type\":\"histogram2d\",\"colorbar\":{\"outlinewidth\":0,\"ticks\":\"\"},\"colorscale\":[[0.0,\"#0d0887\"],[0.1111111111111111,\"#46039f\"],[0.2222222222222222,\"#7201a8\"],[0.3333333333333333,\"#9c179e\"],[0.4444444444444444,\"#bd3786\"],[0.5555555555555556,\"#d8576b\"],[0.6666666666666666,\"#ed7953\"],[0.7777777777777778,\"#fb9f3a\"],[0.8888888888888888,\"#fdca26\"],[1.0,\"#f0f921\"]]}],\"heatmap\":[{\"type\":\"heatmap\",\"colorbar\":{\"outlinewidth\":0,\"ticks\":\"\"},\"colorscale\":[[0.0,\"#0d0887\"],[0.1111111111111111,\"#46039f\"],[0.2222222222222222,\"#7201a8\"],[0.3333333333333333,\"#9c179e\"],[0.4444444444444444,\"#bd3786\"],[0.5555555555555556,\"#d8576b\"],[0.6666666666666666,\"#ed7953\"],[0.7777777777777778,\"#fb9f3a\"],[0.8888888888888888,\"#fdca26\"],[1.0,\"#f0f921\"]]}],\"heatmapgl\":[{\"type\":\"heatmapgl\",\"colorbar\":{\"outlinewidth\":0,\"ticks\":\"\"},\"colorscale\":[[0.0,\"#0d0887\"],[0.1111111111111111,\"#46039f\"],[0.2222222222222222,\"#7201a8\"],[0.3333333333333333,\"#9c179e\"],[0.4444444444444444,\"#bd3786\"],[0.5555555555555556,\"#d8576b\"],[0.6666666666666666,\"#ed7953\"],[0.7777777777777778,\"#fb9f3a\"],[0.8888888888888888,\"#fdca26\"],[1.0,\"#f0f921\"]]}],\"contourcarpet\":[{\"type\":\"contourcarpet\",\"colorbar\":{\"outlinewidth\":0,\"ticks\":\"\"}}],\"contour\":[{\"type\":\"contour\",\"colorbar\":{\"outlinewidth\":0,\"ticks\":\"\"},\"colorscale\":[[0.0,\"#0d0887\"],[0.1111111111111111,\"#46039f\"],[0.2222222222222222,\"#7201a8\"],[0.3333333333333333,\"#9c179e\"],[0.4444444444444444,\"#bd3786\"],[0.5555555555555556,\"#d8576b\"],[0.6666666666666666,\"#ed7953\"],[0.7777777777777778,\"#fb9f3a\"],[0.8888888888888888,\"#fdca26\"],[1.0,\"#f0f921\"]]}],\"surface\":[{\"type\":\"surface\",\"colorbar\":{\"outlinewidth\":0,\"ticks\":\"\"},\"colorscale\":[[0.0,\"#0d0887\"],[0.1111111111111111,\"#46039f\"],[0.2222222222222222,\"#7201a8\"],[0.3333333333333333,\"#9c179e\"],[0.4444444444444444,\"#bd3786\"],[0.5555555555555556,\"#d8576b\"],[0.6666666666666666,\"#ed7953\"],[0.7777777777777778,\"#fb9f3a\"],[0.8888888888888888,\"#fdca26\"],[1.0,\"#f0f921\"]]}],\"mesh3d\":[{\"type\":\"mesh3d\",\"colorbar\":{\"outlinewidth\":0,\"ticks\":\"\"}}],\"scatter\":[{\"fillpattern\":{\"fillmode\":\"overlay\",\"size\":10,\"solidity\":0.2},\"type\":\"scatter\"}],\"parcoords\":[{\"type\":\"parcoords\",\"line\":{\"colorbar\":{\"outlinewidth\":0,\"ticks\":\"\"}}}],\"scatterpolargl\":[{\"type\":\"scatterpolargl\",\"marker\":{\"colorbar\":{\"outlinewidth\":0,\"ticks\":\"\"}}}],\"bar\":[{\"error_x\":{\"color\":\"#2a3f5f\"},\"error_y\":{\"color\":\"#2a3f5f\"},\"marker\":{\"line\":{\"color\":\"#E5ECF6\",\"width\":0.5},\"pattern\":{\"fillmode\":\"overlay\",\"size\":10,\"solidity\":0.2}},\"type\":\"bar\"}],\"scattergeo\":[{\"type\":\"scattergeo\",\"marker\":{\"colorbar\":{\"outlinewidth\":0,\"ticks\":\"\"}}}],\"scatterpolar\":[{\"type\":\"scatterpolar\",\"marker\":{\"colorbar\":{\"outlinewidth\":0,\"ticks\":\"\"}}}],\"histogram\":[{\"marker\":{\"pattern\":{\"fillmode\":\"overlay\",\"size\":10,\"solidity\":0.2}},\"type\":\"histogram\"}],\"scattergl\":[{\"type\":\"scattergl\",\"marker\":{\"colorbar\":{\"outlinewidth\":0,\"ticks\":\"\"}}}],\"scatter3d\":[{\"type\":\"scatter3d\",\"line\":{\"colorbar\":{\"outlinewidth\":0,\"ticks\":\"\"}},\"marker\":{\"colorbar\":{\"outlinewidth\":0,\"ticks\":\"\"}}}],\"scattermapbox\":[{\"type\":\"scattermapbox\",\"marker\":{\"colorbar\":{\"outlinewidth\":0,\"ticks\":\"\"}}}],\"scatterternary\":[{\"type\":\"scatterternary\",\"marker\":{\"colorbar\":{\"outlinewidth\":0,\"ticks\":\"\"}}}],\"scattercarpet\":[{\"type\":\"scattercarpet\",\"marker\":{\"colorbar\":{\"outlinewidth\":0,\"ticks\":\"\"}}}],\"carpet\":[{\"aaxis\":{\"endlinecolor\":\"#2a3f5f\",\"gridcolor\":\"white\",\"linecolor\":\"white\",\"minorgridcolor\":\"white\",\"startlinecolor\":\"#2a3f5f\"},\"baxis\":{\"endlinecolor\":\"#2a3f5f\",\"gridcolor\":\"white\",\"linecolor\":\"white\",\"minorgridcolor\":\"white\",\"startlinecolor\":\"#2a3f5f\"},\"type\":\"carpet\"}],\"table\":[{\"cells\":{\"fill\":{\"color\":\"#EBF0F8\"},\"line\":{\"color\":\"white\"}},\"header\":{\"fill\":{\"color\":\"#C8D4E3\"},\"line\":{\"color\":\"white\"}},\"type\":\"table\"}],\"barpolar\":[{\"marker\":{\"line\":{\"color\":\"#E5ECF6\",\"width\":0.5},\"pattern\":{\"fillmode\":\"overlay\",\"size\":10,\"solidity\":0.2}},\"type\":\"barpolar\"}],\"pie\":[{\"automargin\":true,\"type\":\"pie\"}]},\"layout\":{\"autotypenumbers\":\"strict\",\"colorway\":[\"#636efa\",\"#EF553B\",\"#00cc96\",\"#ab63fa\",\"#FFA15A\",\"#19d3f3\",\"#FF6692\",\"#B6E880\",\"#FF97FF\",\"#FECB52\"],\"font\":{\"color\":\"#2a3f5f\"},\"hovermode\":\"closest\",\"hoverlabel\":{\"align\":\"left\"},\"paper_bgcolor\":\"white\",\"plot_bgcolor\":\"#E5ECF6\",\"polar\":{\"bgcolor\":\"#E5ECF6\",\"angularaxis\":{\"gridcolor\":\"white\",\"linecolor\":\"white\",\"ticks\":\"\"},\"radialaxis\":{\"gridcolor\":\"white\",\"linecolor\":\"white\",\"ticks\":\"\"}},\"ternary\":{\"bgcolor\":\"#E5ECF6\",\"aaxis\":{\"gridcolor\":\"white\",\"linecolor\":\"white\",\"ticks\":\"\"},\"baxis\":{\"gridcolor\":\"white\",\"linecolor\":\"white\",\"ticks\":\"\"},\"caxis\":{\"gridcolor\":\"white\",\"linecolor\":\"white\",\"ticks\":\"\"}},\"coloraxis\":{\"colorbar\":{\"outlinewidth\":0,\"ticks\":\"\"}},\"colorscale\":{\"sequential\":[[0.0,\"#0d0887\"],[0.1111111111111111,\"#46039f\"],[0.2222222222222222,\"#7201a8\"],[0.3333333333333333,\"#9c179e\"],[0.4444444444444444,\"#bd3786\"],[0.5555555555555556,\"#d8576b\"],[0.6666666666666666,\"#ed7953\"],[0.7777777777777778,\"#fb9f3a\"],[0.8888888888888888,\"#fdca26\"],[1.0,\"#f0f921\"]],\"sequentialminus\":[[0.0,\"#0d0887\"],[0.1111111111111111,\"#46039f\"],[0.2222222222222222,\"#7201a8\"],[0.3333333333333333,\"#9c179e\"],[0.4444444444444444,\"#bd3786\"],[0.5555555555555556,\"#d8576b\"],[0.6666666666666666,\"#ed7953\"],[0.7777777777777778,\"#fb9f3a\"],[0.8888888888888888,\"#fdca26\"],[1.0,\"#f0f921\"]],\"diverging\":[[0,\"#8e0152\"],[0.1,\"#c51b7d\"],[0.2,\"#de77ae\"],[0.3,\"#f1b6da\"],[0.4,\"#fde0ef\"],[0.5,\"#f7f7f7\"],[0.6,\"#e6f5d0\"],[0.7,\"#b8e186\"],[0.8,\"#7fbc41\"],[0.9,\"#4d9221\"],[1,\"#276419\"]]},\"xaxis\":{\"gridcolor\":\"white\",\"linecolor\":\"white\",\"ticks\":\"\",\"title\":{\"standoff\":15},\"zerolinecolor\":\"white\",\"automargin\":true,\"zerolinewidth\":2},\"yaxis\":{\"gridcolor\":\"white\",\"linecolor\":\"white\",\"ticks\":\"\",\"title\":{\"standoff\":15},\"zerolinecolor\":\"white\",\"automargin\":true,\"zerolinewidth\":2},\"scene\":{\"xaxis\":{\"backgroundcolor\":\"#E5ECF6\",\"gridcolor\":\"white\",\"linecolor\":\"white\",\"showbackground\":true,\"ticks\":\"\",\"zerolinecolor\":\"white\",\"gridwidth\":2},\"yaxis\":{\"backgroundcolor\":\"#E5ECF6\",\"gridcolor\":\"white\",\"linecolor\":\"white\",\"showbackground\":true,\"ticks\":\"\",\"zerolinecolor\":\"white\",\"gridwidth\":2},\"zaxis\":{\"backgroundcolor\":\"#E5ECF6\",\"gridcolor\":\"white\",\"linecolor\":\"white\",\"showbackground\":true,\"ticks\":\"\",\"zerolinecolor\":\"white\",\"gridwidth\":2}},\"shapedefaults\":{\"line\":{\"color\":\"#2a3f5f\"}},\"annotationdefaults\":{\"arrowcolor\":\"#2a3f5f\",\"arrowhead\":0,\"arrowwidth\":1},\"geo\":{\"bgcolor\":\"white\",\"landcolor\":\"#E5ECF6\",\"subunitcolor\":\"white\",\"showland\":true,\"showlakes\":true,\"lakecolor\":\"white\"},\"title\":{\"x\":0.05},\"mapbox\":{\"style\":\"light\"}}},\"xaxis\":{\"anchor\":\"y\",\"domain\":[0.0,1.0],\"title\":{\"text\":\"x\"}},\"yaxis\":{\"anchor\":\"x\",\"domain\":[0.0,1.0],\"title\":{\"text\":\"y\"}},\"legend\":{\"tracegroupgap\":0},\"margin\":{\"t\":60}},                        {\"responsive\": true}                    ).then(function(){\n",
       "                            \n",
       "var gd = document.getElementById('a08fe99e-9911-45dc-9c11-d971cc7e015f');\n",
       "var x = new MutationObserver(function (mutations, observer) {{\n",
       "        var display = window.getComputedStyle(gd).display;\n",
       "        if (!display || display === 'none') {{\n",
       "            console.log([gd, 'removed!']);\n",
       "            Plotly.purge(gd);\n",
       "            observer.disconnect();\n",
       "        }}\n",
       "}});\n",
       "\n",
       "// Listen for the removal of the full notebook cells\n",
       "var notebookContainer = gd.closest('#notebook-container');\n",
       "if (notebookContainer) {{\n",
       "    x.observe(notebookContainer, {childList: true});\n",
       "}}\n",
       "\n",
       "// Listen for the clearing of the current output cell\n",
       "var outputEl = gd.closest('.output');\n",
       "if (outputEl) {{\n",
       "    x.observe(outputEl, {childList: true});\n",
       "}}\n",
       "\n",
       "                        })                };                });            </script>        </div>"
      ]
     },
     "metadata": {},
     "output_type": "display_data"
    }
   ],
   "source": [
    "import plotly.express as px\n",
    "fig = px.scatter(x=Centers[\"FT%\"], y=Centers[\"3P%\"],trendline=\"ols\")\n",
    "fig.show()"
   ]
  },
  {
   "cell_type": "code",
   "execution_count": 47,
   "id": "c988350d",
   "metadata": {},
   "outputs": [
    {
     "data": {
      "application/vnd.plotly.v1+json": {
       "config": {
        "plotlyServerURL": "https://plot.ly"
       },
       "data": [
        {
         "hovertemplate": "x=%{x}<br>y=%{y}<extra></extra>",
         "legendgroup": "",
         "marker": {
          "color": "#636efa",
          "symbol": "circle"
         },
         "mode": "markers",
         "name": "",
         "orientation": "v",
         "showlegend": false,
         "type": "scatter",
         "x": [
          30.8,
          30.8,
          30.8,
          30.8,
          14,
          29.6,
          29.6,
          29.6,
          29.6,
          31,
          31,
          12,
          12,
          12,
          9.2,
          9.2,
          9.2,
          9.2,
          9.2,
          9.2,
          9.2,
          9.2,
          9.2,
          8.8,
          8.8,
          8.8,
          15.3,
          15.3,
          15.3,
          15.3,
          12.3,
          12.3,
          12.3,
          12.3,
          12.3,
          12.3
         ],
         "xaxis": "x",
         "y": [
          6,
          6,
          6,
          6,
          7,
          4.4,
          4.4,
          4.4,
          4.4,
          4.6,
          4.6,
          5.3,
          5.3,
          5.3,
          10,
          10,
          10,
          10,
          10,
          10,
          10,
          10,
          10,
          2.8,
          2.8,
          2.8,
          4.3,
          4.3,
          4.3,
          4.3,
          4,
          4,
          4,
          4,
          4,
          4
         ],
         "yaxis": "y"
        },
        {
         "hovertemplate": "<b>OLS trendline</b><br>y = -0.0896642 * x + 7.41392<br>R<sup>2</sup>=0.097898<br><br>x=%{x}<br>y=%{y} <b>(trend)</b><extra></extra>",
         "legendgroup": "",
         "marker": {
          "color": "#636efa",
          "symbol": "circle"
         },
         "mode": "lines",
         "name": "",
         "showlegend": false,
         "type": "scatter",
         "x": [
          8.8,
          8.8,
          8.8,
          9.2,
          9.2,
          9.2,
          9.2,
          9.2,
          9.2,
          9.2,
          9.2,
          9.2,
          12,
          12,
          12,
          12.3,
          12.3,
          12.3,
          12.3,
          12.3,
          12.3,
          14,
          15.3,
          15.3,
          15.3,
          15.3,
          29.6,
          29.6,
          29.6,
          29.6,
          30.8,
          30.8,
          30.8,
          30.8,
          31,
          31
         ],
         "xaxis": "x",
         "y": [
          6.624878618454018,
          6.624878618454018,
          6.624878618454018,
          6.589012952597299,
          6.589012952597299,
          6.589012952597299,
          6.589012952597299,
          6.589012952597299,
          6.589012952597299,
          6.589012952597299,
          6.589012952597299,
          6.589012952597299,
          6.33795329160027,
          6.33795329160027,
          6.33795329160027,
          6.311054042207731,
          6.311054042207731,
          6.311054042207731,
          6.311054042207731,
          6.311054042207731,
          6.311054042207731,
          6.158624962316678,
          6.042061548282343,
          6.042061548282343,
          6.042061548282343,
          6.042061548282343,
          4.759863993904661,
          4.759863993904661,
          4.759863993904661,
          4.759863993904661,
          4.652266996334506,
          4.652266996334506,
          4.652266996334506,
          4.652266996334506,
          4.634334163406146,
          4.634334163406146
         ],
         "yaxis": "y"
        }
       ],
       "layout": {
        "legend": {
         "tracegroupgap": 0
        },
        "margin": {
         "t": 60
        },
        "template": {
         "data": {
          "bar": [
           {
            "error_x": {
             "color": "#2a3f5f"
            },
            "error_y": {
             "color": "#2a3f5f"
            },
            "marker": {
             "line": {
              "color": "#E5ECF6",
              "width": 0.5
             },
             "pattern": {
              "fillmode": "overlay",
              "size": 10,
              "solidity": 0.2
             }
            },
            "type": "bar"
           }
          ],
          "barpolar": [
           {
            "marker": {
             "line": {
              "color": "#E5ECF6",
              "width": 0.5
             },
             "pattern": {
              "fillmode": "overlay",
              "size": 10,
              "solidity": 0.2
             }
            },
            "type": "barpolar"
           }
          ],
          "carpet": [
           {
            "aaxis": {
             "endlinecolor": "#2a3f5f",
             "gridcolor": "white",
             "linecolor": "white",
             "minorgridcolor": "white",
             "startlinecolor": "#2a3f5f"
            },
            "baxis": {
             "endlinecolor": "#2a3f5f",
             "gridcolor": "white",
             "linecolor": "white",
             "minorgridcolor": "white",
             "startlinecolor": "#2a3f5f"
            },
            "type": "carpet"
           }
          ],
          "choropleth": [
           {
            "colorbar": {
             "outlinewidth": 0,
             "ticks": ""
            },
            "type": "choropleth"
           }
          ],
          "contour": [
           {
            "colorbar": {
             "outlinewidth": 0,
             "ticks": ""
            },
            "colorscale": [
             [
              0,
              "#0d0887"
             ],
             [
              0.1111111111111111,
              "#46039f"
             ],
             [
              0.2222222222222222,
              "#7201a8"
             ],
             [
              0.3333333333333333,
              "#9c179e"
             ],
             [
              0.4444444444444444,
              "#bd3786"
             ],
             [
              0.5555555555555556,
              "#d8576b"
             ],
             [
              0.6666666666666666,
              "#ed7953"
             ],
             [
              0.7777777777777778,
              "#fb9f3a"
             ],
             [
              0.8888888888888888,
              "#fdca26"
             ],
             [
              1,
              "#f0f921"
             ]
            ],
            "type": "contour"
           }
          ],
          "contourcarpet": [
           {
            "colorbar": {
             "outlinewidth": 0,
             "ticks": ""
            },
            "type": "contourcarpet"
           }
          ],
          "heatmap": [
           {
            "colorbar": {
             "outlinewidth": 0,
             "ticks": ""
            },
            "colorscale": [
             [
              0,
              "#0d0887"
             ],
             [
              0.1111111111111111,
              "#46039f"
             ],
             [
              0.2222222222222222,
              "#7201a8"
             ],
             [
              0.3333333333333333,
              "#9c179e"
             ],
             [
              0.4444444444444444,
              "#bd3786"
             ],
             [
              0.5555555555555556,
              "#d8576b"
             ],
             [
              0.6666666666666666,
              "#ed7953"
             ],
             [
              0.7777777777777778,
              "#fb9f3a"
             ],
             [
              0.8888888888888888,
              "#fdca26"
             ],
             [
              1,
              "#f0f921"
             ]
            ],
            "type": "heatmap"
           }
          ],
          "heatmapgl": [
           {
            "colorbar": {
             "outlinewidth": 0,
             "ticks": ""
            },
            "colorscale": [
             [
              0,
              "#0d0887"
             ],
             [
              0.1111111111111111,
              "#46039f"
             ],
             [
              0.2222222222222222,
              "#7201a8"
             ],
             [
              0.3333333333333333,
              "#9c179e"
             ],
             [
              0.4444444444444444,
              "#bd3786"
             ],
             [
              0.5555555555555556,
              "#d8576b"
             ],
             [
              0.6666666666666666,
              "#ed7953"
             ],
             [
              0.7777777777777778,
              "#fb9f3a"
             ],
             [
              0.8888888888888888,
              "#fdca26"
             ],
             [
              1,
              "#f0f921"
             ]
            ],
            "type": "heatmapgl"
           }
          ],
          "histogram": [
           {
            "marker": {
             "pattern": {
              "fillmode": "overlay",
              "size": 10,
              "solidity": 0.2
             }
            },
            "type": "histogram"
           }
          ],
          "histogram2d": [
           {
            "colorbar": {
             "outlinewidth": 0,
             "ticks": ""
            },
            "colorscale": [
             [
              0,
              "#0d0887"
             ],
             [
              0.1111111111111111,
              "#46039f"
             ],
             [
              0.2222222222222222,
              "#7201a8"
             ],
             [
              0.3333333333333333,
              "#9c179e"
             ],
             [
              0.4444444444444444,
              "#bd3786"
             ],
             [
              0.5555555555555556,
              "#d8576b"
             ],
             [
              0.6666666666666666,
              "#ed7953"
             ],
             [
              0.7777777777777778,
              "#fb9f3a"
             ],
             [
              0.8888888888888888,
              "#fdca26"
             ],
             [
              1,
              "#f0f921"
             ]
            ],
            "type": "histogram2d"
           }
          ],
          "histogram2dcontour": [
           {
            "colorbar": {
             "outlinewidth": 0,
             "ticks": ""
            },
            "colorscale": [
             [
              0,
              "#0d0887"
             ],
             [
              0.1111111111111111,
              "#46039f"
             ],
             [
              0.2222222222222222,
              "#7201a8"
             ],
             [
              0.3333333333333333,
              "#9c179e"
             ],
             [
              0.4444444444444444,
              "#bd3786"
             ],
             [
              0.5555555555555556,
              "#d8576b"
             ],
             [
              0.6666666666666666,
              "#ed7953"
             ],
             [
              0.7777777777777778,
              "#fb9f3a"
             ],
             [
              0.8888888888888888,
              "#fdca26"
             ],
             [
              1,
              "#f0f921"
             ]
            ],
            "type": "histogram2dcontour"
           }
          ],
          "mesh3d": [
           {
            "colorbar": {
             "outlinewidth": 0,
             "ticks": ""
            },
            "type": "mesh3d"
           }
          ],
          "parcoords": [
           {
            "line": {
             "colorbar": {
              "outlinewidth": 0,
              "ticks": ""
             }
            },
            "type": "parcoords"
           }
          ],
          "pie": [
           {
            "automargin": true,
            "type": "pie"
           }
          ],
          "scatter": [
           {
            "fillpattern": {
             "fillmode": "overlay",
             "size": 10,
             "solidity": 0.2
            },
            "type": "scatter"
           }
          ],
          "scatter3d": [
           {
            "line": {
             "colorbar": {
              "outlinewidth": 0,
              "ticks": ""
             }
            },
            "marker": {
             "colorbar": {
              "outlinewidth": 0,
              "ticks": ""
             }
            },
            "type": "scatter3d"
           }
          ],
          "scattercarpet": [
           {
            "marker": {
             "colorbar": {
              "outlinewidth": 0,
              "ticks": ""
             }
            },
            "type": "scattercarpet"
           }
          ],
          "scattergeo": [
           {
            "marker": {
             "colorbar": {
              "outlinewidth": 0,
              "ticks": ""
             }
            },
            "type": "scattergeo"
           }
          ],
          "scattergl": [
           {
            "marker": {
             "colorbar": {
              "outlinewidth": 0,
              "ticks": ""
             }
            },
            "type": "scattergl"
           }
          ],
          "scattermapbox": [
           {
            "marker": {
             "colorbar": {
              "outlinewidth": 0,
              "ticks": ""
             }
            },
            "type": "scattermapbox"
           }
          ],
          "scatterpolar": [
           {
            "marker": {
             "colorbar": {
              "outlinewidth": 0,
              "ticks": ""
             }
            },
            "type": "scatterpolar"
           }
          ],
          "scatterpolargl": [
           {
            "marker": {
             "colorbar": {
              "outlinewidth": 0,
              "ticks": ""
             }
            },
            "type": "scatterpolargl"
           }
          ],
          "scatterternary": [
           {
            "marker": {
             "colorbar": {
              "outlinewidth": 0,
              "ticks": ""
             }
            },
            "type": "scatterternary"
           }
          ],
          "surface": [
           {
            "colorbar": {
             "outlinewidth": 0,
             "ticks": ""
            },
            "colorscale": [
             [
              0,
              "#0d0887"
             ],
             [
              0.1111111111111111,
              "#46039f"
             ],
             [
              0.2222222222222222,
              "#7201a8"
             ],
             [
              0.3333333333333333,
              "#9c179e"
             ],
             [
              0.4444444444444444,
              "#bd3786"
             ],
             [
              0.5555555555555556,
              "#d8576b"
             ],
             [
              0.6666666666666666,
              "#ed7953"
             ],
             [
              0.7777777777777778,
              "#fb9f3a"
             ],
             [
              0.8888888888888888,
              "#fdca26"
             ],
             [
              1,
              "#f0f921"
             ]
            ],
            "type": "surface"
           }
          ],
          "table": [
           {
            "cells": {
             "fill": {
              "color": "#EBF0F8"
             },
             "line": {
              "color": "white"
             }
            },
            "header": {
             "fill": {
              "color": "#C8D4E3"
             },
             "line": {
              "color": "white"
             }
            },
            "type": "table"
           }
          ]
         },
         "layout": {
          "annotationdefaults": {
           "arrowcolor": "#2a3f5f",
           "arrowhead": 0,
           "arrowwidth": 1
          },
          "autotypenumbers": "strict",
          "coloraxis": {
           "colorbar": {
            "outlinewidth": 0,
            "ticks": ""
           }
          },
          "colorscale": {
           "diverging": [
            [
             0,
             "#8e0152"
            ],
            [
             0.1,
             "#c51b7d"
            ],
            [
             0.2,
             "#de77ae"
            ],
            [
             0.3,
             "#f1b6da"
            ],
            [
             0.4,
             "#fde0ef"
            ],
            [
             0.5,
             "#f7f7f7"
            ],
            [
             0.6,
             "#e6f5d0"
            ],
            [
             0.7,
             "#b8e186"
            ],
            [
             0.8,
             "#7fbc41"
            ],
            [
             0.9,
             "#4d9221"
            ],
            [
             1,
             "#276419"
            ]
           ],
           "sequential": [
            [
             0,
             "#0d0887"
            ],
            [
             0.1111111111111111,
             "#46039f"
            ],
            [
             0.2222222222222222,
             "#7201a8"
            ],
            [
             0.3333333333333333,
             "#9c179e"
            ],
            [
             0.4444444444444444,
             "#bd3786"
            ],
            [
             0.5555555555555556,
             "#d8576b"
            ],
            [
             0.6666666666666666,
             "#ed7953"
            ],
            [
             0.7777777777777778,
             "#fb9f3a"
            ],
            [
             0.8888888888888888,
             "#fdca26"
            ],
            [
             1,
             "#f0f921"
            ]
           ],
           "sequentialminus": [
            [
             0,
             "#0d0887"
            ],
            [
             0.1111111111111111,
             "#46039f"
            ],
            [
             0.2222222222222222,
             "#7201a8"
            ],
            [
             0.3333333333333333,
             "#9c179e"
            ],
            [
             0.4444444444444444,
             "#bd3786"
            ],
            [
             0.5555555555555556,
             "#d8576b"
            ],
            [
             0.6666666666666666,
             "#ed7953"
            ],
            [
             0.7777777777777778,
             "#fb9f3a"
            ],
            [
             0.8888888888888888,
             "#fdca26"
            ],
            [
             1,
             "#f0f921"
            ]
           ]
          },
          "colorway": [
           "#636efa",
           "#EF553B",
           "#00cc96",
           "#ab63fa",
           "#FFA15A",
           "#19d3f3",
           "#FF6692",
           "#B6E880",
           "#FF97FF",
           "#FECB52"
          ],
          "font": {
           "color": "#2a3f5f"
          },
          "geo": {
           "bgcolor": "white",
           "lakecolor": "white",
           "landcolor": "#E5ECF6",
           "showlakes": true,
           "showland": true,
           "subunitcolor": "white"
          },
          "hoverlabel": {
           "align": "left"
          },
          "hovermode": "closest",
          "mapbox": {
           "style": "light"
          },
          "paper_bgcolor": "white",
          "plot_bgcolor": "#E5ECF6",
          "polar": {
           "angularaxis": {
            "gridcolor": "white",
            "linecolor": "white",
            "ticks": ""
           },
           "bgcolor": "#E5ECF6",
           "radialaxis": {
            "gridcolor": "white",
            "linecolor": "white",
            "ticks": ""
           }
          },
          "scene": {
           "xaxis": {
            "backgroundcolor": "#E5ECF6",
            "gridcolor": "white",
            "gridwidth": 2,
            "linecolor": "white",
            "showbackground": true,
            "ticks": "",
            "zerolinecolor": "white"
           },
           "yaxis": {
            "backgroundcolor": "#E5ECF6",
            "gridcolor": "white",
            "gridwidth": 2,
            "linecolor": "white",
            "showbackground": true,
            "ticks": "",
            "zerolinecolor": "white"
           },
           "zaxis": {
            "backgroundcolor": "#E5ECF6",
            "gridcolor": "white",
            "gridwidth": 2,
            "linecolor": "white",
            "showbackground": true,
            "ticks": "",
            "zerolinecolor": "white"
           }
          },
          "shapedefaults": {
           "line": {
            "color": "#2a3f5f"
           }
          },
          "ternary": {
           "aaxis": {
            "gridcolor": "white",
            "linecolor": "white",
            "ticks": ""
           },
           "baxis": {
            "gridcolor": "white",
            "linecolor": "white",
            "ticks": ""
           },
           "bgcolor": "#E5ECF6",
           "caxis": {
            "gridcolor": "white",
            "linecolor": "white",
            "ticks": ""
           }
          },
          "title": {
           "x": 0.05
          },
          "xaxis": {
           "automargin": true,
           "gridcolor": "white",
           "linecolor": "white",
           "ticks": "",
           "title": {
            "standoff": 15
           },
           "zerolinecolor": "white",
           "zerolinewidth": 2
          },
          "yaxis": {
           "automargin": true,
           "gridcolor": "white",
           "linecolor": "white",
           "ticks": "",
           "title": {
            "standoff": 15
           },
           "zerolinecolor": "white",
           "zerolinewidth": 2
          }
         }
        },
        "xaxis": {
         "anchor": "y",
         "domain": [
          0,
          1
         ],
         "title": {
          "text": "x"
         }
        },
        "yaxis": {
         "anchor": "x",
         "domain": [
          0,
          1
         ],
         "title": {
          "text": "y"
         }
        }
       }
      },
      "text/html": [
       "<div>                            <div id=\"473f0b2d-bdc2-4b79-9ce3-d40e96f3a35f\" class=\"plotly-graph-div\" style=\"height:525px; width:100%;\"></div>            <script type=\"text/javascript\">                require([\"plotly\"], function(Plotly) {                    window.PLOTLYENV=window.PLOTLYENV || {};                                    if (document.getElementById(\"473f0b2d-bdc2-4b79-9ce3-d40e96f3a35f\")) {                    Plotly.newPlot(                        \"473f0b2d-bdc2-4b79-9ce3-d40e96f3a35f\",                        [{\"hovertemplate\":\"x=%{x}<br>y=%{y}<extra></extra>\",\"legendgroup\":\"\",\"marker\":{\"color\":\"#636efa\",\"symbol\":\"circle\"},\"mode\":\"markers\",\"name\":\"\",\"orientation\":\"v\",\"showlegend\":false,\"x\":[30.8,30.8,30.8,30.8,14.0,29.6,29.6,29.6,29.6,31.0,31.0,12.0,12.0,12.0,9.2,9.2,9.2,9.2,9.2,9.2,9.2,9.2,9.2,8.8,8.8,8.8,15.3,15.3,15.3,15.3,12.3,12.3,12.3,12.3,12.3,12.3],\"xaxis\":\"x\",\"y\":[6.0,6.0,6.0,6.0,7.0,4.4,4.4,4.4,4.4,4.6,4.6,5.3,5.3,5.3,10.0,10.0,10.0,10.0,10.0,10.0,10.0,10.0,10.0,2.8,2.8,2.8,4.3,4.3,4.3,4.3,4.0,4.0,4.0,4.0,4.0,4.0],\"yaxis\":\"y\",\"type\":\"scatter\"},{\"hovertemplate\":\"<b>OLS trendline</b><br>y = -0.0896642 * x + 7.41392<br>R<sup>2</sup>=0.097898<br><br>x=%{x}<br>y=%{y} <b>(trend)</b><extra></extra>\",\"legendgroup\":\"\",\"marker\":{\"color\":\"#636efa\",\"symbol\":\"circle\"},\"mode\":\"lines\",\"name\":\"\",\"showlegend\":false,\"x\":[8.8,8.8,8.8,9.2,9.2,9.2,9.2,9.2,9.2,9.2,9.2,9.2,12.0,12.0,12.0,12.3,12.3,12.3,12.3,12.3,12.3,14.0,15.3,15.3,15.3,15.3,29.6,29.6,29.6,29.6,30.8,30.8,30.8,30.8,31.0,31.0],\"xaxis\":\"x\",\"y\":[6.624878618454018,6.624878618454018,6.624878618454018,6.589012952597299,6.589012952597299,6.589012952597299,6.589012952597299,6.589012952597299,6.589012952597299,6.589012952597299,6.589012952597299,6.589012952597299,6.33795329160027,6.33795329160027,6.33795329160027,6.311054042207731,6.311054042207731,6.311054042207731,6.311054042207731,6.311054042207731,6.311054042207731,6.158624962316678,6.042061548282343,6.042061548282343,6.042061548282343,6.042061548282343,4.759863993904661,4.759863993904661,4.759863993904661,4.759863993904661,4.652266996334506,4.652266996334506,4.652266996334506,4.652266996334506,4.634334163406146,4.634334163406146],\"yaxis\":\"y\",\"type\":\"scatter\"}],                        {\"template\":{\"data\":{\"histogram2dcontour\":[{\"type\":\"histogram2dcontour\",\"colorbar\":{\"outlinewidth\":0,\"ticks\":\"\"},\"colorscale\":[[0.0,\"#0d0887\"],[0.1111111111111111,\"#46039f\"],[0.2222222222222222,\"#7201a8\"],[0.3333333333333333,\"#9c179e\"],[0.4444444444444444,\"#bd3786\"],[0.5555555555555556,\"#d8576b\"],[0.6666666666666666,\"#ed7953\"],[0.7777777777777778,\"#fb9f3a\"],[0.8888888888888888,\"#fdca26\"],[1.0,\"#f0f921\"]]}],\"choropleth\":[{\"type\":\"choropleth\",\"colorbar\":{\"outlinewidth\":0,\"ticks\":\"\"}}],\"histogram2d\":[{\"type\":\"histogram2d\",\"colorbar\":{\"outlinewidth\":0,\"ticks\":\"\"},\"colorscale\":[[0.0,\"#0d0887\"],[0.1111111111111111,\"#46039f\"],[0.2222222222222222,\"#7201a8\"],[0.3333333333333333,\"#9c179e\"],[0.4444444444444444,\"#bd3786\"],[0.5555555555555556,\"#d8576b\"],[0.6666666666666666,\"#ed7953\"],[0.7777777777777778,\"#fb9f3a\"],[0.8888888888888888,\"#fdca26\"],[1.0,\"#f0f921\"]]}],\"heatmap\":[{\"type\":\"heatmap\",\"colorbar\":{\"outlinewidth\":0,\"ticks\":\"\"},\"colorscale\":[[0.0,\"#0d0887\"],[0.1111111111111111,\"#46039f\"],[0.2222222222222222,\"#7201a8\"],[0.3333333333333333,\"#9c179e\"],[0.4444444444444444,\"#bd3786\"],[0.5555555555555556,\"#d8576b\"],[0.6666666666666666,\"#ed7953\"],[0.7777777777777778,\"#fb9f3a\"],[0.8888888888888888,\"#fdca26\"],[1.0,\"#f0f921\"]]}],\"heatmapgl\":[{\"type\":\"heatmapgl\",\"colorbar\":{\"outlinewidth\":0,\"ticks\":\"\"},\"colorscale\":[[0.0,\"#0d0887\"],[0.1111111111111111,\"#46039f\"],[0.2222222222222222,\"#7201a8\"],[0.3333333333333333,\"#9c179e\"],[0.4444444444444444,\"#bd3786\"],[0.5555555555555556,\"#d8576b\"],[0.6666666666666666,\"#ed7953\"],[0.7777777777777778,\"#fb9f3a\"],[0.8888888888888888,\"#fdca26\"],[1.0,\"#f0f921\"]]}],\"contourcarpet\":[{\"type\":\"contourcarpet\",\"colorbar\":{\"outlinewidth\":0,\"ticks\":\"\"}}],\"contour\":[{\"type\":\"contour\",\"colorbar\":{\"outlinewidth\":0,\"ticks\":\"\"},\"colorscale\":[[0.0,\"#0d0887\"],[0.1111111111111111,\"#46039f\"],[0.2222222222222222,\"#7201a8\"],[0.3333333333333333,\"#9c179e\"],[0.4444444444444444,\"#bd3786\"],[0.5555555555555556,\"#d8576b\"],[0.6666666666666666,\"#ed7953\"],[0.7777777777777778,\"#fb9f3a\"],[0.8888888888888888,\"#fdca26\"],[1.0,\"#f0f921\"]]}],\"surface\":[{\"type\":\"surface\",\"colorbar\":{\"outlinewidth\":0,\"ticks\":\"\"},\"colorscale\":[[0.0,\"#0d0887\"],[0.1111111111111111,\"#46039f\"],[0.2222222222222222,\"#7201a8\"],[0.3333333333333333,\"#9c179e\"],[0.4444444444444444,\"#bd3786\"],[0.5555555555555556,\"#d8576b\"],[0.6666666666666666,\"#ed7953\"],[0.7777777777777778,\"#fb9f3a\"],[0.8888888888888888,\"#fdca26\"],[1.0,\"#f0f921\"]]}],\"mesh3d\":[{\"type\":\"mesh3d\",\"colorbar\":{\"outlinewidth\":0,\"ticks\":\"\"}}],\"scatter\":[{\"fillpattern\":{\"fillmode\":\"overlay\",\"size\":10,\"solidity\":0.2},\"type\":\"scatter\"}],\"parcoords\":[{\"type\":\"parcoords\",\"line\":{\"colorbar\":{\"outlinewidth\":0,\"ticks\":\"\"}}}],\"scatterpolargl\":[{\"type\":\"scatterpolargl\",\"marker\":{\"colorbar\":{\"outlinewidth\":0,\"ticks\":\"\"}}}],\"bar\":[{\"error_x\":{\"color\":\"#2a3f5f\"},\"error_y\":{\"color\":\"#2a3f5f\"},\"marker\":{\"line\":{\"color\":\"#E5ECF6\",\"width\":0.5},\"pattern\":{\"fillmode\":\"overlay\",\"size\":10,\"solidity\":0.2}},\"type\":\"bar\"}],\"scattergeo\":[{\"type\":\"scattergeo\",\"marker\":{\"colorbar\":{\"outlinewidth\":0,\"ticks\":\"\"}}}],\"scatterpolar\":[{\"type\":\"scatterpolar\",\"marker\":{\"colorbar\":{\"outlinewidth\":0,\"ticks\":\"\"}}}],\"histogram\":[{\"marker\":{\"pattern\":{\"fillmode\":\"overlay\",\"size\":10,\"solidity\":0.2}},\"type\":\"histogram\"}],\"scattergl\":[{\"type\":\"scattergl\",\"marker\":{\"colorbar\":{\"outlinewidth\":0,\"ticks\":\"\"}}}],\"scatter3d\":[{\"type\":\"scatter3d\",\"line\":{\"colorbar\":{\"outlinewidth\":0,\"ticks\":\"\"}},\"marker\":{\"colorbar\":{\"outlinewidth\":0,\"ticks\":\"\"}}}],\"scattermapbox\":[{\"type\":\"scattermapbox\",\"marker\":{\"colorbar\":{\"outlinewidth\":0,\"ticks\":\"\"}}}],\"scatterternary\":[{\"type\":\"scatterternary\",\"marker\":{\"colorbar\":{\"outlinewidth\":0,\"ticks\":\"\"}}}],\"scattercarpet\":[{\"type\":\"scattercarpet\",\"marker\":{\"colorbar\":{\"outlinewidth\":0,\"ticks\":\"\"}}}],\"carpet\":[{\"aaxis\":{\"endlinecolor\":\"#2a3f5f\",\"gridcolor\":\"white\",\"linecolor\":\"white\",\"minorgridcolor\":\"white\",\"startlinecolor\":\"#2a3f5f\"},\"baxis\":{\"endlinecolor\":\"#2a3f5f\",\"gridcolor\":\"white\",\"linecolor\":\"white\",\"minorgridcolor\":\"white\",\"startlinecolor\":\"#2a3f5f\"},\"type\":\"carpet\"}],\"table\":[{\"cells\":{\"fill\":{\"color\":\"#EBF0F8\"},\"line\":{\"color\":\"white\"}},\"header\":{\"fill\":{\"color\":\"#C8D4E3\"},\"line\":{\"color\":\"white\"}},\"type\":\"table\"}],\"barpolar\":[{\"marker\":{\"line\":{\"color\":\"#E5ECF6\",\"width\":0.5},\"pattern\":{\"fillmode\":\"overlay\",\"size\":10,\"solidity\":0.2}},\"type\":\"barpolar\"}],\"pie\":[{\"automargin\":true,\"type\":\"pie\"}]},\"layout\":{\"autotypenumbers\":\"strict\",\"colorway\":[\"#636efa\",\"#EF553B\",\"#00cc96\",\"#ab63fa\",\"#FFA15A\",\"#19d3f3\",\"#FF6692\",\"#B6E880\",\"#FF97FF\",\"#FECB52\"],\"font\":{\"color\":\"#2a3f5f\"},\"hovermode\":\"closest\",\"hoverlabel\":{\"align\":\"left\"},\"paper_bgcolor\":\"white\",\"plot_bgcolor\":\"#E5ECF6\",\"polar\":{\"bgcolor\":\"#E5ECF6\",\"angularaxis\":{\"gridcolor\":\"white\",\"linecolor\":\"white\",\"ticks\":\"\"},\"radialaxis\":{\"gridcolor\":\"white\",\"linecolor\":\"white\",\"ticks\":\"\"}},\"ternary\":{\"bgcolor\":\"#E5ECF6\",\"aaxis\":{\"gridcolor\":\"white\",\"linecolor\":\"white\",\"ticks\":\"\"},\"baxis\":{\"gridcolor\":\"white\",\"linecolor\":\"white\",\"ticks\":\"\"},\"caxis\":{\"gridcolor\":\"white\",\"linecolor\":\"white\",\"ticks\":\"\"}},\"coloraxis\":{\"colorbar\":{\"outlinewidth\":0,\"ticks\":\"\"}},\"colorscale\":{\"sequential\":[[0.0,\"#0d0887\"],[0.1111111111111111,\"#46039f\"],[0.2222222222222222,\"#7201a8\"],[0.3333333333333333,\"#9c179e\"],[0.4444444444444444,\"#bd3786\"],[0.5555555555555556,\"#d8576b\"],[0.6666666666666666,\"#ed7953\"],[0.7777777777777778,\"#fb9f3a\"],[0.8888888888888888,\"#fdca26\"],[1.0,\"#f0f921\"]],\"sequentialminus\":[[0.0,\"#0d0887\"],[0.1111111111111111,\"#46039f\"],[0.2222222222222222,\"#7201a8\"],[0.3333333333333333,\"#9c179e\"],[0.4444444444444444,\"#bd3786\"],[0.5555555555555556,\"#d8576b\"],[0.6666666666666666,\"#ed7953\"],[0.7777777777777778,\"#fb9f3a\"],[0.8888888888888888,\"#fdca26\"],[1.0,\"#f0f921\"]],\"diverging\":[[0,\"#8e0152\"],[0.1,\"#c51b7d\"],[0.2,\"#de77ae\"],[0.3,\"#f1b6da\"],[0.4,\"#fde0ef\"],[0.5,\"#f7f7f7\"],[0.6,\"#e6f5d0\"],[0.7,\"#b8e186\"],[0.8,\"#7fbc41\"],[0.9,\"#4d9221\"],[1,\"#276419\"]]},\"xaxis\":{\"gridcolor\":\"white\",\"linecolor\":\"white\",\"ticks\":\"\",\"title\":{\"standoff\":15},\"zerolinecolor\":\"white\",\"automargin\":true,\"zerolinewidth\":2},\"yaxis\":{\"gridcolor\":\"white\",\"linecolor\":\"white\",\"ticks\":\"\",\"title\":{\"standoff\":15},\"zerolinecolor\":\"white\",\"automargin\":true,\"zerolinewidth\":2},\"scene\":{\"xaxis\":{\"backgroundcolor\":\"#E5ECF6\",\"gridcolor\":\"white\",\"linecolor\":\"white\",\"showbackground\":true,\"ticks\":\"\",\"zerolinecolor\":\"white\",\"gridwidth\":2},\"yaxis\":{\"backgroundcolor\":\"#E5ECF6\",\"gridcolor\":\"white\",\"linecolor\":\"white\",\"showbackground\":true,\"ticks\":\"\",\"zerolinecolor\":\"white\",\"gridwidth\":2},\"zaxis\":{\"backgroundcolor\":\"#E5ECF6\",\"gridcolor\":\"white\",\"linecolor\":\"white\",\"showbackground\":true,\"ticks\":\"\",\"zerolinecolor\":\"white\",\"gridwidth\":2}},\"shapedefaults\":{\"line\":{\"color\":\"#2a3f5f\"}},\"annotationdefaults\":{\"arrowcolor\":\"#2a3f5f\",\"arrowhead\":0,\"arrowwidth\":1},\"geo\":{\"bgcolor\":\"white\",\"landcolor\":\"#E5ECF6\",\"subunitcolor\":\"white\",\"showland\":true,\"showlakes\":true,\"lakecolor\":\"white\"},\"title\":{\"x\":0.05},\"mapbox\":{\"style\":\"light\"}}},\"xaxis\":{\"anchor\":\"y\",\"domain\":[0.0,1.0],\"title\":{\"text\":\"x\"}},\"yaxis\":{\"anchor\":\"x\",\"domain\":[0.0,1.0],\"title\":{\"text\":\"y\"}},\"legend\":{\"tracegroupgap\":0},\"margin\":{\"t\":60}},                        {\"responsive\": true}                    ).then(function(){\n",
       "                            \n",
       "var gd = document.getElementById('473f0b2d-bdc2-4b79-9ce3-d40e96f3a35f');\n",
       "var x = new MutationObserver(function (mutations, observer) {{\n",
       "        var display = window.getComputedStyle(gd).display;\n",
       "        if (!display || display === 'none') {{\n",
       "            console.log([gd, 'removed!']);\n",
       "            Plotly.purge(gd);\n",
       "            observer.disconnect();\n",
       "        }}\n",
       "}});\n",
       "\n",
       "// Listen for the removal of the full notebook cells\n",
       "var notebookContainer = gd.closest('#notebook-container');\n",
       "if (notebookContainer) {{\n",
       "    x.observe(notebookContainer, {childList: true});\n",
       "}}\n",
       "\n",
       "// Listen for the clearing of the current output cell\n",
       "var outputEl = gd.closest('.output');\n",
       "if (outputEl) {{\n",
       "    x.observe(outputEl, {childList: true});\n",
       "}}\n",
       "\n",
       "                        })                };                });            </script>        </div>"
      ]
     },
     "metadata": {},
     "output_type": "display_data"
    }
   ],
   "source": [
    "import plotly.express as px\n",
    "fig = px.scatter(x=PG[\"PTS\"], y=PG[\"AST\"],trendline=\"ols\")\n",
    "fig.show()"
   ]
  },
  {
   "cell_type": "code",
   "execution_count": 79,
   "id": "5dd5737b",
   "metadata": {},
   "outputs": [
    {
     "data": {
      "application/vnd.plotly.v1+json": {
       "config": {
        "plotlyServerURL": "https://plot.ly"
       },
       "data": [
        {
         "alignmentgroup": "True",
         "hovertemplate": "Age=%{x}<br>TRB=%{y}<extra></extra>",
         "legendgroup": "",
         "marker": {
          "color": "#636efa"
         },
         "name": "",
         "notched": false,
         "offsetgroup": "",
         "orientation": "v",
         "showlegend": false,
         "type": "box",
         "x": [
          23,
          29,
          25,
          22,
          22,
          24,
          27,
          24,
          24,
          29,
          28,
          30,
          22,
          25,
          28,
          22,
          24,
          23,
          24,
          20,
          24,
          23,
          30,
          21,
          22,
          32,
          27,
          34,
          22,
          29,
          26,
          22,
          34,
          23,
          30,
          23,
          30,
          23,
          33,
          23,
          22,
          26,
          21,
          30,
          22,
          25,
          21,
          26,
          24,
          30,
          27,
          26,
          21,
          26,
          23,
          23,
          26,
          31,
          33,
          29,
          31,
          25,
          28,
          21,
          27,
          23,
          28,
          21,
          20,
          19,
          21,
          26,
          30,
          23,
          25,
          25,
          25,
          35,
          32,
          32,
          21,
          34,
          19,
          29,
          20,
          25,
          33,
          32,
          33,
          21,
          24,
          33,
          19,
          29,
          26,
          23,
          26,
          23,
          23,
          36,
          29,
          25,
          23,
          34,
          19,
          21,
          21,
          22,
          28,
          25,
          24,
          29,
          24,
          27,
          29,
          24,
          30,
          25,
          25,
          24,
          23,
          20,
          36,
          32,
          37,
          20,
          24,
          30,
          30,
          24,
          27,
          34,
          27,
          28,
          23,
          32,
          20,
          32,
          29,
          36,
          22,
          19,
          33,
          24,
          22,
          21,
          30,
          33,
          20,
          29,
          31,
          25,
          30,
          27,
          24,
          42,
          25,
          22,
          21,
          32,
          27,
          28,
          23,
          30,
          26,
          36,
          27,
          26,
          32,
          33,
          29,
          36,
          22,
          29,
          20,
          23,
          24,
          25,
          22,
          33,
          25,
          30,
          20,
          21,
          27,
          32,
          38,
          25,
          23,
          26,
          21,
          35,
          23,
          20,
          27,
          27,
          25,
          24,
          22,
          23,
          26,
          34,
          31,
          19,
          29,
          19,
          26,
          21,
          25,
          31,
          25,
          23,
          22,
          26,
          25,
          27,
          22,
          20,
          27,
          27,
          23,
          21,
          27,
          30,
          29,
          31,
          28,
          32,
          22,
          24,
          20,
          26,
          34,
          34,
          34,
          36,
          27,
          21,
          23,
          26,
          21,
          34,
          25,
          25,
          27,
          27,
          22,
          23,
          26,
          20,
          36,
          22,
          22,
          31,
          30,
          22,
          25,
          31,
          35,
          20,
          31,
          26,
          24,
          25,
          34,
          26,
          24,
          26,
          21,
          23,
          27,
          24,
          20,
          21,
          23,
          33,
          33,
          27,
          22,
          26,
          25,
          22,
          31,
          25,
          30,
          23,
          23,
          30,
          29,
          20,
          22,
          23,
          27,
          28,
          24,
          29,
          24,
          24,
          22,
          22,
          23,
          31,
          25,
          27,
          27,
          37,
          28,
          27,
          22,
          32,
          27,
          21,
          23,
          22,
          24,
          27,
          27,
          24,
          31,
          29,
          23,
          20,
          28,
          25,
          23,
          28,
          24,
          23,
          27,
          23,
          23,
          25,
          29,
          30,
          28,
          24,
          22,
          24,
          21,
          20,
          34,
          31,
          28,
          26,
          25,
          26,
          28,
          24,
          25,
          22,
          20,
          24,
          25,
          21,
          19,
          28,
          26,
          23,
          23,
          24,
          28,
          25,
          25,
          34,
          19,
          22,
          19,
          20,
          25,
          21,
          26,
          21,
          27,
          23,
          27,
          24,
          23,
          36,
          20,
          21,
          32,
          20,
          25,
          24,
          21,
          24,
          29,
          27,
          24,
          37,
          26,
          30,
          23,
          28,
          22,
          26,
          27,
          32,
          26,
          21,
          20,
          24,
          32,
          22,
          24,
          28,
          25,
          20,
          19,
          34,
          22,
          28,
          25,
          24,
          27,
          24,
          21,
          20,
          28,
          21,
          21,
          22,
          22,
          26,
          21,
          27,
          30,
          24,
          34,
          24,
          25
         ],
         "x0": " ",
         "xaxis": "x",
         "y": [
          8.8,
          10.2,
          8.3,
          0.5,
          6.4,
          0,
          4.3,
          11.4,
          2.2,
          3,
          13.3,
          0,
          4.8,
          6.5,
          0,
          4.2,
          8.2,
          2,
          3,
          8.3,
          4.4,
          1.2,
          5,
          5.6,
          6,
          3,
          0.8,
          3.8,
          5,
          4.2,
          2.2,
          0,
          3.6,
          5.7,
          1.5,
          4.2,
          5,
          0,
          3.5,
          6,
          0.5,
          3.4,
          0,
          3,
          2,
          1.5,
          3.3,
          6,
          1.5,
          3.4,
          1,
          3.2,
          0,
          6,
          0.7,
          5.7,
          4.2,
          3.5,
          6.3,
          3.8,
          0,
          0,
          9.2,
          0,
          2.5,
          9.2,
          3,
          1,
          0,
          1,
          1.2,
          3.6,
          4.3,
          8.4,
          0.8,
          10.4,
          3.5,
          2.3,
          4.6,
          3.8,
          5.5,
          6,
          1.5,
          9.5,
          0.5,
          2.5,
          1.6,
          0,
          3.5,
          2,
          3.2,
          1.7,
          1.6,
          2.5,
          0.7,
          9.5,
          2,
          4.2,
          4.7,
          1.5,
          10.2,
          2.2,
          5,
          4.4,
          7.2,
          5.7,
          6.8,
          1,
          10,
          2.3,
          6.5,
          3.8,
          0,
          1,
          0.4,
          0,
          2.8,
          5.8,
          2.3,
          4,
          1,
          4.3,
          3.2,
          7.5,
          0,
          8.3,
          4.8,
          1.2,
          15.2,
          3,
          6.5,
          2.4,
          1.2,
          4,
          0,
          5.4,
          5,
          4.8,
          2.8,
          3.3,
          2.5,
          0,
          2.8,
          4.2,
          3.8,
          1.6,
          2,
          7.5,
          1,
          0.8,
          3.7,
          1.8,
          6.2,
          9.2,
          7.8,
          1,
          1,
          1,
          2.3,
          5,
          0.5,
          4.5,
          7.2,
          5.2,
          1,
          2.5,
          0.5,
          1.2,
          5.3,
          1,
          3,
          4.3,
          3.5,
          1.7,
          2.3,
          0,
          3.3,
          3.8,
          1,
          2.7,
          5.7,
          5.4,
          3.8,
          4.3,
          0,
          2,
          9.4,
          0.5,
          0.3,
          3.6,
          2.4,
          2,
          5.3,
          2,
          10.7,
          3.8,
          2.3,
          3.3,
          0,
          4.3,
          2.6,
          5.4,
          1.3,
          1,
          2,
          1,
          2,
          5.2,
          0,
          4.8,
          1,
          1.2,
          3,
          5.5,
          0.5,
          3,
          0,
          2,
          7.2,
          5,
          0.3,
          4,
          3.7,
          2.6,
          1,
          6.5,
          3.6,
          4.8,
          2.3,
          2.3,
          0.5,
          5.4,
          6.5,
          4.5,
          7.6,
          3.5,
          2.5,
          1.5,
          0,
          3,
          3.2,
          1,
          9,
          3,
          5,
          0,
          5.5,
          0,
          0.8,
          4.5,
          1.8,
          3.5,
          0,
          3.2,
          1.7,
          3,
          5.6,
          2.3,
          3.8,
          0.3,
          0.5,
          2.2,
          3,
          2.3,
          1,
          0.5,
          1.3,
          4.8,
          5.8,
          1,
          2,
          3.3,
          2,
          0,
          4.4,
          4.7,
          2,
          4.2,
          6.2,
          6.8,
          2.6,
          5,
          5.8,
          2,
          4,
          2,
          3.5,
          1.2,
          1.3,
          0.5,
          0,
          4.8,
          2.2,
          12.2,
          4,
          4.2,
          2.8,
          1.6,
          5.4,
          0.8,
          1.5,
          4.3,
          2.3,
          2.8,
          5.4,
          5.4,
          2,
          2,
          0,
          6.2,
          11,
          4,
          1.2,
          6.3,
          7.2,
          10.3,
          7.4,
          3,
          0,
          3,
          0,
          3.3,
          3.2,
          0.5,
          4.6,
          9.4,
          2.6,
          3.2,
          0.8,
          0.8,
          2.3,
          7.4,
          2.7,
          0.3,
          2.2,
          6,
          4,
          2.4,
          2.2,
          0.5,
          2.6,
          3.2,
          7,
          4,
          1,
          9.8,
          0,
          0,
          2,
          0,
          10.3,
          3,
          0.7,
          5.3,
          3,
          9.2,
          6.2,
          0,
          2.8,
          0.5,
          3.2,
          2.6,
          1,
          0.5,
          6.5,
          8.5,
          4.3,
          1,
          1,
          9.8,
          5.5,
          1.5,
          1,
          1,
          4,
          8,
          3,
          1,
          0,
          0,
          2.4,
          2.5,
          0.6,
          3.3,
          0,
          3.4,
          3.3,
          7.5,
          2,
          4.2,
          8,
          11.2,
          9.3,
          4,
          5,
          1.7,
          3.2,
          10.7,
          3.4,
          4.8,
          1.7,
          3,
          2.8,
          0,
          3.8,
          1.3,
          1,
          0.8,
          0,
          7,
          2,
          3.2,
          0.5,
          6,
          7,
          4.3,
          0,
          6,
          3.8,
          2.7,
          1.8,
          0,
          6.7,
          4.4,
          5.4,
          8,
          2.5,
          2,
          1.3,
          3.4,
          13
         ],
         "y0": " ",
         "yaxis": "y"
        }
       ],
       "layout": {
        "boxmode": "group",
        "legend": {
         "tracegroupgap": 0
        },
        "margin": {
         "t": 60
        },
        "template": {
         "data": {
          "bar": [
           {
            "error_x": {
             "color": "#2a3f5f"
            },
            "error_y": {
             "color": "#2a3f5f"
            },
            "marker": {
             "line": {
              "color": "#E5ECF6",
              "width": 0.5
             },
             "pattern": {
              "fillmode": "overlay",
              "size": 10,
              "solidity": 0.2
             }
            },
            "type": "bar"
           }
          ],
          "barpolar": [
           {
            "marker": {
             "line": {
              "color": "#E5ECF6",
              "width": 0.5
             },
             "pattern": {
              "fillmode": "overlay",
              "size": 10,
              "solidity": 0.2
             }
            },
            "type": "barpolar"
           }
          ],
          "carpet": [
           {
            "aaxis": {
             "endlinecolor": "#2a3f5f",
             "gridcolor": "white",
             "linecolor": "white",
             "minorgridcolor": "white",
             "startlinecolor": "#2a3f5f"
            },
            "baxis": {
             "endlinecolor": "#2a3f5f",
             "gridcolor": "white",
             "linecolor": "white",
             "minorgridcolor": "white",
             "startlinecolor": "#2a3f5f"
            },
            "type": "carpet"
           }
          ],
          "choropleth": [
           {
            "colorbar": {
             "outlinewidth": 0,
             "ticks": ""
            },
            "type": "choropleth"
           }
          ],
          "contour": [
           {
            "colorbar": {
             "outlinewidth": 0,
             "ticks": ""
            },
            "colorscale": [
             [
              0,
              "#0d0887"
             ],
             [
              0.1111111111111111,
              "#46039f"
             ],
             [
              0.2222222222222222,
              "#7201a8"
             ],
             [
              0.3333333333333333,
              "#9c179e"
             ],
             [
              0.4444444444444444,
              "#bd3786"
             ],
             [
              0.5555555555555556,
              "#d8576b"
             ],
             [
              0.6666666666666666,
              "#ed7953"
             ],
             [
              0.7777777777777778,
              "#fb9f3a"
             ],
             [
              0.8888888888888888,
              "#fdca26"
             ],
             [
              1,
              "#f0f921"
             ]
            ],
            "type": "contour"
           }
          ],
          "contourcarpet": [
           {
            "colorbar": {
             "outlinewidth": 0,
             "ticks": ""
            },
            "type": "contourcarpet"
           }
          ],
          "heatmap": [
           {
            "colorbar": {
             "outlinewidth": 0,
             "ticks": ""
            },
            "colorscale": [
             [
              0,
              "#0d0887"
             ],
             [
              0.1111111111111111,
              "#46039f"
             ],
             [
              0.2222222222222222,
              "#7201a8"
             ],
             [
              0.3333333333333333,
              "#9c179e"
             ],
             [
              0.4444444444444444,
              "#bd3786"
             ],
             [
              0.5555555555555556,
              "#d8576b"
             ],
             [
              0.6666666666666666,
              "#ed7953"
             ],
             [
              0.7777777777777778,
              "#fb9f3a"
             ],
             [
              0.8888888888888888,
              "#fdca26"
             ],
             [
              1,
              "#f0f921"
             ]
            ],
            "type": "heatmap"
           }
          ],
          "heatmapgl": [
           {
            "colorbar": {
             "outlinewidth": 0,
             "ticks": ""
            },
            "colorscale": [
             [
              0,
              "#0d0887"
             ],
             [
              0.1111111111111111,
              "#46039f"
             ],
             [
              0.2222222222222222,
              "#7201a8"
             ],
             [
              0.3333333333333333,
              "#9c179e"
             ],
             [
              0.4444444444444444,
              "#bd3786"
             ],
             [
              0.5555555555555556,
              "#d8576b"
             ],
             [
              0.6666666666666666,
              "#ed7953"
             ],
             [
              0.7777777777777778,
              "#fb9f3a"
             ],
             [
              0.8888888888888888,
              "#fdca26"
             ],
             [
              1,
              "#f0f921"
             ]
            ],
            "type": "heatmapgl"
           }
          ],
          "histogram": [
           {
            "marker": {
             "pattern": {
              "fillmode": "overlay",
              "size": 10,
              "solidity": 0.2
             }
            },
            "type": "histogram"
           }
          ],
          "histogram2d": [
           {
            "colorbar": {
             "outlinewidth": 0,
             "ticks": ""
            },
            "colorscale": [
             [
              0,
              "#0d0887"
             ],
             [
              0.1111111111111111,
              "#46039f"
             ],
             [
              0.2222222222222222,
              "#7201a8"
             ],
             [
              0.3333333333333333,
              "#9c179e"
             ],
             [
              0.4444444444444444,
              "#bd3786"
             ],
             [
              0.5555555555555556,
              "#d8576b"
             ],
             [
              0.6666666666666666,
              "#ed7953"
             ],
             [
              0.7777777777777778,
              "#fb9f3a"
             ],
             [
              0.8888888888888888,
              "#fdca26"
             ],
             [
              1,
              "#f0f921"
             ]
            ],
            "type": "histogram2d"
           }
          ],
          "histogram2dcontour": [
           {
            "colorbar": {
             "outlinewidth": 0,
             "ticks": ""
            },
            "colorscale": [
             [
              0,
              "#0d0887"
             ],
             [
              0.1111111111111111,
              "#46039f"
             ],
             [
              0.2222222222222222,
              "#7201a8"
             ],
             [
              0.3333333333333333,
              "#9c179e"
             ],
             [
              0.4444444444444444,
              "#bd3786"
             ],
             [
              0.5555555555555556,
              "#d8576b"
             ],
             [
              0.6666666666666666,
              "#ed7953"
             ],
             [
              0.7777777777777778,
              "#fb9f3a"
             ],
             [
              0.8888888888888888,
              "#fdca26"
             ],
             [
              1,
              "#f0f921"
             ]
            ],
            "type": "histogram2dcontour"
           }
          ],
          "mesh3d": [
           {
            "colorbar": {
             "outlinewidth": 0,
             "ticks": ""
            },
            "type": "mesh3d"
           }
          ],
          "parcoords": [
           {
            "line": {
             "colorbar": {
              "outlinewidth": 0,
              "ticks": ""
             }
            },
            "type": "parcoords"
           }
          ],
          "pie": [
           {
            "automargin": true,
            "type": "pie"
           }
          ],
          "scatter": [
           {
            "fillpattern": {
             "fillmode": "overlay",
             "size": 10,
             "solidity": 0.2
            },
            "type": "scatter"
           }
          ],
          "scatter3d": [
           {
            "line": {
             "colorbar": {
              "outlinewidth": 0,
              "ticks": ""
             }
            },
            "marker": {
             "colorbar": {
              "outlinewidth": 0,
              "ticks": ""
             }
            },
            "type": "scatter3d"
           }
          ],
          "scattercarpet": [
           {
            "marker": {
             "colorbar": {
              "outlinewidth": 0,
              "ticks": ""
             }
            },
            "type": "scattercarpet"
           }
          ],
          "scattergeo": [
           {
            "marker": {
             "colorbar": {
              "outlinewidth": 0,
              "ticks": ""
             }
            },
            "type": "scattergeo"
           }
          ],
          "scattergl": [
           {
            "marker": {
             "colorbar": {
              "outlinewidth": 0,
              "ticks": ""
             }
            },
            "type": "scattergl"
           }
          ],
          "scattermapbox": [
           {
            "marker": {
             "colorbar": {
              "outlinewidth": 0,
              "ticks": ""
             }
            },
            "type": "scattermapbox"
           }
          ],
          "scatterpolar": [
           {
            "marker": {
             "colorbar": {
              "outlinewidth": 0,
              "ticks": ""
             }
            },
            "type": "scatterpolar"
           }
          ],
          "scatterpolargl": [
           {
            "marker": {
             "colorbar": {
              "outlinewidth": 0,
              "ticks": ""
             }
            },
            "type": "scatterpolargl"
           }
          ],
          "scatterternary": [
           {
            "marker": {
             "colorbar": {
              "outlinewidth": 0,
              "ticks": ""
             }
            },
            "type": "scatterternary"
           }
          ],
          "surface": [
           {
            "colorbar": {
             "outlinewidth": 0,
             "ticks": ""
            },
            "colorscale": [
             [
              0,
              "#0d0887"
             ],
             [
              0.1111111111111111,
              "#46039f"
             ],
             [
              0.2222222222222222,
              "#7201a8"
             ],
             [
              0.3333333333333333,
              "#9c179e"
             ],
             [
              0.4444444444444444,
              "#bd3786"
             ],
             [
              0.5555555555555556,
              "#d8576b"
             ],
             [
              0.6666666666666666,
              "#ed7953"
             ],
             [
              0.7777777777777778,
              "#fb9f3a"
             ],
             [
              0.8888888888888888,
              "#fdca26"
             ],
             [
              1,
              "#f0f921"
             ]
            ],
            "type": "surface"
           }
          ],
          "table": [
           {
            "cells": {
             "fill": {
              "color": "#EBF0F8"
             },
             "line": {
              "color": "white"
             }
            },
            "header": {
             "fill": {
              "color": "#C8D4E3"
             },
             "line": {
              "color": "white"
             }
            },
            "type": "table"
           }
          ]
         },
         "layout": {
          "annotationdefaults": {
           "arrowcolor": "#2a3f5f",
           "arrowhead": 0,
           "arrowwidth": 1
          },
          "autotypenumbers": "strict",
          "coloraxis": {
           "colorbar": {
            "outlinewidth": 0,
            "ticks": ""
           }
          },
          "colorscale": {
           "diverging": [
            [
             0,
             "#8e0152"
            ],
            [
             0.1,
             "#c51b7d"
            ],
            [
             0.2,
             "#de77ae"
            ],
            [
             0.3,
             "#f1b6da"
            ],
            [
             0.4,
             "#fde0ef"
            ],
            [
             0.5,
             "#f7f7f7"
            ],
            [
             0.6,
             "#e6f5d0"
            ],
            [
             0.7,
             "#b8e186"
            ],
            [
             0.8,
             "#7fbc41"
            ],
            [
             0.9,
             "#4d9221"
            ],
            [
             1,
             "#276419"
            ]
           ],
           "sequential": [
            [
             0,
             "#0d0887"
            ],
            [
             0.1111111111111111,
             "#46039f"
            ],
            [
             0.2222222222222222,
             "#7201a8"
            ],
            [
             0.3333333333333333,
             "#9c179e"
            ],
            [
             0.4444444444444444,
             "#bd3786"
            ],
            [
             0.5555555555555556,
             "#d8576b"
            ],
            [
             0.6666666666666666,
             "#ed7953"
            ],
            [
             0.7777777777777778,
             "#fb9f3a"
            ],
            [
             0.8888888888888888,
             "#fdca26"
            ],
            [
             1,
             "#f0f921"
            ]
           ],
           "sequentialminus": [
            [
             0,
             "#0d0887"
            ],
            [
             0.1111111111111111,
             "#46039f"
            ],
            [
             0.2222222222222222,
             "#7201a8"
            ],
            [
             0.3333333333333333,
             "#9c179e"
            ],
            [
             0.4444444444444444,
             "#bd3786"
            ],
            [
             0.5555555555555556,
             "#d8576b"
            ],
            [
             0.6666666666666666,
             "#ed7953"
            ],
            [
             0.7777777777777778,
             "#fb9f3a"
            ],
            [
             0.8888888888888888,
             "#fdca26"
            ],
            [
             1,
             "#f0f921"
            ]
           ]
          },
          "colorway": [
           "#636efa",
           "#EF553B",
           "#00cc96",
           "#ab63fa",
           "#FFA15A",
           "#19d3f3",
           "#FF6692",
           "#B6E880",
           "#FF97FF",
           "#FECB52"
          ],
          "font": {
           "color": "#2a3f5f"
          },
          "geo": {
           "bgcolor": "white",
           "lakecolor": "white",
           "landcolor": "#E5ECF6",
           "showlakes": true,
           "showland": true,
           "subunitcolor": "white"
          },
          "hoverlabel": {
           "align": "left"
          },
          "hovermode": "closest",
          "mapbox": {
           "style": "light"
          },
          "paper_bgcolor": "white",
          "plot_bgcolor": "#E5ECF6",
          "polar": {
           "angularaxis": {
            "gridcolor": "white",
            "linecolor": "white",
            "ticks": ""
           },
           "bgcolor": "#E5ECF6",
           "radialaxis": {
            "gridcolor": "white",
            "linecolor": "white",
            "ticks": ""
           }
          },
          "scene": {
           "xaxis": {
            "backgroundcolor": "#E5ECF6",
            "gridcolor": "white",
            "gridwidth": 2,
            "linecolor": "white",
            "showbackground": true,
            "ticks": "",
            "zerolinecolor": "white"
           },
           "yaxis": {
            "backgroundcolor": "#E5ECF6",
            "gridcolor": "white",
            "gridwidth": 2,
            "linecolor": "white",
            "showbackground": true,
            "ticks": "",
            "zerolinecolor": "white"
           },
           "zaxis": {
            "backgroundcolor": "#E5ECF6",
            "gridcolor": "white",
            "gridwidth": 2,
            "linecolor": "white",
            "showbackground": true,
            "ticks": "",
            "zerolinecolor": "white"
           }
          },
          "shapedefaults": {
           "line": {
            "color": "#2a3f5f"
           }
          },
          "ternary": {
           "aaxis": {
            "gridcolor": "white",
            "linecolor": "white",
            "ticks": ""
           },
           "baxis": {
            "gridcolor": "white",
            "linecolor": "white",
            "ticks": ""
           },
           "bgcolor": "#E5ECF6",
           "caxis": {
            "gridcolor": "white",
            "linecolor": "white",
            "ticks": ""
           }
          },
          "title": {
           "x": 0.05
          },
          "xaxis": {
           "automargin": true,
           "gridcolor": "white",
           "linecolor": "white",
           "ticks": "",
           "title": {
            "standoff": 15
           },
           "zerolinecolor": "white",
           "zerolinewidth": 2
          },
          "yaxis": {
           "automargin": true,
           "gridcolor": "white",
           "linecolor": "white",
           "ticks": "",
           "title": {
            "standoff": 15
           },
           "zerolinecolor": "white",
           "zerolinewidth": 2
          }
         }
        },
        "xaxis": {
         "anchor": "y",
         "domain": [
          0,
          1
         ],
         "title": {
          "text": "Age"
         }
        },
        "yaxis": {
         "anchor": "x",
         "domain": [
          0,
          1
         ],
         "title": {
          "text": "TRB"
         }
        }
       }
      },
      "text/html": [
       "<div>                            <div id=\"16671462-580a-4f8f-9c8b-bd960b939cfc\" class=\"plotly-graph-div\" style=\"height:525px; width:100%;\"></div>            <script type=\"text/javascript\">                require([\"plotly\"], function(Plotly) {                    window.PLOTLYENV=window.PLOTLYENV || {};                                    if (document.getElementById(\"16671462-580a-4f8f-9c8b-bd960b939cfc\")) {                    Plotly.newPlot(                        \"16671462-580a-4f8f-9c8b-bd960b939cfc\",                        [{\"alignmentgroup\":\"True\",\"hovertemplate\":\"Age=%{x}<br>TRB=%{y}<extra></extra>\",\"legendgroup\":\"\",\"marker\":{\"color\":\"#636efa\"},\"name\":\"\",\"notched\":false,\"offsetgroup\":\"\",\"orientation\":\"v\",\"showlegend\":false,\"x\":[23,29,25,22,22,24,27,24,24,29,28,30,22,25,28,22,24,23,24,20,24,23,30,21,22,32,27,34,22,29,26,22,34,23,30,23,30,23,33,23,22,26,21,30,22,25,21,26,24,30,27,26,21,26,23,23,26,31,33,29,31,25,28,21,27,23,28,21,20,19,21,26,30,23,25,25,25,35,32,32,21,34,19,29,20,25,33,32,33,21,24,33,19,29,26,23,26,23,23,36,29,25,23,34,19,21,21,22,28,25,24,29,24,27,29,24,30,25,25,24,23,20,36,32,37,20,24,30,30,24,27,34,27,28,23,32,20,32,29,36,22,19,33,24,22,21,30,33,20,29,31,25,30,27,24,42,25,22,21,32,27,28,23,30,26,36,27,26,32,33,29,36,22,29,20,23,24,25,22,33,25,30,20,21,27,32,38,25,23,26,21,35,23,20,27,27,25,24,22,23,26,34,31,19,29,19,26,21,25,31,25,23,22,26,25,27,22,20,27,27,23,21,27,30,29,31,28,32,22,24,20,26,34,34,34,36,27,21,23,26,21,34,25,25,27,27,22,23,26,20,36,22,22,31,30,22,25,31,35,20,31,26,24,25,34,26,24,26,21,23,27,24,20,21,23,33,33,27,22,26,25,22,31,25,30,23,23,30,29,20,22,23,27,28,24,29,24,24,22,22,23,31,25,27,27,37,28,27,22,32,27,21,23,22,24,27,27,24,31,29,23,20,28,25,23,28,24,23,27,23,23,25,29,30,28,24,22,24,21,20,34,31,28,26,25,26,28,24,25,22,20,24,25,21,19,28,26,23,23,24,28,25,25,34,19,22,19,20,25,21,26,21,27,23,27,24,23,36,20,21,32,20,25,24,21,24,29,27,24,37,26,30,23,28,22,26,27,32,26,21,20,24,32,22,24,28,25,20,19,34,22,28,25,24,27,24,21,20,28,21,21,22,22,26,21,27,30,24,34,24,25],\"x0\":\" \",\"xaxis\":\"x\",\"y\":[8.8,10.2,8.3,0.5,6.4,0.0,4.3,11.4,2.2,3.0,13.3,0.0,4.8,6.5,0.0,4.2,8.2,2.0,3.0,8.3,4.4,1.2,5.0,5.6,6.0,3.0,0.8,3.8,5.0,4.2,2.2,0.0,3.6,5.7,1.5,4.2,5.0,0.0,3.5,6.0,0.5,3.4,0.0,3.0,2.0,1.5,3.3,6.0,1.5,3.4,1.0,3.2,0.0,6.0,0.7,5.7,4.2,3.5,6.3,3.8,0.0,0.0,9.2,0.0,2.5,9.2,3.0,1.0,0.0,1.0,1.2,3.6,4.3,8.4,0.8,10.4,3.5,2.3,4.6,3.8,5.5,6.0,1.5,9.5,0.5,2.5,1.6,0.0,3.5,2.0,3.2,1.7,1.6,2.5,0.7,9.5,2.0,4.2,4.7,1.5,10.2,2.2,5.0,4.4,7.2,5.7,6.8,1.0,10.0,2.3,6.5,3.8,0.0,1.0,0.4,0.0,2.8,5.8,2.3,4.0,1.0,4.3,3.2,7.5,0.0,8.3,4.8,1.2,15.2,3.0,6.5,2.4,1.2,4.0,0.0,5.4,5.0,4.8,2.8,3.3,2.5,0.0,2.8,4.2,3.8,1.6,2.0,7.5,1.0,0.8,3.7,1.8,6.2,9.2,7.8,1.0,1.0,1.0,2.3,5.0,0.5,4.5,7.2,5.2,1.0,2.5,0.5,1.2,5.3,1.0,3.0,4.3,3.5,1.7,2.3,0.0,3.3,3.8,1.0,2.7,5.7,5.4,3.8,4.3,0.0,2.0,9.4,0.5,0.3,3.6,2.4,2.0,5.3,2.0,10.7,3.8,2.3,3.3,0.0,4.3,2.6,5.4,1.3,1.0,2.0,1.0,2.0,5.2,0.0,4.8,1.0,1.2,3.0,5.5,0.5,3.0,0.0,2.0,7.2,5.0,0.3,4.0,3.7,2.6,1.0,6.5,3.6,4.8,2.3,2.3,0.5,5.4,6.5,4.5,7.6,3.5,2.5,1.5,0.0,3.0,3.2,1.0,9.0,3.0,5.0,0.0,5.5,0.0,0.8,4.5,1.8,3.5,0.0,3.2,1.7,3.0,5.6,2.3,3.8,0.3,0.5,2.2,3.0,2.3,1.0,0.5,1.3,4.8,5.8,1.0,2.0,3.3,2.0,0.0,4.4,4.7,2.0,4.2,6.2,6.8,2.6,5.0,5.8,2.0,4.0,2.0,3.5,1.2,1.3,0.5,0.0,4.8,2.2,12.2,4.0,4.2,2.8,1.6,5.4,0.8,1.5,4.3,2.3,2.8,5.4,5.4,2.0,2.0,0.0,6.2,11.0,4.0,1.2,6.3,7.2,10.3,7.4,3.0,0.0,3.0,0.0,3.3,3.2,0.5,4.6,9.4,2.6,3.2,0.8,0.8,2.3,7.4,2.7,0.3,2.2,6.0,4.0,2.4,2.2,0.5,2.6,3.2,7.0,4.0,1.0,9.8,0.0,0.0,2.0,0.0,10.3,3.0,0.7,5.3,3.0,9.2,6.2,0.0,2.8,0.5,3.2,2.6,1.0,0.5,6.5,8.5,4.3,1.0,1.0,9.8,5.5,1.5,1.0,1.0,4.0,8.0,3.0,1.0,0.0,0.0,2.4,2.5,0.6,3.3,0.0,3.4,3.3,7.5,2.0,4.2,8.0,11.2,9.3,4.0,5.0,1.7,3.2,10.7,3.4,4.8,1.7,3.0,2.8,0.0,3.8,1.3,1.0,0.8,0.0,7.0,2.0,3.2,0.5,6.0,7.0,4.3,0.0,6.0,3.8,2.7,1.8,0.0,6.7,4.4,5.4,8.0,2.5,2.0,1.3,3.4,13.0],\"y0\":\" \",\"yaxis\":\"y\",\"type\":\"box\"}],                        {\"template\":{\"data\":{\"histogram2dcontour\":[{\"type\":\"histogram2dcontour\",\"colorbar\":{\"outlinewidth\":0,\"ticks\":\"\"},\"colorscale\":[[0.0,\"#0d0887\"],[0.1111111111111111,\"#46039f\"],[0.2222222222222222,\"#7201a8\"],[0.3333333333333333,\"#9c179e\"],[0.4444444444444444,\"#bd3786\"],[0.5555555555555556,\"#d8576b\"],[0.6666666666666666,\"#ed7953\"],[0.7777777777777778,\"#fb9f3a\"],[0.8888888888888888,\"#fdca26\"],[1.0,\"#f0f921\"]]}],\"choropleth\":[{\"type\":\"choropleth\",\"colorbar\":{\"outlinewidth\":0,\"ticks\":\"\"}}],\"histogram2d\":[{\"type\":\"histogram2d\",\"colorbar\":{\"outlinewidth\":0,\"ticks\":\"\"},\"colorscale\":[[0.0,\"#0d0887\"],[0.1111111111111111,\"#46039f\"],[0.2222222222222222,\"#7201a8\"],[0.3333333333333333,\"#9c179e\"],[0.4444444444444444,\"#bd3786\"],[0.5555555555555556,\"#d8576b\"],[0.6666666666666666,\"#ed7953\"],[0.7777777777777778,\"#fb9f3a\"],[0.8888888888888888,\"#fdca26\"],[1.0,\"#f0f921\"]]}],\"heatmap\":[{\"type\":\"heatmap\",\"colorbar\":{\"outlinewidth\":0,\"ticks\":\"\"},\"colorscale\":[[0.0,\"#0d0887\"],[0.1111111111111111,\"#46039f\"],[0.2222222222222222,\"#7201a8\"],[0.3333333333333333,\"#9c179e\"],[0.4444444444444444,\"#bd3786\"],[0.5555555555555556,\"#d8576b\"],[0.6666666666666666,\"#ed7953\"],[0.7777777777777778,\"#fb9f3a\"],[0.8888888888888888,\"#fdca26\"],[1.0,\"#f0f921\"]]}],\"heatmapgl\":[{\"type\":\"heatmapgl\",\"colorbar\":{\"outlinewidth\":0,\"ticks\":\"\"},\"colorscale\":[[0.0,\"#0d0887\"],[0.1111111111111111,\"#46039f\"],[0.2222222222222222,\"#7201a8\"],[0.3333333333333333,\"#9c179e\"],[0.4444444444444444,\"#bd3786\"],[0.5555555555555556,\"#d8576b\"],[0.6666666666666666,\"#ed7953\"],[0.7777777777777778,\"#fb9f3a\"],[0.8888888888888888,\"#fdca26\"],[1.0,\"#f0f921\"]]}],\"contourcarpet\":[{\"type\":\"contourcarpet\",\"colorbar\":{\"outlinewidth\":0,\"ticks\":\"\"}}],\"contour\":[{\"type\":\"contour\",\"colorbar\":{\"outlinewidth\":0,\"ticks\":\"\"},\"colorscale\":[[0.0,\"#0d0887\"],[0.1111111111111111,\"#46039f\"],[0.2222222222222222,\"#7201a8\"],[0.3333333333333333,\"#9c179e\"],[0.4444444444444444,\"#bd3786\"],[0.5555555555555556,\"#d8576b\"],[0.6666666666666666,\"#ed7953\"],[0.7777777777777778,\"#fb9f3a\"],[0.8888888888888888,\"#fdca26\"],[1.0,\"#f0f921\"]]}],\"surface\":[{\"type\":\"surface\",\"colorbar\":{\"outlinewidth\":0,\"ticks\":\"\"},\"colorscale\":[[0.0,\"#0d0887\"],[0.1111111111111111,\"#46039f\"],[0.2222222222222222,\"#7201a8\"],[0.3333333333333333,\"#9c179e\"],[0.4444444444444444,\"#bd3786\"],[0.5555555555555556,\"#d8576b\"],[0.6666666666666666,\"#ed7953\"],[0.7777777777777778,\"#fb9f3a\"],[0.8888888888888888,\"#fdca26\"],[1.0,\"#f0f921\"]]}],\"mesh3d\":[{\"type\":\"mesh3d\",\"colorbar\":{\"outlinewidth\":0,\"ticks\":\"\"}}],\"scatter\":[{\"fillpattern\":{\"fillmode\":\"overlay\",\"size\":10,\"solidity\":0.2},\"type\":\"scatter\"}],\"parcoords\":[{\"type\":\"parcoords\",\"line\":{\"colorbar\":{\"outlinewidth\":0,\"ticks\":\"\"}}}],\"scatterpolargl\":[{\"type\":\"scatterpolargl\",\"marker\":{\"colorbar\":{\"outlinewidth\":0,\"ticks\":\"\"}}}],\"bar\":[{\"error_x\":{\"color\":\"#2a3f5f\"},\"error_y\":{\"color\":\"#2a3f5f\"},\"marker\":{\"line\":{\"color\":\"#E5ECF6\",\"width\":0.5},\"pattern\":{\"fillmode\":\"overlay\",\"size\":10,\"solidity\":0.2}},\"type\":\"bar\"}],\"scattergeo\":[{\"type\":\"scattergeo\",\"marker\":{\"colorbar\":{\"outlinewidth\":0,\"ticks\":\"\"}}}],\"scatterpolar\":[{\"type\":\"scatterpolar\",\"marker\":{\"colorbar\":{\"outlinewidth\":0,\"ticks\":\"\"}}}],\"histogram\":[{\"marker\":{\"pattern\":{\"fillmode\":\"overlay\",\"size\":10,\"solidity\":0.2}},\"type\":\"histogram\"}],\"scattergl\":[{\"type\":\"scattergl\",\"marker\":{\"colorbar\":{\"outlinewidth\":0,\"ticks\":\"\"}}}],\"scatter3d\":[{\"type\":\"scatter3d\",\"line\":{\"colorbar\":{\"outlinewidth\":0,\"ticks\":\"\"}},\"marker\":{\"colorbar\":{\"outlinewidth\":0,\"ticks\":\"\"}}}],\"scattermapbox\":[{\"type\":\"scattermapbox\",\"marker\":{\"colorbar\":{\"outlinewidth\":0,\"ticks\":\"\"}}}],\"scatterternary\":[{\"type\":\"scatterternary\",\"marker\":{\"colorbar\":{\"outlinewidth\":0,\"ticks\":\"\"}}}],\"scattercarpet\":[{\"type\":\"scattercarpet\",\"marker\":{\"colorbar\":{\"outlinewidth\":0,\"ticks\":\"\"}}}],\"carpet\":[{\"aaxis\":{\"endlinecolor\":\"#2a3f5f\",\"gridcolor\":\"white\",\"linecolor\":\"white\",\"minorgridcolor\":\"white\",\"startlinecolor\":\"#2a3f5f\"},\"baxis\":{\"endlinecolor\":\"#2a3f5f\",\"gridcolor\":\"white\",\"linecolor\":\"white\",\"minorgridcolor\":\"white\",\"startlinecolor\":\"#2a3f5f\"},\"type\":\"carpet\"}],\"table\":[{\"cells\":{\"fill\":{\"color\":\"#EBF0F8\"},\"line\":{\"color\":\"white\"}},\"header\":{\"fill\":{\"color\":\"#C8D4E3\"},\"line\":{\"color\":\"white\"}},\"type\":\"table\"}],\"barpolar\":[{\"marker\":{\"line\":{\"color\":\"#E5ECF6\",\"width\":0.5},\"pattern\":{\"fillmode\":\"overlay\",\"size\":10,\"solidity\":0.2}},\"type\":\"barpolar\"}],\"pie\":[{\"automargin\":true,\"type\":\"pie\"}]},\"layout\":{\"autotypenumbers\":\"strict\",\"colorway\":[\"#636efa\",\"#EF553B\",\"#00cc96\",\"#ab63fa\",\"#FFA15A\",\"#19d3f3\",\"#FF6692\",\"#B6E880\",\"#FF97FF\",\"#FECB52\"],\"font\":{\"color\":\"#2a3f5f\"},\"hovermode\":\"closest\",\"hoverlabel\":{\"align\":\"left\"},\"paper_bgcolor\":\"white\",\"plot_bgcolor\":\"#E5ECF6\",\"polar\":{\"bgcolor\":\"#E5ECF6\",\"angularaxis\":{\"gridcolor\":\"white\",\"linecolor\":\"white\",\"ticks\":\"\"},\"radialaxis\":{\"gridcolor\":\"white\",\"linecolor\":\"white\",\"ticks\":\"\"}},\"ternary\":{\"bgcolor\":\"#E5ECF6\",\"aaxis\":{\"gridcolor\":\"white\",\"linecolor\":\"white\",\"ticks\":\"\"},\"baxis\":{\"gridcolor\":\"white\",\"linecolor\":\"white\",\"ticks\":\"\"},\"caxis\":{\"gridcolor\":\"white\",\"linecolor\":\"white\",\"ticks\":\"\"}},\"coloraxis\":{\"colorbar\":{\"outlinewidth\":0,\"ticks\":\"\"}},\"colorscale\":{\"sequential\":[[0.0,\"#0d0887\"],[0.1111111111111111,\"#46039f\"],[0.2222222222222222,\"#7201a8\"],[0.3333333333333333,\"#9c179e\"],[0.4444444444444444,\"#bd3786\"],[0.5555555555555556,\"#d8576b\"],[0.6666666666666666,\"#ed7953\"],[0.7777777777777778,\"#fb9f3a\"],[0.8888888888888888,\"#fdca26\"],[1.0,\"#f0f921\"]],\"sequentialminus\":[[0.0,\"#0d0887\"],[0.1111111111111111,\"#46039f\"],[0.2222222222222222,\"#7201a8\"],[0.3333333333333333,\"#9c179e\"],[0.4444444444444444,\"#bd3786\"],[0.5555555555555556,\"#d8576b\"],[0.6666666666666666,\"#ed7953\"],[0.7777777777777778,\"#fb9f3a\"],[0.8888888888888888,\"#fdca26\"],[1.0,\"#f0f921\"]],\"diverging\":[[0,\"#8e0152\"],[0.1,\"#c51b7d\"],[0.2,\"#de77ae\"],[0.3,\"#f1b6da\"],[0.4,\"#fde0ef\"],[0.5,\"#f7f7f7\"],[0.6,\"#e6f5d0\"],[0.7,\"#b8e186\"],[0.8,\"#7fbc41\"],[0.9,\"#4d9221\"],[1,\"#276419\"]]},\"xaxis\":{\"gridcolor\":\"white\",\"linecolor\":\"white\",\"ticks\":\"\",\"title\":{\"standoff\":15},\"zerolinecolor\":\"white\",\"automargin\":true,\"zerolinewidth\":2},\"yaxis\":{\"gridcolor\":\"white\",\"linecolor\":\"white\",\"ticks\":\"\",\"title\":{\"standoff\":15},\"zerolinecolor\":\"white\",\"automargin\":true,\"zerolinewidth\":2},\"scene\":{\"xaxis\":{\"backgroundcolor\":\"#E5ECF6\",\"gridcolor\":\"white\",\"linecolor\":\"white\",\"showbackground\":true,\"ticks\":\"\",\"zerolinecolor\":\"white\",\"gridwidth\":2},\"yaxis\":{\"backgroundcolor\":\"#E5ECF6\",\"gridcolor\":\"white\",\"linecolor\":\"white\",\"showbackground\":true,\"ticks\":\"\",\"zerolinecolor\":\"white\",\"gridwidth\":2},\"zaxis\":{\"backgroundcolor\":\"#E5ECF6\",\"gridcolor\":\"white\",\"linecolor\":\"white\",\"showbackground\":true,\"ticks\":\"\",\"zerolinecolor\":\"white\",\"gridwidth\":2}},\"shapedefaults\":{\"line\":{\"color\":\"#2a3f5f\"}},\"annotationdefaults\":{\"arrowcolor\":\"#2a3f5f\",\"arrowhead\":0,\"arrowwidth\":1},\"geo\":{\"bgcolor\":\"white\",\"landcolor\":\"#E5ECF6\",\"subunitcolor\":\"white\",\"showland\":true,\"showlakes\":true,\"lakecolor\":\"white\"},\"title\":{\"x\":0.05},\"mapbox\":{\"style\":\"light\"}}},\"xaxis\":{\"anchor\":\"y\",\"domain\":[0.0,1.0],\"title\":{\"text\":\"Age\"}},\"yaxis\":{\"anchor\":\"x\",\"domain\":[0.0,1.0],\"title\":{\"text\":\"TRB\"}},\"legend\":{\"tracegroupgap\":0},\"margin\":{\"t\":60},\"boxmode\":\"group\"},                        {\"responsive\": true}                    ).then(function(){\n",
       "                            \n",
       "var gd = document.getElementById('16671462-580a-4f8f-9c8b-bd960b939cfc');\n",
       "var x = new MutationObserver(function (mutations, observer) {{\n",
       "        var display = window.getComputedStyle(gd).display;\n",
       "        if (!display || display === 'none') {{\n",
       "            console.log([gd, 'removed!']);\n",
       "            Plotly.purge(gd);\n",
       "            observer.disconnect();\n",
       "        }}\n",
       "}});\n",
       "\n",
       "// Listen for the removal of the full notebook cells\n",
       "var notebookContainer = gd.closest('#notebook-container');\n",
       "if (notebookContainer) {{\n",
       "    x.observe(notebookContainer, {childList: true});\n",
       "}}\n",
       "\n",
       "// Listen for the clearing of the current output cell\n",
       "var outputEl = gd.closest('.output');\n",
       "if (outputEl) {{\n",
       "    x.observe(outputEl, {childList: true});\n",
       "}}\n",
       "\n",
       "                        })                };                });            </script>        </div>"
      ]
     },
     "metadata": {},
     "output_type": "display_data"
    }
   ],
   "source": [
    "fig = px.box(df, x=\"Age\", y=\"TRB\")\n",
    "fig.show()"
   ]
  },
  {
   "cell_type": "code",
   "execution_count": 77,
   "id": "6addf501",
   "metadata": {},
   "outputs": [
    {
     "data": {
      "application/vnd.plotly.v1+json": {
       "config": {
        "plotlyServerURL": "https://plot.ly"
       },
       "data": [
        {
         "alignmentgroup": "True",
         "hovertemplate": "Age=%{x}<br>AST=%{y}<extra></extra>",
         "legendgroup": "",
         "marker": {
          "color": "#636efa"
         },
         "name": "",
         "notched": false,
         "offsetgroup": "",
         "orientation": "v",
         "showlegend": false,
         "type": "box",
         "x": [
          23,
          29,
          25,
          22,
          22,
          24,
          27,
          24,
          24,
          29,
          28,
          30,
          22,
          25,
          28,
          22,
          24,
          23,
          24,
          20,
          24,
          23,
          30,
          21,
          22,
          32,
          27,
          34,
          22,
          29,
          26,
          22,
          34,
          23,
          30,
          23,
          30,
          23,
          33,
          23,
          22,
          26,
          21,
          30,
          22,
          25,
          21,
          26,
          24,
          30,
          27,
          26,
          21,
          26,
          23,
          23,
          26,
          31,
          33,
          29,
          31,
          25,
          28,
          21,
          27,
          23,
          28,
          21,
          20,
          19,
          21,
          26,
          30,
          23,
          25,
          25,
          25,
          35,
          32,
          32,
          21,
          34,
          19,
          29,
          20,
          25,
          33,
          32,
          33,
          21,
          24,
          33,
          19,
          29,
          26,
          23,
          26,
          23,
          23,
          36,
          29,
          25,
          23,
          34,
          19,
          21,
          21,
          22,
          28,
          25,
          24,
          29,
          24,
          27,
          29,
          24,
          30,
          25,
          25,
          24,
          23,
          20,
          36,
          32,
          37,
          20,
          24,
          30,
          30,
          24,
          27,
          34,
          27,
          28,
          23,
          32,
          20,
          32,
          29,
          36,
          22,
          19,
          33,
          24,
          22,
          21,
          30,
          33,
          20,
          29,
          31,
          25,
          30,
          27,
          24,
          42,
          25,
          22,
          21,
          32,
          27,
          28,
          23,
          30,
          26,
          36,
          27,
          26,
          32,
          33,
          29,
          36,
          22,
          29,
          20,
          23,
          24,
          25,
          22,
          33,
          25,
          30,
          20,
          21,
          27,
          32,
          38,
          25,
          23,
          26,
          21,
          35,
          23,
          20,
          27,
          27,
          25,
          24,
          22,
          23,
          26,
          34,
          31,
          19,
          29,
          19,
          26,
          21,
          25,
          31,
          25,
          23,
          22,
          26,
          25,
          27,
          22,
          20,
          27,
          27,
          23,
          21,
          27,
          30,
          29,
          31,
          28,
          32,
          22,
          24,
          20,
          26,
          34,
          34,
          34,
          36,
          27,
          21,
          23,
          26,
          21,
          34,
          25,
          25,
          27,
          27,
          22,
          23,
          26,
          20,
          36,
          22,
          22,
          31,
          30,
          22,
          25,
          31,
          35,
          20,
          31,
          26,
          24,
          25,
          34,
          26,
          24,
          26,
          21,
          23,
          27,
          24,
          20,
          21,
          23,
          33,
          33,
          27,
          22,
          26,
          25,
          22,
          31,
          25,
          30,
          23,
          23,
          30,
          29,
          20,
          22,
          23,
          27,
          28,
          24,
          29,
          24,
          24,
          22,
          22,
          23,
          31,
          25,
          27,
          27,
          37,
          28,
          27,
          22,
          32,
          27,
          21,
          23,
          22,
          24,
          27,
          27,
          24,
          31,
          29,
          23,
          20,
          28,
          25,
          23,
          28,
          24,
          23,
          27,
          23,
          23,
          25,
          29,
          30,
          28,
          24,
          22,
          24,
          21,
          20,
          34,
          31,
          28,
          26,
          25,
          26,
          28,
          24,
          25,
          22,
          20,
          24,
          25,
          21,
          19,
          28,
          26,
          23,
          23,
          24,
          28,
          25,
          25,
          34,
          19,
          22,
          19,
          20,
          25,
          21,
          26,
          21,
          27,
          23,
          27,
          24,
          23,
          36,
          20,
          21,
          32,
          20,
          25,
          24,
          21,
          24,
          29,
          27,
          24,
          37,
          26,
          30,
          23,
          28,
          22,
          26,
          27,
          32,
          26,
          21,
          20,
          24,
          32,
          22,
          24,
          28,
          25,
          20,
          19,
          34,
          22,
          28,
          25,
          24,
          27,
          24,
          21,
          20,
          28,
          21,
          21,
          22,
          22,
          26,
          21,
          27,
          30,
          24,
          34,
          24,
          25
         ],
         "x0": " ",
         "xaxis": "x",
         "y": [
          1.3,
          2.4,
          2.5,
          0,
          1,
          2,
          3,
          1.6,
          2.6,
          0.5,
          6.3,
          0,
          4.3,
          1.5,
          0,
          1.2,
          2,
          0,
          0.8,
          3.8,
          5.6,
          0.5,
          1.8,
          3.6,
          2.2,
          2.6,
          0.3,
          1.2,
          1.4,
          5.8,
          0.8,
          0,
          3,
          1.2,
          0,
          1.6,
          1,
          0,
          2,
          0.3,
          1,
          5.4,
          0,
          0.3,
          1.2,
          0,
          1,
          3.4,
          0,
          3.6,
          1.5,
          3.3,
          0,
          3,
          0,
          1.7,
          7.2,
          1,
          5,
          3,
          1.5,
          0,
          0.8,
          0,
          1.8,
          2.7,
          3,
          0,
          1,
          0.5,
          0.6,
          1.6,
          4.8,
          0.4,
          0.8,
          0.6,
          3,
          7.3,
          1.4,
          1,
          6.3,
          6,
          2,
          2,
          0.5,
          1,
          0.4,
          0,
          4.7,
          1,
          1.2,
          2.7,
          1,
          3.8,
          1,
          9.3,
          0,
          2.4,
          3.2,
          4.3,
          0.8,
          1,
          1,
          4,
          0.2,
          0.5,
          4.2,
          1,
          3.2,
          0.5,
          4.5,
          1,
          0,
          0,
          0.6,
          0.5,
          1.8,
          5.8,
          0.7,
          0.2,
          3,
          0.8,
          1.2,
          4.3,
          0,
          5,
          6.5,
          0.4,
          1.2,
          0,
          2.2,
          3.6,
          2,
          2.2,
          1,
          5.4,
          2.3,
          0.8,
          1,
          1.5,
          1,
          0,
          0.8,
          0.6,
          10.3,
          1.6,
          1.3,
          8.7,
          0,
          0.3,
          2,
          0.8,
          2.5,
          4,
          1.2,
          0,
          0.2,
          0.7,
          3.3,
          4.2,
          0,
          0.5,
          3.3,
          3,
          0,
          3,
          0,
          1.4,
          7,
          2.2,
          0,
          2,
          2,
          1,
          0.5,
          0,
          3.3,
          1.6,
          3.7,
          0,
          4,
          4.4,
          4.4,
          1,
          0,
          4.2,
          7.2,
          1,
          0.8,
          1.8,
          0.4,
          1,
          3.5,
          1,
          8.8,
          0.8,
          0.3,
          2,
          0.7,
          4.8,
          3.6,
          0.6,
          2.8,
          0.5,
          1,
          0,
          0.6,
          1.2,
          0,
          0.5,
          0,
          0,
          0.5,
          0.5,
          0.5,
          1,
          0.5,
          0,
          2.2,
          0.6,
          0.3,
          0.4,
          3.7,
          1.4,
          0,
          2,
          6.4,
          4.6,
          0.8,
          1,
          0.5,
          3.8,
          1.5,
          0.5,
          2,
          5.3,
          0.5,
          3,
          0,
          0.2,
          3.2,
          0.3,
          2.7,
          1.8,
          1.8,
          0,
          1.8,
          0,
          0.7,
          2.3,
          0.8,
          3.5,
          0,
          8,
          2.8,
          1.2,
          2.2,
          1.7,
          0.5,
          0.3,
          0,
          3.4,
          2.2,
          1,
          1.2,
          1,
          2.5,
          6.4,
          2,
          0,
          1,
          4.8,
          0.4,
          0,
          6.8,
          1.3,
          0,
          6.6,
          1,
          7.6,
          2.8,
          0.7,
          1,
          0,
          2.2,
          2.8,
          1.5,
          1,
          0.5,
          2,
          0,
          2.5,
          1.2,
          2.5,
          0.3,
          2.4,
          1.3,
          0,
          0.6,
          0,
          0.5,
          3.7,
          0.3,
          2.4,
          0.6,
          10,
          2.8,
          1,
          0,
          4.4,
          3.7,
          1.6,
          6,
          5.2,
          1.2,
          0.5,
          2.2,
          1,
          0,
          1.6,
          0,
          4.5,
          1.2,
          1,
          4.2,
          2.8,
          1.6,
          0.6,
          0.3,
          0,
          0.8,
          0.6,
          3.7,
          0.3,
          1.3,
          0.6,
          1,
          1.2,
          0.8,
          0.5,
          2.8,
          1.2,
          8.5,
          6.3,
          0,
          6.3,
          0,
          0,
          0,
          0,
          1,
          1.5,
          1.3,
          1.3,
          0.7,
          7.7,
          6.8,
          0,
          3.2,
          0,
          6.2,
          5.8,
          0,
          0.5,
          1,
          0.8,
          2,
          0,
          0,
          1.3,
          1.7,
          2,
          1.3,
          1,
          3.5,
          3.6,
          1,
          1,
          0,
          0.5,
          2.4,
          0.3,
          0.6,
          0.7,
          0,
          1.8,
          0.8,
          5.5,
          1.2,
          0.7,
          2,
          2.6,
          2,
          7.7,
          4.5,
          3.8,
          0,
          2.8,
          1.2,
          4,
          1,
          2.6,
          4.3,
          0,
          1.6,
          0.5,
          0,
          0,
          4,
          4,
          1.7,
          2.8,
          0,
          1.3,
          2.6,
          1.5,
          1,
          2,
          2,
          0,
          0.5,
          0,
          2.3,
          2.8,
          0.8,
          1.3,
          3.3,
          2,
          0.3,
          10.6,
          1.6
         ],
         "y0": " ",
         "yaxis": "y"
        }
       ],
       "layout": {
        "boxmode": "group",
        "legend": {
         "tracegroupgap": 0
        },
        "margin": {
         "t": 60
        },
        "template": {
         "data": {
          "bar": [
           {
            "error_x": {
             "color": "#2a3f5f"
            },
            "error_y": {
             "color": "#2a3f5f"
            },
            "marker": {
             "line": {
              "color": "#E5ECF6",
              "width": 0.5
             },
             "pattern": {
              "fillmode": "overlay",
              "size": 10,
              "solidity": 0.2
             }
            },
            "type": "bar"
           }
          ],
          "barpolar": [
           {
            "marker": {
             "line": {
              "color": "#E5ECF6",
              "width": 0.5
             },
             "pattern": {
              "fillmode": "overlay",
              "size": 10,
              "solidity": 0.2
             }
            },
            "type": "barpolar"
           }
          ],
          "carpet": [
           {
            "aaxis": {
             "endlinecolor": "#2a3f5f",
             "gridcolor": "white",
             "linecolor": "white",
             "minorgridcolor": "white",
             "startlinecolor": "#2a3f5f"
            },
            "baxis": {
             "endlinecolor": "#2a3f5f",
             "gridcolor": "white",
             "linecolor": "white",
             "minorgridcolor": "white",
             "startlinecolor": "#2a3f5f"
            },
            "type": "carpet"
           }
          ],
          "choropleth": [
           {
            "colorbar": {
             "outlinewidth": 0,
             "ticks": ""
            },
            "type": "choropleth"
           }
          ],
          "contour": [
           {
            "colorbar": {
             "outlinewidth": 0,
             "ticks": ""
            },
            "colorscale": [
             [
              0,
              "#0d0887"
             ],
             [
              0.1111111111111111,
              "#46039f"
             ],
             [
              0.2222222222222222,
              "#7201a8"
             ],
             [
              0.3333333333333333,
              "#9c179e"
             ],
             [
              0.4444444444444444,
              "#bd3786"
             ],
             [
              0.5555555555555556,
              "#d8576b"
             ],
             [
              0.6666666666666666,
              "#ed7953"
             ],
             [
              0.7777777777777778,
              "#fb9f3a"
             ],
             [
              0.8888888888888888,
              "#fdca26"
             ],
             [
              1,
              "#f0f921"
             ]
            ],
            "type": "contour"
           }
          ],
          "contourcarpet": [
           {
            "colorbar": {
             "outlinewidth": 0,
             "ticks": ""
            },
            "type": "contourcarpet"
           }
          ],
          "heatmap": [
           {
            "colorbar": {
             "outlinewidth": 0,
             "ticks": ""
            },
            "colorscale": [
             [
              0,
              "#0d0887"
             ],
             [
              0.1111111111111111,
              "#46039f"
             ],
             [
              0.2222222222222222,
              "#7201a8"
             ],
             [
              0.3333333333333333,
              "#9c179e"
             ],
             [
              0.4444444444444444,
              "#bd3786"
             ],
             [
              0.5555555555555556,
              "#d8576b"
             ],
             [
              0.6666666666666666,
              "#ed7953"
             ],
             [
              0.7777777777777778,
              "#fb9f3a"
             ],
             [
              0.8888888888888888,
              "#fdca26"
             ],
             [
              1,
              "#f0f921"
             ]
            ],
            "type": "heatmap"
           }
          ],
          "heatmapgl": [
           {
            "colorbar": {
             "outlinewidth": 0,
             "ticks": ""
            },
            "colorscale": [
             [
              0,
              "#0d0887"
             ],
             [
              0.1111111111111111,
              "#46039f"
             ],
             [
              0.2222222222222222,
              "#7201a8"
             ],
             [
              0.3333333333333333,
              "#9c179e"
             ],
             [
              0.4444444444444444,
              "#bd3786"
             ],
             [
              0.5555555555555556,
              "#d8576b"
             ],
             [
              0.6666666666666666,
              "#ed7953"
             ],
             [
              0.7777777777777778,
              "#fb9f3a"
             ],
             [
              0.8888888888888888,
              "#fdca26"
             ],
             [
              1,
              "#f0f921"
             ]
            ],
            "type": "heatmapgl"
           }
          ],
          "histogram": [
           {
            "marker": {
             "pattern": {
              "fillmode": "overlay",
              "size": 10,
              "solidity": 0.2
             }
            },
            "type": "histogram"
           }
          ],
          "histogram2d": [
           {
            "colorbar": {
             "outlinewidth": 0,
             "ticks": ""
            },
            "colorscale": [
             [
              0,
              "#0d0887"
             ],
             [
              0.1111111111111111,
              "#46039f"
             ],
             [
              0.2222222222222222,
              "#7201a8"
             ],
             [
              0.3333333333333333,
              "#9c179e"
             ],
             [
              0.4444444444444444,
              "#bd3786"
             ],
             [
              0.5555555555555556,
              "#d8576b"
             ],
             [
              0.6666666666666666,
              "#ed7953"
             ],
             [
              0.7777777777777778,
              "#fb9f3a"
             ],
             [
              0.8888888888888888,
              "#fdca26"
             ],
             [
              1,
              "#f0f921"
             ]
            ],
            "type": "histogram2d"
           }
          ],
          "histogram2dcontour": [
           {
            "colorbar": {
             "outlinewidth": 0,
             "ticks": ""
            },
            "colorscale": [
             [
              0,
              "#0d0887"
             ],
             [
              0.1111111111111111,
              "#46039f"
             ],
             [
              0.2222222222222222,
              "#7201a8"
             ],
             [
              0.3333333333333333,
              "#9c179e"
             ],
             [
              0.4444444444444444,
              "#bd3786"
             ],
             [
              0.5555555555555556,
              "#d8576b"
             ],
             [
              0.6666666666666666,
              "#ed7953"
             ],
             [
              0.7777777777777778,
              "#fb9f3a"
             ],
             [
              0.8888888888888888,
              "#fdca26"
             ],
             [
              1,
              "#f0f921"
             ]
            ],
            "type": "histogram2dcontour"
           }
          ],
          "mesh3d": [
           {
            "colorbar": {
             "outlinewidth": 0,
             "ticks": ""
            },
            "type": "mesh3d"
           }
          ],
          "parcoords": [
           {
            "line": {
             "colorbar": {
              "outlinewidth": 0,
              "ticks": ""
             }
            },
            "type": "parcoords"
           }
          ],
          "pie": [
           {
            "automargin": true,
            "type": "pie"
           }
          ],
          "scatter": [
           {
            "fillpattern": {
             "fillmode": "overlay",
             "size": 10,
             "solidity": 0.2
            },
            "type": "scatter"
           }
          ],
          "scatter3d": [
           {
            "line": {
             "colorbar": {
              "outlinewidth": 0,
              "ticks": ""
             }
            },
            "marker": {
             "colorbar": {
              "outlinewidth": 0,
              "ticks": ""
             }
            },
            "type": "scatter3d"
           }
          ],
          "scattercarpet": [
           {
            "marker": {
             "colorbar": {
              "outlinewidth": 0,
              "ticks": ""
             }
            },
            "type": "scattercarpet"
           }
          ],
          "scattergeo": [
           {
            "marker": {
             "colorbar": {
              "outlinewidth": 0,
              "ticks": ""
             }
            },
            "type": "scattergeo"
           }
          ],
          "scattergl": [
           {
            "marker": {
             "colorbar": {
              "outlinewidth": 0,
              "ticks": ""
             }
            },
            "type": "scattergl"
           }
          ],
          "scattermapbox": [
           {
            "marker": {
             "colorbar": {
              "outlinewidth": 0,
              "ticks": ""
             }
            },
            "type": "scattermapbox"
           }
          ],
          "scatterpolar": [
           {
            "marker": {
             "colorbar": {
              "outlinewidth": 0,
              "ticks": ""
             }
            },
            "type": "scatterpolar"
           }
          ],
          "scatterpolargl": [
           {
            "marker": {
             "colorbar": {
              "outlinewidth": 0,
              "ticks": ""
             }
            },
            "type": "scatterpolargl"
           }
          ],
          "scatterternary": [
           {
            "marker": {
             "colorbar": {
              "outlinewidth": 0,
              "ticks": ""
             }
            },
            "type": "scatterternary"
           }
          ],
          "surface": [
           {
            "colorbar": {
             "outlinewidth": 0,
             "ticks": ""
            },
            "colorscale": [
             [
              0,
              "#0d0887"
             ],
             [
              0.1111111111111111,
              "#46039f"
             ],
             [
              0.2222222222222222,
              "#7201a8"
             ],
             [
              0.3333333333333333,
              "#9c179e"
             ],
             [
              0.4444444444444444,
              "#bd3786"
             ],
             [
              0.5555555555555556,
              "#d8576b"
             ],
             [
              0.6666666666666666,
              "#ed7953"
             ],
             [
              0.7777777777777778,
              "#fb9f3a"
             ],
             [
              0.8888888888888888,
              "#fdca26"
             ],
             [
              1,
              "#f0f921"
             ]
            ],
            "type": "surface"
           }
          ],
          "table": [
           {
            "cells": {
             "fill": {
              "color": "#EBF0F8"
             },
             "line": {
              "color": "white"
             }
            },
            "header": {
             "fill": {
              "color": "#C8D4E3"
             },
             "line": {
              "color": "white"
             }
            },
            "type": "table"
           }
          ]
         },
         "layout": {
          "annotationdefaults": {
           "arrowcolor": "#2a3f5f",
           "arrowhead": 0,
           "arrowwidth": 1
          },
          "autotypenumbers": "strict",
          "coloraxis": {
           "colorbar": {
            "outlinewidth": 0,
            "ticks": ""
           }
          },
          "colorscale": {
           "diverging": [
            [
             0,
             "#8e0152"
            ],
            [
             0.1,
             "#c51b7d"
            ],
            [
             0.2,
             "#de77ae"
            ],
            [
             0.3,
             "#f1b6da"
            ],
            [
             0.4,
             "#fde0ef"
            ],
            [
             0.5,
             "#f7f7f7"
            ],
            [
             0.6,
             "#e6f5d0"
            ],
            [
             0.7,
             "#b8e186"
            ],
            [
             0.8,
             "#7fbc41"
            ],
            [
             0.9,
             "#4d9221"
            ],
            [
             1,
             "#276419"
            ]
           ],
           "sequential": [
            [
             0,
             "#0d0887"
            ],
            [
             0.1111111111111111,
             "#46039f"
            ],
            [
             0.2222222222222222,
             "#7201a8"
            ],
            [
             0.3333333333333333,
             "#9c179e"
            ],
            [
             0.4444444444444444,
             "#bd3786"
            ],
            [
             0.5555555555555556,
             "#d8576b"
            ],
            [
             0.6666666666666666,
             "#ed7953"
            ],
            [
             0.7777777777777778,
             "#fb9f3a"
            ],
            [
             0.8888888888888888,
             "#fdca26"
            ],
            [
             1,
             "#f0f921"
            ]
           ],
           "sequentialminus": [
            [
             0,
             "#0d0887"
            ],
            [
             0.1111111111111111,
             "#46039f"
            ],
            [
             0.2222222222222222,
             "#7201a8"
            ],
            [
             0.3333333333333333,
             "#9c179e"
            ],
            [
             0.4444444444444444,
             "#bd3786"
            ],
            [
             0.5555555555555556,
             "#d8576b"
            ],
            [
             0.6666666666666666,
             "#ed7953"
            ],
            [
             0.7777777777777778,
             "#fb9f3a"
            ],
            [
             0.8888888888888888,
             "#fdca26"
            ],
            [
             1,
             "#f0f921"
            ]
           ]
          },
          "colorway": [
           "#636efa",
           "#EF553B",
           "#00cc96",
           "#ab63fa",
           "#FFA15A",
           "#19d3f3",
           "#FF6692",
           "#B6E880",
           "#FF97FF",
           "#FECB52"
          ],
          "font": {
           "color": "#2a3f5f"
          },
          "geo": {
           "bgcolor": "white",
           "lakecolor": "white",
           "landcolor": "#E5ECF6",
           "showlakes": true,
           "showland": true,
           "subunitcolor": "white"
          },
          "hoverlabel": {
           "align": "left"
          },
          "hovermode": "closest",
          "mapbox": {
           "style": "light"
          },
          "paper_bgcolor": "white",
          "plot_bgcolor": "#E5ECF6",
          "polar": {
           "angularaxis": {
            "gridcolor": "white",
            "linecolor": "white",
            "ticks": ""
           },
           "bgcolor": "#E5ECF6",
           "radialaxis": {
            "gridcolor": "white",
            "linecolor": "white",
            "ticks": ""
           }
          },
          "scene": {
           "xaxis": {
            "backgroundcolor": "#E5ECF6",
            "gridcolor": "white",
            "gridwidth": 2,
            "linecolor": "white",
            "showbackground": true,
            "ticks": "",
            "zerolinecolor": "white"
           },
           "yaxis": {
            "backgroundcolor": "#E5ECF6",
            "gridcolor": "white",
            "gridwidth": 2,
            "linecolor": "white",
            "showbackground": true,
            "ticks": "",
            "zerolinecolor": "white"
           },
           "zaxis": {
            "backgroundcolor": "#E5ECF6",
            "gridcolor": "white",
            "gridwidth": 2,
            "linecolor": "white",
            "showbackground": true,
            "ticks": "",
            "zerolinecolor": "white"
           }
          },
          "shapedefaults": {
           "line": {
            "color": "#2a3f5f"
           }
          },
          "ternary": {
           "aaxis": {
            "gridcolor": "white",
            "linecolor": "white",
            "ticks": ""
           },
           "baxis": {
            "gridcolor": "white",
            "linecolor": "white",
            "ticks": ""
           },
           "bgcolor": "#E5ECF6",
           "caxis": {
            "gridcolor": "white",
            "linecolor": "white",
            "ticks": ""
           }
          },
          "title": {
           "x": 0.05
          },
          "xaxis": {
           "automargin": true,
           "gridcolor": "white",
           "linecolor": "white",
           "ticks": "",
           "title": {
            "standoff": 15
           },
           "zerolinecolor": "white",
           "zerolinewidth": 2
          },
          "yaxis": {
           "automargin": true,
           "gridcolor": "white",
           "linecolor": "white",
           "ticks": "",
           "title": {
            "standoff": 15
           },
           "zerolinecolor": "white",
           "zerolinewidth": 2
          }
         }
        },
        "xaxis": {
         "anchor": "y",
         "domain": [
          0,
          1
         ],
         "title": {
          "text": "Age"
         }
        },
        "yaxis": {
         "anchor": "x",
         "domain": [
          0,
          1
         ],
         "title": {
          "text": "AST"
         }
        }
       }
      },
      "text/html": [
       "<div>                            <div id=\"523242d0-6802-4330-8341-51b3d6fa8d11\" class=\"plotly-graph-div\" style=\"height:525px; width:100%;\"></div>            <script type=\"text/javascript\">                require([\"plotly\"], function(Plotly) {                    window.PLOTLYENV=window.PLOTLYENV || {};                                    if (document.getElementById(\"523242d0-6802-4330-8341-51b3d6fa8d11\")) {                    Plotly.newPlot(                        \"523242d0-6802-4330-8341-51b3d6fa8d11\",                        [{\"alignmentgroup\":\"True\",\"hovertemplate\":\"Age=%{x}<br>AST=%{y}<extra></extra>\",\"legendgroup\":\"\",\"marker\":{\"color\":\"#636efa\"},\"name\":\"\",\"notched\":false,\"offsetgroup\":\"\",\"orientation\":\"v\",\"showlegend\":false,\"x\":[23,29,25,22,22,24,27,24,24,29,28,30,22,25,28,22,24,23,24,20,24,23,30,21,22,32,27,34,22,29,26,22,34,23,30,23,30,23,33,23,22,26,21,30,22,25,21,26,24,30,27,26,21,26,23,23,26,31,33,29,31,25,28,21,27,23,28,21,20,19,21,26,30,23,25,25,25,35,32,32,21,34,19,29,20,25,33,32,33,21,24,33,19,29,26,23,26,23,23,36,29,25,23,34,19,21,21,22,28,25,24,29,24,27,29,24,30,25,25,24,23,20,36,32,37,20,24,30,30,24,27,34,27,28,23,32,20,32,29,36,22,19,33,24,22,21,30,33,20,29,31,25,30,27,24,42,25,22,21,32,27,28,23,30,26,36,27,26,32,33,29,36,22,29,20,23,24,25,22,33,25,30,20,21,27,32,38,25,23,26,21,35,23,20,27,27,25,24,22,23,26,34,31,19,29,19,26,21,25,31,25,23,22,26,25,27,22,20,27,27,23,21,27,30,29,31,28,32,22,24,20,26,34,34,34,36,27,21,23,26,21,34,25,25,27,27,22,23,26,20,36,22,22,31,30,22,25,31,35,20,31,26,24,25,34,26,24,26,21,23,27,24,20,21,23,33,33,27,22,26,25,22,31,25,30,23,23,30,29,20,22,23,27,28,24,29,24,24,22,22,23,31,25,27,27,37,28,27,22,32,27,21,23,22,24,27,27,24,31,29,23,20,28,25,23,28,24,23,27,23,23,25,29,30,28,24,22,24,21,20,34,31,28,26,25,26,28,24,25,22,20,24,25,21,19,28,26,23,23,24,28,25,25,34,19,22,19,20,25,21,26,21,27,23,27,24,23,36,20,21,32,20,25,24,21,24,29,27,24,37,26,30,23,28,22,26,27,32,26,21,20,24,32,22,24,28,25,20,19,34,22,28,25,24,27,24,21,20,28,21,21,22,22,26,21,27,30,24,34,24,25],\"x0\":\" \",\"xaxis\":\"x\",\"y\":[1.3,2.4,2.5,0.0,1.0,2.0,3.0,1.6,2.6,0.5,6.3,0.0,4.3,1.5,0.0,1.2,2.0,0.0,0.8,3.8,5.6,0.5,1.8,3.6,2.2,2.6,0.3,1.2,1.4,5.8,0.8,0.0,3.0,1.2,0.0,1.6,1.0,0.0,2.0,0.3,1.0,5.4,0.0,0.3,1.2,0.0,1.0,3.4,0.0,3.6,1.5,3.3,0.0,3.0,0.0,1.7,7.2,1.0,5.0,3.0,1.5,0.0,0.8,0.0,1.8,2.7,3.0,0.0,1.0,0.5,0.6,1.6,4.8,0.4,0.8,0.6,3.0,7.3,1.4,1.0,6.3,6.0,2.0,2.0,0.5,1.0,0.4,0.0,4.7,1.0,1.2,2.7,1.0,3.8,1.0,9.3,0.0,2.4,3.2,4.3,0.8,1.0,1.0,4.0,0.2,0.5,4.2,1.0,3.2,0.5,4.5,1.0,0.0,0.0,0.6,0.5,1.8,5.8,0.7,0.2,3.0,0.8,1.2,4.3,0.0,5.0,6.5,0.4,1.2,0.0,2.2,3.6,2.0,2.2,1.0,5.4,2.3,0.8,1.0,1.5,1.0,0.0,0.8,0.6,10.3,1.6,1.3,8.7,0.0,0.3,2.0,0.8,2.5,4.0,1.2,0.0,0.2,0.7,3.3,4.2,0.0,0.5,3.3,3.0,0.0,3.0,0.0,1.4,7.0,2.2,0.0,2.0,2.0,1.0,0.5,0.0,3.3,1.6,3.7,0.0,4.0,4.4,4.4,1.0,0.0,4.2,7.2,1.0,0.8,1.8,0.4,1.0,3.5,1.0,8.8,0.8,0.3,2.0,0.7,4.8,3.6,0.6,2.8,0.5,1.0,0.0,0.6,1.2,0.0,0.5,0.0,0.0,0.5,0.5,0.5,1.0,0.5,0.0,2.2,0.6,0.3,0.4,3.7,1.4,0.0,2.0,6.4,4.6,0.8,1.0,0.5,3.8,1.5,0.5,2.0,5.3,0.5,3.0,0.0,0.2,3.2,0.3,2.7,1.8,1.8,0.0,1.8,0.0,0.7,2.3,0.8,3.5,0.0,8.0,2.8,1.2,2.2,1.7,0.5,0.3,0.0,3.4,2.2,1.0,1.2,1.0,2.5,6.4,2.0,0.0,1.0,4.8,0.4,0.0,6.8,1.3,0.0,6.6,1.0,7.6,2.8,0.7,1.0,0.0,2.2,2.8,1.5,1.0,0.5,2.0,0.0,2.5,1.2,2.5,0.3,2.4,1.3,0.0,0.6,0.0,0.5,3.7,0.3,2.4,0.6,10.0,2.8,1.0,0.0,4.4,3.7,1.6,6.0,5.2,1.2,0.5,2.2,1.0,0.0,1.6,0.0,4.5,1.2,1.0,4.2,2.8,1.6,0.6,0.3,0.0,0.8,0.6,3.7,0.3,1.3,0.6,1.0,1.2,0.8,0.5,2.8,1.2,8.5,6.3,0.0,6.3,0.0,0.0,0.0,0.0,1.0,1.5,1.3,1.3,0.7,7.7,6.8,0.0,3.2,0.0,6.2,5.8,0.0,0.5,1.0,0.8,2.0,0.0,0.0,1.3,1.7,2.0,1.3,1.0,3.5,3.6,1.0,1.0,0.0,0.5,2.4,0.3,0.6,0.7,0.0,1.8,0.8,5.5,1.2,0.7,2.0,2.6,2.0,7.7,4.5,3.8,0.0,2.8,1.2,4.0,1.0,2.6,4.3,0.0,1.6,0.5,0.0,0.0,4.0,4.0,1.7,2.8,0.0,1.3,2.6,1.5,1.0,2.0,2.0,0.0,0.5,0.0,2.3,2.8,0.8,1.3,3.3,2.0,0.3,10.6,1.6],\"y0\":\" \",\"yaxis\":\"y\",\"type\":\"box\"}],                        {\"template\":{\"data\":{\"histogram2dcontour\":[{\"type\":\"histogram2dcontour\",\"colorbar\":{\"outlinewidth\":0,\"ticks\":\"\"},\"colorscale\":[[0.0,\"#0d0887\"],[0.1111111111111111,\"#46039f\"],[0.2222222222222222,\"#7201a8\"],[0.3333333333333333,\"#9c179e\"],[0.4444444444444444,\"#bd3786\"],[0.5555555555555556,\"#d8576b\"],[0.6666666666666666,\"#ed7953\"],[0.7777777777777778,\"#fb9f3a\"],[0.8888888888888888,\"#fdca26\"],[1.0,\"#f0f921\"]]}],\"choropleth\":[{\"type\":\"choropleth\",\"colorbar\":{\"outlinewidth\":0,\"ticks\":\"\"}}],\"histogram2d\":[{\"type\":\"histogram2d\",\"colorbar\":{\"outlinewidth\":0,\"ticks\":\"\"},\"colorscale\":[[0.0,\"#0d0887\"],[0.1111111111111111,\"#46039f\"],[0.2222222222222222,\"#7201a8\"],[0.3333333333333333,\"#9c179e\"],[0.4444444444444444,\"#bd3786\"],[0.5555555555555556,\"#d8576b\"],[0.6666666666666666,\"#ed7953\"],[0.7777777777777778,\"#fb9f3a\"],[0.8888888888888888,\"#fdca26\"],[1.0,\"#f0f921\"]]}],\"heatmap\":[{\"type\":\"heatmap\",\"colorbar\":{\"outlinewidth\":0,\"ticks\":\"\"},\"colorscale\":[[0.0,\"#0d0887\"],[0.1111111111111111,\"#46039f\"],[0.2222222222222222,\"#7201a8\"],[0.3333333333333333,\"#9c179e\"],[0.4444444444444444,\"#bd3786\"],[0.5555555555555556,\"#d8576b\"],[0.6666666666666666,\"#ed7953\"],[0.7777777777777778,\"#fb9f3a\"],[0.8888888888888888,\"#fdca26\"],[1.0,\"#f0f921\"]]}],\"heatmapgl\":[{\"type\":\"heatmapgl\",\"colorbar\":{\"outlinewidth\":0,\"ticks\":\"\"},\"colorscale\":[[0.0,\"#0d0887\"],[0.1111111111111111,\"#46039f\"],[0.2222222222222222,\"#7201a8\"],[0.3333333333333333,\"#9c179e\"],[0.4444444444444444,\"#bd3786\"],[0.5555555555555556,\"#d8576b\"],[0.6666666666666666,\"#ed7953\"],[0.7777777777777778,\"#fb9f3a\"],[0.8888888888888888,\"#fdca26\"],[1.0,\"#f0f921\"]]}],\"contourcarpet\":[{\"type\":\"contourcarpet\",\"colorbar\":{\"outlinewidth\":0,\"ticks\":\"\"}}],\"contour\":[{\"type\":\"contour\",\"colorbar\":{\"outlinewidth\":0,\"ticks\":\"\"},\"colorscale\":[[0.0,\"#0d0887\"],[0.1111111111111111,\"#46039f\"],[0.2222222222222222,\"#7201a8\"],[0.3333333333333333,\"#9c179e\"],[0.4444444444444444,\"#bd3786\"],[0.5555555555555556,\"#d8576b\"],[0.6666666666666666,\"#ed7953\"],[0.7777777777777778,\"#fb9f3a\"],[0.8888888888888888,\"#fdca26\"],[1.0,\"#f0f921\"]]}],\"surface\":[{\"type\":\"surface\",\"colorbar\":{\"outlinewidth\":0,\"ticks\":\"\"},\"colorscale\":[[0.0,\"#0d0887\"],[0.1111111111111111,\"#46039f\"],[0.2222222222222222,\"#7201a8\"],[0.3333333333333333,\"#9c179e\"],[0.4444444444444444,\"#bd3786\"],[0.5555555555555556,\"#d8576b\"],[0.6666666666666666,\"#ed7953\"],[0.7777777777777778,\"#fb9f3a\"],[0.8888888888888888,\"#fdca26\"],[1.0,\"#f0f921\"]]}],\"mesh3d\":[{\"type\":\"mesh3d\",\"colorbar\":{\"outlinewidth\":0,\"ticks\":\"\"}}],\"scatter\":[{\"fillpattern\":{\"fillmode\":\"overlay\",\"size\":10,\"solidity\":0.2},\"type\":\"scatter\"}],\"parcoords\":[{\"type\":\"parcoords\",\"line\":{\"colorbar\":{\"outlinewidth\":0,\"ticks\":\"\"}}}],\"scatterpolargl\":[{\"type\":\"scatterpolargl\",\"marker\":{\"colorbar\":{\"outlinewidth\":0,\"ticks\":\"\"}}}],\"bar\":[{\"error_x\":{\"color\":\"#2a3f5f\"},\"error_y\":{\"color\":\"#2a3f5f\"},\"marker\":{\"line\":{\"color\":\"#E5ECF6\",\"width\":0.5},\"pattern\":{\"fillmode\":\"overlay\",\"size\":10,\"solidity\":0.2}},\"type\":\"bar\"}],\"scattergeo\":[{\"type\":\"scattergeo\",\"marker\":{\"colorbar\":{\"outlinewidth\":0,\"ticks\":\"\"}}}],\"scatterpolar\":[{\"type\":\"scatterpolar\",\"marker\":{\"colorbar\":{\"outlinewidth\":0,\"ticks\":\"\"}}}],\"histogram\":[{\"marker\":{\"pattern\":{\"fillmode\":\"overlay\",\"size\":10,\"solidity\":0.2}},\"type\":\"histogram\"}],\"scattergl\":[{\"type\":\"scattergl\",\"marker\":{\"colorbar\":{\"outlinewidth\":0,\"ticks\":\"\"}}}],\"scatter3d\":[{\"type\":\"scatter3d\",\"line\":{\"colorbar\":{\"outlinewidth\":0,\"ticks\":\"\"}},\"marker\":{\"colorbar\":{\"outlinewidth\":0,\"ticks\":\"\"}}}],\"scattermapbox\":[{\"type\":\"scattermapbox\",\"marker\":{\"colorbar\":{\"outlinewidth\":0,\"ticks\":\"\"}}}],\"scatterternary\":[{\"type\":\"scatterternary\",\"marker\":{\"colorbar\":{\"outlinewidth\":0,\"ticks\":\"\"}}}],\"scattercarpet\":[{\"type\":\"scattercarpet\",\"marker\":{\"colorbar\":{\"outlinewidth\":0,\"ticks\":\"\"}}}],\"carpet\":[{\"aaxis\":{\"endlinecolor\":\"#2a3f5f\",\"gridcolor\":\"white\",\"linecolor\":\"white\",\"minorgridcolor\":\"white\",\"startlinecolor\":\"#2a3f5f\"},\"baxis\":{\"endlinecolor\":\"#2a3f5f\",\"gridcolor\":\"white\",\"linecolor\":\"white\",\"minorgridcolor\":\"white\",\"startlinecolor\":\"#2a3f5f\"},\"type\":\"carpet\"}],\"table\":[{\"cells\":{\"fill\":{\"color\":\"#EBF0F8\"},\"line\":{\"color\":\"white\"}},\"header\":{\"fill\":{\"color\":\"#C8D4E3\"},\"line\":{\"color\":\"white\"}},\"type\":\"table\"}],\"barpolar\":[{\"marker\":{\"line\":{\"color\":\"#E5ECF6\",\"width\":0.5},\"pattern\":{\"fillmode\":\"overlay\",\"size\":10,\"solidity\":0.2}},\"type\":\"barpolar\"}],\"pie\":[{\"automargin\":true,\"type\":\"pie\"}]},\"layout\":{\"autotypenumbers\":\"strict\",\"colorway\":[\"#636efa\",\"#EF553B\",\"#00cc96\",\"#ab63fa\",\"#FFA15A\",\"#19d3f3\",\"#FF6692\",\"#B6E880\",\"#FF97FF\",\"#FECB52\"],\"font\":{\"color\":\"#2a3f5f\"},\"hovermode\":\"closest\",\"hoverlabel\":{\"align\":\"left\"},\"paper_bgcolor\":\"white\",\"plot_bgcolor\":\"#E5ECF6\",\"polar\":{\"bgcolor\":\"#E5ECF6\",\"angularaxis\":{\"gridcolor\":\"white\",\"linecolor\":\"white\",\"ticks\":\"\"},\"radialaxis\":{\"gridcolor\":\"white\",\"linecolor\":\"white\",\"ticks\":\"\"}},\"ternary\":{\"bgcolor\":\"#E5ECF6\",\"aaxis\":{\"gridcolor\":\"white\",\"linecolor\":\"white\",\"ticks\":\"\"},\"baxis\":{\"gridcolor\":\"white\",\"linecolor\":\"white\",\"ticks\":\"\"},\"caxis\":{\"gridcolor\":\"white\",\"linecolor\":\"white\",\"ticks\":\"\"}},\"coloraxis\":{\"colorbar\":{\"outlinewidth\":0,\"ticks\":\"\"}},\"colorscale\":{\"sequential\":[[0.0,\"#0d0887\"],[0.1111111111111111,\"#46039f\"],[0.2222222222222222,\"#7201a8\"],[0.3333333333333333,\"#9c179e\"],[0.4444444444444444,\"#bd3786\"],[0.5555555555555556,\"#d8576b\"],[0.6666666666666666,\"#ed7953\"],[0.7777777777777778,\"#fb9f3a\"],[0.8888888888888888,\"#fdca26\"],[1.0,\"#f0f921\"]],\"sequentialminus\":[[0.0,\"#0d0887\"],[0.1111111111111111,\"#46039f\"],[0.2222222222222222,\"#7201a8\"],[0.3333333333333333,\"#9c179e\"],[0.4444444444444444,\"#bd3786\"],[0.5555555555555556,\"#d8576b\"],[0.6666666666666666,\"#ed7953\"],[0.7777777777777778,\"#fb9f3a\"],[0.8888888888888888,\"#fdca26\"],[1.0,\"#f0f921\"]],\"diverging\":[[0,\"#8e0152\"],[0.1,\"#c51b7d\"],[0.2,\"#de77ae\"],[0.3,\"#f1b6da\"],[0.4,\"#fde0ef\"],[0.5,\"#f7f7f7\"],[0.6,\"#e6f5d0\"],[0.7,\"#b8e186\"],[0.8,\"#7fbc41\"],[0.9,\"#4d9221\"],[1,\"#276419\"]]},\"xaxis\":{\"gridcolor\":\"white\",\"linecolor\":\"white\",\"ticks\":\"\",\"title\":{\"standoff\":15},\"zerolinecolor\":\"white\",\"automargin\":true,\"zerolinewidth\":2},\"yaxis\":{\"gridcolor\":\"white\",\"linecolor\":\"white\",\"ticks\":\"\",\"title\":{\"standoff\":15},\"zerolinecolor\":\"white\",\"automargin\":true,\"zerolinewidth\":2},\"scene\":{\"xaxis\":{\"backgroundcolor\":\"#E5ECF6\",\"gridcolor\":\"white\",\"linecolor\":\"white\",\"showbackground\":true,\"ticks\":\"\",\"zerolinecolor\":\"white\",\"gridwidth\":2},\"yaxis\":{\"backgroundcolor\":\"#E5ECF6\",\"gridcolor\":\"white\",\"linecolor\":\"white\",\"showbackground\":true,\"ticks\":\"\",\"zerolinecolor\":\"white\",\"gridwidth\":2},\"zaxis\":{\"backgroundcolor\":\"#E5ECF6\",\"gridcolor\":\"white\",\"linecolor\":\"white\",\"showbackground\":true,\"ticks\":\"\",\"zerolinecolor\":\"white\",\"gridwidth\":2}},\"shapedefaults\":{\"line\":{\"color\":\"#2a3f5f\"}},\"annotationdefaults\":{\"arrowcolor\":\"#2a3f5f\",\"arrowhead\":0,\"arrowwidth\":1},\"geo\":{\"bgcolor\":\"white\",\"landcolor\":\"#E5ECF6\",\"subunitcolor\":\"white\",\"showland\":true,\"showlakes\":true,\"lakecolor\":\"white\"},\"title\":{\"x\":0.05},\"mapbox\":{\"style\":\"light\"}}},\"xaxis\":{\"anchor\":\"y\",\"domain\":[0.0,1.0],\"title\":{\"text\":\"Age\"}},\"yaxis\":{\"anchor\":\"x\",\"domain\":[0.0,1.0],\"title\":{\"text\":\"AST\"}},\"legend\":{\"tracegroupgap\":0},\"margin\":{\"t\":60},\"boxmode\":\"group\"},                        {\"responsive\": true}                    ).then(function(){\n",
       "                            \n",
       "var gd = document.getElementById('523242d0-6802-4330-8341-51b3d6fa8d11');\n",
       "var x = new MutationObserver(function (mutations, observer) {{\n",
       "        var display = window.getComputedStyle(gd).display;\n",
       "        if (!display || display === 'none') {{\n",
       "            console.log([gd, 'removed!']);\n",
       "            Plotly.purge(gd);\n",
       "            observer.disconnect();\n",
       "        }}\n",
       "}});\n",
       "\n",
       "// Listen for the removal of the full notebook cells\n",
       "var notebookContainer = gd.closest('#notebook-container');\n",
       "if (notebookContainer) {{\n",
       "    x.observe(notebookContainer, {childList: true});\n",
       "}}\n",
       "\n",
       "// Listen for the clearing of the current output cell\n",
       "var outputEl = gd.closest('.output');\n",
       "if (outputEl) {{\n",
       "    x.observe(outputEl, {childList: true});\n",
       "}}\n",
       "\n",
       "                        })                };                });            </script>        </div>"
      ]
     },
     "metadata": {},
     "output_type": "display_data"
    }
   ],
   "source": [
    "fig = px.box(df, x=\"Age\", y=\"AST\")\n",
    "fig.show()"
   ]
  },
  {
   "cell_type": "code",
   "execution_count": 78,
   "id": "fc2db4cd",
   "metadata": {},
   "outputs": [
    {
     "data": {
      "application/vnd.plotly.v1+json": {
       "config": {
        "plotlyServerURL": "https://plot.ly"
       },
       "data": [
        {
         "alignmentgroup": "True",
         "hovertemplate": "Age=%{x}<br>PTS=%{y}<extra></extra>",
         "legendgroup": "",
         "marker": {
          "color": "#636efa"
         },
         "name": "",
         "notched": false,
         "offsetgroup": "",
         "orientation": "v",
         "showlegend": false,
         "type": "box",
         "x": [
          23,
          29,
          25,
          22,
          22,
          24,
          27,
          24,
          24,
          29,
          28,
          30,
          22,
          25,
          28,
          22,
          24,
          23,
          24,
          20,
          24,
          23,
          30,
          21,
          22,
          32,
          27,
          34,
          22,
          29,
          26,
          22,
          34,
          23,
          30,
          23,
          30,
          23,
          33,
          23,
          22,
          26,
          21,
          30,
          22,
          25,
          21,
          26,
          24,
          30,
          27,
          26,
          21,
          26,
          23,
          23,
          26,
          31,
          33,
          29,
          31,
          25,
          28,
          21,
          27,
          23,
          28,
          21,
          20,
          19,
          21,
          26,
          30,
          23,
          25,
          25,
          25,
          35,
          32,
          32,
          21,
          34,
          19,
          29,
          20,
          25,
          33,
          32,
          33,
          21,
          24,
          33,
          19,
          29,
          26,
          23,
          26,
          23,
          23,
          36,
          29,
          25,
          23,
          34,
          19,
          21,
          21,
          22,
          28,
          25,
          24,
          29,
          24,
          27,
          29,
          24,
          30,
          25,
          25,
          24,
          23,
          20,
          36,
          32,
          37,
          20,
          24,
          30,
          30,
          24,
          27,
          34,
          27,
          28,
          23,
          32,
          20,
          32,
          29,
          36,
          22,
          19,
          33,
          24,
          22,
          21,
          30,
          33,
          20,
          29,
          31,
          25,
          30,
          27,
          24,
          42,
          25,
          22,
          21,
          32,
          27,
          28,
          23,
          30,
          26,
          36,
          27,
          26,
          32,
          33,
          29,
          36,
          22,
          29,
          20,
          23,
          24,
          25,
          22,
          33,
          25,
          30,
          20,
          21,
          27,
          32,
          38,
          25,
          23,
          26,
          21,
          35,
          23,
          20,
          27,
          27,
          25,
          24,
          22,
          23,
          26,
          34,
          31,
          19,
          29,
          19,
          26,
          21,
          25,
          31,
          25,
          23,
          22,
          26,
          25,
          27,
          22,
          20,
          27,
          27,
          23,
          21,
          27,
          30,
          29,
          31,
          28,
          32,
          22,
          24,
          20,
          26,
          34,
          34,
          34,
          36,
          27,
          21,
          23,
          26,
          21,
          34,
          25,
          25,
          27,
          27,
          22,
          23,
          26,
          20,
          36,
          22,
          22,
          31,
          30,
          22,
          25,
          31,
          35,
          20,
          31,
          26,
          24,
          25,
          34,
          26,
          24,
          26,
          21,
          23,
          27,
          24,
          20,
          21,
          23,
          33,
          33,
          27,
          22,
          26,
          25,
          22,
          31,
          25,
          30,
          23,
          23,
          30,
          29,
          20,
          22,
          23,
          27,
          28,
          24,
          29,
          24,
          24,
          22,
          22,
          23,
          31,
          25,
          27,
          27,
          37,
          28,
          27,
          22,
          32,
          27,
          21,
          23,
          22,
          24,
          27,
          27,
          24,
          31,
          29,
          23,
          20,
          28,
          25,
          23,
          28,
          24,
          23,
          27,
          23,
          23,
          25,
          29,
          30,
          28,
          24,
          22,
          24,
          21,
          20,
          34,
          31,
          28,
          26,
          25,
          26,
          28,
          24,
          25,
          22,
          20,
          24,
          25,
          21,
          19,
          28,
          26,
          23,
          23,
          24,
          28,
          25,
          25,
          34,
          19,
          22,
          19,
          20,
          25,
          21,
          26,
          21,
          27,
          23,
          27,
          24,
          23,
          36,
          20,
          21,
          32,
          20,
          25,
          24,
          21,
          24,
          29,
          27,
          24,
          37,
          26,
          30,
          23,
          28,
          22,
          26,
          27,
          32,
          26,
          21,
          20,
          24,
          32,
          22,
          24,
          28,
          25,
          20,
          19,
          34,
          22,
          28,
          25,
          24,
          27,
          24,
          21,
          20,
          28,
          21,
          21,
          22,
          22,
          26,
          21,
          27,
          30,
          24,
          34,
          24,
          25
         ],
         "x0": " ",
         "xaxis": "x",
         "y": [
          8.2,
          6.4,
          16.5,
          4.5,
          11,
          3,
          11.3,
          13.2,
          9.4,
          1,
          34.5,
          0,
          15.5,
          13.5,
          0,
          5.6,
          15.4,
          4,
          5.5,
          23.5,
          22.6,
          2.5,
          10.3,
          14.4,
          18.2,
          10.8,
          4.7,
          5.2,
          5.8,
          22.6,
          10.8,
          2,
          5.4,
          14,
          1,
          5.4,
          3.7,
          0,
          23,
          10,
          1,
          29.2,
          2,
          10.3,
          6.8,
          0,
          5.3,
          15.4,
          1.5,
          11.4,
          7.5,
          10.7,
          2.7,
          25.6,
          1.7,
          7.3,
          18.6,
          7.5,
          22.7,
          11.8,
          1.5,
          0,
          7,
          0,
          5.3,
          14,
          4.8,
          2,
          0,
          2.5,
          2.6,
          9.8,
          16.7,
          11.6,
          2.8,
          16,
          8.2,
          11,
          5.2,
          6.8,
          22.5,
          30.8,
          5.5,
          24,
          1,
          8,
          3.4,
          0,
          26.2,
          3,
          4.2,
          2.3,
          1.8,
          16.3,
          5,
          36.3,
          9,
          13.6,
          12.5,
          8.7,
          9,
          6.8,
          10,
          33.2,
          8.2,
          7.2,
          23.8,
          1.5,
          27.6,
          4.2,
          5.5,
          5.5,
          3,
          3.3,
          1.8,
          0,
          11,
          30.5,
          2.7,
          7,
          4,
          3,
          5.8,
          20.3,
          0,
          14.3,
          29.3,
          2.2,
          15,
          2,
          13,
          15,
          6.4,
          15.7,
          0,
          9.6,
          20.7,
          4.4,
          5.3,
          9.5,
          4.5,
          9,
          2.5,
          11,
          23,
          3.4,
          14.3,
          22.7,
          0,
          2.7,
          4.7,
          1.3,
          12.7,
          10.5,
          8.6,
          0,
          4.8,
          0,
          2.7,
          19.4,
          0,
          2,
          17.5,
          17.2,
          0.5,
          8.3,
          0,
          7,
          14,
          4.2,
          4.8,
          8.8,
          7.8,
          2.7,
          3,
          3,
          14.3,
          14.6,
          12,
          3.7,
          22,
          29.6,
          15.2,
          6.7,
          6,
          9.8,
          25.8,
          1.5,
          0.5,
          11.2,
          4.8,
          2,
          23.7,
          4.3,
          20.7,
          3.3,
          6,
          7.3,
          2.3,
          13.5,
          11.6,
          5.4,
          4.3,
          3,
          0,
          0,
          9.8,
          5.8,
          4,
          8.3,
          0,
          1.4,
          2.3,
          10.3,
          0,
          2.3,
          0,
          3,
          20.4,
          9.4,
          2.7,
          7.2,
          23.3,
          5.8,
          0,
          12.5,
          17.4,
          31,
          5.3,
          6.3,
          2,
          6,
          11.8,
          9,
          8.2,
          12,
          4,
          7.3,
          0,
          5.8,
          14.8,
          1.3,
          21.2,
          9.4,
          8.6,
          0,
          8.8,
          2,
          3.5,
          19.2,
          4.3,
          24,
          0,
          20.2,
          3,
          11.7,
          10.2,
          9.8,
          6.3,
          1,
          1.5,
          3.4,
          8.3,
          2,
          7,
          1,
          5,
          31,
          15.8,
          3,
          0,
          9.3,
          6,
          0,
          32.6,
          15,
          3,
          8.6,
          15,
          19.8,
          12.4,
          17.7,
          8.8,
          3,
          6.6,
          6.6,
          8.7,
          3.4,
          5.3,
          4.5,
          1.6,
          14.5,
          6.2,
          13.5,
          4.5,
          9.4,
          3.8,
          1.2,
          10.4,
          1.6,
          0.8,
          12.2,
          6.3,
          13.2,
          16.2,
          9.2,
          8.4,
          2,
          2,
          7.6,
          15.8,
          6.8,
          14.2,
          20.5,
          18.8,
          14,
          17.8,
          4,
          1,
          9.8,
          0,
          7,
          8,
          3,
          9,
          19,
          6.8,
          8.4,
          1,
          0,
          5.5,
          13.2,
          11.7,
          0,
          5.5,
          8,
          7.6,
          3,
          4.4,
          0,
          8.8,
          12.2,
          23.5,
          16.2,
          4.7,
          13.5,
          0,
          0,
          5,
          0,
          15.3,
          11,
          5,
          4,
          9.3,
          25.3,
          5.6,
          0,
          20.5,
          0,
          10,
          11.6,
          2,
          0.5,
          13.8,
          14,
          8,
          2.5,
          0,
          11.7,
          13.3,
          12,
          5.3,
          0,
          8,
          32.4,
          3.8,
          6,
          0,
          1,
          12.6,
          1.8,
          1.2,
          3.7,
          0,
          9.6,
          3.5,
          20.5,
          19.2,
          5,
          16,
          17.8,
          8.7,
          13.3,
          19.8,
          8,
          2.4,
          16,
          8.2,
          15.8,
          1.3,
          13.4,
          15.3,
          1,
          12.2,
          2.8,
          1.5,
          1.5,
          10,
          12.3,
          8.3,
          10.6,
          0,
          8,
          20.2,
          9.5,
          5,
          4,
          7.2,
          3.7,
          6.8,
          0,
          22,
          7.6,
          11,
          21,
          6.5,
          2,
          1.8,
          29.4,
          9.6
         ],
         "y0": " ",
         "yaxis": "y"
        }
       ],
       "layout": {
        "boxmode": "group",
        "legend": {
         "tracegroupgap": 0
        },
        "margin": {
         "t": 60
        },
        "template": {
         "data": {
          "bar": [
           {
            "error_x": {
             "color": "#2a3f5f"
            },
            "error_y": {
             "color": "#2a3f5f"
            },
            "marker": {
             "line": {
              "color": "#E5ECF6",
              "width": 0.5
             },
             "pattern": {
              "fillmode": "overlay",
              "size": 10,
              "solidity": 0.2
             }
            },
            "type": "bar"
           }
          ],
          "barpolar": [
           {
            "marker": {
             "line": {
              "color": "#E5ECF6",
              "width": 0.5
             },
             "pattern": {
              "fillmode": "overlay",
              "size": 10,
              "solidity": 0.2
             }
            },
            "type": "barpolar"
           }
          ],
          "carpet": [
           {
            "aaxis": {
             "endlinecolor": "#2a3f5f",
             "gridcolor": "white",
             "linecolor": "white",
             "minorgridcolor": "white",
             "startlinecolor": "#2a3f5f"
            },
            "baxis": {
             "endlinecolor": "#2a3f5f",
             "gridcolor": "white",
             "linecolor": "white",
             "minorgridcolor": "white",
             "startlinecolor": "#2a3f5f"
            },
            "type": "carpet"
           }
          ],
          "choropleth": [
           {
            "colorbar": {
             "outlinewidth": 0,
             "ticks": ""
            },
            "type": "choropleth"
           }
          ],
          "contour": [
           {
            "colorbar": {
             "outlinewidth": 0,
             "ticks": ""
            },
            "colorscale": [
             [
              0,
              "#0d0887"
             ],
             [
              0.1111111111111111,
              "#46039f"
             ],
             [
              0.2222222222222222,
              "#7201a8"
             ],
             [
              0.3333333333333333,
              "#9c179e"
             ],
             [
              0.4444444444444444,
              "#bd3786"
             ],
             [
              0.5555555555555556,
              "#d8576b"
             ],
             [
              0.6666666666666666,
              "#ed7953"
             ],
             [
              0.7777777777777778,
              "#fb9f3a"
             ],
             [
              0.8888888888888888,
              "#fdca26"
             ],
             [
              1,
              "#f0f921"
             ]
            ],
            "type": "contour"
           }
          ],
          "contourcarpet": [
           {
            "colorbar": {
             "outlinewidth": 0,
             "ticks": ""
            },
            "type": "contourcarpet"
           }
          ],
          "heatmap": [
           {
            "colorbar": {
             "outlinewidth": 0,
             "ticks": ""
            },
            "colorscale": [
             [
              0,
              "#0d0887"
             ],
             [
              0.1111111111111111,
              "#46039f"
             ],
             [
              0.2222222222222222,
              "#7201a8"
             ],
             [
              0.3333333333333333,
              "#9c179e"
             ],
             [
              0.4444444444444444,
              "#bd3786"
             ],
             [
              0.5555555555555556,
              "#d8576b"
             ],
             [
              0.6666666666666666,
              "#ed7953"
             ],
             [
              0.7777777777777778,
              "#fb9f3a"
             ],
             [
              0.8888888888888888,
              "#fdca26"
             ],
             [
              1,
              "#f0f921"
             ]
            ],
            "type": "heatmap"
           }
          ],
          "heatmapgl": [
           {
            "colorbar": {
             "outlinewidth": 0,
             "ticks": ""
            },
            "colorscale": [
             [
              0,
              "#0d0887"
             ],
             [
              0.1111111111111111,
              "#46039f"
             ],
             [
              0.2222222222222222,
              "#7201a8"
             ],
             [
              0.3333333333333333,
              "#9c179e"
             ],
             [
              0.4444444444444444,
              "#bd3786"
             ],
             [
              0.5555555555555556,
              "#d8576b"
             ],
             [
              0.6666666666666666,
              "#ed7953"
             ],
             [
              0.7777777777777778,
              "#fb9f3a"
             ],
             [
              0.8888888888888888,
              "#fdca26"
             ],
             [
              1,
              "#f0f921"
             ]
            ],
            "type": "heatmapgl"
           }
          ],
          "histogram": [
           {
            "marker": {
             "pattern": {
              "fillmode": "overlay",
              "size": 10,
              "solidity": 0.2
             }
            },
            "type": "histogram"
           }
          ],
          "histogram2d": [
           {
            "colorbar": {
             "outlinewidth": 0,
             "ticks": ""
            },
            "colorscale": [
             [
              0,
              "#0d0887"
             ],
             [
              0.1111111111111111,
              "#46039f"
             ],
             [
              0.2222222222222222,
              "#7201a8"
             ],
             [
              0.3333333333333333,
              "#9c179e"
             ],
             [
              0.4444444444444444,
              "#bd3786"
             ],
             [
              0.5555555555555556,
              "#d8576b"
             ],
             [
              0.6666666666666666,
              "#ed7953"
             ],
             [
              0.7777777777777778,
              "#fb9f3a"
             ],
             [
              0.8888888888888888,
              "#fdca26"
             ],
             [
              1,
              "#f0f921"
             ]
            ],
            "type": "histogram2d"
           }
          ],
          "histogram2dcontour": [
           {
            "colorbar": {
             "outlinewidth": 0,
             "ticks": ""
            },
            "colorscale": [
             [
              0,
              "#0d0887"
             ],
             [
              0.1111111111111111,
              "#46039f"
             ],
             [
              0.2222222222222222,
              "#7201a8"
             ],
             [
              0.3333333333333333,
              "#9c179e"
             ],
             [
              0.4444444444444444,
              "#bd3786"
             ],
             [
              0.5555555555555556,
              "#d8576b"
             ],
             [
              0.6666666666666666,
              "#ed7953"
             ],
             [
              0.7777777777777778,
              "#fb9f3a"
             ],
             [
              0.8888888888888888,
              "#fdca26"
             ],
             [
              1,
              "#f0f921"
             ]
            ],
            "type": "histogram2dcontour"
           }
          ],
          "mesh3d": [
           {
            "colorbar": {
             "outlinewidth": 0,
             "ticks": ""
            },
            "type": "mesh3d"
           }
          ],
          "parcoords": [
           {
            "line": {
             "colorbar": {
              "outlinewidth": 0,
              "ticks": ""
             }
            },
            "type": "parcoords"
           }
          ],
          "pie": [
           {
            "automargin": true,
            "type": "pie"
           }
          ],
          "scatter": [
           {
            "fillpattern": {
             "fillmode": "overlay",
             "size": 10,
             "solidity": 0.2
            },
            "type": "scatter"
           }
          ],
          "scatter3d": [
           {
            "line": {
             "colorbar": {
              "outlinewidth": 0,
              "ticks": ""
             }
            },
            "marker": {
             "colorbar": {
              "outlinewidth": 0,
              "ticks": ""
             }
            },
            "type": "scatter3d"
           }
          ],
          "scattercarpet": [
           {
            "marker": {
             "colorbar": {
              "outlinewidth": 0,
              "ticks": ""
             }
            },
            "type": "scattercarpet"
           }
          ],
          "scattergeo": [
           {
            "marker": {
             "colorbar": {
              "outlinewidth": 0,
              "ticks": ""
             }
            },
            "type": "scattergeo"
           }
          ],
          "scattergl": [
           {
            "marker": {
             "colorbar": {
              "outlinewidth": 0,
              "ticks": ""
             }
            },
            "type": "scattergl"
           }
          ],
          "scattermapbox": [
           {
            "marker": {
             "colorbar": {
              "outlinewidth": 0,
              "ticks": ""
             }
            },
            "type": "scattermapbox"
           }
          ],
          "scatterpolar": [
           {
            "marker": {
             "colorbar": {
              "outlinewidth": 0,
              "ticks": ""
             }
            },
            "type": "scatterpolar"
           }
          ],
          "scatterpolargl": [
           {
            "marker": {
             "colorbar": {
              "outlinewidth": 0,
              "ticks": ""
             }
            },
            "type": "scatterpolargl"
           }
          ],
          "scatterternary": [
           {
            "marker": {
             "colorbar": {
              "outlinewidth": 0,
              "ticks": ""
             }
            },
            "type": "scatterternary"
           }
          ],
          "surface": [
           {
            "colorbar": {
             "outlinewidth": 0,
             "ticks": ""
            },
            "colorscale": [
             [
              0,
              "#0d0887"
             ],
             [
              0.1111111111111111,
              "#46039f"
             ],
             [
              0.2222222222222222,
              "#7201a8"
             ],
             [
              0.3333333333333333,
              "#9c179e"
             ],
             [
              0.4444444444444444,
              "#bd3786"
             ],
             [
              0.5555555555555556,
              "#d8576b"
             ],
             [
              0.6666666666666666,
              "#ed7953"
             ],
             [
              0.7777777777777778,
              "#fb9f3a"
             ],
             [
              0.8888888888888888,
              "#fdca26"
             ],
             [
              1,
              "#f0f921"
             ]
            ],
            "type": "surface"
           }
          ],
          "table": [
           {
            "cells": {
             "fill": {
              "color": "#EBF0F8"
             },
             "line": {
              "color": "white"
             }
            },
            "header": {
             "fill": {
              "color": "#C8D4E3"
             },
             "line": {
              "color": "white"
             }
            },
            "type": "table"
           }
          ]
         },
         "layout": {
          "annotationdefaults": {
           "arrowcolor": "#2a3f5f",
           "arrowhead": 0,
           "arrowwidth": 1
          },
          "autotypenumbers": "strict",
          "coloraxis": {
           "colorbar": {
            "outlinewidth": 0,
            "ticks": ""
           }
          },
          "colorscale": {
           "diverging": [
            [
             0,
             "#8e0152"
            ],
            [
             0.1,
             "#c51b7d"
            ],
            [
             0.2,
             "#de77ae"
            ],
            [
             0.3,
             "#f1b6da"
            ],
            [
             0.4,
             "#fde0ef"
            ],
            [
             0.5,
             "#f7f7f7"
            ],
            [
             0.6,
             "#e6f5d0"
            ],
            [
             0.7,
             "#b8e186"
            ],
            [
             0.8,
             "#7fbc41"
            ],
            [
             0.9,
             "#4d9221"
            ],
            [
             1,
             "#276419"
            ]
           ],
           "sequential": [
            [
             0,
             "#0d0887"
            ],
            [
             0.1111111111111111,
             "#46039f"
            ],
            [
             0.2222222222222222,
             "#7201a8"
            ],
            [
             0.3333333333333333,
             "#9c179e"
            ],
            [
             0.4444444444444444,
             "#bd3786"
            ],
            [
             0.5555555555555556,
             "#d8576b"
            ],
            [
             0.6666666666666666,
             "#ed7953"
            ],
            [
             0.7777777777777778,
             "#fb9f3a"
            ],
            [
             0.8888888888888888,
             "#fdca26"
            ],
            [
             1,
             "#f0f921"
            ]
           ],
           "sequentialminus": [
            [
             0,
             "#0d0887"
            ],
            [
             0.1111111111111111,
             "#46039f"
            ],
            [
             0.2222222222222222,
             "#7201a8"
            ],
            [
             0.3333333333333333,
             "#9c179e"
            ],
            [
             0.4444444444444444,
             "#bd3786"
            ],
            [
             0.5555555555555556,
             "#d8576b"
            ],
            [
             0.6666666666666666,
             "#ed7953"
            ],
            [
             0.7777777777777778,
             "#fb9f3a"
            ],
            [
             0.8888888888888888,
             "#fdca26"
            ],
            [
             1,
             "#f0f921"
            ]
           ]
          },
          "colorway": [
           "#636efa",
           "#EF553B",
           "#00cc96",
           "#ab63fa",
           "#FFA15A",
           "#19d3f3",
           "#FF6692",
           "#B6E880",
           "#FF97FF",
           "#FECB52"
          ],
          "font": {
           "color": "#2a3f5f"
          },
          "geo": {
           "bgcolor": "white",
           "lakecolor": "white",
           "landcolor": "#E5ECF6",
           "showlakes": true,
           "showland": true,
           "subunitcolor": "white"
          },
          "hoverlabel": {
           "align": "left"
          },
          "hovermode": "closest",
          "mapbox": {
           "style": "light"
          },
          "paper_bgcolor": "white",
          "plot_bgcolor": "#E5ECF6",
          "polar": {
           "angularaxis": {
            "gridcolor": "white",
            "linecolor": "white",
            "ticks": ""
           },
           "bgcolor": "#E5ECF6",
           "radialaxis": {
            "gridcolor": "white",
            "linecolor": "white",
            "ticks": ""
           }
          },
          "scene": {
           "xaxis": {
            "backgroundcolor": "#E5ECF6",
            "gridcolor": "white",
            "gridwidth": 2,
            "linecolor": "white",
            "showbackground": true,
            "ticks": "",
            "zerolinecolor": "white"
           },
           "yaxis": {
            "backgroundcolor": "#E5ECF6",
            "gridcolor": "white",
            "gridwidth": 2,
            "linecolor": "white",
            "showbackground": true,
            "ticks": "",
            "zerolinecolor": "white"
           },
           "zaxis": {
            "backgroundcolor": "#E5ECF6",
            "gridcolor": "white",
            "gridwidth": 2,
            "linecolor": "white",
            "showbackground": true,
            "ticks": "",
            "zerolinecolor": "white"
           }
          },
          "shapedefaults": {
           "line": {
            "color": "#2a3f5f"
           }
          },
          "ternary": {
           "aaxis": {
            "gridcolor": "white",
            "linecolor": "white",
            "ticks": ""
           },
           "baxis": {
            "gridcolor": "white",
            "linecolor": "white",
            "ticks": ""
           },
           "bgcolor": "#E5ECF6",
           "caxis": {
            "gridcolor": "white",
            "linecolor": "white",
            "ticks": ""
           }
          },
          "title": {
           "x": 0.05
          },
          "xaxis": {
           "automargin": true,
           "gridcolor": "white",
           "linecolor": "white",
           "ticks": "",
           "title": {
            "standoff": 15
           },
           "zerolinecolor": "white",
           "zerolinewidth": 2
          },
          "yaxis": {
           "automargin": true,
           "gridcolor": "white",
           "linecolor": "white",
           "ticks": "",
           "title": {
            "standoff": 15
           },
           "zerolinecolor": "white",
           "zerolinewidth": 2
          }
         }
        },
        "xaxis": {
         "anchor": "y",
         "domain": [
          0,
          1
         ],
         "title": {
          "text": "Age"
         }
        },
        "yaxis": {
         "anchor": "x",
         "domain": [
          0,
          1
         ],
         "title": {
          "text": "PTS"
         }
        }
       }
      },
      "text/html": [
       "<div>                            <div id=\"2d4dcece-5719-4c38-b3e6-d93289c9beff\" class=\"plotly-graph-div\" style=\"height:525px; width:100%;\"></div>            <script type=\"text/javascript\">                require([\"plotly\"], function(Plotly) {                    window.PLOTLYENV=window.PLOTLYENV || {};                                    if (document.getElementById(\"2d4dcece-5719-4c38-b3e6-d93289c9beff\")) {                    Plotly.newPlot(                        \"2d4dcece-5719-4c38-b3e6-d93289c9beff\",                        [{\"alignmentgroup\":\"True\",\"hovertemplate\":\"Age=%{x}<br>PTS=%{y}<extra></extra>\",\"legendgroup\":\"\",\"marker\":{\"color\":\"#636efa\"},\"name\":\"\",\"notched\":false,\"offsetgroup\":\"\",\"orientation\":\"v\",\"showlegend\":false,\"x\":[23,29,25,22,22,24,27,24,24,29,28,30,22,25,28,22,24,23,24,20,24,23,30,21,22,32,27,34,22,29,26,22,34,23,30,23,30,23,33,23,22,26,21,30,22,25,21,26,24,30,27,26,21,26,23,23,26,31,33,29,31,25,28,21,27,23,28,21,20,19,21,26,30,23,25,25,25,35,32,32,21,34,19,29,20,25,33,32,33,21,24,33,19,29,26,23,26,23,23,36,29,25,23,34,19,21,21,22,28,25,24,29,24,27,29,24,30,25,25,24,23,20,36,32,37,20,24,30,30,24,27,34,27,28,23,32,20,32,29,36,22,19,33,24,22,21,30,33,20,29,31,25,30,27,24,42,25,22,21,32,27,28,23,30,26,36,27,26,32,33,29,36,22,29,20,23,24,25,22,33,25,30,20,21,27,32,38,25,23,26,21,35,23,20,27,27,25,24,22,23,26,34,31,19,29,19,26,21,25,31,25,23,22,26,25,27,22,20,27,27,23,21,27,30,29,31,28,32,22,24,20,26,34,34,34,36,27,21,23,26,21,34,25,25,27,27,22,23,26,20,36,22,22,31,30,22,25,31,35,20,31,26,24,25,34,26,24,26,21,23,27,24,20,21,23,33,33,27,22,26,25,22,31,25,30,23,23,30,29,20,22,23,27,28,24,29,24,24,22,22,23,31,25,27,27,37,28,27,22,32,27,21,23,22,24,27,27,24,31,29,23,20,28,25,23,28,24,23,27,23,23,25,29,30,28,24,22,24,21,20,34,31,28,26,25,26,28,24,25,22,20,24,25,21,19,28,26,23,23,24,28,25,25,34,19,22,19,20,25,21,26,21,27,23,27,24,23,36,20,21,32,20,25,24,21,24,29,27,24,37,26,30,23,28,22,26,27,32,26,21,20,24,32,22,24,28,25,20,19,34,22,28,25,24,27,24,21,20,28,21,21,22,22,26,21,27,30,24,34,24,25],\"x0\":\" \",\"xaxis\":\"x\",\"y\":[8.2,6.4,16.5,4.5,11.0,3.0,11.3,13.2,9.4,1.0,34.5,0.0,15.5,13.5,0.0,5.6,15.4,4.0,5.5,23.5,22.6,2.5,10.3,14.4,18.2,10.8,4.7,5.2,5.8,22.6,10.8,2.0,5.4,14.0,1.0,5.4,3.7,0.0,23.0,10.0,1.0,29.2,2.0,10.3,6.8,0.0,5.3,15.4,1.5,11.4,7.5,10.7,2.7,25.6,1.7,7.3,18.6,7.5,22.7,11.8,1.5,0.0,7.0,0.0,5.3,14.0,4.8,2.0,0.0,2.5,2.6,9.8,16.7,11.6,2.8,16.0,8.2,11.0,5.2,6.8,22.5,30.8,5.5,24.0,1.0,8.0,3.4,0.0,26.2,3.0,4.2,2.3,1.8,16.3,5.0,36.3,9.0,13.6,12.5,8.7,9.0,6.8,10.0,33.2,8.2,7.2,23.8,1.5,27.6,4.2,5.5,5.5,3.0,3.3,1.8,0.0,11.0,30.5,2.7,7.0,4.0,3.0,5.8,20.3,0.0,14.3,29.3,2.2,15.0,2.0,13.0,15.0,6.4,15.7,0.0,9.6,20.7,4.4,5.3,9.5,4.5,9.0,2.5,11.0,23.0,3.4,14.3,22.7,0.0,2.7,4.7,1.3,12.7,10.5,8.6,0.0,4.8,0.0,2.7,19.4,0.0,2.0,17.5,17.2,0.5,8.3,0.0,7.0,14.0,4.2,4.8,8.8,7.8,2.7,3.0,3.0,14.3,14.6,12.0,3.7,22.0,29.6,15.2,6.7,6.0,9.8,25.8,1.5,0.5,11.2,4.8,2.0,23.7,4.3,20.7,3.3,6.0,7.3,2.3,13.5,11.6,5.4,4.3,3.0,0.0,0.0,9.8,5.8,4.0,8.3,0.0,1.4,2.3,10.3,0.0,2.3,0.0,3.0,20.4,9.4,2.7,7.2,23.3,5.8,0.0,12.5,17.4,31.0,5.3,6.3,2.0,6.0,11.8,9.0,8.2,12.0,4.0,7.3,0.0,5.8,14.8,1.3,21.2,9.4,8.6,0.0,8.8,2.0,3.5,19.2,4.3,24.0,0.0,20.2,3.0,11.7,10.2,9.8,6.3,1.0,1.5,3.4,8.3,2.0,7.0,1.0,5.0,31.0,15.8,3.0,0.0,9.3,6.0,0.0,32.6,15.0,3.0,8.6,15.0,19.8,12.4,17.7,8.8,3.0,6.6,6.6,8.7,3.4,5.3,4.5,1.6,14.5,6.2,13.5,4.5,9.4,3.8,1.2,10.4,1.6,0.8,12.2,6.3,13.2,16.2,9.2,8.4,2.0,2.0,7.6,15.8,6.8,14.2,20.5,18.8,14.0,17.8,4.0,1.0,9.8,0.0,7.0,8.0,3.0,9.0,19.0,6.8,8.4,1.0,0.0,5.5,13.2,11.7,0.0,5.5,8.0,7.6,3.0,4.4,0.0,8.8,12.2,23.5,16.2,4.7,13.5,0.0,0.0,5.0,0.0,15.3,11.0,5.0,4.0,9.3,25.3,5.6,0.0,20.5,0.0,10.0,11.6,2.0,0.5,13.8,14.0,8.0,2.5,0.0,11.7,13.3,12.0,5.3,0.0,8.0,32.4,3.8,6.0,0.0,1.0,12.6,1.8,1.2,3.7,0.0,9.6,3.5,20.5,19.2,5.0,16.0,17.8,8.7,13.3,19.8,8.0,2.4,16.0,8.2,15.8,1.3,13.4,15.3,1.0,12.2,2.8,1.5,1.5,10.0,12.3,8.3,10.6,0.0,8.0,20.2,9.5,5.0,4.0,7.2,3.7,6.8,0.0,22.0,7.6,11.0,21.0,6.5,2.0,1.8,29.4,9.6],\"y0\":\" \",\"yaxis\":\"y\",\"type\":\"box\"}],                        {\"template\":{\"data\":{\"histogram2dcontour\":[{\"type\":\"histogram2dcontour\",\"colorbar\":{\"outlinewidth\":0,\"ticks\":\"\"},\"colorscale\":[[0.0,\"#0d0887\"],[0.1111111111111111,\"#46039f\"],[0.2222222222222222,\"#7201a8\"],[0.3333333333333333,\"#9c179e\"],[0.4444444444444444,\"#bd3786\"],[0.5555555555555556,\"#d8576b\"],[0.6666666666666666,\"#ed7953\"],[0.7777777777777778,\"#fb9f3a\"],[0.8888888888888888,\"#fdca26\"],[1.0,\"#f0f921\"]]}],\"choropleth\":[{\"type\":\"choropleth\",\"colorbar\":{\"outlinewidth\":0,\"ticks\":\"\"}}],\"histogram2d\":[{\"type\":\"histogram2d\",\"colorbar\":{\"outlinewidth\":0,\"ticks\":\"\"},\"colorscale\":[[0.0,\"#0d0887\"],[0.1111111111111111,\"#46039f\"],[0.2222222222222222,\"#7201a8\"],[0.3333333333333333,\"#9c179e\"],[0.4444444444444444,\"#bd3786\"],[0.5555555555555556,\"#d8576b\"],[0.6666666666666666,\"#ed7953\"],[0.7777777777777778,\"#fb9f3a\"],[0.8888888888888888,\"#fdca26\"],[1.0,\"#f0f921\"]]}],\"heatmap\":[{\"type\":\"heatmap\",\"colorbar\":{\"outlinewidth\":0,\"ticks\":\"\"},\"colorscale\":[[0.0,\"#0d0887\"],[0.1111111111111111,\"#46039f\"],[0.2222222222222222,\"#7201a8\"],[0.3333333333333333,\"#9c179e\"],[0.4444444444444444,\"#bd3786\"],[0.5555555555555556,\"#d8576b\"],[0.6666666666666666,\"#ed7953\"],[0.7777777777777778,\"#fb9f3a\"],[0.8888888888888888,\"#fdca26\"],[1.0,\"#f0f921\"]]}],\"heatmapgl\":[{\"type\":\"heatmapgl\",\"colorbar\":{\"outlinewidth\":0,\"ticks\":\"\"},\"colorscale\":[[0.0,\"#0d0887\"],[0.1111111111111111,\"#46039f\"],[0.2222222222222222,\"#7201a8\"],[0.3333333333333333,\"#9c179e\"],[0.4444444444444444,\"#bd3786\"],[0.5555555555555556,\"#d8576b\"],[0.6666666666666666,\"#ed7953\"],[0.7777777777777778,\"#fb9f3a\"],[0.8888888888888888,\"#fdca26\"],[1.0,\"#f0f921\"]]}],\"contourcarpet\":[{\"type\":\"contourcarpet\",\"colorbar\":{\"outlinewidth\":0,\"ticks\":\"\"}}],\"contour\":[{\"type\":\"contour\",\"colorbar\":{\"outlinewidth\":0,\"ticks\":\"\"},\"colorscale\":[[0.0,\"#0d0887\"],[0.1111111111111111,\"#46039f\"],[0.2222222222222222,\"#7201a8\"],[0.3333333333333333,\"#9c179e\"],[0.4444444444444444,\"#bd3786\"],[0.5555555555555556,\"#d8576b\"],[0.6666666666666666,\"#ed7953\"],[0.7777777777777778,\"#fb9f3a\"],[0.8888888888888888,\"#fdca26\"],[1.0,\"#f0f921\"]]}],\"surface\":[{\"type\":\"surface\",\"colorbar\":{\"outlinewidth\":0,\"ticks\":\"\"},\"colorscale\":[[0.0,\"#0d0887\"],[0.1111111111111111,\"#46039f\"],[0.2222222222222222,\"#7201a8\"],[0.3333333333333333,\"#9c179e\"],[0.4444444444444444,\"#bd3786\"],[0.5555555555555556,\"#d8576b\"],[0.6666666666666666,\"#ed7953\"],[0.7777777777777778,\"#fb9f3a\"],[0.8888888888888888,\"#fdca26\"],[1.0,\"#f0f921\"]]}],\"mesh3d\":[{\"type\":\"mesh3d\",\"colorbar\":{\"outlinewidth\":0,\"ticks\":\"\"}}],\"scatter\":[{\"fillpattern\":{\"fillmode\":\"overlay\",\"size\":10,\"solidity\":0.2},\"type\":\"scatter\"}],\"parcoords\":[{\"type\":\"parcoords\",\"line\":{\"colorbar\":{\"outlinewidth\":0,\"ticks\":\"\"}}}],\"scatterpolargl\":[{\"type\":\"scatterpolargl\",\"marker\":{\"colorbar\":{\"outlinewidth\":0,\"ticks\":\"\"}}}],\"bar\":[{\"error_x\":{\"color\":\"#2a3f5f\"},\"error_y\":{\"color\":\"#2a3f5f\"},\"marker\":{\"line\":{\"color\":\"#E5ECF6\",\"width\":0.5},\"pattern\":{\"fillmode\":\"overlay\",\"size\":10,\"solidity\":0.2}},\"type\":\"bar\"}],\"scattergeo\":[{\"type\":\"scattergeo\",\"marker\":{\"colorbar\":{\"outlinewidth\":0,\"ticks\":\"\"}}}],\"scatterpolar\":[{\"type\":\"scatterpolar\",\"marker\":{\"colorbar\":{\"outlinewidth\":0,\"ticks\":\"\"}}}],\"histogram\":[{\"marker\":{\"pattern\":{\"fillmode\":\"overlay\",\"size\":10,\"solidity\":0.2}},\"type\":\"histogram\"}],\"scattergl\":[{\"type\":\"scattergl\",\"marker\":{\"colorbar\":{\"outlinewidth\":0,\"ticks\":\"\"}}}],\"scatter3d\":[{\"type\":\"scatter3d\",\"line\":{\"colorbar\":{\"outlinewidth\":0,\"ticks\":\"\"}},\"marker\":{\"colorbar\":{\"outlinewidth\":0,\"ticks\":\"\"}}}],\"scattermapbox\":[{\"type\":\"scattermapbox\",\"marker\":{\"colorbar\":{\"outlinewidth\":0,\"ticks\":\"\"}}}],\"scatterternary\":[{\"type\":\"scatterternary\",\"marker\":{\"colorbar\":{\"outlinewidth\":0,\"ticks\":\"\"}}}],\"scattercarpet\":[{\"type\":\"scattercarpet\",\"marker\":{\"colorbar\":{\"outlinewidth\":0,\"ticks\":\"\"}}}],\"carpet\":[{\"aaxis\":{\"endlinecolor\":\"#2a3f5f\",\"gridcolor\":\"white\",\"linecolor\":\"white\",\"minorgridcolor\":\"white\",\"startlinecolor\":\"#2a3f5f\"},\"baxis\":{\"endlinecolor\":\"#2a3f5f\",\"gridcolor\":\"white\",\"linecolor\":\"white\",\"minorgridcolor\":\"white\",\"startlinecolor\":\"#2a3f5f\"},\"type\":\"carpet\"}],\"table\":[{\"cells\":{\"fill\":{\"color\":\"#EBF0F8\"},\"line\":{\"color\":\"white\"}},\"header\":{\"fill\":{\"color\":\"#C8D4E3\"},\"line\":{\"color\":\"white\"}},\"type\":\"table\"}],\"barpolar\":[{\"marker\":{\"line\":{\"color\":\"#E5ECF6\",\"width\":0.5},\"pattern\":{\"fillmode\":\"overlay\",\"size\":10,\"solidity\":0.2}},\"type\":\"barpolar\"}],\"pie\":[{\"automargin\":true,\"type\":\"pie\"}]},\"layout\":{\"autotypenumbers\":\"strict\",\"colorway\":[\"#636efa\",\"#EF553B\",\"#00cc96\",\"#ab63fa\",\"#FFA15A\",\"#19d3f3\",\"#FF6692\",\"#B6E880\",\"#FF97FF\",\"#FECB52\"],\"font\":{\"color\":\"#2a3f5f\"},\"hovermode\":\"closest\",\"hoverlabel\":{\"align\":\"left\"},\"paper_bgcolor\":\"white\",\"plot_bgcolor\":\"#E5ECF6\",\"polar\":{\"bgcolor\":\"#E5ECF6\",\"angularaxis\":{\"gridcolor\":\"white\",\"linecolor\":\"white\",\"ticks\":\"\"},\"radialaxis\":{\"gridcolor\":\"white\",\"linecolor\":\"white\",\"ticks\":\"\"}},\"ternary\":{\"bgcolor\":\"#E5ECF6\",\"aaxis\":{\"gridcolor\":\"white\",\"linecolor\":\"white\",\"ticks\":\"\"},\"baxis\":{\"gridcolor\":\"white\",\"linecolor\":\"white\",\"ticks\":\"\"},\"caxis\":{\"gridcolor\":\"white\",\"linecolor\":\"white\",\"ticks\":\"\"}},\"coloraxis\":{\"colorbar\":{\"outlinewidth\":0,\"ticks\":\"\"}},\"colorscale\":{\"sequential\":[[0.0,\"#0d0887\"],[0.1111111111111111,\"#46039f\"],[0.2222222222222222,\"#7201a8\"],[0.3333333333333333,\"#9c179e\"],[0.4444444444444444,\"#bd3786\"],[0.5555555555555556,\"#d8576b\"],[0.6666666666666666,\"#ed7953\"],[0.7777777777777778,\"#fb9f3a\"],[0.8888888888888888,\"#fdca26\"],[1.0,\"#f0f921\"]],\"sequentialminus\":[[0.0,\"#0d0887\"],[0.1111111111111111,\"#46039f\"],[0.2222222222222222,\"#7201a8\"],[0.3333333333333333,\"#9c179e\"],[0.4444444444444444,\"#bd3786\"],[0.5555555555555556,\"#d8576b\"],[0.6666666666666666,\"#ed7953\"],[0.7777777777777778,\"#fb9f3a\"],[0.8888888888888888,\"#fdca26\"],[1.0,\"#f0f921\"]],\"diverging\":[[0,\"#8e0152\"],[0.1,\"#c51b7d\"],[0.2,\"#de77ae\"],[0.3,\"#f1b6da\"],[0.4,\"#fde0ef\"],[0.5,\"#f7f7f7\"],[0.6,\"#e6f5d0\"],[0.7,\"#b8e186\"],[0.8,\"#7fbc41\"],[0.9,\"#4d9221\"],[1,\"#276419\"]]},\"xaxis\":{\"gridcolor\":\"white\",\"linecolor\":\"white\",\"ticks\":\"\",\"title\":{\"standoff\":15},\"zerolinecolor\":\"white\",\"automargin\":true,\"zerolinewidth\":2},\"yaxis\":{\"gridcolor\":\"white\",\"linecolor\":\"white\",\"ticks\":\"\",\"title\":{\"standoff\":15},\"zerolinecolor\":\"white\",\"automargin\":true,\"zerolinewidth\":2},\"scene\":{\"xaxis\":{\"backgroundcolor\":\"#E5ECF6\",\"gridcolor\":\"white\",\"linecolor\":\"white\",\"showbackground\":true,\"ticks\":\"\",\"zerolinecolor\":\"white\",\"gridwidth\":2},\"yaxis\":{\"backgroundcolor\":\"#E5ECF6\",\"gridcolor\":\"white\",\"linecolor\":\"white\",\"showbackground\":true,\"ticks\":\"\",\"zerolinecolor\":\"white\",\"gridwidth\":2},\"zaxis\":{\"backgroundcolor\":\"#E5ECF6\",\"gridcolor\":\"white\",\"linecolor\":\"white\",\"showbackground\":true,\"ticks\":\"\",\"zerolinecolor\":\"white\",\"gridwidth\":2}},\"shapedefaults\":{\"line\":{\"color\":\"#2a3f5f\"}},\"annotationdefaults\":{\"arrowcolor\":\"#2a3f5f\",\"arrowhead\":0,\"arrowwidth\":1},\"geo\":{\"bgcolor\":\"white\",\"landcolor\":\"#E5ECF6\",\"subunitcolor\":\"white\",\"showland\":true,\"showlakes\":true,\"lakecolor\":\"white\"},\"title\":{\"x\":0.05},\"mapbox\":{\"style\":\"light\"}}},\"xaxis\":{\"anchor\":\"y\",\"domain\":[0.0,1.0],\"title\":{\"text\":\"Age\"}},\"yaxis\":{\"anchor\":\"x\",\"domain\":[0.0,1.0],\"title\":{\"text\":\"PTS\"}},\"legend\":{\"tracegroupgap\":0},\"margin\":{\"t\":60},\"boxmode\":\"group\"},                        {\"responsive\": true}                    ).then(function(){\n",
       "                            \n",
       "var gd = document.getElementById('2d4dcece-5719-4c38-b3e6-d93289c9beff');\n",
       "var x = new MutationObserver(function (mutations, observer) {{\n",
       "        var display = window.getComputedStyle(gd).display;\n",
       "        if (!display || display === 'none') {{\n",
       "            console.log([gd, 'removed!']);\n",
       "            Plotly.purge(gd);\n",
       "            observer.disconnect();\n",
       "        }}\n",
       "}});\n",
       "\n",
       "// Listen for the removal of the full notebook cells\n",
       "var notebookContainer = gd.closest('#notebook-container');\n",
       "if (notebookContainer) {{\n",
       "    x.observe(notebookContainer, {childList: true});\n",
       "}}\n",
       "\n",
       "// Listen for the clearing of the current output cell\n",
       "var outputEl = gd.closest('.output');\n",
       "if (outputEl) {{\n",
       "    x.observe(outputEl, {childList: true});\n",
       "}}\n",
       "\n",
       "                        })                };                });            </script>        </div>"
      ]
     },
     "metadata": {},
     "output_type": "display_data"
    }
   ],
   "source": [
    "fig = px.box(df, x=\"Age\", y=\"PTS\")\n",
    "fig.show()"
   ]
  },
  {
   "cell_type": "code",
   "execution_count": null,
   "id": "ee467702",
   "metadata": {},
   "outputs": [],
   "source": []
  }
 ],
 "metadata": {
  "kernelspec": {
   "display_name": "Python 3 (ipykernel)",
   "language": "python",
   "name": "python3"
  },
  "language_info": {
   "codemirror_mode": {
    "name": "ipython",
    "version": 3
   },
   "file_extension": ".py",
   "mimetype": "text/x-python",
   "name": "python",
   "nbconvert_exporter": "python",
   "pygments_lexer": "ipython3",
   "version": "3.9.7"
  }
 },
 "nbformat": 4,
 "nbformat_minor": 5
}
